{
  "cells": [
    {
      "cell_type": "markdown",
      "metadata": {
        "id": "view-in-github",
        "colab_type": "text"
      },
      "source": [
        "<a href=\"https://colab.research.google.com/github/AndresMontesDeOca/RegresionAvanzada/blob/main/Labo2.ipynb\" target=\"_parent\"><img src=\"https://colab.research.google.com/assets/colab-badge.svg\" alt=\"Open In Colab\"/></a>"
      ]
    },
    {
      "cell_type": "markdown",
      "source": [
        "# Laboratorio II: PetFinder"
      ],
      "metadata": {
        "id": "q_cLScowugRH"
      }
    },
    {
      "cell_type": "markdown",
      "source": [
        "#### Importacion de Librerias"
      ],
      "metadata": {
        "id": "egmbPh8bu8-4"
      }
    },
    {
      "cell_type": "code",
      "source": [
        "# !pip install scikit-learn\n",
        "\n",
        "import numpy as np\n",
        "import pandas as pd\n",
        "from sklearn.preprocessing import OrdinalEncoder, OneHotEncoder, MinMaxScaler\n"
      ],
      "metadata": {
        "id": "f-NJNJd_uqRp"
      },
      "execution_count": 148,
      "outputs": []
    },
    {
      "cell_type": "markdown",
      "source": [
        "#### Carga de Datos"
      ],
      "metadata": {
        "id": "pcv7gH-8u-ol"
      }
    },
    {
      "cell_type": "code",
      "source": [
        "# Code to read csv file into Colaboratory:\n",
        "!pip install -U -q PyDrive\n",
        "from pydrive.auth import GoogleAuth\n",
        "from pydrive.drive import GoogleDrive\n",
        "from google.colab import auth\n",
        "from oauth2client.client import GoogleCredentials\n",
        "\n",
        "# Authenticate and create the PyDrive client.\n",
        "auth.authenticate_user()\n",
        "gauth = GoogleAuth()\n",
        "gauth.credentials = GoogleCredentials.get_application_default()\n",
        "drive = GoogleDrive(gauth)\n",
        "\n",
        "# Carga del Dataset\n",
        "id = '184SDalfYNUAqeFjWsTilyOPXcO4vcUK5'\n",
        "downloaded = drive.CreateFile({'id':id})\n",
        "downloaded.GetContentFile('PetFinderTrain.csv')\n",
        "data = pd.read_csv('PetFinderTrain.csv')\n",
        "\n",
        "display(data.head())\n"
      ],
      "metadata": {
        "id": "gcswHlK0vELD",
        "outputId": "018434ec-be81-42a1-90eb-0c8975c62002",
        "colab": {
          "base_uri": "https://localhost:8080/",
          "height": 629
        }
      },
      "execution_count": 3,
      "outputs": [
        {
          "output_type": "display_data",
          "data": {
            "text/plain": [
              "   Type         Name  Age  Breed1  Breed2  Gender  Color1  Color2  Color3  \\\n",
              "0     2       Nibble    3     299       0       1       1       7       0   \n",
              "1     2  No Name Yet    1     265       0       1       1       2       0   \n",
              "2     1       Brisco    1     307       0       1       2       7       0   \n",
              "3     1         Miko    4     307       0       2       1       2       0   \n",
              "4     1       Hunter    1     307       0       1       1       0       0   \n",
              "\n",
              "   MaturitySize  ...  Health  Quantity  Fee  State  \\\n",
              "0             1  ...       1         1  100  41326   \n",
              "1             2  ...       1         1    0  41401   \n",
              "2             2  ...       1         1    0  41326   \n",
              "3             2  ...       1         1  150  41401   \n",
              "4             2  ...       1         1    0  41326   \n",
              "\n",
              "                          RescuerID  VideoAmt  \\\n",
              "0  8480853f516546f6cf33aa88cd76c379         0   \n",
              "1  3082c7125d8fb66f7dd4bff4192c8b14         0   \n",
              "2  fa90fa5b1ee11c86938398b60abc32cb         0   \n",
              "3  9238e4f44c71a75282e62f7136c6b240         0   \n",
              "4  95481e953f8aed9ec3d16fc4509537e8         0   \n",
              "\n",
              "                                         Description      PetID PhotoAmt  \\\n",
              "0  Nibble is a 3+ month old ball of cuteness. He ...  86e1089a3      1.0   \n",
              "1  I just found it alone yesterday near my apartm...  6296e909a      2.0   \n",
              "2  Their pregnant mother was dumped by her irresp...  3422e4906      7.0   \n",
              "3  Good guard dog, very alert, active, obedience ...  5842f1ff5      8.0   \n",
              "4  This handsome yet cute boy is up for adoption....  850a43f90      3.0   \n",
              "\n",
              "   AdoptionSpeed  \n",
              "0              2  \n",
              "1              0  \n",
              "2              3  \n",
              "3              2  \n",
              "4              2  \n",
              "\n",
              "[5 rows x 24 columns]"
            ],
            "text/html": [
              "\n",
              "  <div id=\"df-aa8ba98e-e075-47c1-b0c2-64cb354c817d\">\n",
              "    <div class=\"colab-df-container\">\n",
              "      <div>\n",
              "<style scoped>\n",
              "    .dataframe tbody tr th:only-of-type {\n",
              "        vertical-align: middle;\n",
              "    }\n",
              "\n",
              "    .dataframe tbody tr th {\n",
              "        vertical-align: top;\n",
              "    }\n",
              "\n",
              "    .dataframe thead th {\n",
              "        text-align: right;\n",
              "    }\n",
              "</style>\n",
              "<table border=\"1\" class=\"dataframe\">\n",
              "  <thead>\n",
              "    <tr style=\"text-align: right;\">\n",
              "      <th></th>\n",
              "      <th>Type</th>\n",
              "      <th>Name</th>\n",
              "      <th>Age</th>\n",
              "      <th>Breed1</th>\n",
              "      <th>Breed2</th>\n",
              "      <th>Gender</th>\n",
              "      <th>Color1</th>\n",
              "      <th>Color2</th>\n",
              "      <th>Color3</th>\n",
              "      <th>MaturitySize</th>\n",
              "      <th>...</th>\n",
              "      <th>Health</th>\n",
              "      <th>Quantity</th>\n",
              "      <th>Fee</th>\n",
              "      <th>State</th>\n",
              "      <th>RescuerID</th>\n",
              "      <th>VideoAmt</th>\n",
              "      <th>Description</th>\n",
              "      <th>PetID</th>\n",
              "      <th>PhotoAmt</th>\n",
              "      <th>AdoptionSpeed</th>\n",
              "    </tr>\n",
              "  </thead>\n",
              "  <tbody>\n",
              "    <tr>\n",
              "      <th>0</th>\n",
              "      <td>2</td>\n",
              "      <td>Nibble</td>\n",
              "      <td>3</td>\n",
              "      <td>299</td>\n",
              "      <td>0</td>\n",
              "      <td>1</td>\n",
              "      <td>1</td>\n",
              "      <td>7</td>\n",
              "      <td>0</td>\n",
              "      <td>1</td>\n",
              "      <td>...</td>\n",
              "      <td>1</td>\n",
              "      <td>1</td>\n",
              "      <td>100</td>\n",
              "      <td>41326</td>\n",
              "      <td>8480853f516546f6cf33aa88cd76c379</td>\n",
              "      <td>0</td>\n",
              "      <td>Nibble is a 3+ month old ball of cuteness. He ...</td>\n",
              "      <td>86e1089a3</td>\n",
              "      <td>1.0</td>\n",
              "      <td>2</td>\n",
              "    </tr>\n",
              "    <tr>\n",
              "      <th>1</th>\n",
              "      <td>2</td>\n",
              "      <td>No Name Yet</td>\n",
              "      <td>1</td>\n",
              "      <td>265</td>\n",
              "      <td>0</td>\n",
              "      <td>1</td>\n",
              "      <td>1</td>\n",
              "      <td>2</td>\n",
              "      <td>0</td>\n",
              "      <td>2</td>\n",
              "      <td>...</td>\n",
              "      <td>1</td>\n",
              "      <td>1</td>\n",
              "      <td>0</td>\n",
              "      <td>41401</td>\n",
              "      <td>3082c7125d8fb66f7dd4bff4192c8b14</td>\n",
              "      <td>0</td>\n",
              "      <td>I just found it alone yesterday near my apartm...</td>\n",
              "      <td>6296e909a</td>\n",
              "      <td>2.0</td>\n",
              "      <td>0</td>\n",
              "    </tr>\n",
              "    <tr>\n",
              "      <th>2</th>\n",
              "      <td>1</td>\n",
              "      <td>Brisco</td>\n",
              "      <td>1</td>\n",
              "      <td>307</td>\n",
              "      <td>0</td>\n",
              "      <td>1</td>\n",
              "      <td>2</td>\n",
              "      <td>7</td>\n",
              "      <td>0</td>\n",
              "      <td>2</td>\n",
              "      <td>...</td>\n",
              "      <td>1</td>\n",
              "      <td>1</td>\n",
              "      <td>0</td>\n",
              "      <td>41326</td>\n",
              "      <td>fa90fa5b1ee11c86938398b60abc32cb</td>\n",
              "      <td>0</td>\n",
              "      <td>Their pregnant mother was dumped by her irresp...</td>\n",
              "      <td>3422e4906</td>\n",
              "      <td>7.0</td>\n",
              "      <td>3</td>\n",
              "    </tr>\n",
              "    <tr>\n",
              "      <th>3</th>\n",
              "      <td>1</td>\n",
              "      <td>Miko</td>\n",
              "      <td>4</td>\n",
              "      <td>307</td>\n",
              "      <td>0</td>\n",
              "      <td>2</td>\n",
              "      <td>1</td>\n",
              "      <td>2</td>\n",
              "      <td>0</td>\n",
              "      <td>2</td>\n",
              "      <td>...</td>\n",
              "      <td>1</td>\n",
              "      <td>1</td>\n",
              "      <td>150</td>\n",
              "      <td>41401</td>\n",
              "      <td>9238e4f44c71a75282e62f7136c6b240</td>\n",
              "      <td>0</td>\n",
              "      <td>Good guard dog, very alert, active, obedience ...</td>\n",
              "      <td>5842f1ff5</td>\n",
              "      <td>8.0</td>\n",
              "      <td>2</td>\n",
              "    </tr>\n",
              "    <tr>\n",
              "      <th>4</th>\n",
              "      <td>1</td>\n",
              "      <td>Hunter</td>\n",
              "      <td>1</td>\n",
              "      <td>307</td>\n",
              "      <td>0</td>\n",
              "      <td>1</td>\n",
              "      <td>1</td>\n",
              "      <td>0</td>\n",
              "      <td>0</td>\n",
              "      <td>2</td>\n",
              "      <td>...</td>\n",
              "      <td>1</td>\n",
              "      <td>1</td>\n",
              "      <td>0</td>\n",
              "      <td>41326</td>\n",
              "      <td>95481e953f8aed9ec3d16fc4509537e8</td>\n",
              "      <td>0</td>\n",
              "      <td>This handsome yet cute boy is up for adoption....</td>\n",
              "      <td>850a43f90</td>\n",
              "      <td>3.0</td>\n",
              "      <td>2</td>\n",
              "    </tr>\n",
              "  </tbody>\n",
              "</table>\n",
              "<p>5 rows × 24 columns</p>\n",
              "</div>\n",
              "      <button class=\"colab-df-convert\" onclick=\"convertToInteractive('df-aa8ba98e-e075-47c1-b0c2-64cb354c817d')\"\n",
              "              title=\"Convert this dataframe to an interactive table.\"\n",
              "              style=\"display:none;\">\n",
              "        \n",
              "  <svg xmlns=\"http://www.w3.org/2000/svg\" height=\"24px\"viewBox=\"0 0 24 24\"\n",
              "       width=\"24px\">\n",
              "    <path d=\"M0 0h24v24H0V0z\" fill=\"none\"/>\n",
              "    <path d=\"M18.56 5.44l.94 2.06.94-2.06 2.06-.94-2.06-.94-.94-2.06-.94 2.06-2.06.94zm-11 1L8.5 8.5l.94-2.06 2.06-.94-2.06-.94L8.5 2.5l-.94 2.06-2.06.94zm10 10l.94 2.06.94-2.06 2.06-.94-2.06-.94-.94-2.06-.94 2.06-2.06.94z\"/><path d=\"M17.41 7.96l-1.37-1.37c-.4-.4-.92-.59-1.43-.59-.52 0-1.04.2-1.43.59L10.3 9.45l-7.72 7.72c-.78.78-.78 2.05 0 2.83L4 21.41c.39.39.9.59 1.41.59.51 0 1.02-.2 1.41-.59l7.78-7.78 2.81-2.81c.8-.78.8-2.07 0-2.86zM5.41 20L4 18.59l7.72-7.72 1.47 1.35L5.41 20z\"/>\n",
              "  </svg>\n",
              "      </button>\n",
              "      \n",
              "  <style>\n",
              "    .colab-df-container {\n",
              "      display:flex;\n",
              "      flex-wrap:wrap;\n",
              "      gap: 12px;\n",
              "    }\n",
              "\n",
              "    .colab-df-convert {\n",
              "      background-color: #E8F0FE;\n",
              "      border: none;\n",
              "      border-radius: 50%;\n",
              "      cursor: pointer;\n",
              "      display: none;\n",
              "      fill: #1967D2;\n",
              "      height: 32px;\n",
              "      padding: 0 0 0 0;\n",
              "      width: 32px;\n",
              "    }\n",
              "\n",
              "    .colab-df-convert:hover {\n",
              "      background-color: #E2EBFA;\n",
              "      box-shadow: 0px 1px 2px rgba(60, 64, 67, 0.3), 0px 1px 3px 1px rgba(60, 64, 67, 0.15);\n",
              "      fill: #174EA6;\n",
              "    }\n",
              "\n",
              "    [theme=dark] .colab-df-convert {\n",
              "      background-color: #3B4455;\n",
              "      fill: #D2E3FC;\n",
              "    }\n",
              "\n",
              "    [theme=dark] .colab-df-convert:hover {\n",
              "      background-color: #434B5C;\n",
              "      box-shadow: 0px 1px 3px 1px rgba(0, 0, 0, 0.15);\n",
              "      filter: drop-shadow(0px 1px 2px rgba(0, 0, 0, 0.3));\n",
              "      fill: #FFFFFF;\n",
              "    }\n",
              "  </style>\n",
              "\n",
              "      <script>\n",
              "        const buttonEl =\n",
              "          document.querySelector('#df-aa8ba98e-e075-47c1-b0c2-64cb354c817d button.colab-df-convert');\n",
              "        buttonEl.style.display =\n",
              "          google.colab.kernel.accessAllowed ? 'block' : 'none';\n",
              "\n",
              "        async function convertToInteractive(key) {\n",
              "          const element = document.querySelector('#df-aa8ba98e-e075-47c1-b0c2-64cb354c817d');\n",
              "          const dataTable =\n",
              "            await google.colab.kernel.invokeFunction('convertToInteractive',\n",
              "                                                     [key], {});\n",
              "          if (!dataTable) return;\n",
              "\n",
              "          const docLinkHtml = 'Like what you see? Visit the ' +\n",
              "            '<a target=\"_blank\" href=https://colab.research.google.com/notebooks/data_table.ipynb>data table notebook</a>'\n",
              "            + ' to learn more about interactive tables.';\n",
              "          element.innerHTML = '';\n",
              "          dataTable['output_type'] = 'display_data';\n",
              "          await google.colab.output.renderOutput(dataTable, element);\n",
              "          const docLink = document.createElement('div');\n",
              "          docLink.innerHTML = docLinkHtml;\n",
              "          element.appendChild(docLink);\n",
              "        }\n",
              "      </script>\n",
              "    </div>\n",
              "  </div>\n",
              "  "
            ]
          },
          "metadata": {}
        }
      ]
    },
    {
      "cell_type": "markdown",
      "source": [
        "## Pre-procesamiento de Datos Nulos"
      ],
      "metadata": {
        "id": "mdHGfgfkwQaM"
      }
    },
    {
      "cell_type": "markdown",
      "source": [
        "### Verificacion de cantidad de nulos por cada Variable"
      ],
      "metadata": {
        "id": "4EcLW7Fywymr"
      }
    },
    {
      "cell_type": "code",
      "source": [
        "# Verificamos nulos por cada Variable\n",
        "\n",
        "print('Tamano del Dataset:', data.shape, '\\n')\n",
        "print(data.isnull().sum())"
      ],
      "metadata": {
        "id": "yl-g2MpjwVc4",
        "outputId": "f79f45a7-29fa-466b-fcf5-bfe6f079ce33",
        "colab": {
          "base_uri": "https://localhost:8080/"
        }
      },
      "execution_count": 4,
      "outputs": [
        {
          "output_type": "stream",
          "name": "stdout",
          "text": [
            "Tamano del Dataset: (14993, 24) \n",
            "\n",
            "Type                0\n",
            "Name             1257\n",
            "Age                 0\n",
            "Breed1              0\n",
            "Breed2              0\n",
            "Gender              0\n",
            "Color1              0\n",
            "Color2              0\n",
            "Color3              0\n",
            "MaturitySize        0\n",
            "FurLength           0\n",
            "Vaccinated          0\n",
            "Dewormed            0\n",
            "Sterilized          0\n",
            "Health              0\n",
            "Quantity            0\n",
            "Fee                 0\n",
            "State               0\n",
            "RescuerID           0\n",
            "VideoAmt            0\n",
            "Description        12\n",
            "PetID               0\n",
            "PhotoAmt            0\n",
            "AdoptionSpeed       0\n",
            "dtype: int64\n"
          ]
        }
      ]
    },
    {
      "cell_type": "markdown",
      "source": [
        "- Se verifica que de los casi 15.000 registros, solo las variables Name y Description contienen nulos"
      ],
      "metadata": {
        "id": "uPo7IBtoxAT1"
      }
    },
    {
      "cell_type": "markdown",
      "source": [
        "### Analisis de Variables Individuales"
      ],
      "metadata": {
        "id": "rtncnJDd34fN"
      }
    },
    {
      "cell_type": "code",
      "source": [
        "# PetID - Unique hash ID of pet profile\n",
        "\n",
        "# Fuera del alcance del analisis"
      ],
      "metadata": {
        "id": "mzCklHG-oSG_"
      },
      "execution_count": 85,
      "outputs": []
    },
    {
      "cell_type": "code",
      "source": [
        "# AdoptionSpeed - Categorical speed of adoption. Lower is faster. This is the value to predict. See below section for more info\n",
        "print(data.AdoptionSpeed.value_counts(True))\n",
        "\n",
        "# Clases desbalanceadas, solo un 3% no terminan siendo adoptados"
      ],
      "metadata": {
        "id": "gg53xe-5oa_v",
        "outputId": "564ad8e8-9730-4b7b-957b-aaa450b149ce",
        "colab": {
          "base_uri": "https://localhost:8080/"
        }
      },
      "execution_count": 130,
      "outputs": [
        {
          "output_type": "stream",
          "name": "stdout",
          "text": [
            "4    0.279931\n",
            "2    0.269259\n",
            "3    0.217368\n",
            "1    0.206096\n",
            "0    0.027346\n",
            "Name: AdoptionSpeed, dtype: float64\n"
          ]
        }
      ]
    },
    {
      "cell_type": "code",
      "source": [
        "# Type - Type of animal (1 = Dog, 2 = Cat)\n",
        "print(data.Type.value_counts())"
      ],
      "metadata": {
        "id": "GTp_T_EiUFKt",
        "outputId": "80cba360-5155-4252-f653-9c111b09001c",
        "colab": {
          "base_uri": "https://localhost:8080/"
        }
      },
      "execution_count": 11,
      "outputs": [
        {
          "output_type": "stream",
          "name": "stdout",
          "text": [
            "1    8132\n",
            "2    6861\n",
            "Name: Type, dtype: int64\n"
          ]
        }
      ]
    },
    {
      "cell_type": "code",
      "source": [
        "# Name - Name of pet (Empty if not named)\n",
        "\n",
        "# Fuera del alcance del analisis"
      ],
      "metadata": {
        "id": "dq2jE1fGoDB_"
      },
      "execution_count": 82,
      "outputs": []
    },
    {
      "cell_type": "code",
      "source": [
        "# Age - Age of pet when listed, in months\n",
        "data.Age.describe()"
      ],
      "metadata": {
        "id": "QEsmyHkugbfg",
        "outputId": "04c37641-fe4f-4c6e-91cd-5e7b17e206b7",
        "colab": {
          "base_uri": "https://localhost:8080/"
        }
      },
      "execution_count": 101,
      "outputs": [
        {
          "output_type": "execute_result",
          "data": {
            "text/plain": [
              "count    14993.000000\n",
              "mean        10.452078\n",
              "std         18.155790\n",
              "min          0.000000\n",
              "25%          2.000000\n",
              "50%          3.000000\n",
              "75%         12.000000\n",
              "max        255.000000\n",
              "Name: Age, dtype: float64"
            ]
          },
          "metadata": {},
          "execution_count": 101
        }
      ]
    },
    {
      "cell_type": "code",
      "source": [
        "# Breed1 - Primary breed of pet (Refer to BreedLabels dictionary)\n",
        "data.Breed1.value_counts()"
      ],
      "metadata": {
        "id": "EX7DqTTMUJER",
        "outputId": "7c2faec1-6ca9-4a5b-9555-63ffc995dea7",
        "colab": {
          "base_uri": "https://localhost:8080/"
        }
      },
      "execution_count": 17,
      "outputs": [
        {
          "output_type": "execute_result",
          "data": {
            "text/plain": [
              "307    5927\n",
              "266    3634\n",
              "265    1258\n",
              "299     342\n",
              "264     296\n",
              "       ... \n",
              "176       1\n",
              "214       1\n",
              "125       1\n",
              "123       1\n",
              "81        1\n",
              "Name: Breed1, Length: 176, dtype: int64"
            ]
          },
          "metadata": {},
          "execution_count": 17
        }
      ]
    },
    {
      "cell_type": "code",
      "source": [
        "# Breed2 - Secondary breed of pet, if pet is of mixed breed (Refer to BreedLabels dictionary)\n",
        "data.Breed2.value_counts()\n",
        "\n",
        "# Aprox 66% son de raza pura"
      ],
      "metadata": {
        "id": "UdcXUT5XhPIS",
        "outputId": "a7db37fe-6055-46b2-9bd0-68e37c5e7d8f",
        "colab": {
          "base_uri": "https://localhost:8080/"
        }
      },
      "execution_count": 20,
      "outputs": [
        {
          "output_type": "execute_result",
          "data": {
            "text/plain": [
              "0      10762\n",
              "307     1727\n",
              "266      599\n",
              "265      321\n",
              "299      138\n",
              "       ...  \n",
              "104        1\n",
              "36         1\n",
              "17         1\n",
              "257        1\n",
              "279        1\n",
              "Name: Breed2, Length: 135, dtype: int64"
            ]
          },
          "metadata": {},
          "execution_count": 20
        }
      ]
    },
    {
      "cell_type": "code",
      "source": [
        "# Gender - Gender of pet (1 = Male, 2 = Female, 3 = Mixed, if profile represents group of pets)\n",
        "data.Gender.value_counts(True)\n",
        "\n",
        "# Poco mas machos que hembras"
      ],
      "metadata": {
        "id": "0EK9Jawwhalh",
        "outputId": "979777c3-9bcb-4ea0-c793-8290ec6d29f4",
        "colab": {
          "base_uri": "https://localhost:8080/"
        }
      },
      "execution_count": 89,
      "outputs": [
        {
          "output_type": "execute_result",
          "data": {
            "text/plain": [
              "2    0.485360\n",
              "1    0.369239\n",
              "3    0.145401\n",
              "Name: Gender, dtype: float64"
            ]
          },
          "metadata": {},
          "execution_count": 89
        }
      ]
    },
    {
      "cell_type": "code",
      "source": [
        "# Color1 - Color 1 of pet (Refer to ColorLabels dictionary)\n",
        "data.Color1.value_counts(normalize=True)\n",
        "\n",
        "# 75% entre dos colores, seguramente sean blanco y marron/negro"
      ],
      "metadata": {
        "id": "IfsJCRS_ijWS",
        "outputId": "c8a5fd41-73b2-4150-fe48-61b93fbe4118",
        "colab": {
          "base_uri": "https://localhost:8080/"
        }
      },
      "execution_count": 32,
      "outputs": [
        {
          "output_type": "execute_result",
          "data": {
            "text/plain": [
              "1    0.495365\n",
              "2    0.250117\n",
              "3    0.063163\n",
              "5    0.058961\n",
              "6    0.045621\n",
              "7    0.044487\n",
              "4    0.042286\n",
              "Name: Color1, dtype: float64"
            ]
          },
          "metadata": {},
          "execution_count": 32
        }
      ]
    },
    {
      "cell_type": "code",
      "source": [
        "# Color2 - Color 2 of pet (Refer to ColorLabels dictionary)\n",
        "data.Color2.value_counts(normalize=True)\n",
        "\n",
        "# 30% de un solo color"
      ],
      "metadata": {
        "id": "y7ee6Hkpi6iz",
        "outputId": "6a1056ed-1ed4-4eab-e885-55e252124a8e",
        "colab": {
          "base_uri": "https://localhost:8080/"
        }
      },
      "execution_count": 33,
      "outputs": [
        {
          "output_type": "execute_result",
          "data": {
            "text/plain": [
              "0    0.298206\n",
              "7    0.229307\n",
              "2    0.220970\n",
              "5    0.075235\n",
              "6    0.070900\n",
              "4    0.058027\n",
              "3    0.047355\n",
              "Name: Color2, dtype: float64"
            ]
          },
          "metadata": {},
          "execution_count": 33
        }
      ]
    },
    {
      "cell_type": "code",
      "source": [
        "# Color3 - Color 3 of pet (Refer to ColorLabels dictionary)\n",
        "data.Color3.value_counts(normalize=True)\n",
        "\n",
        "# 70% de dos colores\n",
        "# Checkear el tema de los colores"
      ],
      "metadata": {
        "id": "zF1vGtSKjR7c",
        "outputId": "52f259df-d191-4a4a-b628-b798d3b9ed71",
        "colab": {
          "base_uri": "https://localhost:8080/"
        }
      },
      "execution_count": 35,
      "outputs": [
        {
          "output_type": "execute_result",
          "data": {
            "text/plain": [
              "0    0.707263\n",
              "7    0.214834\n",
              "5    0.027813\n",
              "6    0.025212\n",
              "4    0.013206\n",
              "3    0.011672\n",
              "Name: Color3, dtype: float64"
            ]
          },
          "metadata": {},
          "execution_count": 35
        }
      ]
    },
    {
      "cell_type": "code",
      "source": [
        "# MaturitySize - Size at maturity (1 = Small, 2 = Medium, 3 = Large, 4 = Extra Large, 0 = Not Specified)\n",
        "data.MaturitySize.value_counts(True)\n",
        "\n",
        "# El 90% de los cachorros son Chicos o Medianos"
      ],
      "metadata": {
        "id": "qFOt4y_HkavS",
        "outputId": "0be89682-7956-46b2-dc64-f4dcc1fbd725",
        "colab": {
          "base_uri": "https://localhost:8080/"
        }
      },
      "execution_count": 39,
      "outputs": [
        {
          "output_type": "execute_result",
          "data": {
            "text/plain": [
              "2    0.687321\n",
              "1    0.226439\n",
              "3    0.084039\n",
              "4    0.002201\n",
              "Name: MaturitySize, dtype: float64"
            ]
          },
          "metadata": {},
          "execution_count": 39
        }
      ]
    },
    {
      "cell_type": "code",
      "source": [
        "# FurLength - Fur length (1 = Short, 2 = Medium, 3 = Long, 0 = Not Specified)\n",
        "data.FurLength.value_counts(True)"
      ],
      "metadata": {
        "id": "1VHGjbYOlF8-",
        "outputId": "9a3c9ae9-7648-4a0e-efa4-91cab5c299b1",
        "colab": {
          "base_uri": "https://localhost:8080/"
        }
      },
      "execution_count": 45,
      "outputs": [
        {
          "output_type": "execute_result",
          "data": {
            "text/plain": [
              "1    0.587474\n",
              "2    0.357567\n",
              "3    0.054959\n",
              "Name: FurLength, dtype: float64"
            ]
          },
          "metadata": {},
          "execution_count": 45
        }
      ]
    },
    {
      "cell_type": "code",
      "source": [
        "# Vaccinated - Pet has been vaccinated (1 = Yes, 2 = No, 3 = Not Sure)\n",
        "data.Vaccinated.value_counts(True)"
      ],
      "metadata": {
        "id": "htUGLzDilMOq",
        "outputId": "18430506-09c9-43bb-d2b8-67757e1f2d6b",
        "colab": {
          "base_uri": "https://localhost:8080/"
        }
      },
      "execution_count": 46,
      "outputs": [
        {
          "output_type": "execute_result",
          "data": {
            "text/plain": [
              "2    0.482025\n",
              "1    0.393384\n",
              "3    0.124591\n",
              "Name: Vaccinated, dtype: float64"
            ]
          },
          "metadata": {},
          "execution_count": 46
        }
      ]
    },
    {
      "cell_type": "code",
      "source": [
        "# Dewormed - Pet has been dewormed (1 = Yes, 2 = No, 3 = Not Sure)\n",
        "data.Dewormed.value_counts(True)"
      ],
      "metadata": {
        "id": "TWcJd-VKlXHh",
        "outputId": "5f5ca4b0-f8d0-42c2-af97-364753645115",
        "colab": {
          "base_uri": "https://localhost:8080/"
        }
      },
      "execution_count": 47,
      "outputs": [
        {
          "output_type": "execute_result",
          "data": {
            "text/plain": [
              "1    0.560061\n",
              "2    0.321150\n",
              "3    0.118789\n",
              "Name: Dewormed, dtype: float64"
            ]
          },
          "metadata": {},
          "execution_count": 47
        }
      ]
    },
    {
      "cell_type": "code",
      "source": [
        "# Sterilized - Pet has been spayed / neutered (1 = Yes, 2 = No, 3 = Not Sure)\n",
        "data.Sterilized.value_counts(True)"
      ],
      "metadata": {
        "id": "tbrEf9fvlkqs",
        "outputId": "0aeaafdd-30fc-4493-dc58-7ea5d11b0729",
        "colab": {
          "base_uri": "https://localhost:8080/"
        }
      },
      "execution_count": 51,
      "outputs": [
        {
          "output_type": "execute_result",
          "data": {
            "text/plain": [
              "2    0.672114\n",
              "1    0.206830\n",
              "3    0.121056\n",
              "Name: Sterilized, dtype: float64"
            ]
          },
          "metadata": {},
          "execution_count": 51
        }
      ]
    },
    {
      "cell_type": "code",
      "source": [
        "# Health - Health Condition (1 = Healthy, 2 = Minor Injury, 3 = Serious Injury, 0 = Not Specified)\n",
        "data.Health.value_counts(True)\n",
        "\n",
        "# La gran mayoria estan sanos"
      ],
      "metadata": {
        "id": "nOCYRdsylvTA",
        "outputId": "cb6f7977-b4d7-4979-ddd9-7dc8ccbfacaa",
        "colab": {
          "base_uri": "https://localhost:8080/"
        }
      },
      "execution_count": 54,
      "outputs": [
        {
          "output_type": "execute_result",
          "data": {
            "text/plain": [
              "1    0.965651\n",
              "2    0.032082\n",
              "3    0.002268\n",
              "Name: Health, dtype: float64"
            ]
          },
          "metadata": {},
          "execution_count": 54
        }
      ]
    },
    {
      "cell_type": "code",
      "source": [
        "# Quantity - Number of pets represented in profile\n",
        "data.Quantity.value_counts(True)\n",
        "\n",
        "# El 77% son un solo cachorrito, el 10% hermanitos"
      ],
      "metadata": {
        "id": "NXg4K2MCl9SH",
        "outputId": "a8b14a58-c7a8-442c-b161-adf28975b574",
        "colab": {
          "base_uri": "https://localhost:8080/"
        }
      },
      "execution_count": 57,
      "outputs": [
        {
          "output_type": "execute_result",
          "data": {
            "text/plain": [
              "1     0.771360\n",
              "2     0.094844\n",
              "3     0.048423\n",
              "4     0.035417\n",
              "5     0.022210\n",
              "6     0.012339\n",
              "7     0.005603\n",
              "8     0.003468\n",
              "9     0.002201\n",
              "10    0.001267\n",
              "20    0.000800\n",
              "11    0.000667\n",
              "12    0.000400\n",
              "15    0.000267\n",
              "17    0.000200\n",
              "16    0.000200\n",
              "14    0.000133\n",
              "13    0.000133\n",
              "18    0.000067\n",
              "Name: Quantity, dtype: float64"
            ]
          },
          "metadata": {},
          "execution_count": 57
        }
      ]
    },
    {
      "cell_type": "code",
      "source": [
        "# Fee - Adoption fee (0 = Free)\n",
        "data.Fee.value_counts(True)\n",
        "\n",
        "# En el 85% de los casos, le adopcion es sin cargo"
      ],
      "metadata": {
        "id": "aGaTh6TKmLij",
        "outputId": "fbba3db2-726b-4d68-ac08-853325aaffc2",
        "colab": {
          "base_uri": "https://localhost:8080/"
        }
      },
      "execution_count": 62,
      "outputs": [
        {
          "output_type": "execute_result",
          "data": {
            "text/plain": [
              "0      0.844594\n",
              "50     0.031215\n",
              "100    0.027213\n",
              "200    0.014607\n",
              "150    0.010805\n",
              "         ...   \n",
              "170    0.000067\n",
              "135    0.000067\n",
              "14     0.000067\n",
              "89     0.000067\n",
              "190    0.000067\n",
              "Name: Fee, Length: 74, dtype: float64"
            ]
          },
          "metadata": {},
          "execution_count": 62
        }
      ]
    },
    {
      "cell_type": "code",
      "source": [
        "# State - State location in Malaysia (Refer to StateLabels dictionary)\n",
        "data.State.value_counts(True)\n",
        "\n",
        "# Casi el 85% provienen solo de los localidades, seran las mas grandes?"
      ],
      "metadata": {
        "id": "M2IQpyOUmgi_",
        "outputId": "7b5fcb36-8873-44ba-d0a3-8746135f9451",
        "colab": {
          "base_uri": "https://localhost:8080/"
        }
      },
      "execution_count": 63,
      "outputs": [
        {
          "output_type": "execute_result",
          "data": {
            "text/plain": [
              "41326    0.581205\n",
              "41401    0.256453\n",
              "41327    0.056226\n",
              "41336    0.033816\n",
              "41330    0.028013\n",
              "41332    0.016875\n",
              "41324    0.009138\n",
              "41325    0.007337\n",
              "41335    0.005669\n",
              "41361    0.001734\n",
              "41345    0.001467\n",
              "41367    0.001000\n",
              "41342    0.000867\n",
              "41415    0.000200\n",
              "Name: State, dtype: float64"
            ]
          },
          "metadata": {},
          "execution_count": 63
        }
      ]
    },
    {
      "cell_type": "code",
      "source": [
        "# RescuerID - Unique hash ID of rescuer\n",
        "data.RescuerID.value_counts()\n",
        "\n",
        "# Algunos usuarios que adoptaron mas de 150 perros"
      ],
      "metadata": {
        "id": "mT1SVQYsmvWB",
        "outputId": "da399062-f23f-43f3-b85c-19a29bd34dc1",
        "colab": {
          "base_uri": "https://localhost:8080/"
        }
      },
      "execution_count": 72,
      "outputs": [
        {
          "output_type": "execute_result",
          "data": {
            "text/plain": [
              "fa90fa5b1ee11c86938398b60abc32cb    459\n",
              "aa66486163b6cbc25ea62a34b11c9b91    315\n",
              "c00756f2bdd8fa88fc9f07a8309f7d5d    231\n",
              "b53c34474d9e24574bcec6a3d3306a0d    228\n",
              "ee2747ce26468ec44c7194e7d1d9dad9    156\n",
              "                                   ... \n",
              "89bc6d71d57ad5d7e952ed76559345c5      1\n",
              "8cfafc812c500eee7c112911ef668ce9      1\n",
              "8512e22c06a01cdc76481ff0a6e88b67      1\n",
              "48de9ff092328d54b2b371bc72b07b03      1\n",
              "79309f4027f2fedb4349a298c69fe56f      1\n",
              "Name: RescuerID, Length: 5595, dtype: int64"
            ]
          },
          "metadata": {},
          "execution_count": 72
        }
      ]
    },
    {
      "cell_type": "code",
      "source": [
        "# VideoAmt - Total uploaded videos for this pet\n",
        "data.VideoAmt.value_counts(True)\n",
        "\n",
        "# La mayoria de los usuarios, no sube videos de los cachorros"
      ],
      "metadata": {
        "id": "3aq5_oHnnRRz",
        "outputId": "3a3e7565-f02d-45b5-ce69-57cd42709a65",
        "colab": {
          "base_uri": "https://localhost:8080/"
        }
      },
      "execution_count": 75,
      "outputs": [
        {
          "output_type": "execute_result",
          "data": {
            "text/plain": [
              "0    0.961715\n",
              "1    0.027813\n",
              "2    0.006136\n",
              "3    0.002401\n",
              "4    0.001000\n",
              "5    0.000467\n",
              "6    0.000267\n",
              "8    0.000133\n",
              "7    0.000067\n",
              "Name: VideoAmt, dtype: float64"
            ]
          },
          "metadata": {},
          "execution_count": 75
        }
      ]
    },
    {
      "cell_type": "code",
      "source": [
        "# PhotoAmt - Total uploaded photos for this pet\n",
        "data.PhotoAmt.describe()\n",
        "\n",
        "# Promedio entre 3 y 4 fotos por perro"
      ],
      "metadata": {
        "id": "fSQaGd-SnfMI",
        "outputId": "379459a3-a017-4012-ed0b-d82b9ddeda40",
        "colab": {
          "base_uri": "https://localhost:8080/"
        }
      },
      "execution_count": 77,
      "outputs": [
        {
          "output_type": "execute_result",
          "data": {
            "text/plain": [
              "count    14993.000000\n",
              "mean         3.889215\n",
              "std          3.487810\n",
              "min          0.000000\n",
              "25%          2.000000\n",
              "50%          3.000000\n",
              "75%          5.000000\n",
              "max         30.000000\n",
              "Name: PhotoAmt, dtype: float64"
            ]
          },
          "metadata": {},
          "execution_count": 77
        }
      ]
    },
    {
      "cell_type": "markdown",
      "source": [],
      "metadata": {
        "id": "hf2tNxwTquXL"
      }
    },
    {
      "cell_type": "code",
      "source": [
        "# Description - Profile write-up for this pet. The primary language used is English, with some in Malay or Chinese\n",
        "\n",
        "# Fuera del alcance del analisis"
      ],
      "metadata": {
        "id": "C36NhAcwn2eN"
      },
      "execution_count": null,
      "outputs": []
    },
    {
      "cell_type": "markdown",
      "source": [
        "### Conclusiones"
      ],
      "metadata": {
        "id": "zIopKJU-qMaD"
      }
    },
    {
      "cell_type": "markdown",
      "source": [
        "- Clases desbalanceadas, solo un 3% no terminan siendo adoptados\n",
        "- 3 meses de Mediana en la edad\n",
        "- Aprox 66% son de raza pura\n",
        "- Poco mas machos que hembras\n",
        "- **Inconguencias con el tema de los colores**\n",
        "- El 90% de los cachorros son Chicos o Medianos\n",
        "- La gran mayoria estan sanos\n",
        "- El 77% son un solo cachorrito, el 10% son hermanitos\n",
        "- En el 85% de los casos, le adopcion es sin cargo\n",
        "- Casi el 85% provienen solo de los localidades, seran las mas grandes?\n",
        "- Algunos usuarios que adoptaron mas de 150 perros\n",
        "- La gran mayoria de los usuarios, no sube videos de los cachorros\n",
        "- Promedio entre 3 y 4 fotos por cachorro\n",
        "- No se observan datos danados en ninguna variable del Dataset"
      ],
      "metadata": {
        "id": "dZ3JtuV7qYWl"
      }
    },
    {
      "cell_type": "markdown",
      "source": [
        "## Transformacion de Datos"
      ],
      "metadata": {
        "id": "4r-a1vm9rs3X"
      }
    },
    {
      "cell_type": "code",
      "source": [
        "# Lista de Categorios Orindales\n",
        "\n",
        "oe_encoder = OrdinalEncoder()\n",
        "ordinales = ['AdoptionSpeed']\n",
        "\n",
        "oe_encoder.fit_transform(data[ordinales])\n",
        "\n",
        "# No entiendo como hacer, revisar"
      ],
      "metadata": {
        "id": "D-Jjy2jEr9JC",
        "outputId": "a3850048-a544-41a6-8993-1c5ae126e09f",
        "colab": {
          "base_uri": "https://localhost:8080/"
        }
      },
      "execution_count": 133,
      "outputs": [
        {
          "output_type": "execute_result",
          "data": {
            "text/plain": [
              "array([[2.],\n",
              "       [0.],\n",
              "       [3.],\n",
              "       ...,\n",
              "       [3.],\n",
              "       [4.],\n",
              "       [3.]])"
            ]
          },
          "metadata": {},
          "execution_count": 133
        }
      ]
    },
    {
      "cell_type": "code",
      "source": [
        "# Lista de Categoricos Nominales\n",
        "\n",
        "oh_encoder = OneHotEncoder()\n",
        "nominales = ['Gender']\n",
        "\n",
        "data_Gender = oh_encoder.fit_transform(data[nominales])\n",
        "\n",
        "# Cada raza seria un ordinal?"
      ],
      "metadata": {
        "id": "aIpMDkTEz2_g"
      },
      "execution_count": 155,
      "outputs": []
    },
    {
      "cell_type": "code",
      "source": [
        "# Lista de Normalizables\n",
        "scaler = MinMaxScaler()\n",
        "\n",
        "# Normalizamos la variale Age, y la guardamos en una nueva columna AgeStd\n",
        "normalizables = ['Age']\n",
        "data['AgeStd'] = scaler.fit_transform(data[normalizables])"
      ],
      "metadata": {
        "id": "ptgd9HAE1R1R"
      },
      "execution_count": 143,
      "outputs": []
    }
  ],
  "metadata": {
    "colab": {
      "name": "scratchpad",
      "provenance": [],
      "include_colab_link": true
    },
    "kernelspec": {
      "display_name": "Python 3",
      "name": "python3"
    }
  },
  "nbformat": 4,
  "nbformat_minor": 0
}