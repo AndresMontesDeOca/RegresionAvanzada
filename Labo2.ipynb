{
  "cells": [
    {
      "cell_type": "markdown",
      "metadata": {
        "id": "view-in-github",
        "colab_type": "text"
      },
      "source": [
        "<a href=\"https://colab.research.google.com/github/AndresMontesDeOca/RegresionAvanzada/blob/main/Labo2.ipynb\" target=\"_parent\"><img src=\"https://colab.research.google.com/assets/colab-badge.svg\" alt=\"Open In Colab\"/></a>"
      ]
    },
    {
      "cell_type": "markdown",
      "source": [
        "# Laboratorio II: PetFinder"
      ],
      "metadata": {
        "id": "q_cLScowugRH"
      }
    },
    {
      "cell_type": "markdown",
      "source": [
        "#### Importacion de Librerias"
      ],
      "metadata": {
        "id": "egmbPh8bu8-4"
      }
    },
    {
      "cell_type": "code",
      "source": [
        "# !pip install scikit-learn\n",
        "\n",
        "import numpy as np\n",
        "import pandas as pd\n",
        "from sklearn.preprocessing import OrdinalEncoder, OneHotEncoder, MinMaxScaler\n",
        "\n",
        "# Ignoramos los Warnings\n",
        "import warnings\n",
        "warnings.filterwarnings(\"ignore\")"
      ],
      "metadata": {
        "id": "f-NJNJd_uqRp"
      },
      "execution_count": 61,
      "outputs": []
    },
    {
      "cell_type": "markdown",
      "source": [
        "#### Carga de Datos"
      ],
      "metadata": {
        "id": "pcv7gH-8u-ol"
      }
    },
    {
      "cell_type": "code",
      "source": [
        "# Code to read csv file into Colaboratory:\n",
        "!pip install -U -q PyDrive\n",
        "from pydrive.auth import GoogleAuth\n",
        "from pydrive.drive import GoogleDrive\n",
        "from google.colab import auth\n",
        "from oauth2client.client import GoogleCredentials\n",
        "\n",
        "# Authenticate and create the PyDrive client.\n",
        "auth.authenticate_user()\n",
        "gauth = GoogleAuth()\n",
        "gauth.credentials = GoogleCredentials.get_application_default()\n",
        "drive = GoogleDrive(gauth)\n",
        "\n",
        "# Carga del Dataset\n",
        "id = '184SDalfYNUAqeFjWsTilyOPXcO4vcUK5'\n",
        "downloaded = drive.CreateFile({'id':id})\n",
        "downloaded.GetContentFile('PetFinderTrain.csv')\n",
        "data = pd.read_csv('PetFinderTrain.csv')\n",
        "\n",
        "display(data.head())\n"
      ],
      "metadata": {
        "colab": {
          "base_uri": "https://localhost:8080/",
          "height": 629
        },
        "id": "gcswHlK0vELD",
        "outputId": "f3bde62a-9e82-4932-c018-59ba31723734"
      },
      "execution_count": 2,
      "outputs": [
        {
          "output_type": "display_data",
          "data": {
            "text/plain": [
              "   Type         Name  Age  Breed1  Breed2  Gender  Color1  Color2  Color3  \\\n",
              "0     2       Nibble    3     299       0       1       1       7       0   \n",
              "1     2  No Name Yet    1     265       0       1       1       2       0   \n",
              "2     1       Brisco    1     307       0       1       2       7       0   \n",
              "3     1         Miko    4     307       0       2       1       2       0   \n",
              "4     1       Hunter    1     307       0       1       1       0       0   \n",
              "\n",
              "   MaturitySize  ...  Health  Quantity  Fee  State  \\\n",
              "0             1  ...       1         1  100  41326   \n",
              "1             2  ...       1         1    0  41401   \n",
              "2             2  ...       1         1    0  41326   \n",
              "3             2  ...       1         1  150  41401   \n",
              "4             2  ...       1         1    0  41326   \n",
              "\n",
              "                          RescuerID  VideoAmt  \\\n",
              "0  8480853f516546f6cf33aa88cd76c379         0   \n",
              "1  3082c7125d8fb66f7dd4bff4192c8b14         0   \n",
              "2  fa90fa5b1ee11c86938398b60abc32cb         0   \n",
              "3  9238e4f44c71a75282e62f7136c6b240         0   \n",
              "4  95481e953f8aed9ec3d16fc4509537e8         0   \n",
              "\n",
              "                                         Description      PetID PhotoAmt  \\\n",
              "0  Nibble is a 3+ month old ball of cuteness. He ...  86e1089a3      1.0   \n",
              "1  I just found it alone yesterday near my apartm...  6296e909a      2.0   \n",
              "2  Their pregnant mother was dumped by her irresp...  3422e4906      7.0   \n",
              "3  Good guard dog, very alert, active, obedience ...  5842f1ff5      8.0   \n",
              "4  This handsome yet cute boy is up for adoption....  850a43f90      3.0   \n",
              "\n",
              "   AdoptionSpeed  \n",
              "0              2  \n",
              "1              0  \n",
              "2              3  \n",
              "3              2  \n",
              "4              2  \n",
              "\n",
              "[5 rows x 24 columns]"
            ],
            "text/html": [
              "\n",
              "\n",
              "  <div id=\"df-c4b81ed9-3055-43ee-ba8d-45f6c888ecd7\">\n",
              "    <div class=\"colab-df-container\">\n",
              "      <div>\n",
              "<style scoped>\n",
              "    .dataframe tbody tr th:only-of-type {\n",
              "        vertical-align: middle;\n",
              "    }\n",
              "\n",
              "    .dataframe tbody tr th {\n",
              "        vertical-align: top;\n",
              "    }\n",
              "\n",
              "    .dataframe thead th {\n",
              "        text-align: right;\n",
              "    }\n",
              "</style>\n",
              "<table border=\"1\" class=\"dataframe\">\n",
              "  <thead>\n",
              "    <tr style=\"text-align: right;\">\n",
              "      <th></th>\n",
              "      <th>Type</th>\n",
              "      <th>Name</th>\n",
              "      <th>Age</th>\n",
              "      <th>Breed1</th>\n",
              "      <th>Breed2</th>\n",
              "      <th>Gender</th>\n",
              "      <th>Color1</th>\n",
              "      <th>Color2</th>\n",
              "      <th>Color3</th>\n",
              "      <th>MaturitySize</th>\n",
              "      <th>...</th>\n",
              "      <th>Health</th>\n",
              "      <th>Quantity</th>\n",
              "      <th>Fee</th>\n",
              "      <th>State</th>\n",
              "      <th>RescuerID</th>\n",
              "      <th>VideoAmt</th>\n",
              "      <th>Description</th>\n",
              "      <th>PetID</th>\n",
              "      <th>PhotoAmt</th>\n",
              "      <th>AdoptionSpeed</th>\n",
              "    </tr>\n",
              "  </thead>\n",
              "  <tbody>\n",
              "    <tr>\n",
              "      <th>0</th>\n",
              "      <td>2</td>\n",
              "      <td>Nibble</td>\n",
              "      <td>3</td>\n",
              "      <td>299</td>\n",
              "      <td>0</td>\n",
              "      <td>1</td>\n",
              "      <td>1</td>\n",
              "      <td>7</td>\n",
              "      <td>0</td>\n",
              "      <td>1</td>\n",
              "      <td>...</td>\n",
              "      <td>1</td>\n",
              "      <td>1</td>\n",
              "      <td>100</td>\n",
              "      <td>41326</td>\n",
              "      <td>8480853f516546f6cf33aa88cd76c379</td>\n",
              "      <td>0</td>\n",
              "      <td>Nibble is a 3+ month old ball of cuteness. He ...</td>\n",
              "      <td>86e1089a3</td>\n",
              "      <td>1.0</td>\n",
              "      <td>2</td>\n",
              "    </tr>\n",
              "    <tr>\n",
              "      <th>1</th>\n",
              "      <td>2</td>\n",
              "      <td>No Name Yet</td>\n",
              "      <td>1</td>\n",
              "      <td>265</td>\n",
              "      <td>0</td>\n",
              "      <td>1</td>\n",
              "      <td>1</td>\n",
              "      <td>2</td>\n",
              "      <td>0</td>\n",
              "      <td>2</td>\n",
              "      <td>...</td>\n",
              "      <td>1</td>\n",
              "      <td>1</td>\n",
              "      <td>0</td>\n",
              "      <td>41401</td>\n",
              "      <td>3082c7125d8fb66f7dd4bff4192c8b14</td>\n",
              "      <td>0</td>\n",
              "      <td>I just found it alone yesterday near my apartm...</td>\n",
              "      <td>6296e909a</td>\n",
              "      <td>2.0</td>\n",
              "      <td>0</td>\n",
              "    </tr>\n",
              "    <tr>\n",
              "      <th>2</th>\n",
              "      <td>1</td>\n",
              "      <td>Brisco</td>\n",
              "      <td>1</td>\n",
              "      <td>307</td>\n",
              "      <td>0</td>\n",
              "      <td>1</td>\n",
              "      <td>2</td>\n",
              "      <td>7</td>\n",
              "      <td>0</td>\n",
              "      <td>2</td>\n",
              "      <td>...</td>\n",
              "      <td>1</td>\n",
              "      <td>1</td>\n",
              "      <td>0</td>\n",
              "      <td>41326</td>\n",
              "      <td>fa90fa5b1ee11c86938398b60abc32cb</td>\n",
              "      <td>0</td>\n",
              "      <td>Their pregnant mother was dumped by her irresp...</td>\n",
              "      <td>3422e4906</td>\n",
              "      <td>7.0</td>\n",
              "      <td>3</td>\n",
              "    </tr>\n",
              "    <tr>\n",
              "      <th>3</th>\n",
              "      <td>1</td>\n",
              "      <td>Miko</td>\n",
              "      <td>4</td>\n",
              "      <td>307</td>\n",
              "      <td>0</td>\n",
              "      <td>2</td>\n",
              "      <td>1</td>\n",
              "      <td>2</td>\n",
              "      <td>0</td>\n",
              "      <td>2</td>\n",
              "      <td>...</td>\n",
              "      <td>1</td>\n",
              "      <td>1</td>\n",
              "      <td>150</td>\n",
              "      <td>41401</td>\n",
              "      <td>9238e4f44c71a75282e62f7136c6b240</td>\n",
              "      <td>0</td>\n",
              "      <td>Good guard dog, very alert, active, obedience ...</td>\n",
              "      <td>5842f1ff5</td>\n",
              "      <td>8.0</td>\n",
              "      <td>2</td>\n",
              "    </tr>\n",
              "    <tr>\n",
              "      <th>4</th>\n",
              "      <td>1</td>\n",
              "      <td>Hunter</td>\n",
              "      <td>1</td>\n",
              "      <td>307</td>\n",
              "      <td>0</td>\n",
              "      <td>1</td>\n",
              "      <td>1</td>\n",
              "      <td>0</td>\n",
              "      <td>0</td>\n",
              "      <td>2</td>\n",
              "      <td>...</td>\n",
              "      <td>1</td>\n",
              "      <td>1</td>\n",
              "      <td>0</td>\n",
              "      <td>41326</td>\n",
              "      <td>95481e953f8aed9ec3d16fc4509537e8</td>\n",
              "      <td>0</td>\n",
              "      <td>This handsome yet cute boy is up for adoption....</td>\n",
              "      <td>850a43f90</td>\n",
              "      <td>3.0</td>\n",
              "      <td>2</td>\n",
              "    </tr>\n",
              "  </tbody>\n",
              "</table>\n",
              "<p>5 rows × 24 columns</p>\n",
              "</div>\n",
              "      <button class=\"colab-df-convert\" onclick=\"convertToInteractive('df-c4b81ed9-3055-43ee-ba8d-45f6c888ecd7')\"\n",
              "              title=\"Convert this dataframe to an interactive table.\"\n",
              "              style=\"display:none;\">\n",
              "\n",
              "  <svg xmlns=\"http://www.w3.org/2000/svg\" height=\"24px\"viewBox=\"0 0 24 24\"\n",
              "       width=\"24px\">\n",
              "    <path d=\"M0 0h24v24H0V0z\" fill=\"none\"/>\n",
              "    <path d=\"M18.56 5.44l.94 2.06.94-2.06 2.06-.94-2.06-.94-.94-2.06-.94 2.06-2.06.94zm-11 1L8.5 8.5l.94-2.06 2.06-.94-2.06-.94L8.5 2.5l-.94 2.06-2.06.94zm10 10l.94 2.06.94-2.06 2.06-.94-2.06-.94-.94-2.06-.94 2.06-2.06.94z\"/><path d=\"M17.41 7.96l-1.37-1.37c-.4-.4-.92-.59-1.43-.59-.52 0-1.04.2-1.43.59L10.3 9.45l-7.72 7.72c-.78.78-.78 2.05 0 2.83L4 21.41c.39.39.9.59 1.41.59.51 0 1.02-.2 1.41-.59l7.78-7.78 2.81-2.81c.8-.78.8-2.07 0-2.86zM5.41 20L4 18.59l7.72-7.72 1.47 1.35L5.41 20z\"/>\n",
              "  </svg>\n",
              "      </button>\n",
              "\n",
              "\n",
              "\n",
              "    <div id=\"df-ea053951-4121-4e3a-a230-0f14f7aef977\">\n",
              "      <button class=\"colab-df-quickchart\" onclick=\"quickchart('df-ea053951-4121-4e3a-a230-0f14f7aef977')\"\n",
              "              title=\"Suggest charts.\"\n",
              "              style=\"display:none;\">\n",
              "\n",
              "<svg xmlns=\"http://www.w3.org/2000/svg\" height=\"24px\"viewBox=\"0 0 24 24\"\n",
              "     width=\"24px\">\n",
              "    <g>\n",
              "        <path d=\"M19 3H5c-1.1 0-2 .9-2 2v14c0 1.1.9 2 2 2h14c1.1 0 2-.9 2-2V5c0-1.1-.9-2-2-2zM9 17H7v-7h2v7zm4 0h-2V7h2v10zm4 0h-2v-4h2v4z\"/>\n",
              "    </g>\n",
              "</svg>\n",
              "      </button>\n",
              "    </div>\n",
              "\n",
              "<style>\n",
              "  .colab-df-quickchart {\n",
              "    background-color: #E8F0FE;\n",
              "    border: none;\n",
              "    border-radius: 50%;\n",
              "    cursor: pointer;\n",
              "    display: none;\n",
              "    fill: #1967D2;\n",
              "    height: 32px;\n",
              "    padding: 0 0 0 0;\n",
              "    width: 32px;\n",
              "  }\n",
              "\n",
              "  .colab-df-quickchart:hover {\n",
              "    background-color: #E2EBFA;\n",
              "    box-shadow: 0px 1px 2px rgba(60, 64, 67, 0.3), 0px 1px 3px 1px rgba(60, 64, 67, 0.15);\n",
              "    fill: #174EA6;\n",
              "  }\n",
              "\n",
              "  [theme=dark] .colab-df-quickchart {\n",
              "    background-color: #3B4455;\n",
              "    fill: #D2E3FC;\n",
              "  }\n",
              "\n",
              "  [theme=dark] .colab-df-quickchart:hover {\n",
              "    background-color: #434B5C;\n",
              "    box-shadow: 0px 1px 3px 1px rgba(0, 0, 0, 0.15);\n",
              "    filter: drop-shadow(0px 1px 2px rgba(0, 0, 0, 0.3));\n",
              "    fill: #FFFFFF;\n",
              "  }\n",
              "</style>\n",
              "\n",
              "    <script>\n",
              "      async function quickchart(key) {\n",
              "        const containerElement = document.querySelector('#' + key);\n",
              "        const charts = await google.colab.kernel.invokeFunction(\n",
              "            'suggestCharts', [key], {});\n",
              "      }\n",
              "    </script>\n",
              "\n",
              "      <script>\n",
              "\n",
              "function displayQuickchartButton(domScope) {\n",
              "  let quickchartButtonEl =\n",
              "    domScope.querySelector('#df-ea053951-4121-4e3a-a230-0f14f7aef977 button.colab-df-quickchart');\n",
              "  quickchartButtonEl.style.display =\n",
              "    google.colab.kernel.accessAllowed ? 'block' : 'none';\n",
              "}\n",
              "\n",
              "        displayQuickchartButton(document);\n",
              "      </script>\n",
              "      <style>\n",
              "    .colab-df-container {\n",
              "      display:flex;\n",
              "      flex-wrap:wrap;\n",
              "      gap: 12px;\n",
              "    }\n",
              "\n",
              "    .colab-df-convert {\n",
              "      background-color: #E8F0FE;\n",
              "      border: none;\n",
              "      border-radius: 50%;\n",
              "      cursor: pointer;\n",
              "      display: none;\n",
              "      fill: #1967D2;\n",
              "      height: 32px;\n",
              "      padding: 0 0 0 0;\n",
              "      width: 32px;\n",
              "    }\n",
              "\n",
              "    .colab-df-convert:hover {\n",
              "      background-color: #E2EBFA;\n",
              "      box-shadow: 0px 1px 2px rgba(60, 64, 67, 0.3), 0px 1px 3px 1px rgba(60, 64, 67, 0.15);\n",
              "      fill: #174EA6;\n",
              "    }\n",
              "\n",
              "    [theme=dark] .colab-df-convert {\n",
              "      background-color: #3B4455;\n",
              "      fill: #D2E3FC;\n",
              "    }\n",
              "\n",
              "    [theme=dark] .colab-df-convert:hover {\n",
              "      background-color: #434B5C;\n",
              "      box-shadow: 0px 1px 3px 1px rgba(0, 0, 0, 0.15);\n",
              "      filter: drop-shadow(0px 1px 2px rgba(0, 0, 0, 0.3));\n",
              "      fill: #FFFFFF;\n",
              "    }\n",
              "  </style>\n",
              "\n",
              "      <script>\n",
              "        const buttonEl =\n",
              "          document.querySelector('#df-c4b81ed9-3055-43ee-ba8d-45f6c888ecd7 button.colab-df-convert');\n",
              "        buttonEl.style.display =\n",
              "          google.colab.kernel.accessAllowed ? 'block' : 'none';\n",
              "\n",
              "        async function convertToInteractive(key) {\n",
              "          const element = document.querySelector('#df-c4b81ed9-3055-43ee-ba8d-45f6c888ecd7');\n",
              "          const dataTable =\n",
              "            await google.colab.kernel.invokeFunction('convertToInteractive',\n",
              "                                                     [key], {});\n",
              "          if (!dataTable) return;\n",
              "\n",
              "          const docLinkHtml = 'Like what you see? Visit the ' +\n",
              "            '<a target=\"_blank\" href=https://colab.research.google.com/notebooks/data_table.ipynb>data table notebook</a>'\n",
              "            + ' to learn more about interactive tables.';\n",
              "          element.innerHTML = '';\n",
              "          dataTable['output_type'] = 'display_data';\n",
              "          await google.colab.output.renderOutput(dataTable, element);\n",
              "          const docLink = document.createElement('div');\n",
              "          docLink.innerHTML = docLinkHtml;\n",
              "          element.appendChild(docLink);\n",
              "        }\n",
              "      </script>\n",
              "    </div>\n",
              "  </div>\n"
            ]
          },
          "metadata": {}
        }
      ]
    },
    {
      "cell_type": "markdown",
      "source": [
        "## Pre-procesamiento de Datos Nulos"
      ],
      "metadata": {
        "id": "mdHGfgfkwQaM"
      }
    },
    {
      "cell_type": "markdown",
      "source": [
        "### Verificacion de cantidad de nulos por cada Variable"
      ],
      "metadata": {
        "id": "4EcLW7Fywymr"
      }
    },
    {
      "cell_type": "code",
      "source": [
        "# Verificamos nulos por cada Variable\n",
        "\n",
        "print('Tamano del Dataset:', data.shape, '\\n')\n",
        "print(data.isnull().sum())"
      ],
      "metadata": {
        "colab": {
          "base_uri": "https://localhost:8080/"
        },
        "id": "yl-g2MpjwVc4",
        "outputId": "989c70c5-2d85-4565-f66e-3aa541b12f5d"
      },
      "execution_count": 3,
      "outputs": [
        {
          "output_type": "stream",
          "name": "stdout",
          "text": [
            "Tamano del Dataset: (14993, 24) \n",
            "\n",
            "Type                0\n",
            "Name             1257\n",
            "Age                 0\n",
            "Breed1              0\n",
            "Breed2              0\n",
            "Gender              0\n",
            "Color1              0\n",
            "Color2              0\n",
            "Color3              0\n",
            "MaturitySize        0\n",
            "FurLength           0\n",
            "Vaccinated          0\n",
            "Dewormed            0\n",
            "Sterilized          0\n",
            "Health              0\n",
            "Quantity            0\n",
            "Fee                 0\n",
            "State               0\n",
            "RescuerID           0\n",
            "VideoAmt            0\n",
            "Description        12\n",
            "PetID               0\n",
            "PhotoAmt            0\n",
            "AdoptionSpeed       0\n",
            "dtype: int64\n"
          ]
        }
      ]
    },
    {
      "cell_type": "markdown",
      "source": [
        "- Se verifica que de los casi 15.000 registros, solo las variables Name y Description contienen nulos"
      ],
      "metadata": {
        "id": "uPo7IBtoxAT1"
      }
    },
    {
      "cell_type": "markdown",
      "source": [
        "### Analisis de Variables Individuales"
      ],
      "metadata": {
        "id": "rtncnJDd34fN"
      }
    },
    {
      "cell_type": "code",
      "source": [
        "# PetID - Unique hash ID of pet profile\n",
        "\n",
        "# Fuera del alcance del analisis"
      ],
      "metadata": {
        "id": "mzCklHG-oSG_"
      },
      "execution_count": 4,
      "outputs": []
    },
    {
      "cell_type": "code",
      "source": [
        "# AdoptionSpeed(Ordinal)- Categorical speed of adoption. Lower is faster. This is the value to predict. See below section for more info\n",
        "print(data.AdoptionSpeed.value_counts(True))\n",
        "\n",
        "# Clases desbalanceadas el 28% de los cachorros no son adoptados antes de los primeros 3 meses"
      ],
      "metadata": {
        "colab": {
          "base_uri": "https://localhost:8080/"
        },
        "id": "gg53xe-5oa_v",
        "outputId": "e9175987-4a8a-438a-d46a-850daeca2276"
      },
      "execution_count": 5,
      "outputs": [
        {
          "output_type": "stream",
          "name": "stdout",
          "text": [
            "4    0.279931\n",
            "2    0.269259\n",
            "3    0.217368\n",
            "1    0.206096\n",
            "0    0.027346\n",
            "Name: AdoptionSpeed, dtype: float64\n"
          ]
        }
      ]
    },
    {
      "cell_type": "code",
      "source": [
        "# Type(Nominal) - Type of animal (1 = Dog, 2 = Cat)\n",
        "print(data.Type.value_counts())"
      ],
      "metadata": {
        "colab": {
          "base_uri": "https://localhost:8080/"
        },
        "id": "GTp_T_EiUFKt",
        "outputId": "8a4bdf76-7406-47ef-e8d5-92aea9587c63"
      },
      "execution_count": 6,
      "outputs": [
        {
          "output_type": "stream",
          "name": "stdout",
          "text": [
            "1    8132\n",
            "2    6861\n",
            "Name: Type, dtype: int64\n"
          ]
        }
      ]
    },
    {
      "cell_type": "code",
      "source": [
        "# Name - Name of pet (Empty if not named)\n",
        "\n",
        "# Fuera del alcance del analisis"
      ],
      "metadata": {
        "id": "dq2jE1fGoDB_"
      },
      "execution_count": 7,
      "outputs": []
    },
    {
      "cell_type": "code",
      "source": [
        "# Age(Continua) - Age of pet when listed, in months\n",
        "data.Age.describe()"
      ],
      "metadata": {
        "colab": {
          "base_uri": "https://localhost:8080/"
        },
        "id": "QEsmyHkugbfg",
        "outputId": "525e0045-8bec-4d41-f21a-c85a358fecac"
      },
      "execution_count": 8,
      "outputs": [
        {
          "output_type": "execute_result",
          "data": {
            "text/plain": [
              "count    14993.000000\n",
              "mean        10.452078\n",
              "std         18.155790\n",
              "min          0.000000\n",
              "25%          2.000000\n",
              "50%          3.000000\n",
              "75%         12.000000\n",
              "max        255.000000\n",
              "Name: Age, dtype: float64"
            ]
          },
          "metadata": {},
          "execution_count": 8
        }
      ]
    },
    {
      "cell_type": "code",
      "source": [
        "# Breed1(Confirmar) - Primary breed of pet (Refer to BreedLabels dictionary)\n",
        "data.Breed1.value_counts()"
      ],
      "metadata": {
        "colab": {
          "base_uri": "https://localhost:8080/"
        },
        "id": "EX7DqTTMUJER",
        "outputId": "3967935b-1211-452b-8d63-1c6a59d33cb0"
      },
      "execution_count": 9,
      "outputs": [
        {
          "output_type": "execute_result",
          "data": {
            "text/plain": [
              "307    5927\n",
              "266    3634\n",
              "265    1258\n",
              "299     342\n",
              "264     296\n",
              "       ... \n",
              "176       1\n",
              "214       1\n",
              "125       1\n",
              "123       1\n",
              "81        1\n",
              "Name: Breed1, Length: 176, dtype: int64"
            ]
          },
          "metadata": {},
          "execution_count": 9
        }
      ]
    },
    {
      "cell_type": "code",
      "source": [
        "# Breed2 - Secondary breed of pet, if pet is of mixed breed (Refer to BreedLabels dictionary)\n",
        "data.Breed2.value_counts()\n",
        "\n",
        "# Aprox 66% son de raza pura"
      ],
      "metadata": {
        "colab": {
          "base_uri": "https://localhost:8080/"
        },
        "id": "UdcXUT5XhPIS",
        "outputId": "63bb2df4-948d-44ee-f431-4d00e691f3f6"
      },
      "execution_count": 10,
      "outputs": [
        {
          "output_type": "execute_result",
          "data": {
            "text/plain": [
              "0      10762\n",
              "307     1727\n",
              "266      599\n",
              "265      321\n",
              "299      138\n",
              "       ...  \n",
              "104        1\n",
              "36         1\n",
              "17         1\n",
              "257        1\n",
              "279        1\n",
              "Name: Breed2, Length: 135, dtype: int64"
            ]
          },
          "metadata": {},
          "execution_count": 10
        }
      ]
    },
    {
      "cell_type": "code",
      "source": [
        "# Gender(Nominal) - Gender of pet (1 = Male, 2 = Female, 3 = Mixed, if profile represents group of pets)\n",
        "data.Gender.value_counts(True)\n",
        "\n",
        "# Poco mas machos que hembras"
      ],
      "metadata": {
        "colab": {
          "base_uri": "https://localhost:8080/"
        },
        "id": "0EK9Jawwhalh",
        "outputId": "534f0bde-bc90-42a5-86f5-c314f1a4fcef"
      },
      "execution_count": 11,
      "outputs": [
        {
          "output_type": "execute_result",
          "data": {
            "text/plain": [
              "2    0.485360\n",
              "1    0.369239\n",
              "3    0.145401\n",
              "Name: Gender, dtype: float64"
            ]
          },
          "metadata": {},
          "execution_count": 11
        }
      ]
    },
    {
      "cell_type": "code",
      "source": [
        "# Color1(Confirmar) - Color 1 of pet (Refer to ColorLabels dictionary)\n",
        "data.Color1.value_counts(normalize=True)\n",
        "\n",
        "# 75% entre dos colores, seguramente sean blanco y marron/negro"
      ],
      "metadata": {
        "colab": {
          "base_uri": "https://localhost:8080/"
        },
        "id": "IfsJCRS_ijWS",
        "outputId": "4f1c72d0-54d2-45d3-ab73-29249f5cb61c"
      },
      "execution_count": 12,
      "outputs": [
        {
          "output_type": "execute_result",
          "data": {
            "text/plain": [
              "1    0.495365\n",
              "2    0.250117\n",
              "3    0.063163\n",
              "5    0.058961\n",
              "6    0.045621\n",
              "7    0.044487\n",
              "4    0.042286\n",
              "Name: Color1, dtype: float64"
            ]
          },
          "metadata": {},
          "execution_count": 12
        }
      ]
    },
    {
      "cell_type": "code",
      "source": [
        "# Color2 - Color 2 of pet (Refer to ColorLabels dictionary)\n",
        "data.Color2.value_counts(normalize=True)\n",
        "\n",
        "# 30% de un solo color"
      ],
      "metadata": {
        "colab": {
          "base_uri": "https://localhost:8080/"
        },
        "id": "y7ee6Hkpi6iz",
        "outputId": "d4918129-1bd8-429b-f752-6a22b4a3ad47"
      },
      "execution_count": 13,
      "outputs": [
        {
          "output_type": "execute_result",
          "data": {
            "text/plain": [
              "0    0.298206\n",
              "7    0.229307\n",
              "2    0.220970\n",
              "5    0.075235\n",
              "6    0.070900\n",
              "4    0.058027\n",
              "3    0.047355\n",
              "Name: Color2, dtype: float64"
            ]
          },
          "metadata": {},
          "execution_count": 13
        }
      ]
    },
    {
      "cell_type": "code",
      "source": [
        "# Color3 - Color 3 of pet (Refer to ColorLabels dictionary)\n",
        "data.Color3.value_counts(normalize=True)\n",
        "\n",
        "# 70% de dos colores\n",
        "# Checkear el tema de los colores"
      ],
      "metadata": {
        "colab": {
          "base_uri": "https://localhost:8080/"
        },
        "id": "zF1vGtSKjR7c",
        "outputId": "0511d336-e4fc-4aed-e27f-63fbd2a83a98"
      },
      "execution_count": 14,
      "outputs": [
        {
          "output_type": "execute_result",
          "data": {
            "text/plain": [
              "0    0.707263\n",
              "7    0.214834\n",
              "5    0.027813\n",
              "6    0.025212\n",
              "4    0.013206\n",
              "3    0.011672\n",
              "Name: Color3, dtype: float64"
            ]
          },
          "metadata": {},
          "execution_count": 14
        }
      ]
    },
    {
      "cell_type": "code",
      "source": [
        "# MaturitySize(Ordinal) - Size at maturity (1 = Small, 2 = Medium, 3 = Large, 4 = Extra Large, 0 = Not Specified)\n",
        "data.MaturitySize.value_counts(True)\n",
        "\n",
        "# El 90% de los cachorros son Chicos o Medianos"
      ],
      "metadata": {
        "colab": {
          "base_uri": "https://localhost:8080/"
        },
        "id": "qFOt4y_HkavS",
        "outputId": "f9f45234-a4e6-46d9-ee1c-d59168465d94"
      },
      "execution_count": 15,
      "outputs": [
        {
          "output_type": "execute_result",
          "data": {
            "text/plain": [
              "2    0.687321\n",
              "1    0.226439\n",
              "3    0.084039\n",
              "4    0.002201\n",
              "Name: MaturitySize, dtype: float64"
            ]
          },
          "metadata": {},
          "execution_count": 15
        }
      ]
    },
    {
      "cell_type": "code",
      "source": [
        "# FurLength(Nominal) - Fur length (1 = Short, 2 = Medium, 3 = Long, 0 = Not Specified)\n",
        "data.FurLength.value_counts(True)"
      ],
      "metadata": {
        "colab": {
          "base_uri": "https://localhost:8080/"
        },
        "id": "1VHGjbYOlF8-",
        "outputId": "46209b34-7975-4a26-8012-8bc6f9382372"
      },
      "execution_count": 16,
      "outputs": [
        {
          "output_type": "execute_result",
          "data": {
            "text/plain": [
              "1    0.587474\n",
              "2    0.357567\n",
              "3    0.054959\n",
              "Name: FurLength, dtype: float64"
            ]
          },
          "metadata": {},
          "execution_count": 16
        }
      ]
    },
    {
      "cell_type": "code",
      "source": [
        "# Vaccinated(Nominal) - Pet has been vaccinated (1 = Yes, 2 = No, 3 = Not Sure)\n",
        "data.Vaccinated.value_counts(True)"
      ],
      "metadata": {
        "colab": {
          "base_uri": "https://localhost:8080/"
        },
        "id": "htUGLzDilMOq",
        "outputId": "02e1ea8e-bc48-427d-dbdc-339953859826"
      },
      "execution_count": 17,
      "outputs": [
        {
          "output_type": "execute_result",
          "data": {
            "text/plain": [
              "2    0.482025\n",
              "1    0.393384\n",
              "3    0.124591\n",
              "Name: Vaccinated, dtype: float64"
            ]
          },
          "metadata": {},
          "execution_count": 17
        }
      ]
    },
    {
      "cell_type": "code",
      "source": [
        "# Dewormed(Nominal) - Pet has been dewormed (1 = Yes, 2 = No, 3 = Not Sure)\n",
        "data.Dewormed.value_counts(True)"
      ],
      "metadata": {
        "colab": {
          "base_uri": "https://localhost:8080/"
        },
        "id": "TWcJd-VKlXHh",
        "outputId": "ff23fe59-eec8-4825-f0b9-cf644219d50c"
      },
      "execution_count": 18,
      "outputs": [
        {
          "output_type": "execute_result",
          "data": {
            "text/plain": [
              "1    0.560061\n",
              "2    0.321150\n",
              "3    0.118789\n",
              "Name: Dewormed, dtype: float64"
            ]
          },
          "metadata": {},
          "execution_count": 18
        }
      ]
    },
    {
      "cell_type": "code",
      "source": [
        "# Sterilized(Nominal) - Pet has been spayed / neutered (1 = Yes, 2 = No, 3 = Not Sure)\n",
        "data.Sterilized.value_counts(True)"
      ],
      "metadata": {
        "colab": {
          "base_uri": "https://localhost:8080/"
        },
        "id": "tbrEf9fvlkqs",
        "outputId": "de4d22d7-d2f7-4b39-de58-14f3f29cdfd8"
      },
      "execution_count": 19,
      "outputs": [
        {
          "output_type": "execute_result",
          "data": {
            "text/plain": [
              "2    0.672114\n",
              "1    0.206830\n",
              "3    0.121056\n",
              "Name: Sterilized, dtype: float64"
            ]
          },
          "metadata": {},
          "execution_count": 19
        }
      ]
    },
    {
      "cell_type": "code",
      "source": [
        "# Health(Nominal) - Health Condition (1 = Healthy, 2 = Minor Injury, 3 = Serious Injury, 0 = Not Specified)\n",
        "data.Health.value_counts(True)\n",
        "\n",
        "# La gran mayoria estan sanos"
      ],
      "metadata": {
        "colab": {
          "base_uri": "https://localhost:8080/"
        },
        "id": "nOCYRdsylvTA",
        "outputId": "9efbbdcf-1911-4921-e66f-032486db8744"
      },
      "execution_count": 20,
      "outputs": [
        {
          "output_type": "execute_result",
          "data": {
            "text/plain": [
              "1    0.965651\n",
              "2    0.032082\n",
              "3    0.002268\n",
              "Name: Health, dtype: float64"
            ]
          },
          "metadata": {},
          "execution_count": 20
        }
      ]
    },
    {
      "cell_type": "code",
      "source": [
        "# Quantity(Confirmar) - Number of pets represented in profile\n",
        "data.Quantity.value_counts(True)\n",
        "\n",
        "# El 77% son un solo cachorrito, el 10% hermanitos"
      ],
      "metadata": {
        "colab": {
          "base_uri": "https://localhost:8080/"
        },
        "id": "NXg4K2MCl9SH",
        "outputId": "9b86007f-eafb-487b-ba26-6a394e15af07"
      },
      "execution_count": 21,
      "outputs": [
        {
          "output_type": "execute_result",
          "data": {
            "text/plain": [
              "1     0.771360\n",
              "2     0.094844\n",
              "3     0.048423\n",
              "4     0.035417\n",
              "5     0.022210\n",
              "6     0.012339\n",
              "7     0.005603\n",
              "8     0.003468\n",
              "9     0.002201\n",
              "10    0.001267\n",
              "20    0.000800\n",
              "11    0.000667\n",
              "12    0.000400\n",
              "15    0.000267\n",
              "17    0.000200\n",
              "16    0.000200\n",
              "14    0.000133\n",
              "13    0.000133\n",
              "18    0.000067\n",
              "Name: Quantity, dtype: float64"
            ]
          },
          "metadata": {},
          "execution_count": 21
        }
      ]
    },
    {
      "cell_type": "code",
      "source": [
        "# Fee(Confirmar) - Adoption fee (0 = Free)\n",
        "data.Fee.value_counts(True)\n",
        "\n",
        "# En el 85% de los casos, le adopcion es sin cargo"
      ],
      "metadata": {
        "colab": {
          "base_uri": "https://localhost:8080/"
        },
        "id": "aGaTh6TKmLij",
        "outputId": "7235eb01-51f2-437b-b41e-db5e14fcef7f"
      },
      "execution_count": 22,
      "outputs": [
        {
          "output_type": "execute_result",
          "data": {
            "text/plain": [
              "0      0.844594\n",
              "50     0.031215\n",
              "100    0.027213\n",
              "200    0.014607\n",
              "150    0.010805\n",
              "         ...   \n",
              "170    0.000067\n",
              "135    0.000067\n",
              "14     0.000067\n",
              "89     0.000067\n",
              "190    0.000067\n",
              "Name: Fee, Length: 74, dtype: float64"
            ]
          },
          "metadata": {},
          "execution_count": 22
        }
      ]
    },
    {
      "cell_type": "code",
      "source": [
        "# State(Bucketizacion y Nominal) - State location in Malaysia (Refer to StateLabels dictionary)\n",
        "data.State.value_counts(True)\n",
        "\n",
        "# Casi el 85% provienen solo de los localidades, seran las mas grandes?"
      ],
      "metadata": {
        "colab": {
          "base_uri": "https://localhost:8080/"
        },
        "id": "M2IQpyOUmgi_",
        "outputId": "3939a1b9-fa98-45e2-f2f0-6daa97be3c1f"
      },
      "execution_count": 23,
      "outputs": [
        {
          "output_type": "execute_result",
          "data": {
            "text/plain": [
              "41326    0.581205\n",
              "41401    0.256453\n",
              "41327    0.056226\n",
              "41336    0.033816\n",
              "41330    0.028013\n",
              "41332    0.016875\n",
              "41324    0.009138\n",
              "41325    0.007337\n",
              "41335    0.005669\n",
              "41361    0.001734\n",
              "41345    0.001467\n",
              "41367    0.001000\n",
              "41342    0.000867\n",
              "41415    0.000200\n",
              "Name: State, dtype: float64"
            ]
          },
          "metadata": {},
          "execution_count": 23
        }
      ]
    },
    {
      "cell_type": "code",
      "source": [
        "# RescuerID(Confirmar) - Unique hash ID of rescuer\n",
        "data.RescuerID.value_counts()\n",
        "\n",
        "# Algunos usuarios que adoptaron mas de 150 perros, seran los que los tienen en transito?"
      ],
      "metadata": {
        "colab": {
          "base_uri": "https://localhost:8080/"
        },
        "id": "mT1SVQYsmvWB",
        "outputId": "81a60a91-e473-4530-95d3-6c149c0e8884"
      },
      "execution_count": 24,
      "outputs": [
        {
          "output_type": "execute_result",
          "data": {
            "text/plain": [
              "fa90fa5b1ee11c86938398b60abc32cb    459\n",
              "aa66486163b6cbc25ea62a34b11c9b91    315\n",
              "c00756f2bdd8fa88fc9f07a8309f7d5d    231\n",
              "b53c34474d9e24574bcec6a3d3306a0d    228\n",
              "ee2747ce26468ec44c7194e7d1d9dad9    156\n",
              "                                   ... \n",
              "89bc6d71d57ad5d7e952ed76559345c5      1\n",
              "8cfafc812c500eee7c112911ef668ce9      1\n",
              "8512e22c06a01cdc76481ff0a6e88b67      1\n",
              "48de9ff092328d54b2b371bc72b07b03      1\n",
              "79309f4027f2fedb4349a298c69fe56f      1\n",
              "Name: RescuerID, Length: 5595, dtype: int64"
            ]
          },
          "metadata": {},
          "execution_count": 24
        }
      ]
    },
    {
      "cell_type": "code",
      "source": [
        "# VideoAmt(Nominal) - Total uploaded videos for this pet\n",
        "data.VideoAmt.value_counts(True)\n",
        "\n",
        "# La mayoria de los usuarios, no sube videos de los cachorros"
      ],
      "metadata": {
        "colab": {
          "base_uri": "https://localhost:8080/"
        },
        "id": "3aq5_oHnnRRz",
        "outputId": "70282102-42c6-446a-8245-1358ef8da4d9"
      },
      "execution_count": 25,
      "outputs": [
        {
          "output_type": "execute_result",
          "data": {
            "text/plain": [
              "0    0.961715\n",
              "1    0.027813\n",
              "2    0.006136\n",
              "3    0.002401\n",
              "4    0.001000\n",
              "5    0.000467\n",
              "6    0.000267\n",
              "8    0.000133\n",
              "7    0.000067\n",
              "Name: VideoAmt, dtype: float64"
            ]
          },
          "metadata": {},
          "execution_count": 25
        }
      ]
    },
    {
      "cell_type": "code",
      "source": [
        "# PhotoAmt(Discreta) - Total uploaded photos for this pet\n",
        "data.PhotoAmt.describe()\n",
        "\n",
        "# Promedio entre 3 y 4 fotos por perro"
      ],
      "metadata": {
        "colab": {
          "base_uri": "https://localhost:8080/"
        },
        "id": "fSQaGd-SnfMI",
        "outputId": "b5643dd7-ddb7-48ff-9952-02728bc975f1"
      },
      "execution_count": 26,
      "outputs": [
        {
          "output_type": "execute_result",
          "data": {
            "text/plain": [
              "count    14993.000000\n",
              "mean         3.889215\n",
              "std          3.487810\n",
              "min          0.000000\n",
              "25%          2.000000\n",
              "50%          3.000000\n",
              "75%          5.000000\n",
              "max         30.000000\n",
              "Name: PhotoAmt, dtype: float64"
            ]
          },
          "metadata": {},
          "execution_count": 26
        }
      ]
    },
    {
      "cell_type": "code",
      "source": [
        "# Description - Profile write-up for this pet. The primary language used is English, with some in Malay or Chinese\n",
        "\n",
        "# Fuera del alcance del analisis"
      ],
      "metadata": {
        "id": "C36NhAcwn2eN"
      },
      "execution_count": 27,
      "outputs": []
    },
    {
      "cell_type": "markdown",
      "source": [
        "### Conclusiones"
      ],
      "metadata": {
        "id": "zIopKJU-qMaD"
      }
    },
    {
      "cell_type": "markdown",
      "source": [
        "- Clases desbalanceadas, el 28% de los cachorros no son adoptados antes de los primeros 3 meses\n",
        "- 3 meses de Mediana en la edad\n",
        "- Aprox 66% son de raza pura\n",
        "- Poco mas machos que hembras\n",
        "- **Inconguencias con el tema de los colores**\n",
        "- El 90% de los cachorros son Chicos o Medianos\n",
        "- La gran mayoria estan sanos\n",
        "- El 77% son un solo cachorrito, el 10% son hermanitos\n",
        "- En el 85% de los casos, le adopcion es sin cargo\n",
        "- Casi el 85% provienen solo de los localidades, seran las mas grandes?\n",
        "- Algunos usuarios que adoptaron mas de 150 perros, seran los que los tienen en transito?\n",
        "- La gran mayoria de los usuarios, no sube videos de los cachorros\n",
        "- Promedio entre 3 y 4 fotos por cachorro\n",
        "- No se observan datos danados en ninguna variable del Dataset"
      ],
      "metadata": {
        "id": "dZ3JtuV7qYWl"
      }
    },
    {
      "cell_type": "markdown",
      "source": [
        "## Transformacion de Datos"
      ],
      "metadata": {
        "id": "4r-a1vm9rs3X"
      }
    },
    {
      "cell_type": "code",
      "source": [
        "# Lista de Normalizables\n",
        "scaler = MinMaxScaler()\n",
        "\n",
        "\n",
        "normalizables = ['Age', 'Fee', 'PhotoAmt']\n",
        "data_normalizables = scaler.fit_transform(data[normalizables])\n",
        "\n",
        "data_normalizables"
      ],
      "metadata": {
        "id": "fDbCjJNh5HOV",
        "outputId": "d42090c7-ee60-4f3e-b9d7-7fc86a0570a8",
        "colab": {
          "base_uri": "https://localhost:8080/"
        }
      },
      "execution_count": 28,
      "outputs": [
        {
          "output_type": "execute_result",
          "data": {
            "text/plain": [
              "array([[0.01176471, 0.03333333, 0.03333333],\n",
              "       [0.00392157, 0.        , 0.06666667],\n",
              "       [0.00392157, 0.        , 0.23333333],\n",
              "       ...,\n",
              "       [0.00784314, 0.01      , 0.16666667],\n",
              "       [0.03529412, 0.        , 0.1       ],\n",
              "       [0.00392157, 0.        , 0.03333333]])"
            ]
          },
          "metadata": {},
          "execution_count": 28
        }
      ]
    },
    {
      "cell_type": "code",
      "source": [
        "# Lista de Categorios Orindales\n",
        "\n",
        "oe_encoder = OrdinalEncoder()\n",
        "ordinales = ['AdoptionSpeed']\n",
        "\n",
        "oe_encoder.fit_transform(data[ordinales])\n",
        "\n",
        "# No entiendo como hacer, revisar"
      ],
      "metadata": {
        "colab": {
          "base_uri": "https://localhost:8080/"
        },
        "id": "D-Jjy2jEr9JC",
        "outputId": "34559553-9b8d-4238-e7b5-25c5c3f8c3ef"
      },
      "execution_count": 29,
      "outputs": [
        {
          "output_type": "execute_result",
          "data": {
            "text/plain": [
              "array([[2.],\n",
              "       [0.],\n",
              "       [3.],\n",
              "       ...,\n",
              "       [3.],\n",
              "       [4.],\n",
              "       [3.]])"
            ]
          },
          "metadata": {},
          "execution_count": 29
        }
      ]
    },
    {
      "cell_type": "markdown",
      "source": [
        "### Transformacion de Variables Nominales"
      ],
      "metadata": {
        "id": "wr0q2gRpWEbE"
      }
    },
    {
      "cell_type": "code",
      "source": [
        "# Lista de Categoricos Nominales\n",
        "oh_encoder = OneHotEncoder(drop='first')\n",
        "\n",
        "# Datset Final vacio\n",
        "data_Final = pd.DataFrame()"
      ],
      "metadata": {
        "id": "I-MOv3gTWaXH"
      },
      "execution_count": 74,
      "outputs": []
    },
    {
      "cell_type": "code",
      "source": [
        "# Varable Type\n",
        "\n",
        "# Fit the encoder to the data and transform the variable\n",
        "encoded_data = oh_encoder.fit_transform(data[['Type']])\n",
        "\n",
        "# Convert the sparse matrix to a dense array\n",
        "dense_encoded_data = encoded_data.toarray()\n",
        "\n",
        "# Create a new dataframe with the encoded data\n",
        "data_Type = pd.DataFrame(dense_encoded_data, columns=oh_encoder.get_feature_names_out(['Type']))\n",
        "\n",
        "# Renombramos el nombre de la variable\n",
        "data_Type.rename(columns={'Type_2':'isCat'}, inplace=True)\n",
        "\n",
        "# print(data_Type)\n",
        "\n",
        "# Apendeamos al dataset final\n",
        "data_Final = pd.concat([data_Final, data_Type], axis=1)"
      ],
      "metadata": {
        "id": "aIpMDkTEz2_g"
      },
      "execution_count": 75,
      "outputs": []
    },
    {
      "cell_type": "code",
      "source": [
        "# Vairable Gender\n",
        "\n",
        "encoded_data = oh_encoder.fit_transform(data[['Gender']])\n",
        "dense_encoded_data = encoded_data.toarray()\n",
        "data_Gender = pd.DataFrame(dense_encoded_data, columns=oh_encoder.get_feature_names_out(['Gender']))\n",
        "\n",
        "# Apendeamos al dataset final\n",
        "data_Final = pd.concat([data_Final, data_Gender], axis=1)"
      ],
      "metadata": {
        "id": "kaQ5NsHnXdqg"
      },
      "execution_count": 85,
      "outputs": []
    },
    {
      "cell_type": "code",
      "source": [
        "# Vairable FurLength\n",
        "\n",
        "encoded_data = oh_encoder.fit_transform(data[['FurLength']])\n",
        "dense_encoded_data = encoded_data.toarray()\n",
        "data_FurLength = pd.DataFrame(dense_encoded_data, columns=oh_encoder.get_feature_names_out(['FurLength']))\n",
        "\n",
        "# Apendeamos al dataset final\n",
        "data_Final = pd.concat([data_Final, data_FurLength], axis=1)"
      ],
      "metadata": {
        "id": "udN5kjbFaUdd"
      },
      "execution_count": null,
      "outputs": []
    },
    {
      "cell_type": "code",
      "source": [
        "# Vairable Vaccinated\n",
        "\n",
        "encoded_data = oh_encoder.fit_transform(data[['Vaccinated']])\n",
        "dense_encoded_data = encoded_data.toarray()\n",
        "data_Vaccinated = pd.DataFrame(dense_encoded_data, columns=oh_encoder.get_feature_names_out(['Vaccinated']))\n",
        "\n",
        "# Apendeamos al dataset final\n",
        "data_Final = pd.concat([data_Final, data_Vaccinated], axis=1)"
      ],
      "metadata": {
        "id": "RS4jJZNdao9J"
      },
      "execution_count": null,
      "outputs": []
    },
    {
      "cell_type": "code",
      "source": [
        "# Vairable Dewormed\n",
        "\n",
        "encoded_data = oh_encoder.fit_transform(data[['Dewormed']])\n",
        "dense_encoded_data = encoded_data.toarray()\n",
        "data_Dewormed = pd.DataFrame(dense_encoded_data, columns=oh_encoder.get_feature_names_out(['Dewormed']))\n",
        "\n",
        "# Apendeamos al dataset final\n",
        "data_Final = pd.concat([data_Final, data_Dewormed], axis=1)"
      ],
      "metadata": {
        "id": "5_vK-5aIa4z7"
      },
      "execution_count": null,
      "outputs": []
    },
    {
      "cell_type": "code",
      "source": [
        "# Vairable Sterilized\n",
        "\n",
        "encoded_data = oh_encoder.fit_transform(data[['Sterilized']])\n",
        "dense_encoded_data = encoded_data.toarray()\n",
        "data_Sterilized = pd.DataFrame(dense_encoded_data, columns=oh_encoder.get_feature_names_out(['Sterilized']))\n",
        "\n",
        "# Apendeamos al dataset final\n",
        "data_Final = pd.concat([data_Final, data_Sterilized], axis=1)"
      ],
      "metadata": {
        "id": "5uxtZU9WbnpO"
      },
      "execution_count": 94,
      "outputs": []
    },
    {
      "cell_type": "code",
      "source": [
        "# Vairable Health\n",
        "\n",
        "encoded_data = oh_encoder.fit_transform(data[['Health']])\n",
        "dense_encoded_data = encoded_data.toarray()\n",
        "data_Health = pd.DataFrame(dense_encoded_data, columns=oh_encoder.get_feature_names_out(['Health']))\n",
        "\n",
        "# Apendeamos al dataset final\n",
        "data_Final = pd.concat([data_Final, data_Health], axis=1)"
      ],
      "metadata": {
        "id": "9Xk4PtPkbzwP"
      },
      "execution_count": 95,
      "outputs": []
    },
    {
      "cell_type": "code",
      "source": [
        "# Variable State Bucketizacion -> 1: 41326, 2: 41401, 0: Others\n",
        "\n",
        "# Lista para armar el bucket\n",
        "State = []\n",
        "\n",
        "# Populamos la lista\n",
        "for value in data.State:\n",
        "  if value == 41326:\n",
        "    State.append(1)\n",
        "  elif value == 41401:\n",
        "    State.append(2)\n",
        "  else:\n",
        "    State.append(0)\n",
        "\n",
        "# Convertimos a Serie\n",
        "State = pd.Series(State, name='StateNew')\n",
        "\n",
        "# Concatenamos al Dataset original\n",
        "data = pd.concat([data, State], axis=1)"
      ],
      "metadata": {
        "id": "hMQPn050cWNs"
      },
      "execution_count": null,
      "outputs": []
    },
    {
      "cell_type": "code",
      "source": [
        "# Vairable StateNew\n",
        "\n",
        "encoded_data = oh_encoder.fit_transform(data[['StateNew']])\n",
        "dense_encoded_data = encoded_data.toarray()\n",
        "data_StateNew = pd.DataFrame(dense_encoded_data, columns=oh_encoder.get_feature_names_out(['StateNew']))\n",
        "\n",
        "# Apendeamos al dataset final\n",
        "data_Final = pd.concat([data_Final, data_StateNew], axis=1)"
      ],
      "metadata": {
        "id": "no9g9pKGeanQ",
        "outputId": "0ef7d2fa-1383-42d2-f529-263de7288fec",
        "colab": {
          "base_uri": "https://localhost:8080/",
          "height": 423
        }
      },
      "execution_count": 111,
      "outputs": [
        {
          "output_type": "execute_result",
          "data": {
            "text/plain": [
              "       isCat  Gender_2  Gender_3  FurLength_2  FurLength_3  Vaccinated_2  \\\n",
              "0        1.0       0.0       0.0          0.0          0.0           1.0   \n",
              "1        1.0       0.0       0.0          1.0          0.0           0.0   \n",
              "2        0.0       0.0       0.0          1.0          0.0           0.0   \n",
              "3        0.0       1.0       0.0          0.0          0.0           0.0   \n",
              "4        0.0       0.0       0.0          0.0          0.0           1.0   \n",
              "...      ...       ...       ...          ...          ...           ...   \n",
              "14988    1.0       0.0       1.0          1.0          0.0           1.0   \n",
              "14989    1.0       0.0       1.0          1.0          0.0           0.0   \n",
              "14990    1.0       0.0       1.0          1.0          0.0           1.0   \n",
              "14991    1.0       1.0       0.0          0.0          0.0           0.0   \n",
              "14992    0.0       0.0       0.0          0.0          0.0           1.0   \n",
              "\n",
              "       Vaccinated_3  Dewormed_2  Dewormed_3  Sterilized_2  Sterilized_3  \\\n",
              "0               0.0         1.0         0.0           1.0           0.0   \n",
              "1               1.0         0.0         1.0           0.0           1.0   \n",
              "2               0.0         0.0         0.0           1.0           0.0   \n",
              "3               0.0         0.0         0.0           1.0           0.0   \n",
              "4               0.0         1.0         0.0           1.0           0.0   \n",
              "...             ...         ...         ...           ...           ...   \n",
              "14988           0.0         1.0         0.0           1.0           0.0   \n",
              "14989           0.0         0.0         0.0           0.0           0.0   \n",
              "14990           0.0         0.0         0.0           0.0           1.0   \n",
              "14991           0.0         0.0         0.0           0.0           0.0   \n",
              "14992           0.0         1.0         0.0           1.0           0.0   \n",
              "\n",
              "       Health_2  Health_3  StateNew_1  StateNew_2  \n",
              "0           0.0       0.0         1.0         0.0  \n",
              "1           0.0       0.0         0.0         1.0  \n",
              "2           0.0       0.0         1.0         0.0  \n",
              "3           0.0       0.0         0.0         1.0  \n",
              "4           0.0       0.0         1.0         0.0  \n",
              "...         ...       ...         ...         ...  \n",
              "14988       0.0       0.0         1.0         0.0  \n",
              "14989       0.0       0.0         1.0         0.0  \n",
              "14990       0.0       0.0         1.0         0.0  \n",
              "14991       0.0       0.0         0.0         0.0  \n",
              "14992       0.0       0.0         0.0         0.0  \n",
              "\n",
              "[14993 rows x 15 columns]"
            ],
            "text/html": [
              "\n",
              "\n",
              "  <div id=\"df-0d8456af-e5a2-459b-b3f8-c684deb02c9f\">\n",
              "    <div class=\"colab-df-container\">\n",
              "      <div>\n",
              "<style scoped>\n",
              "    .dataframe tbody tr th:only-of-type {\n",
              "        vertical-align: middle;\n",
              "    }\n",
              "\n",
              "    .dataframe tbody tr th {\n",
              "        vertical-align: top;\n",
              "    }\n",
              "\n",
              "    .dataframe thead th {\n",
              "        text-align: right;\n",
              "    }\n",
              "</style>\n",
              "<table border=\"1\" class=\"dataframe\">\n",
              "  <thead>\n",
              "    <tr style=\"text-align: right;\">\n",
              "      <th></th>\n",
              "      <th>isCat</th>\n",
              "      <th>Gender_2</th>\n",
              "      <th>Gender_3</th>\n",
              "      <th>FurLength_2</th>\n",
              "      <th>FurLength_3</th>\n",
              "      <th>Vaccinated_2</th>\n",
              "      <th>Vaccinated_3</th>\n",
              "      <th>Dewormed_2</th>\n",
              "      <th>Dewormed_3</th>\n",
              "      <th>Sterilized_2</th>\n",
              "      <th>Sterilized_3</th>\n",
              "      <th>Health_2</th>\n",
              "      <th>Health_3</th>\n",
              "      <th>StateNew_1</th>\n",
              "      <th>StateNew_2</th>\n",
              "    </tr>\n",
              "  </thead>\n",
              "  <tbody>\n",
              "    <tr>\n",
              "      <th>0</th>\n",
              "      <td>1.0</td>\n",
              "      <td>0.0</td>\n",
              "      <td>0.0</td>\n",
              "      <td>0.0</td>\n",
              "      <td>0.0</td>\n",
              "      <td>1.0</td>\n",
              "      <td>0.0</td>\n",
              "      <td>1.0</td>\n",
              "      <td>0.0</td>\n",
              "      <td>1.0</td>\n",
              "      <td>0.0</td>\n",
              "      <td>0.0</td>\n",
              "      <td>0.0</td>\n",
              "      <td>1.0</td>\n",
              "      <td>0.0</td>\n",
              "    </tr>\n",
              "    <tr>\n",
              "      <th>1</th>\n",
              "      <td>1.0</td>\n",
              "      <td>0.0</td>\n",
              "      <td>0.0</td>\n",
              "      <td>1.0</td>\n",
              "      <td>0.0</td>\n",
              "      <td>0.0</td>\n",
              "      <td>1.0</td>\n",
              "      <td>0.0</td>\n",
              "      <td>1.0</td>\n",
              "      <td>0.0</td>\n",
              "      <td>1.0</td>\n",
              "      <td>0.0</td>\n",
              "      <td>0.0</td>\n",
              "      <td>0.0</td>\n",
              "      <td>1.0</td>\n",
              "    </tr>\n",
              "    <tr>\n",
              "      <th>2</th>\n",
              "      <td>0.0</td>\n",
              "      <td>0.0</td>\n",
              "      <td>0.0</td>\n",
              "      <td>1.0</td>\n",
              "      <td>0.0</td>\n",
              "      <td>0.0</td>\n",
              "      <td>0.0</td>\n",
              "      <td>0.0</td>\n",
              "      <td>0.0</td>\n",
              "      <td>1.0</td>\n",
              "      <td>0.0</td>\n",
              "      <td>0.0</td>\n",
              "      <td>0.0</td>\n",
              "      <td>1.0</td>\n",
              "      <td>0.0</td>\n",
              "    </tr>\n",
              "    <tr>\n",
              "      <th>3</th>\n",
              "      <td>0.0</td>\n",
              "      <td>1.0</td>\n",
              "      <td>0.0</td>\n",
              "      <td>0.0</td>\n",
              "      <td>0.0</td>\n",
              "      <td>0.0</td>\n",
              "      <td>0.0</td>\n",
              "      <td>0.0</td>\n",
              "      <td>0.0</td>\n",
              "      <td>1.0</td>\n",
              "      <td>0.0</td>\n",
              "      <td>0.0</td>\n",
              "      <td>0.0</td>\n",
              "      <td>0.0</td>\n",
              "      <td>1.0</td>\n",
              "    </tr>\n",
              "    <tr>\n",
              "      <th>4</th>\n",
              "      <td>0.0</td>\n",
              "      <td>0.0</td>\n",
              "      <td>0.0</td>\n",
              "      <td>0.0</td>\n",
              "      <td>0.0</td>\n",
              "      <td>1.0</td>\n",
              "      <td>0.0</td>\n",
              "      <td>1.0</td>\n",
              "      <td>0.0</td>\n",
              "      <td>1.0</td>\n",
              "      <td>0.0</td>\n",
              "      <td>0.0</td>\n",
              "      <td>0.0</td>\n",
              "      <td>1.0</td>\n",
              "      <td>0.0</td>\n",
              "    </tr>\n",
              "    <tr>\n",
              "      <th>...</th>\n",
              "      <td>...</td>\n",
              "      <td>...</td>\n",
              "      <td>...</td>\n",
              "      <td>...</td>\n",
              "      <td>...</td>\n",
              "      <td>...</td>\n",
              "      <td>...</td>\n",
              "      <td>...</td>\n",
              "      <td>...</td>\n",
              "      <td>...</td>\n",
              "      <td>...</td>\n",
              "      <td>...</td>\n",
              "      <td>...</td>\n",
              "      <td>...</td>\n",
              "      <td>...</td>\n",
              "    </tr>\n",
              "    <tr>\n",
              "      <th>14988</th>\n",
              "      <td>1.0</td>\n",
              "      <td>0.0</td>\n",
              "      <td>1.0</td>\n",
              "      <td>1.0</td>\n",
              "      <td>0.0</td>\n",
              "      <td>1.0</td>\n",
              "      <td>0.0</td>\n",
              "      <td>1.0</td>\n",
              "      <td>0.0</td>\n",
              "      <td>1.0</td>\n",
              "      <td>0.0</td>\n",
              "      <td>0.0</td>\n",
              "      <td>0.0</td>\n",
              "      <td>1.0</td>\n",
              "      <td>0.0</td>\n",
              "    </tr>\n",
              "    <tr>\n",
              "      <th>14989</th>\n",
              "      <td>1.0</td>\n",
              "      <td>0.0</td>\n",
              "      <td>1.0</td>\n",
              "      <td>1.0</td>\n",
              "      <td>0.0</td>\n",
              "      <td>0.0</td>\n",
              "      <td>0.0</td>\n",
              "      <td>0.0</td>\n",
              "      <td>0.0</td>\n",
              "      <td>0.0</td>\n",
              "      <td>0.0</td>\n",
              "      <td>0.0</td>\n",
              "      <td>0.0</td>\n",
              "      <td>1.0</td>\n",
              "      <td>0.0</td>\n",
              "    </tr>\n",
              "    <tr>\n",
              "      <th>14990</th>\n",
              "      <td>1.0</td>\n",
              "      <td>0.0</td>\n",
              "      <td>1.0</td>\n",
              "      <td>1.0</td>\n",
              "      <td>0.0</td>\n",
              "      <td>1.0</td>\n",
              "      <td>0.0</td>\n",
              "      <td>0.0</td>\n",
              "      <td>0.0</td>\n",
              "      <td>0.0</td>\n",
              "      <td>1.0</td>\n",
              "      <td>0.0</td>\n",
              "      <td>0.0</td>\n",
              "      <td>1.0</td>\n",
              "      <td>0.0</td>\n",
              "    </tr>\n",
              "    <tr>\n",
              "      <th>14991</th>\n",
              "      <td>1.0</td>\n",
              "      <td>1.0</td>\n",
              "      <td>0.0</td>\n",
              "      <td>0.0</td>\n",
              "      <td>0.0</td>\n",
              "      <td>0.0</td>\n",
              "      <td>0.0</td>\n",
              "      <td>0.0</td>\n",
              "      <td>0.0</td>\n",
              "      <td>0.0</td>\n",
              "      <td>0.0</td>\n",
              "      <td>0.0</td>\n",
              "      <td>0.0</td>\n",
              "      <td>0.0</td>\n",
              "      <td>0.0</td>\n",
              "    </tr>\n",
              "    <tr>\n",
              "      <th>14992</th>\n",
              "      <td>0.0</td>\n",
              "      <td>0.0</td>\n",
              "      <td>0.0</td>\n",
              "      <td>0.0</td>\n",
              "      <td>0.0</td>\n",
              "      <td>1.0</td>\n",
              "      <td>0.0</td>\n",
              "      <td>1.0</td>\n",
              "      <td>0.0</td>\n",
              "      <td>1.0</td>\n",
              "      <td>0.0</td>\n",
              "      <td>0.0</td>\n",
              "      <td>0.0</td>\n",
              "      <td>0.0</td>\n",
              "      <td>0.0</td>\n",
              "    </tr>\n",
              "  </tbody>\n",
              "</table>\n",
              "<p>14993 rows × 15 columns</p>\n",
              "</div>\n",
              "      <button class=\"colab-df-convert\" onclick=\"convertToInteractive('df-0d8456af-e5a2-459b-b3f8-c684deb02c9f')\"\n",
              "              title=\"Convert this dataframe to an interactive table.\"\n",
              "              style=\"display:none;\">\n",
              "\n",
              "  <svg xmlns=\"http://www.w3.org/2000/svg\" height=\"24px\"viewBox=\"0 0 24 24\"\n",
              "       width=\"24px\">\n",
              "    <path d=\"M0 0h24v24H0V0z\" fill=\"none\"/>\n",
              "    <path d=\"M18.56 5.44l.94 2.06.94-2.06 2.06-.94-2.06-.94-.94-2.06-.94 2.06-2.06.94zm-11 1L8.5 8.5l.94-2.06 2.06-.94-2.06-.94L8.5 2.5l-.94 2.06-2.06.94zm10 10l.94 2.06.94-2.06 2.06-.94-2.06-.94-.94-2.06-.94 2.06-2.06.94z\"/><path d=\"M17.41 7.96l-1.37-1.37c-.4-.4-.92-.59-1.43-.59-.52 0-1.04.2-1.43.59L10.3 9.45l-7.72 7.72c-.78.78-.78 2.05 0 2.83L4 21.41c.39.39.9.59 1.41.59.51 0 1.02-.2 1.41-.59l7.78-7.78 2.81-2.81c.8-.78.8-2.07 0-2.86zM5.41 20L4 18.59l7.72-7.72 1.47 1.35L5.41 20z\"/>\n",
              "  </svg>\n",
              "      </button>\n",
              "\n",
              "\n",
              "\n",
              "    <div id=\"df-1abd5f5d-019d-4af7-a7d6-a3395da9d728\">\n",
              "      <button class=\"colab-df-quickchart\" onclick=\"quickchart('df-1abd5f5d-019d-4af7-a7d6-a3395da9d728')\"\n",
              "              title=\"Suggest charts.\"\n",
              "              style=\"display:none;\">\n",
              "\n",
              "<svg xmlns=\"http://www.w3.org/2000/svg\" height=\"24px\"viewBox=\"0 0 24 24\"\n",
              "     width=\"24px\">\n",
              "    <g>\n",
              "        <path d=\"M19 3H5c-1.1 0-2 .9-2 2v14c0 1.1.9 2 2 2h14c1.1 0 2-.9 2-2V5c0-1.1-.9-2-2-2zM9 17H7v-7h2v7zm4 0h-2V7h2v10zm4 0h-2v-4h2v4z\"/>\n",
              "    </g>\n",
              "</svg>\n",
              "      </button>\n",
              "    </div>\n",
              "\n",
              "<style>\n",
              "  .colab-df-quickchart {\n",
              "    background-color: #E8F0FE;\n",
              "    border: none;\n",
              "    border-radius: 50%;\n",
              "    cursor: pointer;\n",
              "    display: none;\n",
              "    fill: #1967D2;\n",
              "    height: 32px;\n",
              "    padding: 0 0 0 0;\n",
              "    width: 32px;\n",
              "  }\n",
              "\n",
              "  .colab-df-quickchart:hover {\n",
              "    background-color: #E2EBFA;\n",
              "    box-shadow: 0px 1px 2px rgba(60, 64, 67, 0.3), 0px 1px 3px 1px rgba(60, 64, 67, 0.15);\n",
              "    fill: #174EA6;\n",
              "  }\n",
              "\n",
              "  [theme=dark] .colab-df-quickchart {\n",
              "    background-color: #3B4455;\n",
              "    fill: #D2E3FC;\n",
              "  }\n",
              "\n",
              "  [theme=dark] .colab-df-quickchart:hover {\n",
              "    background-color: #434B5C;\n",
              "    box-shadow: 0px 1px 3px 1px rgba(0, 0, 0, 0.15);\n",
              "    filter: drop-shadow(0px 1px 2px rgba(0, 0, 0, 0.3));\n",
              "    fill: #FFFFFF;\n",
              "  }\n",
              "</style>\n",
              "\n",
              "    <script>\n",
              "      async function quickchart(key) {\n",
              "        const containerElement = document.querySelector('#' + key);\n",
              "        const charts = await google.colab.kernel.invokeFunction(\n",
              "            'suggestCharts', [key], {});\n",
              "      }\n",
              "    </script>\n",
              "\n",
              "      <script>\n",
              "\n",
              "function displayQuickchartButton(domScope) {\n",
              "  let quickchartButtonEl =\n",
              "    domScope.querySelector('#df-1abd5f5d-019d-4af7-a7d6-a3395da9d728 button.colab-df-quickchart');\n",
              "  quickchartButtonEl.style.display =\n",
              "    google.colab.kernel.accessAllowed ? 'block' : 'none';\n",
              "}\n",
              "\n",
              "        displayQuickchartButton(document);\n",
              "      </script>\n",
              "      <style>\n",
              "    .colab-df-container {\n",
              "      display:flex;\n",
              "      flex-wrap:wrap;\n",
              "      gap: 12px;\n",
              "    }\n",
              "\n",
              "    .colab-df-convert {\n",
              "      background-color: #E8F0FE;\n",
              "      border: none;\n",
              "      border-radius: 50%;\n",
              "      cursor: pointer;\n",
              "      display: none;\n",
              "      fill: #1967D2;\n",
              "      height: 32px;\n",
              "      padding: 0 0 0 0;\n",
              "      width: 32px;\n",
              "    }\n",
              "\n",
              "    .colab-df-convert:hover {\n",
              "      background-color: #E2EBFA;\n",
              "      box-shadow: 0px 1px 2px rgba(60, 64, 67, 0.3), 0px 1px 3px 1px rgba(60, 64, 67, 0.15);\n",
              "      fill: #174EA6;\n",
              "    }\n",
              "\n",
              "    [theme=dark] .colab-df-convert {\n",
              "      background-color: #3B4455;\n",
              "      fill: #D2E3FC;\n",
              "    }\n",
              "\n",
              "    [theme=dark] .colab-df-convert:hover {\n",
              "      background-color: #434B5C;\n",
              "      box-shadow: 0px 1px 3px 1px rgba(0, 0, 0, 0.15);\n",
              "      filter: drop-shadow(0px 1px 2px rgba(0, 0, 0, 0.3));\n",
              "      fill: #FFFFFF;\n",
              "    }\n",
              "  </style>\n",
              "\n",
              "      <script>\n",
              "        const buttonEl =\n",
              "          document.querySelector('#df-0d8456af-e5a2-459b-b3f8-c684deb02c9f button.colab-df-convert');\n",
              "        buttonEl.style.display =\n",
              "          google.colab.kernel.accessAllowed ? 'block' : 'none';\n",
              "\n",
              "        async function convertToInteractive(key) {\n",
              "          const element = document.querySelector('#df-0d8456af-e5a2-459b-b3f8-c684deb02c9f');\n",
              "          const dataTable =\n",
              "            await google.colab.kernel.invokeFunction('convertToInteractive',\n",
              "                                                     [key], {});\n",
              "          if (!dataTable) return;\n",
              "\n",
              "          const docLinkHtml = 'Like what you see? Visit the ' +\n",
              "            '<a target=\"_blank\" href=https://colab.research.google.com/notebooks/data_table.ipynb>data table notebook</a>'\n",
              "            + ' to learn more about interactive tables.';\n",
              "          element.innerHTML = '';\n",
              "          dataTable['output_type'] = 'display_data';\n",
              "          await google.colab.output.renderOutput(dataTable, element);\n",
              "          const docLink = document.createElement('div');\n",
              "          docLink.innerHTML = docLinkHtml;\n",
              "          element.appendChild(docLink);\n",
              "        }\n",
              "      </script>\n",
              "    </div>\n",
              "  </div>\n"
            ]
          },
          "metadata": {},
          "execution_count": 111
        }
      ]
    },
    {
      "cell_type": "code",
      "source": [
        "# VideoAmt -> Boolearizamos, ya que el 96% no tiene videos\n",
        "\n",
        "Video = []\n",
        "\n",
        "for value in data.VideoAmt:\n",
        "  if value == 0:\n",
        "    Video.append(0)\n",
        "  else:\n",
        "    Video.append(1)\n",
        "\n",
        "Video = pd.Series(Video, name='tieneVideo')\n",
        "\n",
        "data = pd.concat([data, Video], axis=1)"
      ],
      "metadata": {
        "id": "gWGwm6tufJcj"
      },
      "execution_count": 115,
      "outputs": []
    },
    {
      "cell_type": "code",
      "source": [
        "# Vairable tieneVideo\n",
        "\n",
        "encoded_data = oh_encoder.fit_transform(data[['tieneVideo']])\n",
        "dense_encoded_data = encoded_data.toarray()\n",
        "data_tieneVideo = pd.DataFrame(dense_encoded_data, columns=oh_encoder.get_feature_names_out(['tieneVideo']))\n",
        "\n",
        "# Apendeamos al dataset final\n",
        "data_Final = pd.concat([data_Final, data_tieneVideo], axis=1)"
      ],
      "metadata": {
        "id": "4Gvtzc9PfvuZ"
      },
      "execution_count": null,
      "outputs": []
    },
    {
      "cell_type": "code",
      "source": [
        "# VideoAmt(Nominal) - Total uploaded videos for this pet\n",
        "data.VideoAmt.value_counts(True)\n",
        "\n",
        "# La mayoria de los usuarios, no sube videos de los cachorros"
      ],
      "metadata": {
        "id": "RkcnGcg2cVLi",
        "outputId": "1d6792cc-124d-480d-f2c8-d332e5ac6787",
        "colab": {
          "base_uri": "https://localhost:8080/"
        }
      },
      "execution_count": 112,
      "outputs": [
        {
          "output_type": "execute_result",
          "data": {
            "text/plain": [
              "0    0.961715\n",
              "1    0.027813\n",
              "2    0.006136\n",
              "3    0.002401\n",
              "4    0.001000\n",
              "5    0.000467\n",
              "6    0.000267\n",
              "8    0.000133\n",
              "7    0.000067\n",
              "Name: VideoAmt, dtype: float64"
            ]
          },
          "metadata": {},
          "execution_count": 112
        }
      ]
    },
    {
      "cell_type": "markdown",
      "source": [
        "# Dudas"
      ],
      "metadata": {
        "id": "KKivqzfwZgMj"
      }
    },
    {
      "cell_type": "markdown",
      "source": [
        "- Breed que tipo de variable es? Como debo tratarla?\n",
        "- Color tiene una Cardinalidad de 7, debemos usar OneHot Encoder?\n",
        "- Quantity? Se normaliza?\n",
        "- Fee. Creamos bcukets?\n",
        "- RescuerID buckets?"
      ],
      "metadata": {
        "id": "s_iSo4SjZkHe"
      }
    }
  ],
  "metadata": {
    "colab": {
      "name": "scratchpad",
      "provenance": [],
      "include_colab_link": true
    },
    "kernelspec": {
      "display_name": "Python 3",
      "name": "python3"
    }
  },
  "nbformat": 4,
  "nbformat_minor": 0
}