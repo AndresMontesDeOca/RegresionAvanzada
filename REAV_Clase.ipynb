{
 "cells": [
  {
   "cell_type": "markdown",
   "id": "eda0864a",
   "metadata": {},
   "source": [
    "# Apuntes Cursada Regresion Avanzada"
   ]
  },
  {
   "cell_type": "code",
   "execution_count": null,
   "id": "bbf8c17a",
   "metadata": {},
   "outputs": [],
   "source": [
    "# Fecha Creacion: 02/06/23\n",
    "# Autor: Andres Montes de Oca\n",
    "\n",
    "# Instalacion de Paquetes\n",
    "# !pip install pingouin\n",
    "# !pip install scipy\n",
    "# !pip install statsmodels\n",
    "# !pip install rpy2\n",
    "\n",
    "# Cargamos Librerias y Datos\n",
    "import numpy as np\n",
    "import pandas as pd\n",
    "import matplotlib.pyplot as plt\n",
    "import seaborn as sns\n",
    "import pingouin as pg\n",
    "from scipy import stats as st\n",
    "import statsmodels.api as sm\n",
    "import statsmodels.formula.api as smf\n",
    "import statsmodels.tools.tools as smt\n",
    "# import rpy2.robjects as robjects\n",
    "# from rpy2.robjects.packages import importr\n",
    "\n",
    "# Asthetics\n",
    "sns.set(style='ticks', context='notebook', palette='colorblind', font_scale=1, color_codes=True)      "
   ]
  },
  {
   "cell_type": "markdown",
   "id": "b00fc712",
   "metadata": {},
   "source": [
    "## Cargas de Datasets"
   ]
  },
  {
   "cell_type": "code",
   "execution_count": null,
   "id": "74cd8b72",
   "metadata": {},
   "outputs": [],
   "source": [
    "# Iris para probar las Key Assumptions\n",
    "dataI = sns.load_dataset('iris')\n",
    "\n",
    "# Grasa de Cerdos\n",
    "dataC = pd.read_excel('Data/grasacerdos.xlsx', index_col='Obs') # Cargamos el Dataset\n",
    "dataC = dataC.replace(to_replace=',', value='.', regex=True) # Reemplazo , por .\n",
    "dataC = dataC.astype('float') # Transformo en float\n",
    "\n",
    "# Damascos\n",
    "# dataD = pd.read_csv('Data/Damascos.csv', index_col='VARIEDAD') # Incompleto\n",
    "\n",
    "# Dataset para Regresion Lineal\n",
    "dataP = pd.read_excel('Data/peso_edad_colest.xlsx')\n",
    "\n",
    "# Modelo Lineal para ejemplos (se en detalle ma abajo)\n",
    "dataP = sm.add_constant(dataP)\n",
    "model_colest = smf.ols('colest ~ edad', data=dataP).fit()\n",
    "\n",
    "# Modelo para Box-Cox usando dataset de cars\n",
    "dataCars = pd.read_csv('Data/cars.csv')\n",
    "model_cars = smf.ols('dist ~ speed', data=dataCars).fit()"
   ]
  },
  {
   "cell_type": "markdown",
   "id": "e46a9390",
   "metadata": {},
   "source": [
    "# Ejemplos vistos en clases"
   ]
  },
  {
   "cell_type": "markdown",
   "id": "90760f98",
   "metadata": {},
   "source": [
    "## Clase #1 (30/06/23)"
   ]
  },
  {
   "cell_type": "code",
   "execution_count": null,
   "id": "dcec4cb4",
   "metadata": {
    "scrolled": true
   },
   "outputs": [],
   "source": [
    "# Cargamos IMCInfantil\n",
    "data = pd.read_excel('Data/IMCInfantil.xlsx')\n",
    "data.head()"
   ]
  },
  {
   "cell_type": "code",
   "execution_count": null,
   "id": "49cafdb3",
   "metadata": {
    "scrolled": true
   },
   "outputs": [],
   "source": [
    "# PairPlot para ver las relacioes a ojo\n",
    "sns.pairplot(data[['EDAD', 'PESO', 'TALLA', 'IMC', 'CC']])\n",
    "plt.show()"
   ]
  },
  {
   "cell_type": "code",
   "execution_count": null,
   "id": "ba0f3cb7",
   "metadata": {
    "scrolled": true
   },
   "outputs": [],
   "source": [
    "# BoxPlot de CC, filtrando por CatPeso\n",
    "sns.boxplot(data=data, y='CC', x='CatPeso', order=['D', 'N', 'SO', 'OB'])\n",
    "plt.show()"
   ]
  },
  {
   "cell_type": "code",
   "execution_count": null,
   "id": "f3c0fb0e",
   "metadata": {},
   "outputs": [],
   "source": [
    "# Verificamos Normalidad mirando el Histograma\n",
    "sns.histplot(data=data, x='PESO') # Usando Seaborn\n",
    "\n",
    "# Alternativas de ploteo usando Matplotlib\n",
    "# data['PESO'].plot(kind='hist')\n",
    "# plt.hist(x=data['PESO'])\n",
    "\n",
    "plt.show()"
   ]
  },
  {
   "cell_type": "code",
   "execution_count": null,
   "id": "7423b419",
   "metadata": {
    "scrolled": false
   },
   "outputs": [],
   "source": [
    "# Verificamos la normalidad usando un QQ Plot\n",
    "st.probplot(data['PESO'], plot=plt)\n",
    "st.probplot(data['CC'], plot=plt)\n",
    "plt.show()"
   ]
  },
  {
   "cell_type": "code",
   "execution_count": null,
   "id": "d01e9728",
   "metadata": {},
   "outputs": [],
   "source": [
    "# Verificamos normalidad usando Shapiro test\n",
    "print('Peso:', st.shapiro(data['PESO']))\n",
    "print('CC:', st.shapiro(data['CC']))"
   ]
  },
  {
   "cell_type": "code",
   "execution_count": null,
   "id": "74f1d872",
   "metadata": {
    "scrolled": true
   },
   "outputs": [],
   "source": [
    "# Normalidad bivariada usando HZ test\n",
    "pg.multivariate_normality(data[['PESO', 'CC']])"
   ]
  },
  {
   "cell_type": "code",
   "execution_count": null,
   "id": "e14635db",
   "metadata": {
    "scrolled": true
   },
   "outputs": [],
   "source": [
    "# Correlacion segun metodo Pearson\n",
    "display(pg.corr(data.PESO, data.CC))\n",
    "\n",
    "# Como el suspuesto de normalidad bivariada no es cumplido, usamos Spearman\n",
    "display(pg.corr(data.PESO, data.CC, method='spearman'))\n",
    "\n",
    "# Indice de correlacion\n",
    "print('R2:', data['CC'].corr(data['PESO']))"
   ]
  },
  {
   "cell_type": "code",
   "execution_count": null,
   "id": "f5b2e885",
   "metadata": {},
   "outputs": [],
   "source": [
    "# Matriz de Correlacion sencilla\n",
    "data.corr()"
   ]
  },
  {
   "cell_type": "code",
   "execution_count": null,
   "id": "140a5afb",
   "metadata": {
    "scrolled": true
   },
   "outputs": [],
   "source": [
    "# Misma matriz de correlacion, pero mas facil de leer\n",
    "f, ax = plt.subplots(figsize=(12, 9)) # Para ver el HeatMap completo\n",
    "sns.heatmap(data.corr(),annot=True,cmap='RdYlGn',linewidths=0.2,annot_kws={'size':8}, vmin=-1, vmax=1)\n",
    "plt.show()"
   ]
  },
  {
   "cell_type": "code",
   "execution_count": null,
   "id": "523c28a5",
   "metadata": {
    "scrolled": true
   },
   "outputs": [],
   "source": [
    "# Cambiamos al Dataset de Gorriones\n",
    "dataG = pd.read_excel('Data/gorriones.xlsx', index_col='pajaro')\n",
    "data=dataG\n",
    "\n",
    "# Renombramos las variables\n",
    "data.rename(columns=\n",
    "            {'largototal':'Largo', 'extension ':'Alas', 'cabeza':'Cabeza', \n",
    "             'humero':'Pata', 'esternon':'Cuerpo', 'sobrevida ':'Target'}, \n",
    "            inplace=True)\n",
    "data.head()"
   ]
  },
  {
   "cell_type": "code",
   "execution_count": null,
   "id": "6b6403cf",
   "metadata": {
    "scrolled": true
   },
   "outputs": [],
   "source": [
    "# Verificacion visual de relaciones, Pairplot\n",
    "sns.pairplot(data)\n",
    "plt.show()"
   ]
  },
  {
   "cell_type": "code",
   "execution_count": null,
   "id": "5d47a4a2",
   "metadata": {
    "scrolled": true
   },
   "outputs": [],
   "source": [
    "# Verificacion de correlaciones\n",
    "sns.heatmap(data.corr(), cmap='RdYlGn', vmin=-1, vmax=1, annot=True)\n",
    "plt.show()"
   ]
  },
  {
   "cell_type": "code",
   "execution_count": null,
   "id": "b28334f8",
   "metadata": {
    "scrolled": false
   },
   "outputs": [],
   "source": [
    "# Tests de Normalidad\n",
    "print('Cabeza:', st.shapiro(data['Cabeza']))\n",
    "print('Alas:', st.shapiro(data['Alas']))\n",
    "print('Multivariate:', pg.multivariate_normality(data[['Cabeza', 'Alas']]))"
   ]
  },
  {
   "cell_type": "code",
   "execution_count": null,
   "id": "30e9135a",
   "metadata": {
    "scrolled": true
   },
   "outputs": [],
   "source": [
    "# Correlacion entre dos variables\n",
    "pg.corr(data['Cabeza'], data['Alas'])"
   ]
  },
  {
   "cell_type": "code",
   "execution_count": null,
   "id": "0ccf6e9d",
   "metadata": {},
   "outputs": [],
   "source": [
    "# Modelo Regresion Lineal con Scikit-Learn (approach mas \"pragmatico\")\n",
    "from sklearn.linear_model import LinearRegression\n",
    "X = data[['Alas', 'Cabeza', 'Pata', 'Cuerpo']] # el Input tiene que estar en 2d, por eso los dobles corchetes\n",
    "y = data['Largo']\n",
    "\n",
    "model = LinearRegression().fit(X, y)\n",
    "\n",
    "print('R2:', model.score(X, y))\n",
    "print('Coef:', model.coef_)\n",
    "print('Intercepto:', model.intercept_)"
   ]
  },
  {
   "cell_type": "markdown",
   "id": "775229d8",
   "metadata": {},
   "source": [
    "#### Modelamos con Statsmodel"
   ]
  },
  {
   "cell_type": "code",
   "execution_count": null,
   "id": "8f30dff6",
   "metadata": {},
   "outputs": [],
   "source": [
    "# Probando Statsmodel\n",
    "import statsmodels.formula.api as smf\n",
    "import statsmodels.tools.tools as smt\n",
    "\n",
    "# Creamos el modelo usando Formula en lugar de Arrays\n",
    "data = smt.add_constant(data)\n",
    "model_gorr = smf.ols(formula = 'Largo ~ Alas + Cabeza + Pata + Cuerpo', data=data).fit()\n",
    "\n",
    "print(model_gorr.summary())"
   ]
  },
  {
   "cell_type": "markdown",
   "id": "7bc330d7",
   "metadata": {},
   "source": [
    "#### Test de Wald pendiente"
   ]
  },
  {
   "cell_type": "code",
   "execution_count": null,
   "id": "360ecd7a",
   "metadata": {
    "scrolled": true
   },
   "outputs": [],
   "source": [
    "# Test de Wald para verificar la significatividad de las variables.H0 indica que no aporta\n",
    "\n",
    "print('Extension:', model_gorr.wald_test('(Alas  = 0)', use_f=False ))\n",
    "print('Cabeza:', model_gorr.wald_test('(Cabeza = 0)', use_f=False))\n",
    "print('Humero:', model_gorr.wald_test('(Pata = 0)', use_f=False))\n",
    "print('Esternon:', model_gorr.wald_test('(Cuerpo = 0)', use_f=False))\n",
    "\n",
    "# No funciona como en R"
   ]
  },
  {
   "cell_type": "markdown",
   "id": "b236f452",
   "metadata": {},
   "source": [
    "## Clase #2 (06/06/23)"
   ]
  },
  {
   "cell_type": "code",
   "execution_count": null,
   "id": "41730dd7",
   "metadata": {},
   "outputs": [],
   "source": [
    "# Cambiamos al Dataset de Gorriones\n",
    "data = pd.read_excel('Data/gorriones.xlsx', index_col='pajaro')\n",
    "\n",
    "# Renombramos las variables\n",
    "data.rename(columns=\n",
    "            {'largototal':'Largo', 'extension ':'Alas', 'cabeza':'Cabeza', \n",
    "             'humero':'Pata', 'esternon':'Cuerpo', 'sobrevida ':'Target'}, \n",
    "            inplace=True)\n",
    "data.head()"
   ]
  },
  {
   "cell_type": "code",
   "execution_count": null,
   "id": "a5741378",
   "metadata": {
    "scrolled": true
   },
   "outputs": [],
   "source": [
    "# Probando Statsmodel\n",
    "import statsmodels.formula.api as smf\n",
    "import statsmodels.tools.tools as smt\n",
    "\n",
    "# Creamos el modelo usando Formula en lugar de Arrays\n",
    "data = smt.add_constant(data)\n",
    "model = smf.ols(formula = 'Largo ~ Alas + Cabeza + Pata + Cuerpo', data=data).fit()\n",
    "residuos = model.resid\n",
    "\n",
    "print(model.summary())"
   ]
  },
  {
   "cell_type": "code",
   "execution_count": null,
   "id": "4eb1b8f5",
   "metadata": {
    "scrolled": true
   },
   "outputs": [],
   "source": [
    "# Normalidad de residuos - Analitico\n",
    "display(pg.normality(residuos)) # Shapiro\n",
    "print('Andrson-Darling:', sm.stats.diagnostic.normal_ad(residuos)) # Andrson-Darling\n",
    "\n",
    "# Normalidad de residuos - Grafico\n",
    "pg.qqplot(residuos)\n",
    "plt.show()"
   ]
  },
  {
   "cell_type": "code",
   "execution_count": null,
   "id": "b801e3ed",
   "metadata": {
    "scrolled": true
   },
   "outputs": [],
   "source": [
    "# Independencia de Residuos Analitico - Durbin-Watson Test\n",
    "print('Durbin-Watson:', sm.stats.stattools.durbin_watson(residuos)) # ~2: Ind, ~0: Neg, ~4: Pos\n",
    "\n",
    "# Analisis Grafico\n",
    "plt.scatter(residuos.index, residuos.values)\n",
    "plt.xlabel('Index')\n",
    "plt.ylabel('Residuo')\n",
    "plt.title('Independencia de Residuos')\n",
    "plt.axhline(color='grey', linestyle='dashed', alpha=0.5)\n",
    "plt.show()\n",
    "# No se observa ninguna estructura"
   ]
  },
  {
   "cell_type": "code",
   "execution_count": null,
   "id": "a85df603",
   "metadata": {
    "scrolled": false
   },
   "outputs": [],
   "source": [
    "# Homosedasticidad de Residuos Analitico - Breusch-Pagan Test\n",
    "print('p-value:', sm.stats.diagnostic.het_breuschpagan(residuos, X)[1])\n",
    "\n",
    "# Grafico\n",
    "plt.scatter(model_gorr.predict(), residuos)\n",
    "plt.xlabel('Predicciones')\n",
    "plt.ylabel('Residuos')\n",
    "plt.axhline(color='grey', linestyle='dashed', alpha=0.5)\n",
    "plt.title('Homosedasticidad')\n",
    "plt.show()"
   ]
  },
  {
   "cell_type": "code",
   "execution_count": null,
   "id": "2d55bbe8",
   "metadata": {
    "scrolled": false
   },
   "outputs": [],
   "source": [
    "# Linear Regresion with Pingouin\n",
    "pg_results = pg.linear_regression(X=X, y=y, as_dataframe=True)\n",
    "display(pg_results)"
   ]
  },
  {
   "cell_type": "code",
   "execution_count": null,
   "id": "20f44e12",
   "metadata": {},
   "outputs": [],
   "source": [
    "# Deteccion de Outliers y valores Influyentes\n",
    "\n",
    "# Bonferroni\n",
    "# Leverage\n",
    "# Distancia de Cook\n",
    "# DFFITS"
   ]
  },
  {
   "cell_type": "code",
   "execution_count": null,
   "id": "9af39b10",
   "metadata": {
    "scrolled": true
   },
   "outputs": [],
   "source": [
    "# Cargamos la base de Madera\n",
    "data = pd.read_csv('Data/madera.csv')\n",
    "data.drop(columns='Unnamed: 0', inplace=True)\n",
    "data.head()\n",
    "\n",
    "# los datos no son los mismos que el ejemplo de la clase"
   ]
  },
  {
   "cell_type": "code",
   "execution_count": null,
   "id": "08b38e7a",
   "metadata": {
    "scrolled": false
   },
   "outputs": [],
   "source": [
    "# Modelo Lineal\n",
    "import statsmodels.formula.api as smf\n",
    "\n",
    "# Creamos el modelo usando Formula en lugar de Arrays\n",
    "data = smt.add_constant(data)\n",
    "model = smf.ols(formula = 'resist ~ madera', data=data).fit()\n",
    "residuos = model.resid\n",
    "\n",
    "print(model.summary())"
   ]
  },
  {
   "cell_type": "code",
   "execution_count": null,
   "id": "e3f2470b",
   "metadata": {
    "scrolled": true
   },
   "outputs": [],
   "source": [
    "# Verificamos la no-linealidad en la relacion\n",
    "sns.regplot(data=data, x='madera', y='resist')\n",
    "plt.show()"
   ]
  },
  {
   "cell_type": "code",
   "execution_count": null,
   "id": "5bdf4903",
   "metadata": {
    "scrolled": false
   },
   "outputs": [],
   "source": [
    "# verificamos los residuos\n",
    "display(pg.normality(residuos))\n",
    "\n",
    "# Independeica\n",
    "print('Independencia p-value:', sm.stats.stattools.durbin_watson(residuos))\n",
    "\n",
    "# Homosedasticidad\n",
    "print('Homosedasticidad p-value:', sm.stats.het_breuschpagan(residuos, data)[1])\n",
    "\n",
    "# Independencia Grafica\n",
    "pg.qqplot(residuos)\n",
    "plt.show()"
   ]
  },
  {
   "cell_type": "code",
   "execution_count": null,
   "id": "c32b203c",
   "metadata": {
    "scrolled": true
   },
   "outputs": [],
   "source": [
    "# Volvemos al Dataset de Gorriones con todas las variables\n",
    "data = dataG\n",
    "print(model_gorr.summary())"
   ]
  },
  {
   "cell_type": "code",
   "execution_count": null,
   "id": "cb001efe",
   "metadata": {},
   "outputs": [],
   "source": [
    "# Creamos un modelo solo con Largo ~ Alas\n",
    "model_gorr_Alas = smf.ols(formula='Largo ~ Alas', data=data).fit()\n",
    "\n",
    "print(model_gorr_Alas.summary())"
   ]
  },
  {
   "cell_type": "code",
   "execution_count": null,
   "id": "eded9d0b",
   "metadata": {
    "scrolled": true
   },
   "outputs": [],
   "source": [
    "# Recta de Regresion\n",
    "sns.regplot(data=data, x='Alas', y='Largo')\n",
    "plt.show()"
   ]
  },
  {
   "cell_type": "code",
   "execution_count": null,
   "id": "d19aba42",
   "metadata": {
    "scrolled": false
   },
   "outputs": [],
   "source": [
    "# Creamos una Serie de nuevos valores random para Alas y predecimos\n",
    "import random\n",
    "data_alas_new = pd.Series([random.uniform(data.Alas.min(), data.Alas.max()) for _ in range(len(data))], name='Alas').sort_values().reset_index()\n",
    "\n",
    "# Guardamos las predicciones utilizando el modelo existente\n",
    "pred_alas = pd.Series(model_gorr_Alas.predict(data_alas_new), name='Pred')\n",
    "\n",
    "# Calcuamos una prediccion puntual para Alas de 280cm (ojo, fuera del dominio de estudio)\n",
    "print('Prediccion para Alas = 280:\\n', model_gorr_Alas.predict(pd.Series(280, name='Alas')))\n",
    "\n",
    "# Calculamos el IC de las predicciones\n",
    "pred_alas_IC_array = model_gorr_Alas.get_prediction(data_alas_new).conf_int()\n",
    "\n",
    "# Le damos forma de DataFrame\n",
    "pred_alas_IC = pd.DataFrame(pred_alas_IC_array).rename(columns={0:'Min', 1:'Low'})\n",
    "\n",
    "# Mostramos\n",
    "display(pred_alas.to_frame().head())\n",
    "display(pred_alas_IC.head())"
   ]
  },
  {
   "cell_type": "code",
   "execution_count": null,
   "id": "04e0d02f",
   "metadata": {
    "scrolled": true
   },
   "outputs": [],
   "source": [
    "# Analisis de Diagnostico modelo completo (model_gorr)\n",
    "st.probplot(model_gorr.resid, plot=plt)\n",
    "plt.show()\n",
    "\n",
    "print('Normality:', st.shapiro(model_gorr.resid))"
   ]
  },
  {
   "cell_type": "code",
   "execution_count": null,
   "id": "be91ef12",
   "metadata": {
    "scrolled": false
   },
   "outputs": [],
   "source": [
    "# Homocedasticidad\n",
    "\n",
    "print('Breusch-Pagan p-value:', sm.stats.diagnostic.het_breuschpagan(model_gorr.resid, data))\n",
    "plt.scatter(x=model_gorr.predict(), y=model_gorr.resid)\n",
    "plt.xlabel( 'Prediccion')\n",
    "plt.ylabel('Residuo')\n",
    "plt.title('Distribucion de Residuos')\n",
    "plt.axhline(color='grey', linestyle='dashed', alpha=0.5)\n",
    "plt.show()"
   ]
  },
  {
   "cell_type": "code",
   "execution_count": null,
   "id": "1433c02b",
   "metadata": {
    "scrolled": true
   },
   "outputs": [],
   "source": [
    "# No se observa estructura\n",
    "plt.scatter(x=data.index, y=model_gorr.resid)\n",
    "plt.xlabel( 'Index')\n",
    "plt.ylabel('Residuo')\n",
    "plt.title('Correlacion de Residuos')\n",
    "plt.axhline(color='grey', linestyle='dashed', alpha=0.5)\n",
    "plt.show()\n",
    "\n",
    "# Durbin-Watson Test: 2=No Correlacion (Independecia?)| 0=Correlacion Pos | 4=Correlacion Neg\n",
    "print('Durbin-Watson:', sm.stats.stattools.durbin_watson(resids=model_gorr.resid)) # Sin validacion Estadistica"
   ]
  },
  {
   "cell_type": "markdown",
   "id": "79e7224f",
   "metadata": {},
   "source": [
    "### Transformacion de Variables"
   ]
  },
  {
   "cell_type": "code",
   "execution_count": null,
   "id": "b931901b",
   "metadata": {
    "scrolled": false
   },
   "outputs": [],
   "source": [
    "data = pd.read_csv('Data/cars.csv')\n",
    "y = data['dist']\n",
    "data.head()"
   ]
  },
  {
   "cell_type": "code",
   "execution_count": null,
   "id": "65817fdb",
   "metadata": {},
   "outputs": [],
   "source": [
    "# Modelo Cars\n",
    "data = sm.add_constant(data)\n",
    "\n",
    "model_cars = smf.ols('dist ~ speed', data=data).fit()\n",
    "print(model_cars.summary())\n",
    "\n",
    "# Normalidad de residuos\n",
    "print(pg.normality(model_cars.resid))"
   ]
  },
  {
   "cell_type": "code",
   "execution_count": null,
   "id": "e1558b66",
   "metadata": {},
   "outputs": [],
   "source": [
    "pg.qqplot(model_cars.resid)\n",
    "plt.show()"
   ]
  },
  {
   "cell_type": "code",
   "execution_count": null,
   "id": "7bf2d2a0",
   "metadata": {
    "scrolled": true
   },
   "outputs": [],
   "source": [
    "maxlog = st.boxcox(y)[1]\n",
    "st.boxcox_normplot(y, -2, 2, plt)\n",
    "plt.axvline(maxlog)\n",
    "plt.show()"
   ]
  },
  {
   "cell_type": "code",
   "execution_count": null,
   "id": "0e1b578b",
   "metadata": {},
   "outputs": [],
   "source": [
    "y_trans = pd.Series(y**maxlog, name='dist_trans')"
   ]
  },
  {
   "cell_type": "code",
   "execution_count": null,
   "id": "91fdc4cb",
   "metadata": {
    "scrolled": true
   },
   "outputs": [],
   "source": [
    "data = pd.concat([data, y_trans], axis=1)\n",
    "data = sm.add_constant(data)\n",
    "data.head()"
   ]
  },
  {
   "cell_type": "code",
   "execution_count": null,
   "id": "b4088bf2",
   "metadata": {
    "scrolled": true
   },
   "outputs": [],
   "source": [
    "model_cars_transformed = smf.ols('dist_trans ~ speed', data=data).fit()\n",
    "\n",
    "print(model_cars_transformed.summary())"
   ]
  },
  {
   "cell_type": "code",
   "execution_count": null,
   "id": "bef4da7c",
   "metadata": {},
   "outputs": [],
   "source": [
    "print(pg.normality(model_cars_transformed.resid))\n",
    "pg.qqplot(model_cars_transformed.resid)\n",
    "plt.show()"
   ]
  },
  {
   "cell_type": "code",
   "execution_count": null,
   "id": "b0602070",
   "metadata": {},
   "outputs": [],
   "source": [
    "model_cars_transformed.get_prediction(data)\n"
   ]
  },
  {
   "cell_type": "code",
   "execution_count": null,
   "id": "a0e3e92c",
   "metadata": {
    "scrolled": true
   },
   "outputs": [],
   "source": [
    "# Cargamos el Dataset de University\n",
    "dataU = pd.read_csv('Data/University.csv')\n",
    "data = dataU[['nassets', 'stfees']]\n",
    "y = data['nassets']\n",
    "data.head()\n",
    "\n",
    "# nassets: Activos netos de la Universidad | stfees: Cuotas de los estudiantes"
   ]
  },
  {
   "cell_type": "code",
   "execution_count": null,
   "id": "70864ebc",
   "metadata": {
    "scrolled": true
   },
   "outputs": [],
   "source": [
    "model_univ = smf.ols('nassets ~ stfees', data=data).fit()\n",
    "print(model_univ.summary())"
   ]
  },
  {
   "cell_type": "code",
   "execution_count": null,
   "id": "ee2f2db0",
   "metadata": {
    "scrolled": false
   },
   "outputs": [],
   "source": [
    "y = data['nassets']\n",
    "\n",
    "y_transformed, maxlog, (min_ci, max_ci) = st.boxcox(x=y, alpha=.05)\n",
    "st.boxcox_normplot(y, -2, 2, plt)\n",
    "plt.axvline(maxlog)\n",
    "plt.show()"
   ]
  },
  {
   "cell_type": "code",
   "execution_count": null,
   "id": "8fc769f8",
   "metadata": {},
   "outputs": [],
   "source": [
    "nassets_trans = pd.Series(np.log10(data['nassets']),name='nassets_trans')"
   ]
  },
  {
   "cell_type": "code",
   "execution_count": null,
   "id": "d63728af",
   "metadata": {
    "scrolled": true
   },
   "outputs": [],
   "source": [
    "data = pd.concat([data, nassets_trans], axis=1)\n",
    "data.head()"
   ]
  },
  {
   "cell_type": "code",
   "execution_count": null,
   "id": "6eb6d917",
   "metadata": {
    "scrolled": true
   },
   "outputs": [],
   "source": [
    "model_univ_trans = smf.ols('nassets_trans ~ stfees', data=data).fit()\n",
    "print(model_univ_trans.summary())"
   ]
  },
  {
   "cell_type": "code",
   "execution_count": null,
   "id": "66f881fc",
   "metadata": {},
   "outputs": [],
   "source": [
    "print(st.shapiro(model_univ_trans.resid))"
   ]
  }
 ],
 "metadata": {
  "kernelspec": {
   "display_name": "Python 3 (ipykernel)",
   "language": "python",
   "name": "python3"
  },
  "language_info": {
   "codemirror_mode": {
    "name": "ipython",
    "version": 3
   },
   "file_extension": ".py",
   "mimetype": "text/x-python",
   "name": "python",
   "nbconvert_exporter": "python",
   "pygments_lexer": "ipython3",
   "version": "3.10.9"
  }
 },
 "nbformat": 4,
 "nbformat_minor": 5
}
