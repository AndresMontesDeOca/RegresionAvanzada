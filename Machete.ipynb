{
  "cells": [
    {
      "cell_type": "markdown",
      "metadata": {
        "id": "view-in-github",
        "colab_type": "text"
      },
      "source": [
        "<a href=\"https://colab.research.google.com/github/AndresMontesDeOca/RegresionAvanzada/blob/main/Machete.ipynb\" target=\"_parent\"><img src=\"https://colab.research.google.com/assets/colab-badge.svg\" alt=\"Open In Colab\"/></a>"
      ]
    },
    {
      "cell_type": "markdown",
      "id": "eda0864a",
      "metadata": {
        "id": "eda0864a"
      },
      "source": [
        "# MACHETE"
      ]
    },
    {
      "cell_type": "markdown",
      "source": [
        "#### Logbook"
      ],
      "metadata": {
        "id": "ZrfIpM4oo-bq"
      },
      "id": "ZrfIpM4oo-bq"
    },
    {
      "cell_type": "code",
      "source": [
        "# 31/05/23 -> Creacion de la Notebook\n",
        "# 31/05/23 -> 1, 2, 3, 4, 5\n",
        "# 06/06/23 -> 6 - Correlacion de Residuos\n",
        "# 17/06/23 -> 7 - Transfomraciones Box Clox\n",
        "# 19/06/23 -> Migrated to Google Colab\n",
        "# 20/06/23 -> R Magic"
      ],
      "metadata": {
        "id": "HO1BXrWJo83M"
      },
      "id": "HO1BXrWJo83M",
      "execution_count": null,
      "outputs": []
    },
    {
      "cell_type": "code",
      "execution_count": null,
      "id": "bbf8c17a",
      "metadata": {
        "id": "bbf8c17a"
      },
      "outputs": [],
      "source": [
        "\n",
        "\n",
        "# Autor: Andres Montes de Oca\n",
        "\n",
        "# Instalacion de Paquetes\n",
        "!pip install pingouin # No incluido en Google Colab\n",
        "# !pip install scipy\n",
        "# !pip install statsmodels\n",
        "\n",
        "\n",
        "# Cargamos Librerias y Datos\n",
        "import numpy as np\n",
        "import pandas as pd\n",
        "import matplotlib.pyplot as plt\n",
        "import seaborn as sns\n",
        "import pingouin as pg\n",
        "from scipy import stats as st\n",
        "import statsmodels.api as sm\n",
        "import statsmodels.formula.api as smf\n",
        "import statsmodels.tools.tools as smt\n",
        "\n",
        "# Ignorar Warnings\n",
        "import warnings\n",
        "warnings.filterwarnings('ignore')\n",
        "\n",
        "# Asthetics\n",
        "sns.set(style='ticks', context='notebook', palette='colorblind', font_scale=1, color_codes=True)"
      ]
    },
    {
      "cell_type": "markdown",
      "id": "bf6ec746",
      "metadata": {
        "id": "bf6ec746"
      },
      "source": [
        "## R Magic in Google Colab"
      ]
    },
    {
      "cell_type": "code",
      "execution_count": null,
      "id": "436c2819",
      "metadata": {
        "id": "436c2819"
      },
      "outputs": [],
      "source": [
        "# Version rpy2 que no tiene problemas de compatibilidad\n",
        "!pip install rpy2==3.5.1\n",
        "\n",
        "# activate R magic\n",
        "%load_ext rpy2.ipython\n",
        "\n",
        "# Import rpy2 for dataframe conversion\n",
        "import rpy2.robjects as ro\n",
        "from rpy2.robjects.packages import importr\n",
        "from rpy2.robjects import pandas2ri\n",
        "from rpy2.robjects.conversion import localconverter\n",
        "from rpy2.robjects import globalenv\n",
        "\n",
        "\n",
        "# ###### Pandas DataFrames and Series conversion ########\n",
        "# # Cargamos un DataSet cualquira en Python, para que no de error\n",
        "# data_P = sns.load_dataset('iris')\n",
        "# Serie = data_P['petal_length']\n",
        "\n",
        "# # Convert the Python DataFrame to the R dataframe\n",
        "# %R -i data_P\n",
        "\n",
        "# with localconverter(ro.default_converter + pandas2ri.converter):\n",
        "#   data_R = ro.conversion.py2rpy(data_P)\n",
        "# # Create a variable name in R's Global Environment\n",
        "# globalenv['data_R'] = data_R\n",
        "\n",
        "# # Convert Python Series to R vectors\n",
        "# vec_float_R = ro.vectors.FloatVector(Serie)\n",
        "# # vec_int_R = ro.vectors.IntVector(Serie)\n",
        "# # vec_str_R = ro.vectors.StrVector(Serie)\n",
        "# globalenv['vec_float_R'] = vec_float_R\n",
        "\n",
        "# # Convert R datadrame/vector to Python DataFrame/Vector\n",
        "# %R -o data_R\n",
        "\n",
        "# with localconverter(ro.default_converter + pandas2ri.converter):\n",
        "#   data_P = ro.conversion.rpy2py(data_R)\n",
        "\n",
        "# # Importar R-Functions a Python como Objetos(sin uso)\n",
        "# shapiro_test = ro.r('shapiro.test')\n",
        "# result = shapiro_test(vec_float_R)"
      ]
    },
    {
      "cell_type": "markdown",
      "source": [
        "#### Instalaciones Individuales en Bash"
      ],
      "metadata": {
        "id": "KfM50m-wCz4b"
      },
      "id": "KfM50m-wCz4b"
    },
    {
      "cell_type": "code",
      "source": [
        "# system(sudo apt install libgsl-dev)"
      ],
      "metadata": {
        "id": "pZI0hXx4DbdA"
      },
      "execution_count": null,
      "outputs": [],
      "id": "pZI0hXx4DbdA"
    },
    {
      "cell_type": "markdown",
      "source": [
        "#### Instalacion de Librerias para R en Google Colab"
      ],
      "metadata": {
        "id": "RWsE_ORpdjnL"
      },
      "id": "RWsE_ORpdjnL"
    },
    {
      "cell_type": "code",
      "source": [
        "# %%R\n",
        "\n",
        "# # MVN Henze-Zirkler Test\n",
        "# # system(sudo apt install libgsl-dev)\n",
        "# install.packages('MVN')\n",
        "# print(system.file(package='MVN')) # Installed Successfully"
      ],
      "metadata": {
        "id": "8ufTcCWTEAvQ"
      },
      "id": "8ufTcCWTEAvQ",
      "execution_count": null,
      "outputs": []
    },
    {
      "cell_type": "markdown",
      "id": "b00fc712",
      "metadata": {
        "id": "b00fc712"
      },
      "source": [
        "## Cargas de Datasets from Google Drive"
      ]
    },
    {
      "cell_type": "code",
      "execution_count": null,
      "id": "74cd8b72",
      "metadata": {
        "id": "74cd8b72"
      },
      "outputs": [],
      "source": [
        "# Code to read csv file into Colaboratory:\n",
        "!pip install -U -q PyDrive\n",
        "from pydrive.auth import GoogleAuth\n",
        "from pydrive.drive import GoogleDrive\n",
        "from google.colab import auth\n",
        "from oauth2client.client import GoogleCredentials\n",
        "\n",
        "# Authenticate and create the PyDrive client.\n",
        "auth.authenticate_user()\n",
        "gauth = GoogleAuth()\n",
        "gauth.credentials = GoogleCredentials.get_application_default()\n",
        "drive = GoogleDrive(gauth)\n",
        "\n",
        "\n",
        "################################# Datasets ###################################\n",
        "# Grasa de Cerdos\n",
        "id = '153lGVzdixcHT-keKg8qmvaoWdPHg6_tB'\n",
        "downloaded = drive.CreateFile({'id':id})\n",
        "downloaded.GetContentFile('grasacerdos.xlsx')\n",
        "dataG = pd.read_excel('grasacerdos.xlsx', index_col='Obs') # Cargamos el Dataset\n",
        "dataG = dataG.replace(to_replace=',', value='.', regex=True) # Reemplazo , por .\n",
        "dataG = dataG.astype('float') # Transformo en float\n",
        "\n",
        "######################################################\n",
        "# Peso, Edad, Colesterol\n",
        "id = '17Dv1WcWlc9ojWa6bnSfD7TCRaVKCKqj0'\n",
        "downloaded = drive.CreateFile({'id':id})\n",
        "downloaded.GetContentFile('peso_edad_colest.xlsx')\n",
        "dataP = pd.read_excel('peso_edad_colest.xlsx')\n",
        "%R -i dataP\n",
        "\n",
        "# # Convert the Python DataFrame to the R dataframe\n",
        "# with localconverter(ro.default_converter + pandas2ri.converter):\n",
        "#   dataP_R = ro.conversion.py2rpy(dataP)\n",
        "# # Create a variable name in R's Global Environment\n",
        "# globalenv['dataP_R'] = dataP_R\n",
        "######################################################\n",
        "# Cars con Modelo Lineal\n",
        "id = '15pf-6P4Ek2rp6mYmfOybHRqAxqOoTp6i'\n",
        "downloaded = drive.CreateFile({'id':id})\n",
        "downloaded.GetContentFile('cars.csv')\n",
        "dataC = pd.read_csv('cars.csv')\n",
        "model_cars = smf.ols('dist ~ speed', data=dataC).fit()\n",
        "\n",
        "######################################################\n",
        "# University\n",
        "id = '16kLQNXhyweAi38xR2IeQCCagVcU725UZ'\n",
        "downloaded = drive.CreateFile({'id':id})\n",
        "downloaded.GetContentFile('University.csv')\n",
        "dataU = pd.read_csv('University.csv')\n",
        "\n",
        "######################################################\n",
        "# Iris(Python)\n",
        "dataI = sns.load_dataset('iris')\n",
        "\n",
        "# # Iris(R) -> DataFrame to dataframe\n",
        "# with localconverter(ro.default_converter + pandas2ri.converter):\n",
        "#   dataI_R = ro.conversion.py2rpy(dataI.drop(columns='species'))\n",
        "# # Create a variable name in R's global environment\n",
        "# globalenv['dataI_R'] = dataI_R\n",
        "%R -i dataI\n",
        "\n",
        "# # Serie to Vector\n",
        "# x_R = ro.FloatVector(dataI['petal_length'])\n",
        "# w_R = ro.FloatVector(dataI['petal_width'])\n",
        "# globalenv['x_R'] = x_R\n",
        "# globalenv['w_R'] = w_R"
      ]
    },
    {
      "cell_type": "markdown",
      "id": "cd2f6acc",
      "metadata": {
        "id": "cd2f6acc"
      },
      "source": [
        "### 1) Linear Relationship\n",
        "Relationship between independent var (x) and depedent var (y) is linear"
      ]
    },
    {
      "cell_type": "code",
      "execution_count": null,
      "id": "cf05b562",
      "metadata": {
        "id": "cf05b562"
      },
      "outputs": [],
      "source": [
        "sns.scatterplot(data=dataI, x='petal_length', y='petal_width')\n",
        "plt.show()\n",
        "\n",
        "# Transformmations for making relationships linear. Polynomial or Exponential for any of both"
      ]
    },
    {
      "cell_type": "markdown",
      "id": "52f41bc3",
      "metadata": {
        "id": "52f41bc3"
      },
      "source": [
        "### 2) Multicollonearity\n",
        "Eeach independent variable should be independent from other independent variables"
      ]
    },
    {
      "cell_type": "code",
      "execution_count": null,
      "id": "0f1bbdd2",
      "metadata": {
        "id": "0f1bbdd2"
      },
      "outputs": [],
      "source": [
        "display(pg.corr(dataI['petal_length'], dataI['petal_width'], method='pearson')) # Entre dos varibales, H0 -> Variables Independientes\n",
        "display(pg.corr(dataI['petal_length'], dataI['petal_width'], method='spearman')) # Cuando no se cumplen los supuestos de Pearson\n",
        "display(sns.heatmap(dataI.corr(), vmin=-1, vmax=1, cmap='RdYlGn', annot=True)) # Todos contra todos"
      ]
    },
    {
      "cell_type": "markdown",
      "id": "376e23da",
      "metadata": {
        "id": "376e23da"
      },
      "source": [
        "### 3) Bi-Variate Normality\n",
        "Multivariate Normality in Variables"
      ]
    },
    {
      "cell_type": "markdown",
      "source": [
        "#### Python"
      ],
      "metadata": {
        "id": "XlISc4EcVS7X"
      },
      "id": "XlISc4EcVS7X"
    },
    {
      "cell_type": "code",
      "execution_count": null,
      "id": "01bb3f9d",
      "metadata": {
        "id": "01bb3f9d"
      },
      "outputs": [],
      "source": [
        "# Tests analiticos para Single\n",
        "display(pg.normality(dataI['sepal_width'])) # Shapiro Test(single Var), H0 -> Normal Dist\n",
        "\n",
        "# Otros tests\n",
        "# st.anderson(dataI['sepal_width'], dist='norm') # Anderson-Darling SciPy\n",
        "# st.kstest(dataI['sepal_width'], 'norm')# Kolmogorov-Smirnov SciPy\n",
        "\n",
        "# Test grafico para Single\n",
        "pg.qqplot(dataI['sepal_width']) # QQ Plot\n",
        "plt.show()\n",
        "\n",
        "# Test analitico para Multi\n",
        "print(pg.multivariate_normality(dataI.drop(columns='species'))) # Henze-Zirkler Test, H0 -> Multiv Normal Dist"
      ]
    },
    {
      "cell_type": "code",
      "source": [
        "# %%R\n",
        "\n",
        "# Test Henze-Zirkler Multinormality\n",
        "# library(MVN)\n",
        "# mvn_result <- mvn(dataI, mvnTest = 'hz')\n",
        "# print(mvn_result)"
      ],
      "metadata": {
        "id": "kzPEIGg8SXtk"
      },
      "id": "kzPEIGg8SXtk",
      "execution_count": null,
      "outputs": []
    },
    {
      "cell_type": "markdown",
      "source": [
        "### X) Linear Regression Models"
      ],
      "metadata": {
        "id": "aqpTI97ucr0F"
      },
      "id": "aqpTI97ucr0F"
    },
    {
      "cell_type": "code",
      "source": [
        "# Modelo Lineal para ejemplos\n",
        "dataP = sm.add_constant(dataP)\n",
        "model_colest = smf.ols('colest ~ edad', data=dataP).fit()\n",
        "# print(model_colest.summary())\n",
        "\n",
        "# sns.regplot(data=dataP, x='edad', y='colest')\n",
        "# plt.show()"
      ],
      "metadata": {
        "id": "BRe7V4KrcsGT"
      },
      "id": "BRe7V4KrcsGT",
      "execution_count": null,
      "outputs": []
    },
    {
      "cell_type": "code",
      "source": [
        "%%R\n",
        "\n",
        "model_colest_R = lm('colest ~ edad', data=dataP)\n",
        "# print(summary(model_colest_R))\n",
        "# print(anova(model_colest_R))\n",
        "\n",
        "# Bandas de Prediccion\n",
        "predichos <- predict(object=model_colest_R, interval='prediction', level=0.95)\n",
        "nuevos_datos <- data.frame(predichos, dataP)"
      ],
      "metadata": {
        "id": "zjMAaqKJymke"
      },
      "id": "zjMAaqKJymke",
      "execution_count": null,
      "outputs": []
    },
    {
      "cell_type": "code",
      "source": [
        "from seaborn.relational import scatterplot\n",
        "# Exporto a Python\n",
        "%R -o nuevos_datos\n",
        "\n",
        "# Grafico\n",
        "sns.regplot(data=nuevos_datos, x='edad', y='colest')\n",
        "sns.lineplot(data=nuevos_datos, x='edad', y='lwr', linestyle='--', color='r')\n",
        "sns.lineplot(data=nuevos_datos, x='edad', y='upr', linestyle='--', color='r')\n",
        "plt.show()"
      ],
      "metadata": {
        "id": "AF7xivBX0OQe"
      },
      "id": "AF7xivBX0OQe",
      "execution_count": null,
      "outputs": []
    },
    {
      "cell_type": "markdown",
      "id": "5d4fe44f",
      "metadata": {
        "id": "5d4fe44f"
      },
      "source": [
        "### 4) Residuals Normality With 0 Mean\n",
        "Model residuals should follow a normal distribution, with 0 as mean"
      ]
    },
    {
      "cell_type": "code",
      "execution_count": null,
      "id": "74a6eace",
      "metadata": {
        "id": "74a6eace"
      },
      "outputs": [],
      "source": [
        "# Primero hay que generar el Modelo de Regresion Lineal\n",
        "display(pg.normality(model_colest.resid))\n",
        "print('Mean:', model_colest.resid.mean())\n",
        "\n",
        "# If distribution is not normal, regression results will be biased\n",
        "# and it may highlight that there are outliers or other assumptions being violated"
      ]
    },
    {
      "cell_type": "markdown",
      "id": "6a56b196",
      "metadata": {
        "id": "6a56b196"
      },
      "source": [
        "### 5) Residuals Variance (Homosedasticity)\n",
        "The variance of residual is the same for any value of x"
      ]
    },
    {
      "cell_type": "code",
      "execution_count": null,
      "id": "94129b70",
      "metadata": {
        "id": "94129b70"
      },
      "outputs": [],
      "source": [
        "# Analsis grafico a mano usando Matplotlib\n",
        "plt.scatter(x=model_colest.predict(), y=model_colest.resid)\n",
        "plt.xlabel( 'Prediccion')\n",
        "plt.ylabel('Residuo')\n",
        "plt.title('Distribucion de Residuos')\n",
        "plt.axhline(color='grey', linestyle='dashed', alpha=0.5)\n",
        "plt.show()\n",
        "# No se observa estructura de embudo\n",
        "\n",
        "# Analitico (Breusch-Pagan Test) -> H0: Residuos Homocedasticos\n",
        "BP, p_value, _, _ =sm.stats.het_breuschpagan(model_colest.resid, model_colest.model.exog)\n",
        "print('Estadistico BP y p-value:', BP, p_value)\n",
        "\n",
        "# sns.residplot(data=dataP, x='edad', y='colest', lowess=True) # Pending\n",
        "# Test White, Goldfeld-Quandt  Pending"
      ]
    },
    {
      "cell_type": "markdown",
      "id": "cd5bc19b",
      "metadata": {
        "id": "cd5bc19b"
      },
      "source": [
        "### 6) Correlacion de Residuos\n",
        "Aleatoriedad en el orden de las observacioens"
      ]
    },
    {
      "cell_type": "code",
      "execution_count": null,
      "id": "fb3fbc04",
      "metadata": {
        "id": "fb3fbc04"
      },
      "outputs": [],
      "source": [
        "# Analsis grafico a mano usando Matplotlib\n",
        "plt.scatter(x=dataP.index, y=model_colest.resid)\n",
        "plt.xlabel( 'Index')\n",
        "plt.ylabel('Residuo')\n",
        "plt.title('Correlacion de Residuos')\n",
        "plt.axhline(color='grey', linestyle='dashed', alpha=0.5)\n",
        "plt.show()\n",
        "# No se observa estructura\n",
        "\n",
        "# Durbin-Watson Test: 2=No Correlacion (Independecia?)| 0=Correlacion Pos | 4=Correlacion Neg\n",
        "print('Durbin-Watson:', sm.stats.durbin_watson(model_colest.resid)) # Sin validacion Estadistica"
      ]
    },
    {
      "cell_type": "markdown",
      "id": "3531f964",
      "metadata": {
        "id": "3531f964"
      },
      "source": [
        "## 7) Transformacion Box-Cox (pendiente IC e IP)\n",
        "Cuando los residuos no siguen una distribucion Normal, transformamos la y"
      ]
    },
    {
      "cell_type": "code",
      "execution_count": null,
      "id": "27dc28e2",
      "metadata": {
        "id": "27dc28e2"
      },
      "outputs": [],
      "source": [
        "# Verificamos la Normalidad de los residuos\n",
        "print(st.shapiro(model_cars.resid))\n",
        "data = dataC\n",
        "y = data['dist']\n",
        "\n",
        "# Box-Plot Transformation - Calculo Lambda\n",
        "maxlog = st.boxcox(y)[1]\n",
        "st.boxcox_normplot(y, -2, 2, plt)\n",
        "plt.axvline(maxlog, color='red')\n",
        "plt.show()\n",
        "\n",
        "# Transfomracion: Si Lambda  = 0 -> np.log10(y) | y**Lambda\n",
        "y_trans = pd.Series(y**.5, name='y_trans')\n",
        "# No olvidarse de anti-transformar para los IC(10**predicted)\n",
        "\n",
        "# Generamos el nuevo Dataset con la y transformada\n",
        "data = pd.concat([data, y_trans], axis=1)\n",
        "\n",
        "# Generamos el nuevo modelo con la y_transformada\n",
        "model_cars_trans = smf.ols('y_trans ~ speed', data=data).fit()\n",
        "\n",
        "# Verificamos la nueva normalidad de los residuos\n",
        "print(pg.normality(model_cars_trans.resid))"
      ]
    }
  ],
  "metadata": {
    "kernelspec": {
      "display_name": "Python 3 (ipykernel)",
      "language": "python",
      "name": "python3"
    },
    "language_info": {
      "codemirror_mode": {
        "name": "ipython",
        "version": 3
      },
      "file_extension": ".py",
      "mimetype": "text/x-python",
      "name": "python",
      "nbconvert_exporter": "python",
      "pygments_lexer": "ipython3",
      "version": "3.10.9"
    },
    "colab": {
      "provenance": [],
      "include_colab_link": true
    }
  },
  "nbformat": 4,
  "nbformat_minor": 5
}