{
  "cells": [
    {
      "cell_type": "markdown",
      "metadata": {
        "id": "view-in-github",
        "colab_type": "text"
      },
      "source": [
        "<a href=\"https://colab.research.google.com/github/AndresMontesDeOca/RegresionAvanzada/blob/main/Machete.ipynb\" target=\"_parent\"><img src=\"https://colab.research.google.com/assets/colab-badge.svg\" alt=\"Open In Colab\"/></a>"
      ]
    },
    {
      "cell_type": "markdown",
      "id": "eda0864a",
      "metadata": {
        "id": "eda0864a"
      },
      "source": [
        "# MACHETE"
      ]
    },
    {
      "cell_type": "markdown",
      "source": [
        "#### Logbook"
      ],
      "metadata": {
        "id": "ZrfIpM4oo-bq"
      },
      "id": "ZrfIpM4oo-bq"
    },
    {
      "cell_type": "code",
      "source": [
        "# Autor: Andres Montes de Oca\n",
        "\n",
        "# 31/05/23 -> Creacion de la Notebook\n",
        "# 31/05/23 -> Tests Normalidad, Homocedasticidad Residuos\n",
        "# 06/06/23 -> Test No-autoorrelacion de Residuos\n",
        "# 17/06/23 -> Transfomraciones Box Clox\n",
        "# 19/06/23 -> Migrated to Google Colab\n",
        "# 20/06/23 -> R Magic\n",
        "# 22/06/23 -> Deteccion Outliers e Influyentes\n",
        "# 27/06/23 -> Cuadrados Minimos Ponderados (WLS)\n",
        "# 29/06/23 -> Modelos Robustos\n",
        "# 30/06/23 -> RLM: Seleccion de Variables\n",
        "# 01/07/23 -> Multicolinealidad y Validacion Simple"
      ],
      "metadata": {
        "id": "HO1BXrWJo83M"
      },
      "id": "HO1BXrWJo83M",
      "execution_count": null,
      "outputs": []
    },
    {
      "cell_type": "code",
      "execution_count": null,
      "id": "bbf8c17a",
      "metadata": {
        "id": "bbf8c17a"
      },
      "outputs": [],
      "source": [
        "# Instalacion de Paquetes\n",
        "!pip install pingouin # No incluido en Google Colab\n",
        "# !pip install scipy\n",
        "# !pip install statsmodels\n",
        "\n",
        "# Version rpy2 que no tiene problemas de compatibilidad\n",
        "!pip install rpy2==3.5.1\n",
        "\n",
        "# Cargamos Librerias y Datos\n",
        "import numpy as np\n",
        "import pandas as pd\n",
        "import matplotlib.pyplot as plt\n",
        "import seaborn as sns\n",
        "import pingouin as pg\n",
        "from scipy import stats as st\n",
        "import statsmodels.api as sm\n",
        "import statsmodels.formula.api as smf\n",
        "import statsmodels.tools.tools as smt\n",
        "import math\n",
        "\n",
        "# Ignorar Warnings\n",
        "import warnings\n",
        "warnings.filterwarnings('ignore')\n",
        "\n",
        "# Asthetics\n",
        "sns.set(style='ticks', context='notebook', palette='colorblind', font_scale=1, color_codes=True)\n",
        "\n",
        "# Recursion limit errors with R Magic\n",
        "import sys\n",
        "# sys.setrecursionlimit(50000)\n",
        "\n",
        "# Activamos R magic\n",
        "%load_ext rpy2.ipython"
      ]
    },
    {
      "cell_type": "markdown",
      "id": "bf6ec746",
      "metadata": {
        "id": "bf6ec746"
      },
      "source": [
        "### Libreria rpy2 (Python <==> R)\n",
        "- Usamos R Magic, asi que no las necesitamos"
      ]
    },
    {
      "cell_type": "code",
      "execution_count": null,
      "id": "436c2819",
      "metadata": {
        "id": "436c2819"
      },
      "outputs": [],
      "source": [
        "# # Import rpy2 for dataframe conversion\n",
        "# import rpy2.robjects as ro\n",
        "# from rpy2.robjects.packages import importr\n",
        "# from rpy2.robjects import pandas2ri\n",
        "# from rpy2.robjects.conversion import localconverter\n",
        "# from rpy2.robjects import globalenv\n",
        "\n",
        "# ###### Pandas DataFrames and Series conversion ########\n",
        "# # Cargamos un DataSet cualquira en Python, para que no de error\n",
        "# data_P = sns.load_dataset('iris')\n",
        "# Serie = data_P['petal_length']\n",
        "\n",
        "# # Convert the Python DataFrame to the R dataframe\n",
        "# %R -i data_P\n",
        "\n",
        "# with localconverter(ro.default_converter + pandas2ri.converter):\n",
        "#   data_R = ro.conversion.py2rpy(data_P)\n",
        "# # Create a variable name in R's Global Environment\n",
        "# globalenv['data_R'] = data_R\n",
        "\n",
        "# # Convert Python Series to R vectors\n",
        "# vec_float_R = ro.vectors.FloatVector(Serie)\n",
        "# # vec_int_R = ro.vectors.IntVector(Serie)\n",
        "# # vec_str_R = ro.vectors.StrVector(Serie)\n",
        "# globalenv['vec_float_R'] = vec_float_R\n",
        "\n",
        "# # Convert R datadrame/vector to Python DataFrame/Vector\n",
        "# %R -o data_R\n",
        "\n",
        "# with localconverter(ro.default_converter + pandas2ri.converter):\n",
        "#   data_P = ro.conversion.rpy2py(data_R)\n",
        "\n",
        "# # Importar R-Functions a Python como Objetos(sin uso)\n",
        "# shapiro_test = ro.r('shapiro.test')\n",
        "# result = shapiro_test(vec_float_R)"
      ]
    },
    {
      "cell_type": "markdown",
      "source": [
        "#### Instalaciones Individuales en Bash"
      ],
      "metadata": {
        "id": "KfM50m-wCz4b"
      },
      "id": "KfM50m-wCz4b"
    },
    {
      "cell_type": "code",
      "source": [
        "# system(sudo apt install libgsl-dev) # -> Rapido"
      ],
      "metadata": {
        "id": "pZI0hXx4DbdA"
      },
      "execution_count": null,
      "outputs": [],
      "id": "pZI0hXx4DbdA"
    },
    {
      "cell_type": "markdown",
      "source": [
        "#### Instalacion de Librerias para R en Google Colab"
      ],
      "metadata": {
        "id": "RWsE_ORpdjnL"
      },
      "id": "RWsE_ORpdjnL"
    },
    {
      "cell_type": "code",
      "source": [
        "%%R\n",
        "\n",
        "# ## MVN Henze-Zirkler Test ### -> Lento\n",
        "# # system(sudo apt install libgsl-dev)\n",
        "# install.packages('MVN')\n",
        "\n",
        "# ## QQ Plot, Bonferroni, outlierTest, vif ### -> Lento\n",
        "# install.packages('car')\n",
        "\n",
        "## Wald Test ### -> Rapido\n",
        "# install.packages('aod')\n",
        "\n",
        "# LRM Tests ### -> Rapido\n",
        "# install.packages('lmtest')\n",
        "\n",
        "## Box-Cox Transformation ### -> Rapido\n",
        "# install.packages('MASS') # Huber, LTS\n",
        "\n",
        "## Estimaciones Robustas ### ->\n",
        "# install.packages('quantreg') # LAD\n",
        "# install.packages('robustbase') # lmrob\n",
        "# install.packages('olsrr')\n",
        "\n",
        "## Seleccion de Variables ### -> Rapido\n",
        "install.packages('leaps') # -> regsubsets"
      ],
      "metadata": {
        "id": "8ufTcCWTEAvQ"
      },
      "id": "8ufTcCWTEAvQ",
      "execution_count": null,
      "outputs": []
    },
    {
      "cell_type": "markdown",
      "id": "b00fc712",
      "metadata": {
        "id": "b00fc712"
      },
      "source": [
        "## Cargas de Datasets from Google Drive"
      ]
    },
    {
      "cell_type": "code",
      "execution_count": null,
      "id": "74cd8b72",
      "metadata": {
        "id": "74cd8b72"
      },
      "outputs": [],
      "source": [
        "# Code to read csv file into Colaboratory:\n",
        "!pip install -U -q PyDrive\n",
        "from pydrive.auth import GoogleAuth\n",
        "from pydrive.drive import GoogleDrive\n",
        "from google.colab import auth\n",
        "from oauth2client.client import GoogleCredentials\n",
        "\n",
        "# Authenticate and create the PyDrive client.\n",
        "auth.authenticate_user()\n",
        "gauth = GoogleAuth()\n",
        "gauth.credentials = GoogleCredentials.get_application_default()\n",
        "drive = GoogleDrive(gauth)\n",
        "\n",
        "################################# Datasets ###################################\n",
        "# Grasa de Cerdos\n",
        "id = '153lGVzdixcHT-keKg8qmvaoWdPHg6_tB'\n",
        "downloaded = drive.CreateFile({'id':id})\n",
        "downloaded.GetContentFile('grasacerdos.xlsx')\n",
        "dataG = pd.read_excel('grasacerdos.xlsx', index_col='Obs') # Cargamos el Dataset\n",
        "dataG = dataG.replace(to_replace=',', value='.', regex=True) # Reemplazo , por .\n",
        "dataG = dataG.astype('float') # Transformo en float\n",
        "\n",
        "######################################################\n",
        "# Peso, Edad, Colesterol\n",
        "id = '17Dv1WcWlc9ojWa6bnSfD7TCRaVKCKqj0'\n",
        "downloaded = drive.CreateFile({'id':id})\n",
        "downloaded.GetContentFile('peso_edad_colest.xlsx')\n",
        "dataP = pd.read_excel('peso_edad_colest.xlsx')\n",
        "%R -i dataP\n",
        "######################################################\n",
        "# Cars con Modelo Lineal\n",
        "id = '15pf-6P4Ek2rp6mYmfOybHRqAxqOoTp6i'\n",
        "downloaded = drive.CreateFile({'id':id})\n",
        "downloaded.GetContentFile('cars.csv')\n",
        "dataC = pd.read_csv('cars.csv')\n",
        "%R -i dataC\n",
        "model_cars = smf.ols('dist ~ speed', data=dataC).fit()\n",
        "######################################################\n",
        "# University\n",
        "id = '16kLQNXhyweAi38xR2IeQCCagVcU725UZ'\n",
        "downloaded = drive.CreateFile({'id':id})\n",
        "downloaded.GetContentFile('University.csv')\n",
        "dataU = pd.read_csv('University.csv')\n",
        "######################################################\n",
        "# Iris\n",
        "dataI = sns.load_dataset('iris')\n",
        "%R -i dataI\n",
        "######################################################\n",
        "# Gorriones\n",
        "id = '15G6jIOMiuWaTs-qy7eUXwhED4delBMl6'\n",
        "downloaded = drive.CreateFile({'id':id})\n",
        "downloaded.GetContentFile('gorriones.xlsx')\n",
        "dataO = pd.read_excel('gorriones.xlsx')\n",
        "dataO.rename(columns=\n",
        "            {'largototal':'Largo', 'extension ':'Alas', 'cabeza':'Cabeza',\n",
        "             'humero':'Pata', 'esternon':'Cuerpo', 'sobrevida ':'Target'},\n",
        "            inplace=True)\n",
        "%R -i dataO\n",
        "######################################################\n",
        "# Madera\n",
        "id = '17F8XFNpCszGHFfs7CpXzZotfmWmXXhoi'\n",
        "downloaded = drive.CreateFile({'id':id})\n",
        "downloaded.GetContentFile('madera.csv')\n",
        "dataM = pd.read_csv('madera.csv').drop(columns='Unnamed: 0')\n",
        "%R -i dataM\n",
        "\n",
        "######################################################\n",
        "# Duncan\n",
        "id = '17aCADG_APoFTsCdPvdI5T25gBAUE8U2T'\n",
        "downloaded = drive.CreateFile({'id':id})\n",
        "downloaded.GetContentFile('Duncan.csv')\n",
        "dataD = pd.read_csv('Duncan.csv')\n",
        "%R -i dataD\n",
        "\n",
        "######################################################\n",
        "# Infants\n",
        "id = '17qgVDqEcWeevZh2dHlvPIQ4ueAcTzSjU'\n",
        "downloaded = drive.CreateFile({'id':id})\n",
        "downloaded.GetContentFile('low_birth_weight_infants.xlsx')\n",
        "dataF = pd.read_excel('low_birth_weight_infants.xlsx')\n",
        "%R -i dataF\n",
        "\n",
        "######################################################\n",
        "# MT Cars\n",
        "id = '17vmBKWIJUt3uiry6WH5-Tyu3ab_mVdX8'\n",
        "downloaded = drive.CreateFile({'id':id})\n",
        "downloaded.GetContentFile('mtcars.csv')\n",
        "dataA = pd.read_csv('mtcars.csv')\n",
        "dataA.drop(columns='model', inplace=True)\n",
        "%R -i dataA\n",
        "\n",
        "######################################################\n",
        "# Fingerprints\n",
        "id = '17zjDDk7VZ1fb_6A-UOaDGpzLUyNeG5AW'\n",
        "downloaded = drive.CreateFile({'id':id})\n",
        "downloaded.GetContentFile('fingerprints.csv')\n",
        "dataFP = pd.read_csv('fingerprints.csv').drop(columns='Unnamed: 0')\n",
        "%R -i dataFP\n",
        "\n",
        "######################################################\n",
        "# Carseats\n",
        "id = '17d0yuvZLyRBM5INORFMzlJSBzkL-I8wI'\n",
        "downloaded = drive.CreateFile({'id':id})\n",
        "downloaded.GetContentFile('Carseats.csv')\n",
        "dataS = pd.read_csv('Carseats.csv')\n",
        "%R -i dataS"
      ]
    },
    {
      "cell_type": "markdown",
      "source": [
        "# Analisis de Variables"
      ],
      "metadata": {
        "id": "Bj2eFW6ZFMUD"
      },
      "id": "Bj2eFW6ZFMUD"
    },
    {
      "cell_type": "code",
      "execution_count": null,
      "id": "cf05b562",
      "metadata": {
        "id": "cf05b562"
      },
      "outputs": [],
      "source": [
        "# # Relacion Lineal Grafica\n",
        "# sns.scatterplot(data=data, x='Largo', y='Alas')\n",
        "# plt.show()\n",
        "\n",
        "# # Multicollonearity - Eeach independent variable should be independent from other independent variables\n",
        "# print(pg.corr(data['Largo'], data['Alas'], method='pearson')) # Entre dos varibales, H0 -> Variables Independientes\n",
        "# print(pg.corr(data['Largo'], data['Alas'], method='spearman')) # Cuando no se cumplen los supuestos de Pearson\n",
        "# # %R cor.test(data$Largo, data$Alas, method='pearson')\n",
        "# display(sns.heatmap(data.corr(), vmin=-1, vmax=1, cmap='RdYlGn', annot=True)) # Todos contra todos\n",
        "\n",
        "# # Analsis de Noramlidad Multi-Variariable (Henze-Zirkler) -> Python\n",
        "# print(pg.multivariate_normality(data.drop(columns='Largo'))) # Henze-Zirkler Test, H0 -> Multiv Normal Dist\n",
        "\n",
        "# # Analsis de Noramlidad Multi-Variariable (Henze-Zirkler) -> R\n",
        "# # library(MVN)\n",
        "# # mvn_result <- mvn(data, mvnTest = 'hz')\n",
        "# # print(mvn_result)"
      ]
    },
    {
      "cell_type": "markdown",
      "source": [
        "# Linear Regression Models"
      ],
      "metadata": {
        "id": "aqpTI97ucr0F"
      },
      "id": "aqpTI97ucr0F"
    },
    {
      "cell_type": "code",
      "source": [
        "# # Linear Regression\n",
        "# %%R\n",
        "\n",
        "# model <- lm('Largo ~ Alas + Cabeza + Pata + Cuerpo', data=data)\n",
        "# resid <- model$resid\n",
        "# fitted <- model$fitted.values\n",
        "\n",
        "# print(summary(model))\n",
        "# print(anova(model1, model2)) # H0: Model 2 no aporta nada nuevo\n",
        "\n",
        "# # Bandas de Prediccion\n",
        "# predichos <- predict(object=model, interval='prediction', level=0.95) # newdata = newdata\n",
        "# nuevos_datos <- data.frame(predichos, data)\n",
        "# print(head(predichos))\n",
        "# print(head(nuevos_datos))\n",
        "# print(confint(model))\n",
        "\n",
        "# # Datos a Predecir (Python, other example)\n",
        "# # to_predict = [25, 48]\n",
        "# # newdata = pd.Series(to_predict, name='edad').to_frame()"
      ],
      "metadata": {
        "id": "H4kJn7W3Fas6"
      },
      "id": "H4kJn7W3Fas6",
      "execution_count": null,
      "outputs": []
    },
    {
      "cell_type": "code",
      "source": [
        "# # Graficamos en Python\n",
        "# %R -o nuevos_datos\n",
        "\n",
        "# # Grafico\n",
        "# sns.regplot(data=nuevos_datos, x='Alas', y='Largo')\n",
        "# sns.lineplot(data=nuevos_datos, x='Alas', y='lwr', linestyle='--', color='r', ci=None)\n",
        "# sns.lineplot(data=nuevos_datos, x='Alas', y='upr', linestyle='--', color='r', ci=None)\n",
        "# plt.show()"
      ],
      "metadata": {
        "id": "0eh_UlkkFhXL"
      },
      "id": "0eh_UlkkFhXL",
      "execution_count": null,
      "outputs": []
    },
    {
      "cell_type": "code",
      "source": [
        "# # LRM en Python\n",
        "\n",
        "# # Generamos el Modelo\n",
        "# data = sm.add_constant(data)\n",
        "# model = smf.ols('Largo ~ Alas + Cabeza + Pata + Cuerpo', data=data).fit()\n",
        "# print(model.summary())"
      ],
      "metadata": {
        "id": "BRe7V4KrcsGT"
      },
      "id": "BRe7V4KrcsGT",
      "execution_count": null,
      "outputs": []
    },
    {
      "cell_type": "markdown",
      "source": [
        "### Wald Test (revisar)\n",
        "Mide si la Variable X es lo suficientemente significativa como para explicar la"
      ],
      "metadata": {
        "id": "Vn93BkqUKkOb"
      },
      "id": "Vn93BkqUKkOb"
    },
    {
      "cell_type": "code",
      "source": [
        "# %%R\n",
        "\n",
        "# library(aod)\n",
        "\n",
        "# # Wald Test para indentificar variables significativas\n",
        "# wald.test(Sigma = vcov(model), b = coef(model), Terms = 3) # Cuerpo| H0: Coef = 0 (Var no significativa)\n"
      ],
      "metadata": {
        "id": "u2u1biCGKpGn"
      },
      "id": "u2u1biCGKpGn",
      "execution_count": null,
      "outputs": []
    },
    {
      "cell_type": "markdown",
      "source": [
        "# Analisis de Diagnostico"
      ],
      "metadata": {
        "id": "UF-d2Q40JuGM"
      },
      "id": "UF-d2Q40JuGM"
    },
    {
      "cell_type": "markdown",
      "source": [
        "### Residuals Nomrality"
      ],
      "metadata": {
        "id": "6PS87hllKYD-"
      },
      "id": "6PS87hllKYD-"
    },
    {
      "cell_type": "code",
      "source": [
        "# %%R\n",
        "\n",
        "# # Analisis de Normalidad en los Residuos\n",
        "# library(car)\n",
        "# qqPlot(resid) # Observaciones que romperian con el supuesto de Normalidad\n",
        "# print(shapiro.test(resid))"
      ],
      "metadata": {
        "id": "eSLP7Yw4KWnH"
      },
      "id": "eSLP7Yw4KWnH",
      "execution_count": null,
      "outputs": []
    },
    {
      "cell_type": "code",
      "source": [
        "# # Python\n",
        "\n",
        "# # Tests Analiticos\n",
        "# display(pg.normality(data['Alas'])) # Shapiro Test(single Var), H0 -> Normal Dist\n",
        "# print(st.anderson(data['Alas'], dist='norm')) # Anderson-Darling SciPy\n",
        "# print(st.kstest(data['Alas'], 'norm'))# Kolmogorov-Smirnov SciPy\n",
        "\n",
        "# # Tests Graficos\n",
        "# pg.qqplot(data['Alas'])\n",
        "# plt.show()"
      ],
      "metadata": {
        "id": "GHx3kYbQH16s"
      },
      "id": "GHx3kYbQH16s",
      "execution_count": null,
      "outputs": []
    },
    {
      "cell_type": "markdown",
      "id": "6a56b196",
      "metadata": {
        "id": "6a56b196"
      },
      "source": [
        "### Residuals Variance (Homosedasticity)"
      ]
    },
    {
      "cell_type": "code",
      "source": [
        "# # Analisis Analitico (Breusch-Pagan Test) -> R | H0: Residuos Homocedasticos\n",
        "# %%R\n",
        "\n",
        "# library(lmtest)\n",
        "# bptest(model)"
      ],
      "metadata": {
        "id": "aM8aPx10LXlm"
      },
      "id": "aM8aPx10LXlm",
      "execution_count": null,
      "outputs": []
    },
    {
      "cell_type": "code",
      "execution_count": null,
      "id": "94129b70",
      "metadata": {
        "id": "94129b70"
      },
      "outputs": [],
      "source": [
        "# # # Analsis Grafico -> Python\n",
        "\n",
        "# # Importamos desde R\n",
        "# %R -o resid\n",
        "# %R -o fitted\n",
        "\n",
        "# plt.scatter(x=fitted, y=resid)\n",
        "# plt.xlabel( 'Prediccion')\n",
        "# plt.ylabel('Residuo')\n",
        "# plt.title('Distribucion de Residuos')\n",
        "# plt.axhline(color='grey', linestyle='dashed', alpha=0.5)\n",
        "# plt.show()\n",
        "# # No se observa estructura de embudo\n",
        "\n",
        "# # # Analisis Analitico Python\n",
        "# # BP, p_value, _, _ =sm.stats.het_breuschpagan(model.resid, model.model.exog)\n",
        "# # print('Estadistico BP y p-value:', BP, p_value)"
      ]
    },
    {
      "cell_type": "markdown",
      "id": "cd5bc19b",
      "metadata": {
        "id": "cd5bc19b"
      },
      "source": [
        "### Residuals Auto-Correlation"
      ]
    },
    {
      "cell_type": "code",
      "source": [
        "# # Analisis Analitico (Durbin-Watson Test) -> R | H0 No Auto-Correlacion\n",
        "# # 2=No Correlacion (Independecia)| 0=Correlacion Pos | 4=Correlacion Neg\n",
        "# %%R\n",
        "\n",
        "# library(lmtest)\n",
        "# dwtest(model, alternative='two.sided', iterations=1000)"
      ],
      "metadata": {
        "id": "aLbQWQRJMp2S"
      },
      "id": "aLbQWQRJMp2S",
      "execution_count": null,
      "outputs": []
    },
    {
      "cell_type": "code",
      "execution_count": null,
      "id": "fb3fbc04",
      "metadata": {
        "id": "fb3fbc04"
      },
      "outputs": [],
      "source": [
        "# # Analsis Grafico -> Python\n",
        "\n",
        "# # Importamos desde R\n",
        "# %R -o resid\n",
        "# %R -o fitted\n",
        "\n",
        "# plt.scatter(x=data.index, y=resid)\n",
        "# plt.xlabel( 'Index')\n",
        "# plt.ylabel('Residuo')\n",
        "# plt.title('Correlacion de Residuos')\n",
        "# plt.axhline(color='grey', linestyle='dashed', alpha=0.5)\n",
        "# plt.show()\n",
        "# # No se observa estructura\n",
        "\n",
        "# # Analisis Analitico -> Python\n",
        "# print('Durbin-Watson:', sm.stats.durbin_watson(resid)) # Sin validacion Estadistica"
      ]
    },
    {
      "cell_type": "markdown",
      "source": [
        "# Transformaciones\n",
        "- Cuando los residuos no siguen una distribucion Normal -> Transformamos la y (BoxCox)\n",
        "- Cuando los residuos tienen estructura -> Transformamos/Agregamos X"
      ],
      "metadata": {
        "id": "vevQU54sOiTx"
      },
      "id": "vevQU54sOiTx"
    },
    {
      "cell_type": "code",
      "source": [
        "# # Box Cox Transformation -> R\n",
        "# %%R\n",
        "# data = dataC\n",
        "# library(MASS)\n",
        "\n",
        "# # Modelo existente\n",
        "# model<- lm('dist ~ speed', data=data)\n",
        "\n",
        "# # Buscamos el Lambda  optimo -> Si Lambda  = 0 -> log10(y) | y**Lambda\n",
        "# boxcox(object = model, plotit=TRUE)"
      ],
      "metadata": {
        "id": "yy2EvWj_OuWR"
      },
      "id": "yy2EvWj_OuWR",
      "execution_count": null,
      "outputs": []
    },
    {
      "cell_type": "code",
      "source": [
        "# # # Generamos el nuevo modelo con las nuevas variables transformadas, y veridicamos su Normalidad\n",
        "# %%R\n",
        "\n",
        "# lmb = 0.5\n",
        "\n",
        "# model_2 <- lm('dist**lmb ~ speed', data=data)\n",
        "# print(shapiro.test(model_2$resid))\n",
        "\n",
        "# # Bandas de Prediccion\n",
        "# predichos <- predict(object=model_2, interval='prediction', level=0.95)\n",
        "# nuevos_datos <- data.frame(predichos, data, data$dist**lmb)\n",
        "# print(head(nuevos_datos))\n",
        "\n",
        "# # # Reverse Transformation\n",
        "# # base = 2\n",
        "# # exp = 3\n",
        "# # print(base**exp)\n",
        "# # print(log(base**exp, base))"
      ],
      "metadata": {
        "id": "ONnQf1q_SnFj"
      },
      "id": "ONnQf1q_SnFj",
      "execution_count": null,
      "outputs": []
    },
    {
      "cell_type": "code",
      "source": [
        "# # Graficamos con las Bandas de Confianza y Prediccion\n",
        "# %R -o nuevos_datos # Exportamos desde R\n",
        "# %R -o lmb\n",
        "\n",
        "# sns.regplot(data=nuevos_datos, x='speed', y='data.dist.lmb')\n",
        "# sns.lineplot(data=nuevos_datos, x='speed', y='lwr', linestyle='--', color='r')\n",
        "# sns.lineplot(data=nuevos_datos, x='speed', y='upr', linestyle='--', color='r')\n",
        "# plt.ylabel('Transformed Distance')\n",
        "# plt.show()"
      ],
      "metadata": {
        "id": "VaQNrMgoLw9k"
      },
      "id": "VaQNrMgoLw9k",
      "execution_count": null,
      "outputs": []
    },
    {
      "cell_type": "code",
      "source": [
        "# # Boc Cox Transformation -> Python\n",
        "# data = dataC\n",
        "# y = data['dist']\n",
        "\n",
        "# # Calculo Lambda\n",
        "# maxlog = st.boxcox(y)[1]\n",
        "# st.boxcox_normplot(y, -2, 2, plt)\n",
        "# plt.axvline(maxlog, color='red')\n",
        "# plt.show()"
      ],
      "metadata": {
        "id": "U_d9p-9Bd_N2"
      },
      "id": "U_d9p-9Bd_N2",
      "execution_count": null,
      "outputs": []
    },
    {
      "cell_type": "markdown",
      "source": [
        "# Deteccion de Valores Outliers e Influyentes"
      ],
      "metadata": {
        "id": "_oOsrltML6nr"
      },
      "id": "_oOsrltML6nr"
    },
    {
      "cell_type": "code",
      "source": [
        "%%R\n",
        "# data <- dataU\n",
        "# # library(car)\n",
        "\n",
        "# # Generamos un modelo base\n",
        "# model <- lm('nassets ~ stfees', data=data)\n",
        "# resid = model$resid\n",
        "# predicted = predict(model)\n",
        "# fitted = model$fitted.values\n",
        "\n",
        "# # Outliers - Bonferroni\n",
        "# qqPlot(resid)\n",
        "# outlierTest(model)\n",
        "# influenceIndexPlot(model, vars='Bonf')\n",
        "\n",
        "# # Influyentes - Leverage\n",
        "# crit_leverage <- 3*mean(hatvalues(model))\n",
        "# leverage <- hatvalues(model) > crit_leverage\n",
        "# leverage_data <- data.frame(cbind(hatvalues(model), crit_leverage, leverage))\n",
        "# print(subset(leverage_data, leverage==1))\n",
        "# # hist(hatvalues(model))\n",
        "\n",
        "# # Influyentes - Cook\n",
        "# # print(cooks.distance(model))\n",
        "# influenceIndexPlot(model, vars='Cook')\n",
        "\n",
        "# # Influyentes - DFFITS\n",
        "# p <- length(model$coef)\n",
        "# n <- NROW(model$resid)\n",
        "# dffits_crit <- 2*sqrt(p/n)\n",
        "# dffits <- dffits(model)\n",
        "# data_dffits <- data.frame(dffits=dffits)\n",
        "\n",
        "# # Influyentes - DFBetas\n",
        "# dfbetas_crit <- 1 # Umbral estandard\n",
        "# dfbetas_data <- dfbetas(model)[,2]>dfbetas_crit\n",
        "# print(which(dfbetas_data))\n",
        "\n",
        "\n",
        "# # Resumen\n",
        "# plot(model)\n",
        "# summary(influence.measures(model=model))\n",
        "# influencePlot(model = model)"
      ],
      "metadata": {
        "id": "1AFS2DQ0e5ow",
        "outputId": "a4817f8b-bfe4-43b8-fb1e-d56c6218b685",
        "colab": {
          "base_uri": "https://localhost:8080/"
        }
      },
      "id": "1AFS2DQ0e5ow",
      "execution_count": null,
      "outputs": [
        {
          "output_type": "stream",
          "name": "stdout",
          "text": [
            "NULL\n"
          ]
        }
      ]
    },
    {
      "cell_type": "code",
      "source": [
        "# # DFFITS Grafico -> Python\n",
        "# %R -o data_dffits\n",
        "# %R -o dffits_crit\n",
        "\n",
        "# # Grafico\n",
        "# data_dffits.head()\n",
        "# sns.scatterplot(data=data_dffits, x=data_dffits.index, y='dffits')\n",
        "# plt.axhline(y=dffits_crit, linestyle='--', color='red')\n",
        "# plt.axhline(y=-dffits_crit, linestyle='--', color='red')\n",
        "# plt.xticks(rotation=45)\n",
        "# plt.show()\n",
        "\n",
        "# # Filtro los criticos\n",
        "# dffits_crit_low = -dffits_crit\n",
        "# dffits_crit_up = dffits_crit\n",
        "\n",
        "# display(data_dffits.query('dffits > @dffits_crit_up or dffits < @dffits_crit_low'))"
      ],
      "metadata": {
        "id": "aCwhB3lvRAll"
      },
      "id": "aCwhB3lvRAll",
      "execution_count": null,
      "outputs": []
    },
    {
      "cell_type": "markdown",
      "source": [
        "# Cuadrados Minimos Ponderados (WLS)\n",
        "- Cuando los residuos son Heterocedasticos\n",
        "- Se compensa la diferencia en los residuos, asignandole diferentes pesos a las observaciones"
      ],
      "metadata": {
        "id": "cXZiAP2wWaEJ"
      },
      "id": "cXZiAP2wWaEJ"
    },
    {
      "cell_type": "code",
      "source": [
        "# # Cuadrados Minimos Ponderados (WLS) en R\n",
        "# %%R\n",
        "\n",
        "# library(lmtest)\n",
        "\n",
        "# # Generamos un modelo base\n",
        "# model_ols <- lm('nassets ~ stfees', data=data)\n",
        "\n",
        "# # Generamos la ponderacion de pesos y modelamos de nuevo\n",
        "# peso1 = 1 / lm(abs(model_ols$resid) ~ model_ols$fitted.values)$fitted.values**2 # Funciona mejor\n",
        "# peso2 = 1 / model_ols$fitted.values**2 # A los valores mas alejados se le reduce el peso\n",
        "\n",
        "# # Modelamos con lo weigths\n",
        "# model_wls1 <- lm('nassets ~ stfees', data=data, weights=peso1)\n",
        "# model_wls2 <- lm('nassets ~ stfees', data=data, weights=peso2)\n",
        "\n",
        "# # Comparamos los modelos\n",
        "# plot(data$stfees, data$nassets, xlab='stfees', ylab='nassets', main='OLS vs WLS')\n",
        "# abline(model_ols, col='black')\n",
        "# abline(model_wls1, col='blue')\n",
        "# abline(model_wls2, col='red')\n"
      ],
      "metadata": {
        "id": "VbT2Q9T9WaNj"
      },
      "id": "VbT2Q9T9WaNj",
      "execution_count": null,
      "outputs": []
    },
    {
      "cell_type": "markdown",
      "source": [
        "# Modelos Robustos\n",
        "- Integran las observaciones atipicas con una menor ponderacion\n",
        "- Cuando Box Cox transformation no  ayudan"
      ],
      "metadata": {
        "id": "2WkEzkAJEytv"
      },
      "id": "2WkEzkAJEytv"
    },
    {
      "cell_type": "code",
      "source": [
        "# %%R\n",
        "\n",
        "# data <- dataD\n",
        "# library(MASS)\n",
        "# library(quantreg)\n",
        "\n",
        "\n",
        "# # Huber: Menos peso a residuos grandes. Cuadratica que empalma con lineal\n",
        "# duncan_Huber <- rlm(income ~ education, data=data, k2=1.345)\n",
        "# print(summary(duncan_Huber))\n",
        "\n",
        "# # Rousseeuw LTS: Desconsidera los residuos mas grandes, solo teniendo en cuenta los menores\n",
        "# duncan_LTS <- lqs(income ~ education, data=data, method='lts')\n",
        "# print(duncan_LTS)\n",
        "\n",
        "# # LAD: Suma de valores absolutos\n",
        "# duncan_LAD <- rq(income ~ education, data=data, tau=0.5)\n",
        "# print (duncan_LAD)\n",
        "\n",
        "# # lmrob (explocado por Cecilia), indica la signifcancia de las variables\n",
        "# library(robustbase)\n",
        "# model_rob <- lmrob(income ~ education, data=data, tau=0.5)\n",
        "# print(summary(model_rob))\n"
      ],
      "metadata": {
        "id": "sxyQxArYFJcE"
      },
      "id": "sxyQxArYFJcE",
      "execution_count": null,
      "outputs": []
    },
    {
      "cell_type": "markdown",
      "source": [
        "# Regresion Lineal Multiple"
      ],
      "metadata": {
        "id": "qF2YSZbzWNGp"
      },
      "id": "qF2YSZbzWNGp"
    },
    {
      "cell_type": "markdown",
      "source": [
        "### Seleccion de Variables"
      ],
      "metadata": {
        "id": "rvJSFPJmWWbu"
      },
      "id": "rvJSFPJmWWbu"
    },
    {
      "cell_type": "code",
      "source": [
        "# # BEST SUBSET\n",
        "# %%R\n",
        "# data <- dataS\n",
        "# library(leaps)\n",
        "\n",
        "# # Modelo Best Subset -> Consideramos todos los subconjuntos de variables predictoras posibles\n",
        "# model_todos <- regsubsets(Sales ~ ., data=data, nvmax=10) # Hasta 10 variables\n",
        "# model_todos_summary <- summary(model_todos)\n",
        "# # print(model_todos_summary)\n",
        "\n",
        "# # Generamos el DataSet y vemos que coeficientes elligio\n",
        "# data_model_todos <- data.frame(orden=1:10, adjr2=model_todos_summary$rsq, Cp=model_todos_summary$cp, Bic=model_todos_summary$bic)\n",
        "# print(data_model_todos)\n",
        "# print(which.max(model_todos_summary$adjr2))\n",
        "# print(which.min(model_todos_summary$cp))\n",
        "# print(which.min(model_todos_summary$bic))\n",
        "# # print(coef(model_todos, 7))"
      ],
      "metadata": {
        "id": "h4lTaoB__2YF"
      },
      "id": "h4lTaoB__2YF",
      "execution_count": null,
      "outputs": []
    },
    {
      "cell_type": "code",
      "source": [
        "# # Graficamos las Evaluaciones de Best Subset en Python\n",
        "# %R -o data_model_todos\n",
        "\n",
        "# sns.scatterplot(data=data_model_todos, x='orden', y='adjr2')\n",
        "# plt.show()\n",
        "# sns.scatterplot(data=data_model_todos, x='orden', y='Cp')\n",
        "# plt.show()\n",
        "# sns.scatterplot(data=data_model_todos, x='orden', y='Bic')\n",
        "# plt.show()"
      ],
      "metadata": {
        "id": "dKf3ppPqQWMZ"
      },
      "id": "dKf3ppPqQWMZ",
      "execution_count": null,
      "outputs": []
    },
    {
      "cell_type": "code",
      "source": [
        "# %%R\n",
        "\n",
        "# # Methodo Backward (igual que el Best Subset)\n",
        "# model_back <- regsubsets(Sales ~ ., data=data, nvmax=10, method='backward') # Hasta 10 variables\n",
        "# model_back_summary <- summary(model_back)\n",
        "# # print(model_todos_summary)\n",
        "\n",
        "# # Generamos el DataSet y vemos que coeficientes elligio\n",
        "# data_model_back <- data.frame(orden=1:10, adjr2=model_back_summary$rsq, Cp=model_back_summary$cp, Bic=model_back_summary$bic)\n",
        "# print(data_model_back)\n",
        "# # print(coef(model_back, 7))"
      ],
      "metadata": {
        "id": "30bf7dS5OXqc"
      },
      "id": "30bf7dS5OXqc",
      "execution_count": null,
      "outputs": []
    },
    {
      "cell_type": "code",
      "source": [
        "# # Seleccion de Variables Paso a Paso (Deb Version)\n",
        "# %%R\n",
        "\n",
        "# # Train-Test Split\n",
        "# set.seed(1123)\n",
        "# n = nrow(data)\n",
        "# index = sample(n, n*.8, replace=FALSE)\n",
        "# train_set = data[index,]\n",
        "# test_set = data[-index,]\n",
        "\n",
        "# # Creamos un Modelo para todas las Variables, y otro solo para el Intercepto\n",
        "# model_full <- lm(Sales ~ ., data=train_set)\n",
        "# model_int <- lm(Sales ~-., data=train_set)\n",
        "# scopeformula <- formula(model_full)\n",
        "\n",
        "# # Modelo Forward (arrancamos del modelo sin variables)\n",
        "# # model_fwd <- step(object=model_int, scope=scopeformula, direction='forward') # Imprime\n",
        "# # FwdSelection_AIC <- AIC(model_fwd)\n",
        "# print(summary(model_fwd))\n",
        "# print(FwdSelection_AIC)\n",
        "\n",
        "# Modelo Backward (arrancamos del modelo con todas las variables)\n",
        "# model_back <- step(object=model_full, scope=scopeformula, direction='backward')\n",
        "# BackSelection_AIC <- AIC(model_back)\n",
        "# print(summary(model_back))\n",
        "# print(BackSelection_AIC)\n",
        "\n",
        "# # # Stepwise\n",
        "# # model_stepwise <- step(object=model_full, scope=scopeformula, direction='both')\n",
        "# # StepwiseSelecion_AIC <- AIC(model_stepwise)\n",
        "# # # print(summary(model_stepwise))\n",
        "# # # print(StepwiseSelecion_AIC)\n",
        "\n",
        "# # # Generamos el Dataset de Salida\n",
        "# # data_AIC <- data.frame(model_fwd=FwdSelection_AIC, model_back=BackSelection_AIC, model_stepwise=StepwiseSelecion_AIC)\n",
        "# # rownames(data_AIC) = c('AIC')\n",
        "# # data_AIC"
      ],
      "metadata": {
        "id": "_wHtR-EtAQw7"
      },
      "id": "_wHtR-EtAQw7",
      "execution_count": null,
      "outputs": []
    },
    {
      "cell_type": "markdown",
      "source": [
        "### Multicolinealidad"
      ],
      "metadata": {
        "id": "8wF9XV4e9L1e"
      },
      "id": "8wF9XV4e9L1e"
    },
    {
      "cell_type": "code",
      "source": [
        "# # Correlation Plot Python\n",
        "# data = dataA\n",
        "\n",
        "# display(sns.heatmap(data.corr(), vmin=-1, vmax=1, cmap='RdYlGn', annot=True)) # Todos contra todos\n",
        "# plt.show()"
      ],
      "metadata": {
        "id": "SbGdU9Kp9kN-"
      },
      "id": "SbGdU9Kp9kN-",
      "execution_count": null,
      "outputs": []
    },
    {
      "cell_type": "code",
      "source": [
        "# # VIF\n",
        "# %%R\n",
        "\n",
        "# library(car)\n",
        "\n",
        "# model1 <- lm(mpg ~ drat + disp + hp + cyl, data=data)\n",
        "# # print(summary(model1))\n",
        "# vif1 <- vif(model1)\n",
        "# print(vif1)\n",
        "\n",
        "# model2 <- lm(mpg ~ drat + disp + hp, data=data)\n",
        "# # print(summary(model2))\n",
        "# vif2 <- vif(model2)\n",
        "# print(vif2)"
      ],
      "metadata": {
        "id": "0R4q8C429wMY"
      },
      "id": "0R4q8C429wMY",
      "execution_count": null,
      "outputs": []
    },
    {
      "cell_type": "markdown",
      "source": [
        "### Validacion Simple"
      ],
      "metadata": {
        "id": "VQ5tOSlpGy03"
      },
      "id": "VQ5tOSlpGy03"
    },
    {
      "cell_type": "code",
      "source": [
        "# # Validacion Simple\n",
        "# %%R\n",
        "# data = dataF\n",
        "# set.seed(1)\n",
        "\n",
        "# # install.packages('leaps')\n",
        "# # library(leaps)\n",
        "\n",
        "# # Train Test Split\n",
        "# train <- sample(x=1:100, size=67, replace=FALSE)\n",
        "\n",
        "# # Modelamos, entrenando con Train\n",
        "# model_mejores <- regsubsets(headcirc ~ ., data=data[train,], nvmax=5, method='forward')\n",
        "\n",
        "# # Vector de errores de los modelos\n",
        "# validation_error <- rep(NA, 5)\n",
        "\n",
        "# # Matriz de predicciones, con Test\n",
        "# test_matrix <- model.matrix(headcirc ~ ., data=data[-train,])\n",
        "\n",
        "# # Calculo y muestro el de menor error\n",
        "# for (i in 1:5){\n",
        "#     coeficientes <-coef(object=model_mejores, id=i)\n",
        "#     predictores <- test_matrix[, names(coeficientes)]\n",
        "#     predicciones <- predictores %*% coeficientes\n",
        "#     validation_error[i] <- mean((data$headcirc[-train] - predicciones)**2)\n",
        "# }\n",
        "# print(which.min(validation_error))\n"
      ],
      "metadata": {
        "id": "UWNwdLiGG2Ur"
      },
      "id": "UWNwdLiGG2Ur",
      "execution_count": null,
      "outputs": []
    },
    {
      "cell_type": "code",
      "source": [
        "# # Ploteamos\n",
        "# %%R\n",
        "# library(ggplot2)\n",
        "\n",
        "\n",
        "# p <- ggplot(data = data.frame(n_predictores = 1:5, Estimacion_MSE = validation_error), aes(x = n_predictores, y = Estimacion_MSE)) +\n",
        "#   geom_line() +\n",
        "#   geom_point()\n",
        "# # Se identifica en rojo el mínimo\n",
        "# p <- p + geom_point(aes(x = n_predictores[which.min(validation_error)], y = validation_error[which.min(validation_error)]), colour = \"red\", size = 3)\n",
        "# p <- p + scale_x_continuous(breaks = c(0:5)) +\n",
        "#   labs(title = \"MSE vs número de predictores\", x = \"número predictores\") +\n",
        "#   theme_bw()\n",
        "# p"
      ],
      "metadata": {
        "id": "tOy33q8pIMjm",
        "outputId": "d45c4e3a-524a-4307-e893-b488c2d50526",
        "colab": {
          "base_uri": "https://localhost:8080/",
          "height": 497
        }
      },
      "id": "tOy33q8pIMjm",
      "execution_count": null,
      "outputs": [
        {
          "output_type": "display_data",
          "data": {
            "image/png": "[encoded data removed]"
          },
          "metadata": {}
        }
      ]
    }
  ],
  "metadata": {
    "kernelspec": {
      "display_name": "Python 3 (ipykernel)",
      "language": "python",
      "name": "python3"
    },
    "language_info": {
      "codemirror_mode": {
        "name": "ipython",
        "version": 3
      },
      "file_extension": ".py",
      "mimetype": "text/x-python",
      "name": "python",
      "nbconvert_exporter": "python",
      "pygments_lexer": "ipython3",
      "version": "3.10.9"
    },
    "colab": {
      "provenance": [],
      "include_colab_link": true
    }
  },
  "nbformat": 4,
  "nbformat_minor": 5
}