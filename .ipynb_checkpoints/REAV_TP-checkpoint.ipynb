{
 "cells": [
  {
   "cell_type": "markdown",
   "id": "500b6560",
   "metadata": {},
   "source": [
    "# Regresion Avanzada - Trabajo Practico"
   ]
  },
  {
   "cell_type": "code",
   "execution_count": 1,
   "id": "e087600d",
   "metadata": {
    "scrolled": false
   },
   "outputs": [],
   "source": [
    "# Autor: Andres Montes de Oca\n",
    "\n",
    "# Instalacion de Paquetes\n",
    "# !pip install pingouin\n",
    "# !pip install scipy\n",
    "\n",
    "# Cargamos Librerias y Datos\n",
    "import numpy as np\n",
    "import pandas as pd\n",
    "import matplotlib.pyplot as plt\n",
    "import seaborn as sns\n",
    "import pingouin as pg\n",
    "from scipy import stats as st"
   ]
  },
  {
   "cell_type": "markdown",
   "id": "9aa940b4",
   "metadata": {},
   "source": [
    "#### Logbook"
   ]
  },
  {
   "cell_type": "code",
   "execution_count": 2,
   "id": "ef63aec8",
   "metadata": {},
   "outputs": [],
   "source": [
    "# 31/05/23 -> Creacion de la Notebook\n",
    "# 31/05/23 -> 1.1, 1.2\n",
    "# 04/06/23 -> 1.3"
   ]
  },
  {
   "cell_type": "markdown",
   "id": "e6c191aa",
   "metadata": {},
   "source": [
    "## Key Assumptions"
   ]
  },
  {
   "cell_type": "code",
   "execution_count": 39,
   "id": "43ac2512",
   "metadata": {},
   "outputs": [
    {
     "data": {
      "text/html": [
       "<div>\n",
       "<style scoped>\n",
       "    .dataframe tbody tr th:only-of-type {\n",
       "        vertical-align: middle;\n",
       "    }\n",
       "\n",
       "    .dataframe tbody tr th {\n",
       "        vertical-align: top;\n",
       "    }\n",
       "\n",
       "    .dataframe thead th {\n",
       "        text-align: right;\n",
       "    }\n",
       "</style>\n",
       "<table border=\"1\" class=\"dataframe\">\n",
       "  <thead>\n",
       "    <tr style=\"text-align: right;\">\n",
       "      <th></th>\n",
       "      <th>sepal_length</th>\n",
       "      <th>sepal_width</th>\n",
       "      <th>petal_length</th>\n",
       "      <th>petal_width</th>\n",
       "      <th>species</th>\n",
       "    </tr>\n",
       "  </thead>\n",
       "  <tbody>\n",
       "    <tr>\n",
       "      <th>0</th>\n",
       "      <td>5.1</td>\n",
       "      <td>3.5</td>\n",
       "      <td>1.4</td>\n",
       "      <td>0.2</td>\n",
       "      <td>setosa</td>\n",
       "    </tr>\n",
       "    <tr>\n",
       "      <th>1</th>\n",
       "      <td>4.9</td>\n",
       "      <td>3.0</td>\n",
       "      <td>1.4</td>\n",
       "      <td>0.2</td>\n",
       "      <td>setosa</td>\n",
       "    </tr>\n",
       "    <tr>\n",
       "      <th>2</th>\n",
       "      <td>4.7</td>\n",
       "      <td>3.2</td>\n",
       "      <td>1.3</td>\n",
       "      <td>0.2</td>\n",
       "      <td>setosa</td>\n",
       "    </tr>\n",
       "    <tr>\n",
       "      <th>3</th>\n",
       "      <td>4.6</td>\n",
       "      <td>3.1</td>\n",
       "      <td>1.5</td>\n",
       "      <td>0.2</td>\n",
       "      <td>setosa</td>\n",
       "    </tr>\n",
       "    <tr>\n",
       "      <th>4</th>\n",
       "      <td>5.0</td>\n",
       "      <td>3.6</td>\n",
       "      <td>1.4</td>\n",
       "      <td>0.2</td>\n",
       "      <td>setosa</td>\n",
       "    </tr>\n",
       "  </tbody>\n",
       "</table>\n",
       "</div>"
      ],
      "text/plain": [
       "   sepal_length  sepal_width  petal_length  petal_width species\n",
       "0           5.1          3.5           1.4          0.2  setosa\n",
       "1           4.9          3.0           1.4          0.2  setosa\n",
       "2           4.7          3.2           1.3          0.2  setosa\n",
       "3           4.6          3.1           1.5          0.2  setosa\n",
       "4           5.0          3.6           1.4          0.2  setosa"
      ]
     },
     "execution_count": 39,
     "metadata": {},
     "output_type": "execute_result"
    }
   ],
   "source": [
    "data = sns.load_dataset('iris')\n",
    "data.head()"
   ]
  },
  {
   "cell_type": "markdown",
   "id": "2e34e04d",
   "metadata": {},
   "source": [
    "### 1) Linear Relationship"
   ]
  },
  {
   "cell_type": "code",
   "execution_count": 45,
   "id": "6b4e3e79",
   "metadata": {},
   "outputs": [],
   "source": [
    "# sns.scatterplot(data=data, x='petal_length', y='petal_width')"
   ]
  },
  {
   "cell_type": "markdown",
   "id": "e14f9fce",
   "metadata": {},
   "source": [
    "### 2) All Variables are Normal"
   ]
  },
  {
   "cell_type": "code",
   "execution_count": 59,
   "id": "c1dc4047",
   "metadata": {},
   "outputs": [],
   "source": [
    "# st.probplot(data['sepal_width'], plot=plt)\n",
    "# plt.show()\n",
    "\n",
    "# pg.normality(data['sepal_width'])"
   ]
  },
  {
   "cell_type": "markdown",
   "id": "116950c5",
   "metadata": {},
   "source": [
    "### 3) No Multicollinearity"
   ]
  },
  {
   "cell_type": "code",
   "execution_count": 70,
   "id": "c34cf985",
   "metadata": {},
   "outputs": [],
   "source": [
    "# sns.heatmap(data.corr(), vmin=-1, vmax=1, cmap='RdYlGn')"
   ]
  },
  {
   "cell_type": "markdown",
   "id": "5ba189c4",
   "metadata": {},
   "source": [
    "### 4) No Autocorrelation of Errors"
   ]
  },
  {
   "cell_type": "code",
   "execution_count": null,
   "id": "d1417fdf",
   "metadata": {},
   "outputs": [],
   "source": [
    "# Normality of Residuals, Durbin-Watson Test\n",
    "# st.probplot(resid, dist='norm', plot=plt)"
   ]
  },
  {
   "cell_type": "markdown",
   "id": "9ae2076f",
   "metadata": {},
   "source": [
    "### 5) No Heterosedasticity"
   ]
  },
  {
   "cell_type": "code",
   "execution_count": null,
   "id": "8c873907",
   "metadata": {},
   "outputs": [],
   "source": [
    "# Statsmodels: resid =  ytest - ypred\n",
    "# sns.residplot(resid, ypred)"
   ]
  },
  {
   "cell_type": "markdown",
   "id": "9a77d473",
   "metadata": {},
   "source": [
    "### 1) Linear Relationship"
   ]
  },
  {
   "cell_type": "markdown",
   "id": "707f11d1",
   "metadata": {},
   "source": [
    "### 1.1 Correlacion"
   ]
  },
  {
   "cell_type": "markdown",
   "id": "2d5dc098",
   "metadata": {},
   "source": [
    "\"Desde el punto de vista práctico, las principales diferencias entre estos tres coeficientes son:\n",
    "\n",
    "La correlación de Pearson funciona bien con variables cuantitativas que tienen una distribución normal o próxima a la normal. Es más sensible a los valores extremos que las otras dos alternativas. Y Homocedasticidad?\n",
    "\n",
    "La correlación de Spearman (Rho) se emplea con variables cuantitativas (continuas o discretas). En lugar de utilizar directamente el valor de cada variable, los datos son ordenados y reemplazados por su respectivo orden ranking. Es un método no paramétrico muy utilizado cuando no se satisface la condición de normalidad necesaria para aplicar la correlación de Pearson.\n",
    "\n",
    "La correlación de Kendall (Tau) es otra alternativa no paramétrica que, al igual que la correlación de Spearman, utiliza la ordenación de las observaciones ranking. Es recomendable cuando se dispone de pocos datos y muchos de ellos ocupan la misma posición en el rango, es decir, cuando hay muchas ligaduras.\"\n",
    "\n",
    "Fuente: https://www.cienciadedatos.net/documentos/pystats05-correlacion-lineal-python.html"
   ]
  },
  {
   "cell_type": "code",
   "execution_count": 3,
   "id": "4e21f0f6",
   "metadata": {
    "scrolled": true
   },
   "outputs": [
    {
     "data": {
      "text/html": [
       "<div>\n",
       "<style scoped>\n",
       "    .dataframe tbody tr th:only-of-type {\n",
       "        vertical-align: middle;\n",
       "    }\n",
       "\n",
       "    .dataframe tbody tr th {\n",
       "        vertical-align: top;\n",
       "    }\n",
       "\n",
       "    .dataframe thead th {\n",
       "        text-align: right;\n",
       "    }\n",
       "</style>\n",
       "<table border=\"1\" class=\"dataframe\">\n",
       "  <thead>\n",
       "    <tr style=\"text-align: right;\">\n",
       "      <th></th>\n",
       "      <th>PV</th>\n",
       "      <th>EGD</th>\n",
       "    </tr>\n",
       "    <tr>\n",
       "      <th>Obs</th>\n",
       "      <th></th>\n",
       "      <th></th>\n",
       "    </tr>\n",
       "  </thead>\n",
       "  <tbody>\n",
       "    <tr>\n",
       "      <th>1</th>\n",
       "      <td>56.81</td>\n",
       "      <td>16.19</td>\n",
       "    </tr>\n",
       "    <tr>\n",
       "      <th>2</th>\n",
       "      <td>70.40</td>\n",
       "      <td>22.00</td>\n",
       "    </tr>\n",
       "    <tr>\n",
       "      <th>3</th>\n",
       "      <td>71.73</td>\n",
       "      <td>19.52</td>\n",
       "    </tr>\n",
       "    <tr>\n",
       "      <th>4</th>\n",
       "      <td>75.10</td>\n",
       "      <td>31.00</td>\n",
       "    </tr>\n",
       "    <tr>\n",
       "      <th>5</th>\n",
       "      <td>79.65</td>\n",
       "      <td>23.58</td>\n",
       "    </tr>\n",
       "  </tbody>\n",
       "</table>\n",
       "</div>"
      ],
      "text/plain": [
       "        PV    EGD\n",
       "Obs              \n",
       "1    56.81  16.19\n",
       "2    70.40  22.00\n",
       "3    71.73  19.52\n",
       "4    75.10  31.00\n",
       "5    79.65  23.58"
      ]
     },
     "execution_count": 3,
     "metadata": {},
     "output_type": "execute_result"
    }
   ],
   "source": [
    "# Cargamos los datos\n",
    "data = pd.read_excel('Data/grasacerdos.xlsx', index_col='Obs')\n",
    "\n",
    "# Reemplazo , por .\n",
    "data = data.replace(to_replace=',', value='.', regex=True)\n",
    "\n",
    "# Transformo en float\n",
    "data = data.astype('float')\n",
    "\n",
    "data.head()"
   ]
  },
  {
   "cell_type": "markdown",
   "id": "d56e0543",
   "metadata": {},
   "source": [
    "#### 1.1.a Grafico de Dispersion"
   ]
  },
  {
   "cell_type": "code",
   "execution_count": 4,
   "id": "293d1128",
   "metadata": {
    "scrolled": false
   },
   "outputs": [
    {
     "data": {
      "image/png": "[encoded data removed]",
      "text/plain": [
       "<Figure size 640x480 with 1 Axes>"
      ]
     },
     "metadata": {},
     "output_type": "display_data"
    }
   ],
   "source": [
    "# Graficamos usando Seaborn\n",
    "sns.scatterplot(data=data, x='PV', y='EGD')\n",
    "plt.title('Peso de Cerdos vs Grasa Dorsal')\n",
    "plt.show()"
   ]
  },
  {
   "cell_type": "markdown",
   "id": "2c4cac78",
   "metadata": {},
   "source": [
    "- No se observa ninguna correlacion"
   ]
  },
  {
   "cell_type": "markdown",
   "id": "916f4248",
   "metadata": {},
   "source": [
    "#### 1.1.b Calculo de Normalidad de cada Variable"
   ]
  },
  {
   "cell_type": "code",
   "execution_count": 5,
   "id": "7b57f3a7",
   "metadata": {
    "scrolled": true
   },
   "outputs": [
    {
     "name": "stdout",
     "output_type": "stream",
     "text": [
      "Normalidad de PV: ShapiroResult(statistic=0.9753308892250061, pvalue=0.6924813985824585)\n",
      "Normalidad de EGD: ShapiroResult(statistic=0.9851352572441101, pvalue=0.9394674301147461) \n",
      "\n"
     ]
    },
    {
     "data": {
      "text/html": [
       "<div>\n",
       "<style scoped>\n",
       "    .dataframe tbody tr th:only-of-type {\n",
       "        vertical-align: middle;\n",
       "    }\n",
       "\n",
       "    .dataframe tbody tr th {\n",
       "        vertical-align: top;\n",
       "    }\n",
       "\n",
       "    .dataframe thead th {\n",
       "        text-align: right;\n",
       "    }\n",
       "</style>\n",
       "<table border=\"1\" class=\"dataframe\">\n",
       "  <thead>\n",
       "    <tr style=\"text-align: right;\">\n",
       "      <th></th>\n",
       "      <th>W</th>\n",
       "      <th>pval</th>\n",
       "      <th>normal</th>\n",
       "    </tr>\n",
       "  </thead>\n",
       "  <tbody>\n",
       "    <tr>\n",
       "      <th>PV</th>\n",
       "      <td>0.975331</td>\n",
       "      <td>0.692481</td>\n",
       "      <td>True</td>\n",
       "    </tr>\n",
       "    <tr>\n",
       "      <th>EGD</th>\n",
       "      <td>0.985135</td>\n",
       "      <td>0.939467</td>\n",
       "      <td>True</td>\n",
       "    </tr>\n",
       "  </tbody>\n",
       "</table>\n",
       "</div>"
      ],
      "text/plain": [
       "            W      pval  normal\n",
       "PV   0.975331  0.692481    True\n",
       "EGD  0.985135  0.939467    True"
      ]
     },
     "metadata": {},
     "output_type": "display_data"
    },
    {
     "data": {
      "text/html": [
       "<div>\n",
       "<style scoped>\n",
       "    .dataframe tbody tr th:only-of-type {\n",
       "        vertical-align: middle;\n",
       "    }\n",
       "\n",
       "    .dataframe tbody tr th {\n",
       "        vertical-align: top;\n",
       "    }\n",
       "\n",
       "    .dataframe thead th {\n",
       "        text-align: right;\n",
       "    }\n",
       "</style>\n",
       "<table border=\"1\" class=\"dataframe\">\n",
       "  <thead>\n",
       "    <tr style=\"text-align: right;\">\n",
       "      <th></th>\n",
       "      <th>W</th>\n",
       "      <th>pval</th>\n",
       "      <th>equal_var</th>\n",
       "    </tr>\n",
       "  </thead>\n",
       "  <tbody>\n",
       "    <tr>\n",
       "      <th>levene</th>\n",
       "      <td>6.359342</td>\n",
       "      <td>0.014445</td>\n",
       "      <td>False</td>\n",
       "    </tr>\n",
       "  </tbody>\n",
       "</table>\n",
       "</div>"
      ],
      "text/plain": [
       "               W      pval  equal_var\n",
       "levene  6.359342  0.014445      False"
      ]
     },
     "metadata": {},
     "output_type": "display_data"
    }
   ],
   "source": [
    "# Shapiro Test using SciPy\n",
    "print('Normalidad de PV:', st.shapiro(data['PV']))\n",
    "print('Normalidad de EGD:', st.shapiro(data['EGD']), '\\n')\n",
    "\n",
    "# Shapiro using Pingouin\n",
    "display(pg.normality(data))\n",
    "\n",
    "# Homoscedasticity Test\n",
    "display(pg.homoscedasticity(data))"
   ]
  },
  {
   "cell_type": "markdown",
   "id": "0025f438",
   "metadata": {},
   "source": [
    "- Tanto PV como EGD, parecen venir de una distribucion Normal."
   ]
  },
  {
   "cell_type": "code",
   "execution_count": 6,
   "id": "7c966709",
   "metadata": {},
   "outputs": [
    {
     "data": {
      "image/png": "[encoded data removed]",
      "text/plain": [
       "<Figure size 640x480 with 1 Axes>"
      ]
     },
     "metadata": {},
     "output_type": "display_data"
    }
   ],
   "source": [
    "# QQ Plot\n",
    "st.probplot(data['PV'], plot=plt)\n",
    "st.probplot(data['EGD'], plot=plt)\n",
    "plt.title('QQ Plot')\n",
    "plt.show()"
   ]
  },
  {
   "cell_type": "markdown",
   "id": "d13e5a4a",
   "metadata": {},
   "source": [
    "- Se verifica la Normalidad con los QQ, aunque mucho mas en EGD (Grasa Dorsal)"
   ]
  },
  {
   "cell_type": "markdown",
   "id": "6c86db0a",
   "metadata": {},
   "source": [
    "#### 1.1.c Calculo Coeficiente Correlacion"
   ]
  },
  {
   "cell_type": "code",
   "execution_count": 7,
   "id": "f501cb46",
   "metadata": {
    "scrolled": true
   },
   "outputs": [
    {
     "name": "stdout",
     "output_type": "stream",
     "text": [
      "Pearson: 0.25434338918596944\n",
      "Spearman: 0.16618464961067853\n",
      "Kendall: 0.11264367816091954 \n",
      "\n",
      "PearsonRResult(statistic=0.2543433891859694, pvalue=0.17499421195286707)\n",
      "SignificanceResult(statistic=0.16618464961067853, pvalue=0.38011770642295883)\n",
      "SignificanceResult(statistic=0.11264367816091954, pvalue=0.39503197640794263)\n"
     ]
    },
    {
     "data": {
      "text/html": [
       "<div>\n",
       "<style scoped>\n",
       "    .dataframe tbody tr th:only-of-type {\n",
       "        vertical-align: middle;\n",
       "    }\n",
       "\n",
       "    .dataframe tbody tr th {\n",
       "        vertical-align: top;\n",
       "    }\n",
       "\n",
       "    .dataframe thead th {\n",
       "        text-align: right;\n",
       "    }\n",
       "</style>\n",
       "<table border=\"1\" class=\"dataframe\">\n",
       "  <thead>\n",
       "    <tr style=\"text-align: right;\">\n",
       "      <th></th>\n",
       "      <th>n</th>\n",
       "      <th>r</th>\n",
       "      <th>CI95%</th>\n",
       "      <th>p-val</th>\n",
       "      <th>BF10</th>\n",
       "      <th>power</th>\n",
       "    </tr>\n",
       "  </thead>\n",
       "  <tbody>\n",
       "    <tr>\n",
       "      <th>pearson</th>\n",
       "      <td>30</td>\n",
       "      <td>0.254343</td>\n",
       "      <td>[-0.12, 0.56]</td>\n",
       "      <td>0.174994</td>\n",
       "      <td>0.546</td>\n",
       "      <td>0.27791</td>\n",
       "    </tr>\n",
       "  </tbody>\n",
       "</table>\n",
       "</div>"
      ],
      "text/plain": [
       "          n         r          CI95%     p-val   BF10    power\n",
       "pearson  30  0.254343  [-0.12, 0.56]  0.174994  0.546  0.27791"
      ]
     },
     "metadata": {},
     "output_type": "display_data"
    },
    {
     "data": {
      "text/html": [
       "<div>\n",
       "<style scoped>\n",
       "    .dataframe tbody tr th:only-of-type {\n",
       "        vertical-align: middle;\n",
       "    }\n",
       "\n",
       "    .dataframe tbody tr th {\n",
       "        vertical-align: top;\n",
       "    }\n",
       "\n",
       "    .dataframe thead th {\n",
       "        text-align: right;\n",
       "    }\n",
       "</style>\n",
       "<table border=\"1\" class=\"dataframe\">\n",
       "  <thead>\n",
       "    <tr style=\"text-align: right;\">\n",
       "      <th></th>\n",
       "      <th>n</th>\n",
       "      <th>r</th>\n",
       "      <th>CI95%</th>\n",
       "      <th>p-val</th>\n",
       "      <th>power</th>\n",
       "    </tr>\n",
       "  </thead>\n",
       "  <tbody>\n",
       "    <tr>\n",
       "      <th>spearman</th>\n",
       "      <td>30</td>\n",
       "      <td>0.166185</td>\n",
       "      <td>[-0.21, 0.5]</td>\n",
       "      <td>0.380118</td>\n",
       "      <td>0.142724</td>\n",
       "    </tr>\n",
       "  </tbody>\n",
       "</table>\n",
       "</div>"
      ],
      "text/plain": [
       "           n         r         CI95%     p-val     power\n",
       "spearman  30  0.166185  [-0.21, 0.5]  0.380118  0.142724"
      ]
     },
     "metadata": {},
     "output_type": "display_data"
    },
    {
     "data": {
      "text/html": [
       "<div>\n",
       "<style scoped>\n",
       "    .dataframe tbody tr th:only-of-type {\n",
       "        vertical-align: middle;\n",
       "    }\n",
       "\n",
       "    .dataframe tbody tr th {\n",
       "        vertical-align: top;\n",
       "    }\n",
       "\n",
       "    .dataframe thead th {\n",
       "        text-align: right;\n",
       "    }\n",
       "</style>\n",
       "<table border=\"1\" class=\"dataframe\">\n",
       "  <thead>\n",
       "    <tr style=\"text-align: right;\">\n",
       "      <th></th>\n",
       "      <th>n</th>\n",
       "      <th>r</th>\n",
       "      <th>CI95%</th>\n",
       "      <th>p-val</th>\n",
       "      <th>power</th>\n",
       "    </tr>\n",
       "  </thead>\n",
       "  <tbody>\n",
       "    <tr>\n",
       "      <th>kendall</th>\n",
       "      <td>30</td>\n",
       "      <td>0.112644</td>\n",
       "      <td>[-0.26, 0.45]</td>\n",
       "      <td>0.395032</td>\n",
       "      <td>0.091095</td>\n",
       "    </tr>\n",
       "  </tbody>\n",
       "</table>\n",
       "</div>"
      ],
      "text/plain": [
       "          n         r          CI95%     p-val     power\n",
       "kendall  30  0.112644  [-0.26, 0.45]  0.395032  0.091095"
      ]
     },
     "metadata": {},
     "output_type": "display_data"
    }
   ],
   "source": [
    "# Usando Pandas\n",
    "print('Pearson:', data['PV'].corr(data['EGD'], method='pearson'))\n",
    "print('Spearman:', data['PV'].corr(data['EGD'], method='spearman'))\n",
    "print('Kendall:', data['PV'].corr(data['EGD'], method='kendall'), '\\n')\n",
    "\n",
    "# Usando Scipy Stats\n",
    "print(st.pearsonr(data['PV'], data['EGD']))\n",
    "print(st.spearmanr(data['PV'], data['EGD']))\n",
    "print(st.kendalltau(data['PV'], data['EGD']))\n",
    "\n",
    "# Usando Pingouin (devuelve in DataFrame, asi que uso display en lugar de print)\n",
    "display(pg.corr(data['PV'], data['EGD'], method='pearson'))\n",
    "display(pg.corr(data['PV'], data['EGD'], method='spearman'))\n",
    "display(pg.corr(data['PV'], data['EGD'], method='kendall'))"
   ]
  },
  {
   "cell_type": "markdown",
   "id": "424ae041",
   "metadata": {},
   "source": [
    "- Todos los coeficientes de correlacion son muy pequenos\n",
    "- Confirmamos lo visto en el Scatterplot, no existe correlacion entre ambas variables"
   ]
  },
  {
   "cell_type": "markdown",
   "id": "88637a38",
   "metadata": {},
   "source": [
    "#### 1.1.d Henze-Zirkler Multivariate Normality Test"
   ]
  },
  {
   "cell_type": "code",
   "execution_count": 8,
   "id": "f3c54c12",
   "metadata": {},
   "outputs": [
    {
     "name": "stdout",
     "output_type": "stream",
     "text": [
      "HZResults(hz=0.25394365632841115, pval=0.9049686197809698, normal=True)\n"
     ]
    }
   ],
   "source": [
    "# Pingouin, la unica libreria que tiene el test\n",
    "print(pg.multivariate_normality(data))"
   ]
  },
  {
   "cell_type": "markdown",
   "id": "7caba96f",
   "metadata": {},
   "source": [
    "#### 1.1.e Anscombe"
   ]
  },
  {
   "cell_type": "code",
   "execution_count": 9,
   "id": "87726a64",
   "metadata": {
    "scrolled": true
   },
   "outputs": [
    {
     "data": {
      "text/html": [
       "<div>\n",
       "<style scoped>\n",
       "    .dataframe tbody tr th:only-of-type {\n",
       "        vertical-align: middle;\n",
       "    }\n",
       "\n",
       "    .dataframe tbody tr th {\n",
       "        vertical-align: top;\n",
       "    }\n",
       "\n",
       "    .dataframe thead th {\n",
       "        text-align: right;\n",
       "    }\n",
       "</style>\n",
       "<table border=\"1\" class=\"dataframe\">\n",
       "  <thead>\n",
       "    <tr style=\"text-align: right;\">\n",
       "      <th></th>\n",
       "      <th>x1</th>\n",
       "      <th>x2</th>\n",
       "      <th>x3</th>\n",
       "      <th>x4</th>\n",
       "      <th>y1</th>\n",
       "      <th>y2</th>\n",
       "      <th>y3</th>\n",
       "      <th>y4</th>\n",
       "    </tr>\n",
       "  </thead>\n",
       "  <tbody>\n",
       "    <tr>\n",
       "      <th>0</th>\n",
       "      <td>10</td>\n",
       "      <td>10</td>\n",
       "      <td>10</td>\n",
       "      <td>8</td>\n",
       "      <td>8.04</td>\n",
       "      <td>9.14</td>\n",
       "      <td>7.46</td>\n",
       "      <td>6.58</td>\n",
       "    </tr>\n",
       "    <tr>\n",
       "      <th>1</th>\n",
       "      <td>8</td>\n",
       "      <td>8</td>\n",
       "      <td>8</td>\n",
       "      <td>8</td>\n",
       "      <td>6.95</td>\n",
       "      <td>8.14</td>\n",
       "      <td>6.77</td>\n",
       "      <td>5.76</td>\n",
       "    </tr>\n",
       "    <tr>\n",
       "      <th>2</th>\n",
       "      <td>13</td>\n",
       "      <td>13</td>\n",
       "      <td>13</td>\n",
       "      <td>8</td>\n",
       "      <td>7.58</td>\n",
       "      <td>8.74</td>\n",
       "      <td>12.74</td>\n",
       "      <td>7.71</td>\n",
       "    </tr>\n",
       "    <tr>\n",
       "      <th>3</th>\n",
       "      <td>9</td>\n",
       "      <td>9</td>\n",
       "      <td>9</td>\n",
       "      <td>8</td>\n",
       "      <td>8.81</td>\n",
       "      <td>8.77</td>\n",
       "      <td>7.11</td>\n",
       "      <td>8.84</td>\n",
       "    </tr>\n",
       "    <tr>\n",
       "      <th>4</th>\n",
       "      <td>11</td>\n",
       "      <td>11</td>\n",
       "      <td>11</td>\n",
       "      <td>8</td>\n",
       "      <td>8.33</td>\n",
       "      <td>9.26</td>\n",
       "      <td>7.81</td>\n",
       "      <td>8.47</td>\n",
       "    </tr>\n",
       "    <tr>\n",
       "      <th>5</th>\n",
       "      <td>14</td>\n",
       "      <td>14</td>\n",
       "      <td>14</td>\n",
       "      <td>8</td>\n",
       "      <td>9.96</td>\n",
       "      <td>8.10</td>\n",
       "      <td>8.84</td>\n",
       "      <td>7.04</td>\n",
       "    </tr>\n",
       "    <tr>\n",
       "      <th>6</th>\n",
       "      <td>6</td>\n",
       "      <td>6</td>\n",
       "      <td>6</td>\n",
       "      <td>8</td>\n",
       "      <td>7.24</td>\n",
       "      <td>6.13</td>\n",
       "      <td>6.08</td>\n",
       "      <td>5.25</td>\n",
       "    </tr>\n",
       "    <tr>\n",
       "      <th>7</th>\n",
       "      <td>4</td>\n",
       "      <td>4</td>\n",
       "      <td>4</td>\n",
       "      <td>19</td>\n",
       "      <td>4.26</td>\n",
       "      <td>3.10</td>\n",
       "      <td>5.39</td>\n",
       "      <td>12.50</td>\n",
       "    </tr>\n",
       "    <tr>\n",
       "      <th>8</th>\n",
       "      <td>12</td>\n",
       "      <td>12</td>\n",
       "      <td>12</td>\n",
       "      <td>8</td>\n",
       "      <td>10.84</td>\n",
       "      <td>9.13</td>\n",
       "      <td>8.15</td>\n",
       "      <td>5.56</td>\n",
       "    </tr>\n",
       "    <tr>\n",
       "      <th>9</th>\n",
       "      <td>7</td>\n",
       "      <td>7</td>\n",
       "      <td>7</td>\n",
       "      <td>8</td>\n",
       "      <td>4.82</td>\n",
       "      <td>7.26</td>\n",
       "      <td>6.42</td>\n",
       "      <td>7.91</td>\n",
       "    </tr>\n",
       "    <tr>\n",
       "      <th>10</th>\n",
       "      <td>5</td>\n",
       "      <td>5</td>\n",
       "      <td>5</td>\n",
       "      <td>8</td>\n",
       "      <td>5.68</td>\n",
       "      <td>4.74</td>\n",
       "      <td>5.73</td>\n",
       "      <td>6.89</td>\n",
       "    </tr>\n",
       "  </tbody>\n",
       "</table>\n",
       "</div>"
      ],
      "text/plain": [
       "    x1  x2  x3  x4     y1    y2     y3     y4\n",
       "0   10  10  10   8   8.04  9.14   7.46   6.58\n",
       "1    8   8   8   8   6.95  8.14   6.77   5.76\n",
       "2   13  13  13   8   7.58  8.74  12.74   7.71\n",
       "3    9   9   9   8   8.81  8.77   7.11   8.84\n",
       "4   11  11  11   8   8.33  9.26   7.81   8.47\n",
       "5   14  14  14   8   9.96  8.10   8.84   7.04\n",
       "6    6   6   6   8   7.24  6.13   6.08   5.25\n",
       "7    4   4   4  19   4.26  3.10   5.39  12.50\n",
       "8   12  12  12   8  10.84  9.13   8.15   5.56\n",
       "9    7   7   7   8   4.82  7.26   6.42   7.91\n",
       "10   5   5   5   8   5.68  4.74   5.73   6.89"
      ]
     },
     "execution_count": 9,
     "metadata": {},
     "output_type": "execute_result"
    }
   ],
   "source": [
    "# Cargamos los datos\n",
    "# data = pd.read_excel('data/anscombe.xlsx') # Parece estar incompleto el Dataset?\n",
    "data = pd.read_excel('data/anscombe2.xlsx') # Cargamos la v2 completa\n",
    "data"
   ]
  },
  {
   "cell_type": "code",
   "execution_count": 10,
   "id": "410cb8c2",
   "metadata": {
    "scrolled": false
   },
   "outputs": [
    {
     "name": "stdout",
     "output_type": "stream",
     "text": [
      "Medias x1, y1: 9.0 7.5\n",
      "Desvios: 3.317 2.032\n"
     ]
    },
    {
     "data": {
      "text/html": [
       "<div>\n",
       "<style scoped>\n",
       "    .dataframe tbody tr th:only-of-type {\n",
       "        vertical-align: middle;\n",
       "    }\n",
       "\n",
       "    .dataframe tbody tr th {\n",
       "        vertical-align: top;\n",
       "    }\n",
       "\n",
       "    .dataframe thead th {\n",
       "        text-align: right;\n",
       "    }\n",
       "</style>\n",
       "<table border=\"1\" class=\"dataframe\">\n",
       "  <thead>\n",
       "    <tr style=\"text-align: right;\">\n",
       "      <th></th>\n",
       "      <th>n</th>\n",
       "      <th>r</th>\n",
       "      <th>CI95%</th>\n",
       "      <th>p-val</th>\n",
       "      <th>BF10</th>\n",
       "      <th>power</th>\n",
       "    </tr>\n",
       "  </thead>\n",
       "  <tbody>\n",
       "    <tr>\n",
       "      <th>pearson</th>\n",
       "      <td>11</td>\n",
       "      <td>0.816421</td>\n",
       "      <td>[0.42, 0.95]</td>\n",
       "      <td>0.00217</td>\n",
       "      <td>22.903</td>\n",
       "      <td>0.917298</td>\n",
       "    </tr>\n",
       "  </tbody>\n",
       "</table>\n",
       "</div>"
      ],
      "text/plain": [
       "          n         r         CI95%    p-val    BF10     power\n",
       "pearson  11  0.816421  [0.42, 0.95]  0.00217  22.903  0.917298"
      ]
     },
     "metadata": {},
     "output_type": "display_data"
    },
    {
     "data": {
      "image/png": "[encoded data removed]",
      "text/plain": [
       "<Figure size 640x480 with 1 Axes>"
      ]
     },
     "metadata": {},
     "output_type": "display_data"
    },
    {
     "name": "stdout",
     "output_type": "stream",
     "text": [
      "Medias x2, y2: 9.0 7.5\n",
      "Desvios: 3.317 2.032\n"
     ]
    },
    {
     "data": {
      "text/html": [
       "<div>\n",
       "<style scoped>\n",
       "    .dataframe tbody tr th:only-of-type {\n",
       "        vertical-align: middle;\n",
       "    }\n",
       "\n",
       "    .dataframe tbody tr th {\n",
       "        vertical-align: top;\n",
       "    }\n",
       "\n",
       "    .dataframe thead th {\n",
       "        text-align: right;\n",
       "    }\n",
       "</style>\n",
       "<table border=\"1\" class=\"dataframe\">\n",
       "  <thead>\n",
       "    <tr style=\"text-align: right;\">\n",
       "      <th></th>\n",
       "      <th>n</th>\n",
       "      <th>r</th>\n",
       "      <th>CI95%</th>\n",
       "      <th>p-val</th>\n",
       "      <th>BF10</th>\n",
       "      <th>power</th>\n",
       "    </tr>\n",
       "  </thead>\n",
       "  <tbody>\n",
       "    <tr>\n",
       "      <th>pearson</th>\n",
       "      <td>11</td>\n",
       "      <td>0.816237</td>\n",
       "      <td>[0.42, 0.95]</td>\n",
       "      <td>0.002179</td>\n",
       "      <td>22.827</td>\n",
       "      <td>0.917056</td>\n",
       "    </tr>\n",
       "  </tbody>\n",
       "</table>\n",
       "</div>"
      ],
      "text/plain": [
       "          n         r         CI95%     p-val    BF10     power\n",
       "pearson  11  0.816237  [0.42, 0.95]  0.002179  22.827  0.917056"
      ]
     },
     "metadata": {},
     "output_type": "display_data"
    },
    {
     "data": {
      "image/png": "[encoded data removed]",
      "text/plain": [
       "<Figure size 640x480 with 1 Axes>"
      ]
     },
     "metadata": {},
     "output_type": "display_data"
    },
    {
     "name": "stdout",
     "output_type": "stream",
     "text": [
      "Medias x3, y3: 9.0 7.5\n",
      "Desvios: 3.317 2.03\n"
     ]
    },
    {
     "data": {
      "text/html": [
       "<div>\n",
       "<style scoped>\n",
       "    .dataframe tbody tr th:only-of-type {\n",
       "        vertical-align: middle;\n",
       "    }\n",
       "\n",
       "    .dataframe tbody tr th {\n",
       "        vertical-align: top;\n",
       "    }\n",
       "\n",
       "    .dataframe thead th {\n",
       "        text-align: right;\n",
       "    }\n",
       "</style>\n",
       "<table border=\"1\" class=\"dataframe\">\n",
       "  <thead>\n",
       "    <tr style=\"text-align: right;\">\n",
       "      <th></th>\n",
       "      <th>n</th>\n",
       "      <th>r</th>\n",
       "      <th>CI95%</th>\n",
       "      <th>p-val</th>\n",
       "      <th>BF10</th>\n",
       "      <th>power</th>\n",
       "    </tr>\n",
       "  </thead>\n",
       "  <tbody>\n",
       "    <tr>\n",
       "      <th>pearson</th>\n",
       "      <td>11</td>\n",
       "      <td>0.816287</td>\n",
       "      <td>[0.42, 0.95]</td>\n",
       "      <td>0.002176</td>\n",
       "      <td>22.847</td>\n",
       "      <td>0.917122</td>\n",
       "    </tr>\n",
       "  </tbody>\n",
       "</table>\n",
       "</div>"
      ],
      "text/plain": [
       "          n         r         CI95%     p-val    BF10     power\n",
       "pearson  11  0.816287  [0.42, 0.95]  0.002176  22.847  0.917122"
      ]
     },
     "metadata": {},
     "output_type": "display_data"
    },
    {
     "data": {
      "image/png": "[encoded data removed]",
      "text/plain": [
       "<Figure size 640x480 with 1 Axes>"
      ]
     },
     "metadata": {},
     "output_type": "display_data"
    },
    {
     "name": "stdout",
     "output_type": "stream",
     "text": [
      "Medias x4, y4: 9.0 7.5\n",
      "Desvios: 3.317 2.031\n"
     ]
    },
    {
     "data": {
      "text/html": [
       "<div>\n",
       "<style scoped>\n",
       "    .dataframe tbody tr th:only-of-type {\n",
       "        vertical-align: middle;\n",
       "    }\n",
       "\n",
       "    .dataframe tbody tr th {\n",
       "        vertical-align: top;\n",
       "    }\n",
       "\n",
       "    .dataframe thead th {\n",
       "        text-align: right;\n",
       "    }\n",
       "</style>\n",
       "<table border=\"1\" class=\"dataframe\">\n",
       "  <thead>\n",
       "    <tr style=\"text-align: right;\">\n",
       "      <th></th>\n",
       "      <th>n</th>\n",
       "      <th>r</th>\n",
       "      <th>CI95%</th>\n",
       "      <th>p-val</th>\n",
       "      <th>BF10</th>\n",
       "      <th>power</th>\n",
       "    </tr>\n",
       "  </thead>\n",
       "  <tbody>\n",
       "    <tr>\n",
       "      <th>pearson</th>\n",
       "      <td>11</td>\n",
       "      <td>0.816521</td>\n",
       "      <td>[0.42, 0.95]</td>\n",
       "      <td>0.002165</td>\n",
       "      <td>22.944</td>\n",
       "      <td>0.917431</td>\n",
       "    </tr>\n",
       "  </tbody>\n",
       "</table>\n",
       "</div>"
      ],
      "text/plain": [
       "          n         r         CI95%     p-val    BF10     power\n",
       "pearson  11  0.816521  [0.42, 0.95]  0.002165  22.944  0.917431"
      ]
     },
     "metadata": {},
     "output_type": "display_data"
    },
    {
     "data": {
      "image/png": "[encoded data removed]",
      "text/plain": [
       "<Figure size 640x480 with 1 Axes>"
      ]
     },
     "metadata": {},
     "output_type": "display_data"
    }
   ],
   "source": [
    "# Ploteamos\n",
    "sns.regplot(data=data, x='x1', y='y1')\n",
    "print('Medias x1, y1:', data['x1'].mean(), data['y1'].mean().round(2))\n",
    "print('Desvios:', np.round(data['x1'].std(), 3), np.round(data['y1'].std(), 3))\n",
    "display(pg.corr(data['x1'], data['y1'], method='pearson'))\n",
    "plt.title('Primer par')\n",
    "plt.show()\n",
    "\n",
    "sns.regplot(data=data, x='x2', y='y2')\n",
    "print('Medias x2, y2:', data['x2'].mean(), data['y2'].mean().round(2))\n",
    "print('Desvios:', np.round(data['x2'].std(), 3), np.round(data['y2'].std(), 3))\n",
    "display(pg.corr(data['x2'], data['y2'], method='pearson'))\n",
    "plt.title('Segundo par')\n",
    "plt.show()\n",
    "\n",
    "sns.regplot(data=data, x='x3', y='y3')\n",
    "print('Medias x3, y3:', data['x3'].mean(), data['y3'].mean().round(2))\n",
    "print('Desvios:', np.round(data['x3'].std(), 3), np.round(data['y3'].std(), 3))\n",
    "display(pg.corr(data['x3'], data['y3'], method='pearson'))\n",
    "plt.title('Tercer par')\n",
    "plt.show()\n",
    "\n",
    "sns.regplot(data=data, x='x4', y='y4')\n",
    "print('Medias x4, y4:', data['x4'].mean(), data['y4'].mean().round(2))\n",
    "print('Desvios:', np.round(data['x4'].std(), 3), np.round(data['y4'].std(), 3))\n",
    "display(pg.corr(data['x4'], data['y4'], method='pearson'))\n",
    "plt.title('Cuarto par')\n",
    "plt.show()"
   ]
  },
  {
   "cell_type": "markdown",
   "id": "d45aa775",
   "metadata": {},
   "source": [
    "- El Coeficiente de Determinacion es mas parecido al Pipita Higuain que a Messi. Messi se parece mas al Coeficiente de Determinacion Ajustado"
   ]
  },
  {
   "cell_type": "markdown",
   "id": "75237696",
   "metadata": {},
   "source": [
    "### 1.2 Modelo Lineal Simple"
   ]
  },
  {
   "cell_type": "code",
   "execution_count": 11,
   "id": "91046bd9",
   "metadata": {
    "scrolled": true
   },
   "outputs": [
    {
     "data": {
      "text/html": [
       "<div>\n",
       "<style scoped>\n",
       "    .dataframe tbody tr th:only-of-type {\n",
       "        vertical-align: middle;\n",
       "    }\n",
       "\n",
       "    .dataframe tbody tr th {\n",
       "        vertical-align: top;\n",
       "    }\n",
       "\n",
       "    .dataframe thead th {\n",
       "        text-align: right;\n",
       "    }\n",
       "</style>\n",
       "<table border=\"1\" class=\"dataframe\">\n",
       "  <thead>\n",
       "    <tr style=\"text-align: right;\">\n",
       "      <th></th>\n",
       "      <th>peso</th>\n",
       "      <th>edad</th>\n",
       "      <th>colest</th>\n",
       "    </tr>\n",
       "  </thead>\n",
       "  <tbody>\n",
       "    <tr>\n",
       "      <th>0</th>\n",
       "      <td>84</td>\n",
       "      <td>46</td>\n",
       "      <td>354</td>\n",
       "    </tr>\n",
       "    <tr>\n",
       "      <th>1</th>\n",
       "      <td>73</td>\n",
       "      <td>20</td>\n",
       "      <td>190</td>\n",
       "    </tr>\n",
       "    <tr>\n",
       "      <th>2</th>\n",
       "      <td>65</td>\n",
       "      <td>52</td>\n",
       "      <td>405</td>\n",
       "    </tr>\n",
       "    <tr>\n",
       "      <th>3</th>\n",
       "      <td>70</td>\n",
       "      <td>30</td>\n",
       "      <td>263</td>\n",
       "    </tr>\n",
       "    <tr>\n",
       "      <th>4</th>\n",
       "      <td>76</td>\n",
       "      <td>57</td>\n",
       "      <td>451</td>\n",
       "    </tr>\n",
       "  </tbody>\n",
       "</table>\n",
       "</div>"
      ],
      "text/plain": [
       "   peso  edad  colest\n",
       "0    84    46     354\n",
       "1    73    20     190\n",
       "2    65    52     405\n",
       "3    70    30     263\n",
       "4    76    57     451"
      ]
     },
     "execution_count": 11,
     "metadata": {},
     "output_type": "execute_result"
    }
   ],
   "source": [
    "# Cargamos los datos\n",
    "data = pd.read_excel('Data/peso_edad_colest.xlsx')\n",
    "data.head()"
   ]
  },
  {
   "cell_type": "markdown",
   "id": "47bb71ad",
   "metadata": {},
   "source": [
    "#### 1.2.a DIagrama de Dispersion"
   ]
  },
  {
   "cell_type": "code",
   "execution_count": 12,
   "id": "3a5ca09a",
   "metadata": {
    "scrolled": true
   },
   "outputs": [
    {
     "data": {
      "image/png": "[encoded data removed]",
      "text/plain": [
       "<Figure size 640x480 with 1 Axes>"
      ]
     },
     "metadata": {},
     "output_type": "display_data"
    },
    {
     "data": {
      "image/png": "[encoded data removed]",
      "text/plain": [
       "<Figure size 640x480 with 1 Axes>"
      ]
     },
     "metadata": {},
     "output_type": "display_data"
    }
   ],
   "source": [
    "# Ploteamos\n",
    "sns.regplot(data=data, x='colest', y='edad')\n",
    "plt.show()\n",
    "\n",
    "sns.regplot(data=data, x='colest', y='peso')\n",
    "plt.show()"
   ]
  },
  {
   "cell_type": "markdown",
   "id": "459e659e",
   "metadata": {},
   "source": [
    "- La relacion para estar solamente entre Colestero y Edad"
   ]
  },
  {
   "cell_type": "markdown",
   "id": "76e33ead",
   "metadata": {},
   "source": [
    "#### 1.2.b Coeficientes  de Correlacion"
   ]
  },
  {
   "cell_type": "code",
   "execution_count": 13,
   "id": "fb56e7a5",
   "metadata": {
    "scrolled": true
   },
   "outputs": [
    {
     "data": {
      "text/html": [
       "<div>\n",
       "<style scoped>\n",
       "    .dataframe tbody tr th:only-of-type {\n",
       "        vertical-align: middle;\n",
       "    }\n",
       "\n",
       "    .dataframe tbody tr th {\n",
       "        vertical-align: top;\n",
       "    }\n",
       "\n",
       "    .dataframe thead th {\n",
       "        text-align: right;\n",
       "    }\n",
       "</style>\n",
       "<table border=\"1\" class=\"dataframe\">\n",
       "  <thead>\n",
       "    <tr style=\"text-align: right;\">\n",
       "      <th></th>\n",
       "      <th>n</th>\n",
       "      <th>r</th>\n",
       "      <th>CI95%</th>\n",
       "      <th>p-val</th>\n",
       "      <th>BF10</th>\n",
       "      <th>power</th>\n",
       "    </tr>\n",
       "  </thead>\n",
       "  <tbody>\n",
       "    <tr>\n",
       "      <th>pearson</th>\n",
       "      <td>25</td>\n",
       "      <td>0.881147</td>\n",
       "      <td>[0.75, 0.95]</td>\n",
       "      <td>6.094237e-09</td>\n",
       "      <td>1.945e+06</td>\n",
       "      <td>0.999998</td>\n",
       "    </tr>\n",
       "  </tbody>\n",
       "</table>\n",
       "</div>"
      ],
      "text/plain": [
       "          n         r         CI95%         p-val       BF10     power\n",
       "pearson  25  0.881147  [0.75, 0.95]  6.094237e-09  1.945e+06  0.999998"
      ]
     },
     "metadata": {},
     "output_type": "display_data"
    },
    {
     "data": {
      "text/html": [
       "<div>\n",
       "<style scoped>\n",
       "    .dataframe tbody tr th:only-of-type {\n",
       "        vertical-align: middle;\n",
       "    }\n",
       "\n",
       "    .dataframe tbody tr th {\n",
       "        vertical-align: top;\n",
       "    }\n",
       "\n",
       "    .dataframe thead th {\n",
       "        text-align: right;\n",
       "    }\n",
       "</style>\n",
       "<table border=\"1\" class=\"dataframe\">\n",
       "  <thead>\n",
       "    <tr style=\"text-align: right;\">\n",
       "      <th></th>\n",
       "      <th>n</th>\n",
       "      <th>r</th>\n",
       "      <th>CI95%</th>\n",
       "      <th>p-val</th>\n",
       "      <th>BF10</th>\n",
       "      <th>power</th>\n",
       "    </tr>\n",
       "  </thead>\n",
       "  <tbody>\n",
       "    <tr>\n",
       "      <th>pearson</th>\n",
       "      <td>25</td>\n",
       "      <td>0.225372</td>\n",
       "      <td>[-0.19, 0.57]</td>\n",
       "      <td>0.278728</td>\n",
       "      <td>0.433</td>\n",
       "      <td>0.193901</td>\n",
       "    </tr>\n",
       "  </tbody>\n",
       "</table>\n",
       "</div>"
      ],
      "text/plain": [
       "          n         r          CI95%     p-val   BF10     power\n",
       "pearson  25  0.225372  [-0.19, 0.57]  0.278728  0.433  0.193901"
      ]
     },
     "metadata": {},
     "output_type": "display_data"
    }
   ],
   "source": [
    "# Colesterol vs Edad\n",
    "display(pg.corr(data['colest'], data['edad']))\n",
    "\n",
    "# Colesterol vs Peso\n",
    "display(pg.corr(data['colest'], data['peso']))"
   ]
  },
  {
   "cell_type": "markdown",
   "id": "7f2edf44",
   "metadata": {},
   "source": [
    "#### 1.2.c Modelo Lineal (Colesterol ~ Edad)"
   ]
  },
  {
   "cell_type": "code",
   "execution_count": 14,
   "id": "847a10b5",
   "metadata": {},
   "outputs": [
    {
     "name": "stdout",
     "output_type": "stream",
     "text": [
      "                            OLS Regression Results                            \n",
      "==============================================================================\n",
      "Dep. Variable:                 colest   R-squared:                       0.776\n",
      "Model:                            OLS   Adj. R-squared:                  0.767\n",
      "Method:                 Least Squares   F-statistic:                     79.87\n",
      "Date:                Mon, 05 Jun 2023   Prob (F-statistic):           6.09e-09\n",
      "Time:                        20:46:59   Log-Likelihood:                -126.46\n",
      "No. Observations:                  25   AIC:                             256.9\n",
      "Df Residuals:                      23   BIC:                             259.4\n",
      "Df Model:                           1                                         \n",
      "Covariance Type:            nonrobust                                         \n",
      "==============================================================================\n",
      "                 coef    std err          t      P>|t|      [0.025      0.975]\n",
      "------------------------------------------------------------------------------\n",
      "const         95.5020     26.255      3.638      0.001      41.190     149.814\n",
      "edad           5.6708      0.635      8.937      0.000       4.358       6.983\n",
      "==============================================================================\n",
      "Omnibus:                        1.051   Durbin-Watson:                   1.783\n",
      "Prob(Omnibus):                  0.591   Jarque-Bera (JB):                0.982\n",
      "Skew:                           0.423   Prob(JB):                        0.612\n",
      "Kurtosis:                       2.522   Cond. No.                         137.\n",
      "==============================================================================\n",
      "\n",
      "Notes:\n",
      "[1] Standard Errors assume that the covariance matrix of the errors is correctly specified.\n"
     ]
    }
   ],
   "source": [
    "# Modelo Regresion Lineal con Statsmodel (approach mas estadistico)\n",
    "import statsmodels.api as sm\n",
    "\n",
    "X = data[['edad']] # Variable/s independiente, doble corchete para mantener 2d\n",
    "y = data['colest'] # Target\n",
    "\n",
    "X = sm.add_constant(X) # Se agrega la columna de 1, necesaria para el intercepto\n",
    "model = sm.OLS(y, X) # Ordinary Least Squares\n",
    "results = model.fit()\n",
    "\n",
    "print(results.summary())"
   ]
  },
  {
   "cell_type": "markdown",
   "id": "6ed70829",
   "metadata": {},
   "source": [
    "#### 1.2.c Test de Wald (Pendiente)"
   ]
  },
  {
   "cell_type": "code",
   "execution_count": 15,
   "id": "d3a3f9bd",
   "metadata": {
    "scrolled": true
   },
   "outputs": [],
   "source": [
    "# # This test is often used to determine if one or more predictor variables in a regression model are equal to zero\n",
    "# import statsmodels.formula.api as smf\n",
    "\n",
    "# results = smf.ols('colest ~ peso + edad', data).fit()\n",
    "# # display(results.summary())\n",
    "\n",
    "# # H0 indica que no aporta\n",
    "# print('Peso\\n', results.wald_test('( peso = 0)')) # Peso\n",
    "# print('Edad\\n', results.wald_test('( edad = 0)')) # Edad\n",
    "\n",
    "# # Pendiente de confirmar"
   ]
  },
  {
   "cell_type": "markdown",
   "id": "9fafde0a",
   "metadata": {},
   "source": [
    "#### 1.2.d Prediccion para 25, 48 y 80 anos"
   ]
  },
  {
   "cell_type": "code",
   "execution_count": 16,
   "id": "d02c2cbf",
   "metadata": {},
   "outputs": [
    {
     "name": "stdout",
     "output_type": "stream",
     "text": [
      "[237.27304609 367.70240481 549.16933868]\n"
     ]
    }
   ],
   "source": [
    "# Genero el vector de test\n",
    "x_test = np.array([25, 48, 80])\n",
    "x_test = sm.add_constant(x_test) # Agrego la constante de unos\n",
    "y_pred = results.predict(x_test)\n",
    "print(y_pred)"
   ]
  },
  {
   "cell_type": "markdown",
   "id": "1195fb83",
   "metadata": {},
   "source": [
    "#### 1.2.e Normalidad de Residuos (pendiente)"
   ]
  },
  {
   "cell_type": "code",
   "execution_count": 17,
   "id": "e2d8fff5",
   "metadata": {},
   "outputs": [],
   "source": [
    "# # Homoscedasticity Test\n",
    "# display(pg.homoscedasticity(data))"
   ]
  },
  {
   "cell_type": "markdown",
   "id": "b98bd6a2",
   "metadata": {},
   "source": [
    "### 1.3 Transformacion de Variables"
   ]
  },
  {
   "cell_type": "code",
   "execution_count": 20,
   "id": "6b993946",
   "metadata": {
    "scrolled": true
   },
   "outputs": [
    {
     "data": {
      "text/html": [
       "<div>\n",
       "<style scoped>\n",
       "    .dataframe tbody tr th:only-of-type {\n",
       "        vertical-align: middle;\n",
       "    }\n",
       "\n",
       "    .dataframe tbody tr th {\n",
       "        vertical-align: top;\n",
       "    }\n",
       "\n",
       "    .dataframe thead th {\n",
       "        text-align: right;\n",
       "    }\n",
       "</style>\n",
       "<table border=\"1\" class=\"dataframe\">\n",
       "  <thead>\n",
       "    <tr style=\"text-align: right;\">\n",
       "      <th></th>\n",
       "      <th>Energia</th>\n",
       "    </tr>\n",
       "    <tr>\n",
       "      <th>Hora</th>\n",
       "      <th></th>\n",
       "    </tr>\n",
       "  </thead>\n",
       "  <tbody>\n",
       "    <tr>\n",
       "      <th>1</th>\n",
       "      <td>598</td>\n",
       "    </tr>\n",
       "    <tr>\n",
       "      <th>2</th>\n",
       "      <td>527</td>\n",
       "    </tr>\n",
       "    <tr>\n",
       "      <th>3</th>\n",
       "      <td>530</td>\n",
       "    </tr>\n",
       "    <tr>\n",
       "      <th>4</th>\n",
       "      <td>528</td>\n",
       "    </tr>\n",
       "    <tr>\n",
       "      <th>5</th>\n",
       "      <td>452</td>\n",
       "    </tr>\n",
       "  </tbody>\n",
       "</table>\n",
       "</div>"
      ],
      "text/plain": [
       "      Energia\n",
       "Hora         \n",
       "1         598\n",
       "2         527\n",
       "3         530\n",
       "4         528\n",
       "5         452"
      ]
     },
     "execution_count": 20,
     "metadata": {},
     "output_type": "execute_result"
    }
   ],
   "source": [
    "# Cargo y renombro sacandole el acento\n",
    "data = pd.read_excel('Data/energia.xlsx', index_col='Hora')\n",
    "data.rename(columns={'Energía':'Energia'}, inplace=True)\n",
    "data.head()"
   ]
  },
  {
   "cell_type": "markdown",
   "id": "e909aeb9",
   "metadata": {},
   "source": [
    "#### 1.3.a Dispersion"
   ]
  },
  {
   "cell_type": "code",
   "execution_count": 29,
   "id": "b544a9bf",
   "metadata": {},
   "outputs": [
    {
     "data": {
      "image/png": "[encoded data removed]",
      "text/plain": [
       "<Figure size 640x480 with 1 Axes>"
      ]
     },
     "metadata": {},
     "output_type": "display_data"
    }
   ],
   "source": [
    "# Graficamos\n",
    "sns.regplot(data, x=data.index, y='Energia')\n",
    "plt.show()"
   ]
  }
 ],
 "metadata": {
  "kernelspec": {
   "display_name": "Python 3 (ipykernel)",
   "language": "python",
   "name": "python3"
  },
  "language_info": {
   "codemirror_mode": {
    "name": "ipython",
    "version": 3
   },
   "file_extension": ".py",
   "mimetype": "text/x-python",
   "name": "python",
   "nbconvert_exporter": "python",
   "pygments_lexer": "ipython3",
   "version": "3.10.9"
  }
 },
 "nbformat": 4,
 "nbformat_minor": 5
}
