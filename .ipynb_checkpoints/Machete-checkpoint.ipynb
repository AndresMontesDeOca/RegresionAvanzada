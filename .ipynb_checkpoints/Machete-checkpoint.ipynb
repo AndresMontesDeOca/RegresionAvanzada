{
  "cells": [
    {
      "cell_type": "markdown",
      "id": "eda0864a",
      "metadata": {
        "id": "eda0864a"
      },
      "source": [
        "# Machete con Diferentes Test"
      ]
    },
    {
      "cell_type": "code",
      "execution_count": 2,
      "id": "bbf8c17a",
      "metadata": {
        "id": "bbf8c17a",
        "outputId": "0e4d84f2-e0db-4eef-dd6f-ba548fcbe0b9",
        "colab": {
          "base_uri": "https://localhost:8080/"
        }
      },
      "outputs": [
        {
          "output_type": "stream",
          "name": "stdout",
          "text": [
            "Looking in indexes: https://pypi.org/simple, https://us-python.pkg.dev/colab-wheels/public/simple/\n",
            "Collecting pingouin\n",
            "  Downloading pingouin-0.5.3-py3-none-any.whl (198 kB)\n",
            "\u001b[2K     \u001b[90m━━━━━━━━━━━━━━━━━━━━━━━━━━━━━━━━━━━━━━━\u001b[0m \u001b[32m198.6/198.6 kB\u001b[0m \u001b[31m4.5 MB/s\u001b[0m eta \u001b[36m0:00:00\u001b[0m\n",
            "\u001b[?25hRequirement already satisfied: numpy>=1.19 in /usr/local/lib/python3.10/dist-packages (from pingouin) (1.22.4)\n",
            "Requirement already satisfied: scipy>=1.7 in /usr/local/lib/python3.10/dist-packages (from pingouin) (1.10.1)\n",
            "Requirement already satisfied: pandas>=1.0 in /usr/local/lib/python3.10/dist-packages (from pingouin) (1.5.3)\n",
            "Requirement already satisfied: matplotlib>=3.0.2 in /usr/local/lib/python3.10/dist-packages (from pingouin) (3.7.1)\n",
            "Requirement already satisfied: seaborn>=0.11 in /usr/local/lib/python3.10/dist-packages (from pingouin) (0.12.2)\n",
            "Requirement already satisfied: statsmodels>=0.13 in /usr/local/lib/python3.10/dist-packages (from pingouin) (0.13.5)\n",
            "Requirement already satisfied: scikit-learn in /usr/local/lib/python3.10/dist-packages (from pingouin) (1.2.2)\n",
            "Collecting pandas-flavor>=0.2.0 (from pingouin)\n",
            "  Downloading pandas_flavor-0.5.0-py3-none-any.whl (7.1 kB)\n",
            "Collecting outdated (from pingouin)\n",
            "  Downloading outdated-0.2.2-py2.py3-none-any.whl (7.5 kB)\n",
            "Requirement already satisfied: tabulate in /usr/local/lib/python3.10/dist-packages (from pingouin) (0.8.10)\n",
            "Requirement already satisfied: contourpy>=1.0.1 in /usr/local/lib/python3.10/dist-packages (from matplotlib>=3.0.2->pingouin) (1.0.7)\n",
            "Requirement already satisfied: cycler>=0.10 in /usr/local/lib/python3.10/dist-packages (from matplotlib>=3.0.2->pingouin) (0.11.0)\n",
            "Requirement already satisfied: fonttools>=4.22.0 in /usr/local/lib/python3.10/dist-packages (from matplotlib>=3.0.2->pingouin) (4.39.3)\n",
            "Requirement already satisfied: kiwisolver>=1.0.1 in /usr/local/lib/python3.10/dist-packages (from matplotlib>=3.0.2->pingouin) (1.4.4)\n",
            "Requirement already satisfied: packaging>=20.0 in /usr/local/lib/python3.10/dist-packages (from matplotlib>=3.0.2->pingouin) (23.1)\n",
            "Requirement already satisfied: pillow>=6.2.0 in /usr/local/lib/python3.10/dist-packages (from matplotlib>=3.0.2->pingouin) (8.4.0)\n",
            "Requirement already satisfied: pyparsing>=2.3.1 in /usr/local/lib/python3.10/dist-packages (from matplotlib>=3.0.2->pingouin) (3.0.9)\n",
            "Requirement already satisfied: python-dateutil>=2.7 in /usr/local/lib/python3.10/dist-packages (from matplotlib>=3.0.2->pingouin) (2.8.2)\n",
            "Requirement already satisfied: pytz>=2020.1 in /usr/local/lib/python3.10/dist-packages (from pandas>=1.0->pingouin) (2022.7.1)\n",
            "Requirement already satisfied: xarray in /usr/local/lib/python3.10/dist-packages (from pandas-flavor>=0.2.0->pingouin) (2022.12.0)\n",
            "Requirement already satisfied: lazy-loader>=0.1 in /usr/local/lib/python3.10/dist-packages (from pandas-flavor>=0.2.0->pingouin) (0.2)\n",
            "Requirement already satisfied: patsy>=0.5.2 in /usr/local/lib/python3.10/dist-packages (from statsmodels>=0.13->pingouin) (0.5.3)\n",
            "Requirement already satisfied: setuptools>=44 in /usr/local/lib/python3.10/dist-packages (from outdated->pingouin) (67.7.2)\n",
            "Collecting littleutils (from outdated->pingouin)\n",
            "  Downloading littleutils-0.2.2.tar.gz (6.6 kB)\n",
            "  Preparing metadata (setup.py) ... \u001b[?25l\u001b[?25hdone\n",
            "Requirement already satisfied: requests in /usr/local/lib/python3.10/dist-packages (from outdated->pingouin) (2.27.1)\n",
            "Requirement already satisfied: joblib>=1.1.1 in /usr/local/lib/python3.10/dist-packages (from scikit-learn->pingouin) (1.2.0)\n",
            "Requirement already satisfied: threadpoolctl>=2.0.0 in /usr/local/lib/python3.10/dist-packages (from scikit-learn->pingouin) (3.1.0)\n",
            "Requirement already satisfied: six in /usr/local/lib/python3.10/dist-packages (from patsy>=0.5.2->statsmodels>=0.13->pingouin) (1.16.0)\n",
            "Requirement already satisfied: urllib3<1.27,>=1.21.1 in /usr/local/lib/python3.10/dist-packages (from requests->outdated->pingouin) (1.26.15)\n",
            "Requirement already satisfied: certifi>=2017.4.17 in /usr/local/lib/python3.10/dist-packages (from requests->outdated->pingouin) (2022.12.7)\n",
            "Requirement already satisfied: charset-normalizer~=2.0.0 in /usr/local/lib/python3.10/dist-packages (from requests->outdated->pingouin) (2.0.12)\n",
            "Requirement already satisfied: idna<4,>=2.5 in /usr/local/lib/python3.10/dist-packages (from requests->outdated->pingouin) (3.4)\n",
            "Building wheels for collected packages: littleutils\n",
            "  Building wheel for littleutils (setup.py) ... \u001b[?25l\u001b[?25hdone\n",
            "  Created wheel for littleutils: filename=littleutils-0.2.2-py3-none-any.whl size=7029 sha256=3e108f59ab34355b0d2819e568e6fa328c612ad69d9f0be2fafe542ad1d8a49e\n",
            "  Stored in directory: /root/.cache/pip/wheels/3d/fe/b0/27a9892da57472e538c7452a721a9cf463cc03cf7379889266\n",
            "Successfully built littleutils\n",
            "Installing collected packages: littleutils, outdated, pandas-flavor, pingouin\n",
            "Successfully installed littleutils-0.2.2 outdated-0.2.2 pandas-flavor-0.5.0 pingouin-0.5.3\n"
          ]
        }
      ],
      "source": [
        "# Autor: Andres Montes de Oca\n",
        "\n",
        "# Instalacion de Paquetes\n",
        "# !pip install statsmodels\n",
        "# !pip install scipy\n",
        "!pip install pingouin # No incluido en Google COlab\n",
        "\n",
        "# Cargamos Librerias y Datos\n",
        "import numpy as np\n",
        "import pandas as pd\n",
        "import matplotlib.pyplot as plt\n",
        "import seaborn as sns\n",
        "import pingouin as pg\n",
        "from scipy import stats as st\n",
        "import statsmodels.api as sm\n",
        "import statsmodels.formula.api as smf\n",
        "import statsmodels.tools.tools as smt\n",
        "\n",
        "\n",
        "# Asthetics\n",
        "sns.set(style='ticks', context='notebook', palette='colorblind', font_scale=1, color_codes=True)"
      ]
    },
    {
      "cell_type": "markdown",
      "id": "d254c68d",
      "metadata": {
        "id": "d254c68d"
      },
      "source": [
        "## RPY2\n",
        "#### Python <====> R"
      ]
    },
    {
      "cell_type": "code",
      "execution_count": null,
      "id": "179eb647",
      "metadata": {
        "id": "179eb647"
      },
      "outputs": [],
      "source": [
        "# !pip install rpy2\n",
        "import rpy2.robjects as ro\n",
        "import rpy2.robjects.packages as rpackages\n",
        "from rpy2.robjects import pandas2ri\n",
        "\n",
        "from rpy2.robjects.packages import importr\n",
        "from rpy2.robjects.vectors import StrVector"
      ]
    },
    {
      "cell_type": "code",
      "execution_count": null,
      "id": "022cca2d",
      "metadata": {
        "id": "022cca2d",
        "outputId": "39650bcb-755d-4907-86a4-b6a1bd71a8af"
      },
      "outputs": [
        {
          "data": {
            "text/plain": [
              "<rpy2.rinterface_lib.sexp.NULLType object at 0x0000017FD771F580> [RTYPES.NILSXP]"
            ]
          },
          "execution_count": 13,
          "metadata": {},
          "output_type": "execute_result"
        }
      ],
      "source": [
        "# Importing packages R packages\n",
        "base = importr('base')\n",
        "utils = importr('utils')\n",
        "\n",
        "# Select a mirror for R packages\n",
        "utils.chooseCRANmirror(ind=1)"
      ]
    },
    {
      "cell_type": "code",
      "execution_count": null,
      "id": "44e447ab",
      "metadata": {
        "id": "44e447ab"
      },
      "outputs": [],
      "source": [
        "# Installing packages R packages\n",
        "packnames = ('ggplot2', 'hexbin')\n",
        "\n",
        "# Selectively install what needs to be install.\n",
        "names_to_install = [x for x in packnames if not rpackages.isinstalled(x)]\n",
        "if len(names_to_install) > 0:\n",
        "    utils.install_packages(StrVector(names_to_install))"
      ]
    },
    {
      "cell_type": "code",
      "execution_count": null,
      "id": "a0b38b8e",
      "metadata": {
        "id": "a0b38b8e",
        "outputId": "8f1d0112-00f9-4ecf-cc4b-9270b97afb40"
      },
      "outputs": [
        {
          "data": {
            "text/html": [
              "<div>\n",
              "<style scoped>\n",
              "    .dataframe tbody tr th:only-of-type {\n",
              "        vertical-align: middle;\n",
              "    }\n",
              "\n",
              "    .dataframe tbody tr th {\n",
              "        vertical-align: top;\n",
              "    }\n",
              "\n",
              "    .dataframe thead th {\n",
              "        text-align: right;\n",
              "    }\n",
              "</style>\n",
              "<table border=\"1\" class=\"dataframe\">\n",
              "  <thead>\n",
              "    <tr style=\"text-align: right;\">\n",
              "      <th></th>\n",
              "      <th>speed</th>\n",
              "      <th>dist</th>\n",
              "    </tr>\n",
              "  </thead>\n",
              "  <tbody>\n",
              "    <tr>\n",
              "      <th>0</th>\n",
              "      <td>4</td>\n",
              "      <td>2</td>\n",
              "    </tr>\n",
              "    <tr>\n",
              "      <th>1</th>\n",
              "      <td>4</td>\n",
              "      <td>10</td>\n",
              "    </tr>\n",
              "    <tr>\n",
              "      <th>2</th>\n",
              "      <td>7</td>\n",
              "      <td>4</td>\n",
              "    </tr>\n",
              "    <tr>\n",
              "      <th>3</th>\n",
              "      <td>7</td>\n",
              "      <td>22</td>\n",
              "    </tr>\n",
              "    <tr>\n",
              "      <th>4</th>\n",
              "      <td>8</td>\n",
              "      <td>16</td>\n",
              "    </tr>\n",
              "  </tbody>\n",
              "</table>\n",
              "</div>"
            ],
            "text/plain": [
              "   speed  dist\n",
              "0      4     2\n",
              "1      4    10\n",
              "2      7     4\n",
              "3      7    22\n",
              "4      8    16"
            ]
          },
          "execution_count": 22,
          "metadata": {},
          "output_type": "execute_result"
        }
      ],
      "source": [
        "# Getting R Objects\n",
        "pi = ro.r['pi']\n",
        "\n",
        "dataCars.head()"
      ]
    },
    {
      "cell_type": "code",
      "execution_count": null,
      "id": "656c180f",
      "metadata": {
        "id": "656c180f",
        "outputId": "7b5e3c23-06b2-4196-d08c-b219a536a64a"
      },
      "outputs": [
        {
          "data": {
            "text/plain": [
              "rpy2.robjects.vectors.DataFrame"
            ]
          },
          "execution_count": 28,
          "metadata": {},
          "output_type": "execute_result"
        }
      ],
      "source": [
        "# Dataframe from Python to R\n",
        "with (ro.default_converter + pandas2ri.converter).context():\n",
        "  dataCarsR = ro.conversion.get_conversion().py2rpy(dataCars)\n",
        "\n",
        "type(dataCarsR)"
      ]
    },
    {
      "cell_type": "markdown",
      "id": "b00fc712",
      "metadata": {
        "id": "b00fc712"
      },
      "source": [
        "## Cargas de Datasets"
      ]
    },
    {
      "cell_type": "code",
      "execution_count": null,
      "id": "74cd8b72",
      "metadata": {
        "id": "74cd8b72"
      },
      "outputs": [],
      "source": [
        "# Iris para probar las Key Assumptions\n",
        "dataI = sns.load_dataset('iris')\n",
        "\n",
        "# Grasa de Cerdos\n",
        "dataC = pd.read_excel('Data/grasacerdos.xlsx', index_col='Obs') # Cargamos el Dataset\n",
        "dataC = dataC.replace(to_replace=',', value='.', regex=True) # Reemplazo , por .\n",
        "dataC = dataC.astype('float') # Transformo en float\n",
        "\n",
        "# Damascos\n",
        "# dataD = pd.read_csv('Data/Damascos.csv', index_col='VARIEDAD') # Incompleto\n",
        "\n",
        "# Dataset para Regresion Lineal\n",
        "dataP = pd.read_excel('Data/peso_edad_colest.xlsx')\n",
        "\n",
        "# Modelo Lineal para ejemplos (se en detalle ma abajo)\n",
        "dataP = sm.add_constant(dataP)\n",
        "model_colest = smf.ols('colest ~ edad', data=dataP).fit()\n",
        "\n",
        "# Modelo para Box-Cox usando dataset de cars\n",
        "dataCars = pd.read_csv('Data/cars.csv')\n",
        "model_cars = smf.ols('dist ~ speed', data=dataCars).fit()"
      ]
    },
    {
      "cell_type": "markdown",
      "id": "8d4a1f4d",
      "metadata": {
        "id": "8d4a1f4d"
      },
      "source": [
        "#### Logbook"
      ]
    },
    {
      "cell_type": "code",
      "execution_count": null,
      "id": "3d998446",
      "metadata": {
        "id": "3d998446"
      },
      "outputs": [],
      "source": [
        "# 31/05/23 -> Creacion de la Notebook\n",
        "# 31/05/23 -> 1, 2, 3, 4, 5\n",
        "# 06/06/23 -> 6 - Correlacion de Residuos\n",
        "# 17/06/23 -> 7 - Transfomraciones Box Clox"
      ]
    },
    {
      "cell_type": "markdown",
      "id": "790a5df9",
      "metadata": {
        "id": "790a5df9"
      },
      "source": [
        "## Machete"
      ]
    },
    {
      "cell_type": "markdown",
      "id": "cd2f6acc",
      "metadata": {
        "id": "cd2f6acc"
      },
      "source": [
        "### 1) Linear Relationship\n",
        "Relationship between independent var (x) and depedent var (y) is linear"
      ]
    },
    {
      "cell_type": "code",
      "execution_count": null,
      "id": "cf05b562",
      "metadata": {
        "id": "cf05b562"
      },
      "outputs": [],
      "source": [
        "sns.scatterplot(data=dataI, x='petal_length', y='petal_width')\n",
        "plt.show()\n",
        "\n",
        "# Transformmations for making relationships linear. Polynomial or Exponential for any of both"
      ]
    },
    {
      "cell_type": "markdown",
      "id": "52f41bc3",
      "metadata": {
        "id": "52f41bc3"
      },
      "source": [
        "### 2) Multicollonearity\n",
        "Eeach independent variable should be independent from other independent variables"
      ]
    },
    {
      "cell_type": "code",
      "execution_count": null,
      "id": "0f1bbdd2",
      "metadata": {
        "id": "0f1bbdd2"
      },
      "outputs": [],
      "source": [
        "display(pg.corr(dataI['petal_length'], dataI['petal_width'], method='pearson')) # Entre dos varibales, H0 -> Variables Independientes\n",
        "display(sns.heatmap(dataI.corr(), vmin=-1, vmax=1, cmap='RdYlGn', annot=True)) # Todos contra todos"
      ]
    },
    {
      "cell_type": "markdown",
      "id": "376e23da",
      "metadata": {
        "id": "376e23da"
      },
      "source": [
        "### 3) Bi-Variate Normality\n",
        "Multivariate Normality in Variables"
      ]
    },
    {
      "cell_type": "code",
      "execution_count": null,
      "id": "01bb3f9d",
      "metadata": {
        "id": "01bb3f9d"
      },
      "outputs": [],
      "source": [
        "# Test analitico para Multi\n",
        "print(pg.multivariate_normality(dataI.drop(columns='species'))) # Henze-Zirkler Test, H0 -> Multiv Normal Dist\n",
        "\n",
        "\n",
        "# Tests analiticos para Single\n",
        "display(pg.normality(dataI['sepal_width'])) # Shapiro Test(single Var), H0 -> Normal Dist\n",
        "\n",
        "# Otros tests\n",
        "# sm.stats.diagnostic.normal_ad(dataI['sepal_width']) # Anderson-Darling StatsModels\n",
        "# st.anderson(dataI['sepal_width'], dist='norm') # Anderson-Darling SciPy\n",
        "# st.kstest(dataI['sepal_width'], 'norm')# Kolmogorov-Smirnov SciPy\n",
        "\n",
        "# Test grafico para Single\n",
        "pg.qqplot(dataI['sepal_width']) # QQ Plot\n",
        "plt.show()"
      ]
    },
    {
      "cell_type": "markdown",
      "id": "5d4fe44f",
      "metadata": {
        "id": "5d4fe44f"
      },
      "source": [
        "### 4) Residuals Normality With 0 Mean\n",
        "Model residuals should follow a normal distribution, with 0 as mean"
      ]
    },
    {
      "cell_type": "code",
      "execution_count": null,
      "id": "74a6eace",
      "metadata": {
        "id": "74a6eace"
      },
      "outputs": [],
      "source": [
        "# Primero hay que generar el Modelo de Regresion Lineal\n",
        "display(pg.normality(model_colest.resid))\n",
        "print('Mean:', model_colest.resid.mean())\n",
        "\n",
        "# If distribution is not normal, regression results will be biased\n",
        "# and it may highlight that there are outliers or other assumptions being violated"
      ]
    },
    {
      "cell_type": "markdown",
      "id": "6a56b196",
      "metadata": {
        "id": "6a56b196"
      },
      "source": [
        "### 5) Residuals Variance (Homosedasticity)\n",
        "The variance of residual is the same for any value of x"
      ]
    },
    {
      "cell_type": "code",
      "execution_count": null,
      "id": "94129b70",
      "metadata": {
        "id": "94129b70"
      },
      "outputs": [],
      "source": [
        "# Analsis grafico a mano usando Matplotlib\n",
        "plt.scatter(x=model_colest.predict(), y=model_colest.resid)\n",
        "plt.xlabel( 'Prediccion')\n",
        "plt.ylabel('Residuo')\n",
        "plt.title('Distribucion de Residuos')\n",
        "plt.axhline(color='grey', linestyle='dashed', alpha=0.5)\n",
        "plt.show()\n",
        "# No se observa estructura de embudo\n",
        "\n",
        "# Analitico (Breusch-Pagan Test) -> H0: Residuos Homocedasticos\n",
        "BP, p_value, _, _ =sm.stats.het_breuschpagan(model_colest.resid, model_colest.model.exog)\n",
        "print('Estadistico BP y p-value:', BP, p_value)\n",
        "\n",
        "# sns.residplot(data=dataP, x='edad', y='colest', lowess=True) # Pending\n",
        "# Test White, Goldfeld-Quandt  Pending"
      ]
    },
    {
      "cell_type": "markdown",
      "id": "cd5bc19b",
      "metadata": {
        "id": "cd5bc19b"
      },
      "source": [
        "### 6) Correlacion de Residuos\n",
        "Aleatoriedad en el orden de las observacioens"
      ]
    },
    {
      "cell_type": "code",
      "execution_count": null,
      "id": "fb3fbc04",
      "metadata": {
        "id": "fb3fbc04"
      },
      "outputs": [],
      "source": [
        "# Analsis grafico a mano usando Matplotlib\n",
        "plt.scatter(x=dataP.index, y=model_colest.resid)\n",
        "plt.xlabel( 'Index')\n",
        "plt.ylabel('Residuo')\n",
        "plt.title('Correlacion de Residuos')\n",
        "plt.axhline(color='grey', linestyle='dashed', alpha=0.5)\n",
        "plt.show()\n",
        "# No se observa estructura\n",
        "\n",
        "# Durbin-Watson Test: 2=No Correlacion (Independecia?)| 0=Correlacion Pos | 4=Correlacion Neg\n",
        "print('Durbin-Watson:', sm.stats.durbin_watson(model_colest.resid)) # Sin validacion Estadistica"
      ]
    },
    {
      "cell_type": "markdown",
      "id": "3531f964",
      "metadata": {
        "id": "3531f964"
      },
      "source": [
        "## 7) Transformacion Box-Cox (pendiente IC e IP)\n",
        "Cuando los residuos no siguen una distribucion Normal, transformamos la y"
      ]
    },
    {
      "cell_type": "code",
      "execution_count": null,
      "id": "27dc28e2",
      "metadata": {
        "id": "27dc28e2"
      },
      "outputs": [],
      "source": [
        "# Verificamos la Normalidad de los residuos\n",
        "print(st.shapiro(model_cars.resid))\n",
        "data = dataCars\n",
        "y = data['dist']\n",
        "\n",
        "# Box-Plot Transformation - Calculo Lambda\n",
        "maxlog = st.boxcox(y)[1]\n",
        "st.boxcox_normplot(y, -2, 2, plt)\n",
        "plt.axvline(maxlog, color='red')\n",
        "plt.show()\n",
        "\n",
        "# Transfomracion: Si Lambda  = 0 -> np.log10(y) | y**Lambda\n",
        "y_trans = pd.Series(y**.5, name='y_trans')\n",
        "# No olvidarse de anti-transformar para los IC(10**predicted)\n",
        "\n",
        "# Generamos el nuevo Dataset con la y transformada\n",
        "data = pd.concat([data, y_trans], axis=1)\n",
        "\n",
        "# Generamos el nuevo modelo con la y_transformada\n",
        "model_cars_trans = smf.ols('y_trans ~ speed', data=data).fit()\n",
        "\n",
        "# Verificamos la nueva normalidad de los residuos\n",
        "print(pg.normality(model_cars_trans.resid))"
      ]
    }
  ],
  "metadata": {
    "kernelspec": {
      "display_name": "Python 3 (ipykernel)",
      "language": "python",
      "name": "python3"
    },
    "language_info": {
      "codemirror_mode": {
        "name": "ipython",
        "version": 3
      },
      "file_extension": ".py",
      "mimetype": "text/x-python",
      "name": "python",
      "nbconvert_exporter": "python",
      "pygments_lexer": "ipython3",
      "version": "3.10.9"
    },
    "colab": {
      "provenance": []
    }
  },
  "nbformat": 4,
  "nbformat_minor": 5
}