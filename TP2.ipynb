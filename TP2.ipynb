{
  "cells": [
    {
      "cell_type": "markdown",
      "metadata": {
        "id": "view-in-github",
        "colab_type": "text"
      },
      "source": [
        "<a href=\"https://colab.research.google.com/github/AndresMontesDeOca/RegresionAvanzada/blob/main/TP2.ipynb\" target=\"_parent\"><img src=\"https://colab.research.google.com/assets/colab-badge.svg\" alt=\"Open In Colab\"/></a>"
      ]
    },
    {
      "cell_type": "markdown",
      "source": [
        "# Capitulo #2 - Modelo Lineal Multivariado"
      ],
      "metadata": {
        "id": "RqnPVJlWCwy6"
      }
    },
    {
      "cell_type": "code",
      "source": [
        "# Instalacion de Paquetes\n",
        "!pip install pingouin # No incluido en Google Colab\n",
        "# !pip install scipy\n",
        "# !pip install statsmodels\n",
        "\n",
        "# Version rpy2 que no tiene problemas de compatibilidad\n",
        "!pip install rpy2==3.5.1\n",
        "\n",
        "# Cargamos Librerias y Datos\n",
        "import numpy as np\n",
        "import pandas as pd\n",
        "import matplotlib.pyplot as plt\n",
        "import seaborn as sns\n",
        "import pingouin as pg\n",
        "from scipy import stats as st\n",
        "import statsmodels.api as sm\n",
        "import statsmodels.formula.api as smf\n",
        "import statsmodels.tools.tools as smt\n",
        "import math\n",
        "\n",
        "# Ignorar Warnings\n",
        "import warnings\n",
        "warnings.filterwarnings('ignore')\n",
        "\n",
        "# Asthetics\n",
        "sns.set(style='ticks', context='notebook', palette='colorblind', font_scale=1, color_codes=True)\n",
        "\n",
        "# Recursion limit errors with R Magic\n",
        "import sys\n",
        "# sys.setrecursionlimit(50000)\n",
        "\n",
        "# Activamos R magic\n",
        "%load_ext rpy2.ipython"
      ],
      "metadata": {
        "id": "upKnETQ3C4NC",
        "outputId": "09bc9018-8746-4956-dc78-d107f11b0aa9",
        "colab": {
          "base_uri": "https://localhost:8080/"
        }
      },
      "execution_count": 306,
      "outputs": [
        {
          "output_type": "stream",
          "name": "stdout",
          "text": [
            "Requirement already satisfied: pingouin in /usr/local/lib/python3.10/dist-packages (0.5.3)\n",
            "Requirement already satisfied: numpy>=1.19 in /usr/local/lib/python3.10/dist-packages (from pingouin) (1.22.4)\n",
            "Requirement already satisfied: scipy>=1.7 in /usr/local/lib/python3.10/dist-packages (from pingouin) (1.10.1)\n",
            "Requirement already satisfied: pandas>=1.0 in /usr/local/lib/python3.10/dist-packages (from pingouin) (1.5.3)\n",
            "Requirement already satisfied: matplotlib>=3.0.2 in /usr/local/lib/python3.10/dist-packages (from pingouin) (3.7.1)\n",
            "Requirement already satisfied: seaborn>=0.11 in /usr/local/lib/python3.10/dist-packages (from pingouin) (0.12.2)\n",
            "Requirement already satisfied: statsmodels>=0.13 in /usr/local/lib/python3.10/dist-packages (from pingouin) (0.13.5)\n",
            "Requirement already satisfied: scikit-learn in /usr/local/lib/python3.10/dist-packages (from pingouin) (1.2.2)\n",
            "Requirement already satisfied: pandas-flavor>=0.2.0 in /usr/local/lib/python3.10/dist-packages (from pingouin) (0.5.0)\n",
            "Requirement already satisfied: outdated in /usr/local/lib/python3.10/dist-packages (from pingouin) (0.2.2)\n",
            "Requirement already satisfied: tabulate in /usr/local/lib/python3.10/dist-packages (from pingouin) (0.8.10)\n",
            "Requirement already satisfied: contourpy>=1.0.1 in /usr/local/lib/python3.10/dist-packages (from matplotlib>=3.0.2->pingouin) (1.1.0)\n",
            "Requirement already satisfied: cycler>=0.10 in /usr/local/lib/python3.10/dist-packages (from matplotlib>=3.0.2->pingouin) (0.11.0)\n",
            "Requirement already satisfied: fonttools>=4.22.0 in /usr/local/lib/python3.10/dist-packages (from matplotlib>=3.0.2->pingouin) (4.40.0)\n",
            "Requirement already satisfied: kiwisolver>=1.0.1 in /usr/local/lib/python3.10/dist-packages (from matplotlib>=3.0.2->pingouin) (1.4.4)\n",
            "Requirement already satisfied: packaging>=20.0 in /usr/local/lib/python3.10/dist-packages (from matplotlib>=3.0.2->pingouin) (23.1)\n",
            "Requirement already satisfied: pillow>=6.2.0 in /usr/local/lib/python3.10/dist-packages (from matplotlib>=3.0.2->pingouin) (8.4.0)\n",
            "Requirement already satisfied: pyparsing>=2.3.1 in /usr/local/lib/python3.10/dist-packages (from matplotlib>=3.0.2->pingouin) (3.1.0)\n",
            "Requirement already satisfied: python-dateutil>=2.7 in /usr/local/lib/python3.10/dist-packages (from matplotlib>=3.0.2->pingouin) (2.8.2)\n",
            "Requirement already satisfied: pytz>=2020.1 in /usr/local/lib/python3.10/dist-packages (from pandas>=1.0->pingouin) (2022.7.1)\n",
            "Requirement already satisfied: xarray in /usr/local/lib/python3.10/dist-packages (from pandas-flavor>=0.2.0->pingouin) (2022.12.0)\n",
            "Requirement already satisfied: lazy-loader>=0.1 in /usr/local/lib/python3.10/dist-packages (from pandas-flavor>=0.2.0->pingouin) (0.2)\n",
            "Requirement already satisfied: patsy>=0.5.2 in /usr/local/lib/python3.10/dist-packages (from statsmodels>=0.13->pingouin) (0.5.3)\n",
            "Requirement already satisfied: setuptools>=44 in /usr/local/lib/python3.10/dist-packages (from outdated->pingouin) (67.7.2)\n",
            "Requirement already satisfied: littleutils in /usr/local/lib/python3.10/dist-packages (from outdated->pingouin) (0.2.2)\n",
            "Requirement already satisfied: requests in /usr/local/lib/python3.10/dist-packages (from outdated->pingouin) (2.27.1)\n",
            "Requirement already satisfied: joblib>=1.1.1 in /usr/local/lib/python3.10/dist-packages (from scikit-learn->pingouin) (1.2.0)\n",
            "Requirement already satisfied: threadpoolctl>=2.0.0 in /usr/local/lib/python3.10/dist-packages (from scikit-learn->pingouin) (3.1.0)\n",
            "Requirement already satisfied: six in /usr/local/lib/python3.10/dist-packages (from patsy>=0.5.2->statsmodels>=0.13->pingouin) (1.16.0)\n",
            "Requirement already satisfied: urllib3<1.27,>=1.21.1 in /usr/local/lib/python3.10/dist-packages (from requests->outdated->pingouin) (1.26.16)\n",
            "Requirement already satisfied: certifi>=2017.4.17 in /usr/local/lib/python3.10/dist-packages (from requests->outdated->pingouin) (2023.5.7)\n",
            "Requirement already satisfied: charset-normalizer~=2.0.0 in /usr/local/lib/python3.10/dist-packages (from requests->outdated->pingouin) (2.0.12)\n",
            "Requirement already satisfied: idna<4,>=2.5 in /usr/local/lib/python3.10/dist-packages (from requests->outdated->pingouin) (3.4)\n",
            "Requirement already satisfied: rpy2==3.5.1 in /usr/local/lib/python3.10/dist-packages (3.5.1)\n",
            "Requirement already satisfied: cffi>=1.10.0 in /usr/local/lib/python3.10/dist-packages (from rpy2==3.5.1) (1.15.1)\n",
            "Requirement already satisfied: jinja2 in /usr/local/lib/python3.10/dist-packages (from rpy2==3.5.1) (3.1.2)\n",
            "Requirement already satisfied: pytz in /usr/local/lib/python3.10/dist-packages (from rpy2==3.5.1) (2022.7.1)\n",
            "Requirement already satisfied: tzlocal in /usr/local/lib/python3.10/dist-packages (from rpy2==3.5.1) (5.0.1)\n",
            "Requirement already satisfied: pycparser in /usr/local/lib/python3.10/dist-packages (from cffi>=1.10.0->rpy2==3.5.1) (2.21)\n",
            "Requirement already satisfied: MarkupSafe>=2.0 in /usr/local/lib/python3.10/dist-packages (from jinja2->rpy2==3.5.1) (2.1.3)\n",
            "The rpy2.ipython extension is already loaded. To reload it, use:\n",
            "  %reload_ext rpy2.ipython\n"
          ]
        }
      ]
    },
    {
      "cell_type": "code",
      "source": [
        "%%R\n",
        "\n",
        "# # ## MVN Henze-Zirkler Test ### -> Lento\n",
        "# # # system(sudo apt install libgsl-dev)\n",
        "# # install.packages('MVN')\n",
        "\n",
        "# ## QQ Plot, Bonferroni, outlierTest, vif ### -> Lento\n",
        "install.packages('car')\n",
        "\n",
        "## Wald Test ### -> Rapido\n",
        "install.packages('aod')\n",
        "\n",
        "# LRM Tests ### -> Rapido\n",
        "install.packages('lmtest')\n",
        "\n",
        "## Box-Cox Transformation ### -> Rapido\n",
        "install.packages('MASS') # Huber, LTS\n",
        "\n",
        "## Estimaciones Robustas ### ->\n",
        "install.packages('quantreg') # LAD\n",
        "install.packages('robustbase') # lmrob\n",
        "# install.packages('olsrr')\n",
        "\n",
        "## Seleccion de Variables ### -> Rapido\n",
        "install.packages('leaps') # -> regsubsets"
      ],
      "metadata": {
        "id": "YtgYc_bYDAq4"
      },
      "execution_count": null,
      "outputs": []
    },
    {
      "cell_type": "code",
      "source": [
        "# Code to read csv file into Colaboratory:\n",
        "!pip install -U -q PyDrive\n",
        "from pydrive.auth import GoogleAuth\n",
        "from pydrive.drive import GoogleDrive\n",
        "from google.colab import auth\n",
        "from oauth2client.client import GoogleCredentials\n",
        "\n",
        "# Authenticate and create the PyDrive client.\n",
        "auth.authenticate_user()\n",
        "gauth = GoogleAuth()\n",
        "gauth.credentials = GoogleCredentials.get_application_default()\n",
        "drive = GoogleDrive(gauth)\n",
        "\n",
        "################################# Datasets ###################################\n",
        "# Grasa de Cerdos\n",
        "id = '153lGVzdixcHT-keKg8qmvaoWdPHg6_tB'\n",
        "downloaded = drive.CreateFile({'id':id})\n",
        "downloaded.GetContentFile('grasacerdos.xlsx')\n",
        "dataG = pd.read_excel('grasacerdos.xlsx', index_col='Obs') # Cargamos el Dataset\n",
        "dataG = dataG.replace(to_replace=',', value='.', regex=True) # Reemplazo , por .\n",
        "dataG = dataG.astype('float') # Transformo en float\n",
        "\n",
        "######################################################\n",
        "# Peso, Edad, Colesterol\n",
        "id = '17Dv1WcWlc9ojWa6bnSfD7TCRaVKCKqj0'\n",
        "downloaded = drive.CreateFile({'id':id})\n",
        "downloaded.GetContentFile('peso_edad_colest.xlsx')\n",
        "dataP = pd.read_excel('peso_edad_colest.xlsx')\n",
        "%R -i dataP\n",
        "######################################################\n",
        "# Cars con Modelo Lineal\n",
        "id = '15pf-6P4Ek2rp6mYmfOybHRqAxqOoTp6i'\n",
        "downloaded = drive.CreateFile({'id':id})\n",
        "downloaded.GetContentFile('cars.csv')\n",
        "dataC = pd.read_csv('cars.csv')\n",
        "%R -i dataC\n",
        "model_cars = smf.ols('dist ~ speed', data=dataC).fit()\n",
        "######################################################\n",
        "# University\n",
        "id = '16kLQNXhyweAi38xR2IeQCCagVcU725UZ'\n",
        "downloaded = drive.CreateFile({'id':id})\n",
        "downloaded.GetContentFile('University.csv')\n",
        "dataU = pd.read_csv('University.csv')\n",
        "######################################################\n",
        "# Iris\n",
        "dataI = sns.load_dataset('iris')\n",
        "%R -i dataI\n",
        "######################################################\n",
        "# Gorriones\n",
        "id = '15G6jIOMiuWaTs-qy7eUXwhED4delBMl6'\n",
        "downloaded = drive.CreateFile({'id':id})\n",
        "downloaded.GetContentFile('gorriones.xlsx')\n",
        "dataO = pd.read_excel('gorriones.xlsx')\n",
        "dataO.rename(columns=\n",
        "            {'largototal':'Largo', 'extension ':'Alas', 'cabeza':'Cabeza',\n",
        "             'humero':'Pata', 'esternon':'Cuerpo', 'sobrevida ':'Target'},\n",
        "            inplace=True)\n",
        "%R -i dataO\n",
        "######################################################\n",
        "# Madera\n",
        "id = '17F8XFNpCszGHFfs7CpXzZotfmWmXXhoi'\n",
        "downloaded = drive.CreateFile({'id':id})\n",
        "downloaded.GetContentFile('madera.csv')\n",
        "dataM = pd.read_csv('madera.csv').drop(columns='Unnamed: 0')\n",
        "%R -i dataM\n",
        "\n",
        "######################################################\n",
        "# Duncan\n",
        "id = '17aCADG_APoFTsCdPvdI5T25gBAUE8U2T'\n",
        "downloaded = drive.CreateFile({'id':id})\n",
        "downloaded.GetContentFile('Duncan.csv')\n",
        "dataD = pd.read_csv('Duncan.csv')\n",
        "%R -i dataD\n",
        "\n",
        "######################################################\n",
        "# Infants\n",
        "id = '17qgVDqEcWeevZh2dHlvPIQ4ueAcTzSjU'\n",
        "downloaded = drive.CreateFile({'id':id})\n",
        "downloaded.GetContentFile('low_birth_weight_infants.xlsx')\n",
        "dataF = pd.read_excel('low_birth_weight_infants.xlsx')\n",
        "%R -i dataF\n",
        "\n",
        "######################################################\n",
        "# MT Cars\n",
        "id = '17vmBKWIJUt3uiry6WH5-Tyu3ab_mVdX8'\n",
        "downloaded = drive.CreateFile({'id':id})\n",
        "downloaded.GetContentFile('mtcars.csv')\n",
        "dataA = pd.read_csv('mtcars.csv')\n",
        "dataA.drop(columns='model', inplace=True)\n",
        "%R -i dataA\n",
        "\n",
        "######################################################\n",
        "# Fingerprints\n",
        "id = '17zjDDk7VZ1fb_6A-UOaDGpzLUyNeG5AW'\n",
        "downloaded = drive.CreateFile({'id':id})\n",
        "downloaded.GetContentFile('fingerprints.csv')\n",
        "dataFP = pd.read_csv('fingerprints.csv').drop(columns='Unnamed: 0')\n",
        "%R -i dataFP\n",
        "\n",
        "######################################################\n",
        "# Carseats\n",
        "id = '17d0yuvZLyRBM5INORFMzlJSBzkL-I8wI'\n",
        "downloaded = drive.CreateFile({'id':id})\n",
        "downloaded.GetContentFile('Carseats.csv')\n",
        "dataS = pd.read_csv('Carseats.csv')\n",
        "%R -i dataS\n",
        "\n",
        "######################################################\n",
        "# Publicidad\n",
        "id = '170luIH1wgjs290gtW7ywp70bjhOlUpAV'\n",
        "downloaded = drive.CreateFile({'id':id})\n",
        "downloaded.GetContentFile('publicidad.xlsx')\n",
        "dataPu = pd.read_excel('publicidad.xlsx')\n",
        "dataPu.drop(columns='orden', inplace=True)\n",
        "%R -i dataPu"
      ],
      "metadata": {
        "id": "wNmjm5T1DFTj"
      },
      "execution_count": 399,
      "outputs": []
    },
    {
      "cell_type": "markdown",
      "source": [
        "## 2.1 Modelo Aditivo"
      ],
      "metadata": {
        "id": "CHmmkE83ExSL"
      }
    },
    {
      "cell_type": "code",
      "source": [
        "# # Cargamos el Dataset\n",
        "%%R\n",
        "\n",
        "library(dplyr)\n",
        "\n",
        "data <- as.data.frame(trees)\n",
        "\n",
        "head(data)"
      ],
      "metadata": {
        "id": "2edwqgz3Fmdf",
        "outputId": "16e9dc9a-1039-4bca-a82b-67b44cf2317c",
        "colab": {
          "base_uri": "https://localhost:8080/"
        }
      },
      "execution_count": 400,
      "outputs": [
        {
          "output_type": "stream",
          "name": "stdout",
          "text": [
            "  Girth Height Volume\n",
            "1   8.3     70   10.3\n",
            "2   8.6     65   10.3\n",
            "3   8.8     63   10.2\n",
            "4  10.5     72   16.4\n",
            "5  10.7     81   18.8\n",
            "6  10.8     83   19.7\n"
          ]
        }
      ]
    },
    {
      "cell_type": "markdown",
      "source": [
        "### Visaluzacion de la Asociacion entre las Variables"
      ],
      "metadata": {
        "id": "fV6fZYgPSf7v"
      }
    },
    {
      "cell_type": "code",
      "source": [
        "# Visualizamos\n",
        "%R -o data\n",
        "\n",
        "display(sns.heatmap(data.corr(), vmin=-1, vmax=1, cmap='RdYlGn', annot=True)) # Todos contra todos\n",
        "plt.show()\n",
        "\n",
        "sns.pairplot(data=data)\n",
        "plt.show()"
      ],
      "metadata": {
        "id": "EVqvMLnmHfKG",
        "outputId": "a66f7e4f-5310-4db7-e76c-7b50aa939fc7",
        "colab": {
          "base_uri": "https://localhost:8080/",
          "height": 1000
        }
      },
      "execution_count": 401,
      "outputs": [
        {
          "output_type": "display_data",
          "data": {
            "text/plain": [
              "<Axes: >"
            ]
          },
          "metadata": {}
        },
        {
          "output_type": "display_data",
          "data": {
            "text/plain": [
              "<Figure size 640x480 with 2 Axes>"
            ],
            "image/png": "[encoded data removed]"
          },
          "metadata": {}
        },
        {
          "output_type": "display_data",
          "data": {
            "text/plain": [
              "<Figure size 750x750 with 12 Axes>"
            ],
            "image/png": "[encoded data removed]"
          },
          "metadata": {}
        }
      ]
    },
    {
      "cell_type": "markdown",
      "source": [
        "- Se observa una asociacion lineal muy fuerte entre la variable predictora Girth, y la variable respuesta Volume. El coeficiente de correlacion de Pearson es de 0.97\n",
        "- La otra variable predictora Girth tiene una asociacion moderada, con un coeficiente de correlacion de .6"
      ],
      "metadata": {
        "id": "WPJnfsIOIWgV"
      }
    },
    {
      "cell_type": "markdown",
      "source": [
        "### Analisis de Diagnostico Modelo 1"
      ],
      "metadata": {
        "id": "Wq6tplvOaqYH"
      }
    },
    {
      "cell_type": "code",
      "source": [
        "%%R\n",
        "library(car)\n",
        "\n",
        "# Modelamos\n",
        "model1 <- lm(Volume ~ Girth, data=data)\n",
        "resid1 <- model1$resid\n",
        "fitted1 <- model1$fitted.values"
      ],
      "metadata": {
        "id": "_8FytGtdPpOM"
      },
      "execution_count": 402,
      "outputs": []
    },
    {
      "cell_type": "markdown",
      "source": [
        "#### Normalidad de los Residuos"
      ],
      "metadata": {
        "id": "WYsEdRSY1NJ3"
      }
    },
    {
      "cell_type": "code",
      "source": [
        "# Residuals Normality\n",
        "%%R\n",
        "\n",
        "print(shapiro.test(model1$resid))\n",
        "qqPlot(model1$resid)"
      ],
      "metadata": {
        "id": "VuAV4TkoS-Sr",
        "outputId": "ea6414c5-3222-411f-c88c-4aae053f1d25",
        "colab": {
          "base_uri": "https://localhost:8080/",
          "height": 624
        }
      },
      "execution_count": 403,
      "outputs": [
        {
          "output_type": "stream",
          "name": "stdout",
          "text": [
            "\n",
            "\tShapiro-Wilk normality test\n",
            "\n",
            "data:  model1$resid\n",
            "W = 0.97889, p-value = 0.7811\n",
            "\n",
            "[1] 31 20\n"
          ]
        },
        {
          "output_type": "display_data",
          "data": {
            "image/png": "[encoded data removed]"
          },
          "metadata": {}
        }
      ]
    },
    {
      "cell_type": "markdown",
      "source": [
        "- Relizamos un test de Normalidad de Shapiro. No hay suficiente evidencia para rechazar la Hipotesis Nula de que los datos estan Distribuidos normalmente"
      ],
      "metadata": {
        "id": "GCpxMmxSTJ1b"
      }
    },
    {
      "cell_type": "markdown",
      "source": [
        "#### Homocedasticidad de los Residuos"
      ],
      "metadata": {
        "id": "neh-je_w1SFy"
      }
    },
    {
      "cell_type": "code",
      "source": [
        "# Residuals Homocedasticity Analitico\n",
        "%%R\n",
        "\n",
        "library(lmtest)\n",
        "bptest(model1)"
      ],
      "metadata": {
        "id": "ZukrPXerTebJ",
        "outputId": "0f0f2171-5590-417f-da46-0b3007a30ffd",
        "colab": {
          "base_uri": "https://localhost:8080/"
        }
      },
      "execution_count": 404,
      "outputs": [
        {
          "output_type": "stream",
          "name": "stdout",
          "text": [
            "\n",
            "\tstudentized Breusch-Pagan test\n",
            "\n",
            "data:  model1\n",
            "BP = 5.6197, df = 1, p-value = 0.01776\n",
            "\n"
          ]
        }
      ]
    },
    {
      "cell_type": "markdown",
      "source": [
        "Con un nivel alpha del 5%, hay suficiente evidencia para rechazar la Hipotesis Nula de que los residuos son Homocedasticos. Se debe pensar en alguna transformacion de variables"
      ],
      "metadata": {
        "id": "YfkiwuJQUFZe"
      }
    },
    {
      "cell_type": "code",
      "source": [
        "# Residuals Homocedasticity Grafico\n",
        "\n",
        "# Importamos desde R\n",
        "%R -o resid1\n",
        "%R -o fitted1\n",
        "\n",
        "# Renombramos\n",
        "resid = resid1\n",
        "fitted = fitted1\n",
        "\n",
        "plt.scatter(x=fitted, y=resid)\n",
        "plt.xlabel( 'Prediccion')\n",
        "plt.ylabel('Residuo')\n",
        "plt.title('Distribucion de Residuos')\n",
        "plt.axhline(color='grey', linestyle='dashed', alpha=0.5)\n",
        "plt.show()"
      ],
      "metadata": {
        "id": "_DrJRSWfUBLH",
        "outputId": "813f2209-b054-4495-f595-c72114687af4",
        "colab": {
          "base_uri": "https://localhost:8080/",
          "height": 480
        }
      },
      "execution_count": 405,
      "outputs": [
        {
          "output_type": "display_data",
          "data": {
            "text/plain": [
              "<Figure size 640x480 with 1 Axes>"
            ],
            "image/png": "[encoded data removed]"
          },
          "metadata": {}
        }
      ]
    },
    {
      "cell_type": "markdown",
      "source": [
        "- Se puede observar una fomra de embudo, lo cual ratifica que la distribucion de los residuos no es Homocedastica"
      ],
      "metadata": {
        "id": "GxGwIN5hU7tw"
      }
    },
    {
      "cell_type": "markdown",
      "source": [
        "#### Autocorrelacion de los Residuos"
      ],
      "metadata": {
        "id": "K2XQgGoK1Wwh"
      }
    },
    {
      "cell_type": "code",
      "source": [
        "# Analisis Analitico (Durbin-Watson Test) -> R | H0 No Auto-Correlacion\n",
        "# 2=No Correlacion (Independecia)| 0=Correlacion Pos | 4=Correlacion Neg\n",
        "%%R\n",
        "\n",
        "library(lmtest)\n",
        "dwtest(model1, alternative='two.sided', iterations=1000)"
      ],
      "metadata": {
        "id": "Jm0ZqJO4VMLm",
        "outputId": "7f71a755-939c-4da9-bbd0-f5387598ecfa",
        "colab": {
          "base_uri": "https://localhost:8080/"
        }
      },
      "execution_count": 406,
      "outputs": [
        {
          "output_type": "stream",
          "name": "stdout",
          "text": [
            "\n",
            "\tDurbin-Watson test\n",
            "\n",
            "data:  model1\n",
            "DW = 1.4372, p-value = 0.06941\n",
            "alternative hypothesis: true autocorrelation is not 0\n",
            "\n"
          ]
        }
      ]
    },
    {
      "cell_type": "markdown",
      "source": [
        "- Realizamos un test de Auto-correlacion de Durbin-Watson, y con un p-value del 5% no hay suficiente evidencia para rechazar la Hipotesis Nula de que los datos no estan auto-correlacionados. Igualmente hay que tener en cuenta que el p-value es medio border"
      ],
      "metadata": {
        "id": "zMU7Q0YKVW3j"
      }
    },
    {
      "cell_type": "code",
      "source": [
        "# Analsis Grafico -> Python\n",
        "\n",
        "plt.scatter(x=data.index, y=resid1)\n",
        "plt.xlabel( 'Index')\n",
        "plt.ylabel('Residuo')\n",
        "plt.title('Correlacion de Residuos')\n",
        "plt.axhline(color='grey', linestyle='dashed', alpha=0.5)\n",
        "plt.show()"
      ],
      "metadata": {
        "id": "VCEmwGGnaB4_",
        "outputId": "c338625d-e45b-4bcd-fe11-f029da9c463e",
        "colab": {
          "base_uri": "https://localhost:8080/",
          "height": 480
        }
      },
      "execution_count": 407,
      "outputs": [
        {
          "output_type": "display_data",
          "data": {
            "text/plain": [
              "<Figure size 640x480 with 1 Axes>"
            ],
            "image/png": "[encoded data removed]"
          },
          "metadata": {}
        }
      ]
    },
    {
      "cell_type": "markdown",
      "source": [
        "- No se observa ninguna estructura, confirmamos la no-autocorrelacion de los residuos"
      ],
      "metadata": {
        "id": "GarMD6MfHzm8"
      }
    },
    {
      "cell_type": "markdown",
      "source": [
        "### Deteccion de Outliers y Valores Influyentes Modelo #1\n",
        "\n"
      ],
      "metadata": {
        "id": "WMTIoeyuTN36"
      }
    },
    {
      "cell_type": "markdown",
      "source": [
        "#### Outliers"
      ],
      "metadata": {
        "id": "g1sr79BS1dLx"
      }
    },
    {
      "cell_type": "code",
      "source": [
        "# Outliers\n",
        "%%R\n",
        "model = model1\n",
        "resid = resid1\n",
        "fitted = fitted1\n",
        "\n",
        "library(car)\n",
        "\n",
        "# Outliers - Bonferroni\n",
        "# qqPlot(resid)\n",
        "print(outlierTest(model))\n",
        "influenceIndexPlot(model, vars='Bonf')\n",
        "\n",
        "# print(data[31, ])"
      ],
      "metadata": {
        "id": "lEolc6clImkO",
        "outputId": "566c74ba-eb2d-405a-e695-e62a659723d4",
        "colab": {
          "base_uri": "https://localhost:8080/",
          "height": 569
        }
      },
      "execution_count": 408,
      "outputs": [
        {
          "output_type": "stream",
          "name": "stdout",
          "text": [
            "No Studentized residuals with Bonferroni p < 0.05\n",
            "Largest |rstudent|:\n",
            "   rstudent unadjusted p-value Bonferroni p\n",
            "31 2.837732          0.0083576      0.25909\n"
          ]
        },
        {
          "output_type": "display_data",
          "data": {
            "image/png": "[encoded data removed]"
          },
          "metadata": {}
        }
      ]
    },
    {
      "cell_type": "markdown",
      "source": [
        "- Realizamos el test de Bonferroni, y la obersvacion #31 parece marcarse como Outlier"
      ],
      "metadata": {
        "id": "C5YA7c49J8WN"
      }
    },
    {
      "cell_type": "code",
      "source": [
        "print(data.iloc[30])\n",
        "\n",
        "sns.regplot(data=data, x='Girth', y='Volume', ci=None)\n",
        "plt.show()"
      ],
      "metadata": {
        "id": "3nhBPBRNJsX5",
        "outputId": "81b5d76e-b247-4000-bdb7-7f0d69d26474",
        "colab": {
          "base_uri": "https://localhost:8080/",
          "height": 533
        }
      },
      "execution_count": 409,
      "outputs": [
        {
          "output_type": "stream",
          "name": "stdout",
          "text": [
            "Girth     20.6\n",
            "Height    87.0\n",
            "Volume    77.0\n",
            "Name: 31, dtype: float64\n"
          ]
        },
        {
          "output_type": "display_data",
          "data": {
            "text/plain": [
              "<Figure size 640x480 with 1 Axes>"
            ],
            "image/png": "[encoded data removed]"
          },
          "metadata": {}
        }
      ]
    },
    {
      "cell_type": "markdown",
      "source": [
        "- Lo confirmamos en el Diagrama de Dispersion, como la observacion #31 (con valor de Girth de 20.6) es un Outlier"
      ],
      "metadata": {
        "id": "sqzQfZ8cKNxW"
      }
    },
    {
      "cell_type": "markdown",
      "source": [
        "#### Valores Influyentes"
      ],
      "metadata": {
        "id": "LTilSkGy1i4E"
      }
    },
    {
      "cell_type": "code",
      "source": [
        "# Valores Influyentes\n",
        "%%R\n",
        "model = model1\n",
        "\n",
        "# Influyentes - Leverage\n",
        "crit_leverage <- 3*mean(hatvalues(model))\n",
        "leverage <- hatvalues(model) > crit_leverage\n",
        "leverage_data <- data.frame(cbind(hatvalues(model), crit_leverage, leverage))\n",
        "print(subset(leverage_data, leverage==1))\n",
        "\n",
        "# Influyentes - Cook\n",
        "influenceIndexPlot(model, vars='Cook')"
      ],
      "metadata": {
        "id": "aEmWDtjgKx1F",
        "outputId": "10eee816-5b29-4e9f-da90-75412b765318",
        "colab": {
          "base_uri": "https://localhost:8080/",
          "height": 533
        }
      },
      "execution_count": 410,
      "outputs": [
        {
          "output_type": "stream",
          "name": "stdout",
          "text": [
            "          V1 crit_leverage leverage\n",
            "31 0.2151943     0.1935484        1\n"
          ]
        },
        {
          "output_type": "display_data",
          "data": {
            "image/png": "[encoded data removed]"
          },
          "metadata": {}
        }
      ]
    },
    {
      "cell_type": "markdown",
      "source": [
        "- Vemos como la misma observacion #31 tiene un apalancamiento muy alto, como asi tambien si distancia de Cook"
      ],
      "metadata": {
        "id": "ETyZ9yElLSl5"
      }
    },
    {
      "cell_type": "code",
      "source": [
        "# Calculamos DFFITS en R\n",
        "%%R\n",
        "\n",
        "model = model1\n",
        "\n",
        "# Influyentes - DFFITS\n",
        "p <- length(model$coef)\n",
        "n <- NROW(model$resid)\n",
        "dffits_crit <- 2*sqrt(p/n)\n",
        "dffits <- dffits(model)\n",
        "data_dffits <- data.frame(dffits=dffits)"
      ],
      "metadata": {
        "id": "aOnHNc91LkmG"
      },
      "execution_count": 411,
      "outputs": []
    },
    {
      "cell_type": "code",
      "source": [
        "# Ploteamos DFFITS en Python\n",
        "%R -o data_dffits\n",
        "%R -o dffits_crit\n",
        "\n",
        "# Grafico\n",
        "data_dffits.head()\n",
        "sns.scatterplot(data=data_dffits, x=data_dffits.index, y='dffits')\n",
        "plt.axhline(y=dffits_crit, linestyle='--', color='red')\n",
        "plt.axhline(y=-dffits_crit, linestyle='--', color='red')\n",
        "plt.xticks(rotation=45)\n",
        "plt.show()\n",
        "\n",
        "# Filtro los criticos\n",
        "dffits_crit_low = -dffits_crit\n",
        "dffits_crit_up = dffits_crit\n",
        "\n",
        "display(data_dffits.query('dffits > @dffits_crit_up or dffits < @dffits_crit_low'))"
      ],
      "metadata": {
        "id": "lmidNfwDLwLw",
        "outputId": "07461c1a-bbe4-4b5a-e676-8188305ebbdc",
        "colab": {
          "base_uri": "https://localhost:8080/",
          "height": 507
        }
      },
      "execution_count": 412,
      "outputs": [
        {
          "output_type": "display_data",
          "data": {
            "text/plain": [
              "<Figure size 640x480 with 1 Axes>"
            ],
            "image/png": "[encoded data removed]"
          },
          "metadata": {}
        },
        {
          "output_type": "display_data",
          "data": {
            "text/plain": [
              "      dffits\n",
              "31  1.485955"
            ],
            "text/html": [
              "\n",
              "  <div id=\"df-98bb2920-98c3-4f81-85e7-de80500100c2\">\n",
              "    <div class=\"colab-df-container\">\n",
              "      <div>\n",
              "<style scoped>\n",
              "    .dataframe tbody tr th:only-of-type {\n",
              "        vertical-align: middle;\n",
              "    }\n",
              "\n",
              "    .dataframe tbody tr th {\n",
              "        vertical-align: top;\n",
              "    }\n",
              "\n",
              "    .dataframe thead th {\n",
              "        text-align: right;\n",
              "    }\n",
              "</style>\n",
              "<table border=\"1\" class=\"dataframe\">\n",
              "  <thead>\n",
              "    <tr style=\"text-align: right;\">\n",
              "      <th></th>\n",
              "      <th>dffits</th>\n",
              "    </tr>\n",
              "  </thead>\n",
              "  <tbody>\n",
              "    <tr>\n",
              "      <th>31</th>\n",
              "      <td>1.485955</td>\n",
              "    </tr>\n",
              "  </tbody>\n",
              "</table>\n",
              "</div>\n",
              "      <button class=\"colab-df-convert\" onclick=\"convertToInteractive('df-98bb2920-98c3-4f81-85e7-de80500100c2')\"\n",
              "              title=\"Convert this dataframe to an interactive table.\"\n",
              "              style=\"display:none;\">\n",
              "        \n",
              "  <svg xmlns=\"http://www.w3.org/2000/svg\" height=\"24px\"viewBox=\"0 0 24 24\"\n",
              "       width=\"24px\">\n",
              "    <path d=\"M0 0h24v24H0V0z\" fill=\"none\"/>\n",
              "    <path d=\"M18.56 5.44l.94 2.06.94-2.06 2.06-.94-2.06-.94-.94-2.06-.94 2.06-2.06.94zm-11 1L8.5 8.5l.94-2.06 2.06-.94-2.06-.94L8.5 2.5l-.94 2.06-2.06.94zm10 10l.94 2.06.94-2.06 2.06-.94-2.06-.94-.94-2.06-.94 2.06-2.06.94z\"/><path d=\"M17.41 7.96l-1.37-1.37c-.4-.4-.92-.59-1.43-.59-.52 0-1.04.2-1.43.59L10.3 9.45l-7.72 7.72c-.78.78-.78 2.05 0 2.83L4 21.41c.39.39.9.59 1.41.59.51 0 1.02-.2 1.41-.59l7.78-7.78 2.81-2.81c.8-.78.8-2.07 0-2.86zM5.41 20L4 18.59l7.72-7.72 1.47 1.35L5.41 20z\"/>\n",
              "  </svg>\n",
              "      </button>\n",
              "      \n",
              "  <style>\n",
              "    .colab-df-container {\n",
              "      display:flex;\n",
              "      flex-wrap:wrap;\n",
              "      gap: 12px;\n",
              "    }\n",
              "\n",
              "    .colab-df-convert {\n",
              "      background-color: #E8F0FE;\n",
              "      border: none;\n",
              "      border-radius: 50%;\n",
              "      cursor: pointer;\n",
              "      display: none;\n",
              "      fill: #1967D2;\n",
              "      height: 32px;\n",
              "      padding: 0 0 0 0;\n",
              "      width: 32px;\n",
              "    }\n",
              "\n",
              "    .colab-df-convert:hover {\n",
              "      background-color: #E2EBFA;\n",
              "      box-shadow: 0px 1px 2px rgba(60, 64, 67, 0.3), 0px 1px 3px 1px rgba(60, 64, 67, 0.15);\n",
              "      fill: #174EA6;\n",
              "    }\n",
              "\n",
              "    [theme=dark] .colab-df-convert {\n",
              "      background-color: #3B4455;\n",
              "      fill: #D2E3FC;\n",
              "    }\n",
              "\n",
              "    [theme=dark] .colab-df-convert:hover {\n",
              "      background-color: #434B5C;\n",
              "      box-shadow: 0px 1px 3px 1px rgba(0, 0, 0, 0.15);\n",
              "      filter: drop-shadow(0px 1px 2px rgba(0, 0, 0, 0.3));\n",
              "      fill: #FFFFFF;\n",
              "    }\n",
              "  </style>\n",
              "\n",
              "      <script>\n",
              "        const buttonEl =\n",
              "          document.querySelector('#df-98bb2920-98c3-4f81-85e7-de80500100c2 button.colab-df-convert');\n",
              "        buttonEl.style.display =\n",
              "          google.colab.kernel.accessAllowed ? 'block' : 'none';\n",
              "\n",
              "        async function convertToInteractive(key) {\n",
              "          const element = document.querySelector('#df-98bb2920-98c3-4f81-85e7-de80500100c2');\n",
              "          const dataTable =\n",
              "            await google.colab.kernel.invokeFunction('convertToInteractive',\n",
              "                                                     [key], {});\n",
              "          if (!dataTable) return;\n",
              "\n",
              "          const docLinkHtml = 'Like what you see? Visit the ' +\n",
              "            '<a target=\"_blank\" href=https://colab.research.google.com/notebooks/data_table.ipynb>data table notebook</a>'\n",
              "            + ' to learn more about interactive tables.';\n",
              "          element.innerHTML = '';\n",
              "          dataTable['output_type'] = 'display_data';\n",
              "          await google.colab.output.renderOutput(dataTable, element);\n",
              "          const docLink = document.createElement('div');\n",
              "          docLink.innerHTML = docLinkHtml;\n",
              "          element.appendChild(docLink);\n",
              "        }\n",
              "      </script>\n",
              "    </div>\n",
              "  </div>\n",
              "  "
            ]
          },
          "metadata": {}
        }
      ]
    },
    {
      "cell_type": "code",
      "source": [
        "# Influyentes - DFBetas\n",
        "%%R\n",
        "\n",
        "dfbetas_crit <- 1 # Umbral estandard\n",
        "dfbetas_data <- dfbetas(model)[,2]>dfbetas_crit\n",
        "print(which(dfbetas_data))"
      ],
      "metadata": {
        "id": "s_3LfLxSMBSj",
        "outputId": "f1e6b326-83db-426f-ebea-edbc67c2ff11",
        "colab": {
          "base_uri": "https://localhost:8080/"
        }
      },
      "execution_count": 413,
      "outputs": [
        {
          "output_type": "stream",
          "name": "stdout",
          "text": [
            "31 \n",
            "31 \n"
          ]
        }
      ]
    },
    {
      "cell_type": "markdown",
      "source": [
        "- Lo mismo vemos cuando calculamos los DDFITS y DFBetas. La observacio #31 es un Punto Influyente"
      ],
      "metadata": {
        "id": "tZnzeUTWMJrH"
      }
    },
    {
      "cell_type": "markdown",
      "source": [
        "#### Analisis de Diagnostico Modelo 2"
      ],
      "metadata": {
        "id": "vT3ipkTnau8B"
      }
    },
    {
      "cell_type": "code",
      "source": [
        "%%R\n",
        "\n",
        "# Modelamos\n",
        "model2 <- lm(Volume ~ Height, data=data)\n",
        "resid2 <- model2$resid\n",
        "fitted2 <- model2$fitted.values\n"
      ],
      "metadata": {
        "id": "AKjdUe3ga_TS"
      },
      "execution_count": 414,
      "outputs": []
    },
    {
      "cell_type": "markdown",
      "source": [
        "#### Normalida de Residuos"
      ],
      "metadata": {
        "id": "B8kDbrvN1nUd"
      }
    },
    {
      "cell_type": "code",
      "source": [
        "%%R\n",
        "\n",
        "# Residuals Normality\n",
        "print(shapiro.test(resid2))\n",
        "qqPlot(resid2)"
      ],
      "metadata": {
        "id": "ZkwTpL6fThnr",
        "outputId": "7e47139a-f1f6-493f-9def-63444582d68c",
        "colab": {
          "base_uri": "https://localhost:8080/",
          "height": 624
        }
      },
      "execution_count": 415,
      "outputs": [
        {
          "output_type": "stream",
          "name": "stdout",
          "text": [
            "\n",
            "\tShapiro-Wilk normality test\n",
            "\n",
            "data:  resid2\n",
            "W = 0.95078, p-value = 0.164\n",
            "\n",
            "[1] 31 28\n"
          ]
        },
        {
          "output_type": "display_data",
          "data": {
            "image/png": "[encoded data removed]"
          },
          "metadata": {}
        }
      ]
    },
    {
      "cell_type": "markdown",
      "source": [
        "- Realizamo un test de Shapiro y confirmamos que hay suficiente evidencia para rechazar la Hipotesis Nula de que los datos estan distribuidos normalmente.\n",
        "- Lo confirmamos visualmente con un QQPlot, se ven muchos resiudos dentro del Intervalo de Confianza, pero no tan ajustados al fit"
      ],
      "metadata": {
        "id": "lwp6AofPbOC4"
      }
    },
    {
      "cell_type": "markdown",
      "source": [
        "#### Homocedasticidad de Residuos"
      ],
      "metadata": {
        "id": "3Jd2zdnV1qm1"
      }
    },
    {
      "cell_type": "code",
      "source": [
        "# Analisis Analitico (Breusch-Pagan Test) -> R | H0: Residuos Homocedasticos\n",
        "%%R\n",
        "\n",
        "library(lmtest)\n",
        "bptest(model2)"
      ],
      "metadata": {
        "id": "q0n7q0ycbXBu",
        "outputId": "d96b397c-3ff3-467a-9117-8c7f4915fa00",
        "colab": {
          "base_uri": "https://localhost:8080/"
        }
      },
      "execution_count": 416,
      "outputs": [
        {
          "output_type": "stream",
          "name": "stdout",
          "text": [
            "\n",
            "\tstudentized Breusch-Pagan test\n",
            "\n",
            "data:  model2\n",
            "BP = 12.207, df = 1, p-value = 0.0004762\n",
            "\n"
          ]
        }
      ]
    },
    {
      "cell_type": "markdown",
      "source": [
        "- Relizamos un test de Breusch-Pagan para confirmar la Homocedaistcidad de los resiudos, y confirmamos que hay suficiente evidencia para rechazar la Hipotesis Nula de que los residos son Homocedasticos"
      ],
      "metadata": {
        "id": "IMyGO2j1hifK"
      }
    },
    {
      "cell_type": "code",
      "source": [
        "# # Analsis Grafico -> Python\n",
        "\n",
        "# Importamos desde R\n",
        "%R -o resid2\n",
        "%R -o fitted2\n",
        "\n",
        "# Renombramos\n",
        "resid = resid2\n",
        "fitted = fitted2\n",
        "\n",
        "plt.scatter(x=fitted, y=resid)\n",
        "plt.xlabel( 'Prediccion')\n",
        "plt.ylabel('Residuo')\n",
        "plt.title('Distribucion de Residuos')\n",
        "plt.axhline(color='grey', linestyle='dashed', alpha=0.5)\n",
        "plt.show()"
      ],
      "metadata": {
        "id": "YDFlXeC_hzZE",
        "outputId": "af44d00e-3bf2-4280-d86d-3c18f26ae524",
        "colab": {
          "base_uri": "https://localhost:8080/",
          "height": 480
        }
      },
      "execution_count": 417,
      "outputs": [
        {
          "output_type": "display_data",
          "data": {
            "text/plain": [
              "<Figure size 640x480 with 1 Axes>"
            ],
            "image/png": "[encoded data removed]"
          },
          "metadata": {}
        }
      ]
    },
    {
      "cell_type": "markdown",
      "source": [
        "- Confirmamos la estructura de embudo de los residuos contra los fitted values."
      ],
      "metadata": {
        "id": "MSqAVwUUiLj8"
      }
    },
    {
      "cell_type": "markdown",
      "source": [
        "#### Autocorrelacion de Residuos"
      ],
      "metadata": {
        "id": "gasstkty1uVE"
      }
    },
    {
      "cell_type": "code",
      "source": [
        "# Analisis Analitico (Durbin-Watson Test) -> R | H0 No Auto-Correlacion\n",
        "# 2=No Correlacion (Independecia)| 0=Correlacion Pos | 4=Correlacion Neg\n",
        "%%R\n",
        "\n",
        "library(lmtest)\n",
        "dwtest(model2, alternative='two.sided', iterations=1000)"
      ],
      "metadata": {
        "id": "xwp0ay8cij6v",
        "outputId": "3a3ceb74-2f10-407e-b524-40cf33fbdc39",
        "colab": {
          "base_uri": "https://localhost:8080/"
        }
      },
      "execution_count": 418,
      "outputs": [
        {
          "output_type": "stream",
          "name": "stdout",
          "text": [
            "\n",
            "\tDurbin-Watson test\n",
            "\n",
            "data:  model2\n",
            "DW = 0.5009, p-value = 1.791e-07\n",
            "alternative hypothesis: true autocorrelation is not 0\n",
            "\n"
          ]
        }
      ]
    },
    {
      "cell_type": "markdown",
      "source": [
        "- El Test de Durbin-Watson muestra que podemos rechazar categorimanete la Hipotesis Nula de que no hay auto-correlacion en los residuos"
      ],
      "metadata": {
        "id": "RYBAGjePipmi"
      }
    },
    {
      "cell_type": "code",
      "source": [
        "# Analsis Grafico -> Python\n",
        "\n",
        "plt.scatter(x=data.index, y=resid2)\n",
        "plt.xlabel( 'Index')\n",
        "plt.ylabel('Residuo')\n",
        "plt.title('Correlacion de Residuos')\n",
        "plt.axhline(color='grey', linestyle='dashed', alpha=0.5)\n",
        "plt.show()"
      ],
      "metadata": {
        "id": "VLA5MPvOi0ac",
        "outputId": "69b29985-767a-456c-b2b1-c8c272e83ed9",
        "colab": {
          "base_uri": "https://localhost:8080/",
          "height": 480
        }
      },
      "execution_count": 419,
      "outputs": [
        {
          "output_type": "display_data",
          "data": {
            "text/plain": [
              "<Figure size 640x480 with 1 Axes>"
            ],
            "image/png": "[encoded data removed]"
          },
          "metadata": {}
        }
      ]
    },
    {
      "cell_type": "markdown",
      "source": [
        "- Se observa una estructura como si fuera lineal, ratificando lo visto anteriormente con el test de Durbin Watson, existe algun tipo de auto-correlacion en los residuos"
      ],
      "metadata": {
        "id": "j_e7ntUwkt7p"
      }
    },
    {
      "cell_type": "markdown",
      "source": [
        "### Deteccion de Outliers y Valores Influyentes Modelo #2"
      ],
      "metadata": {
        "id": "kHoa8tbnTvFT"
      }
    },
    {
      "cell_type": "code",
      "source": [
        "%%R\n",
        "model = model2\n",
        "resid = resid2\n",
        "fitted = fitted2\n",
        "\n",
        "library(car)\n",
        "\n"
      ],
      "metadata": {
        "id": "Jlq4eu7iMhHd"
      },
      "execution_count": 420,
      "outputs": []
    },
    {
      "cell_type": "markdown",
      "source": [
        "#### Outliers"
      ],
      "metadata": {
        "id": "EwqhnnJJ18lD"
      }
    },
    {
      "cell_type": "code",
      "source": [
        "# Outliers - Bonferroni\n",
        "%%R\n",
        "\n",
        "# qqPlot(resid)\n",
        "print(outlierTest(model))\n",
        "influenceIndexPlot(model, vars='Bonf')"
      ],
      "metadata": {
        "id": "1ssHLGZR13mS",
        "outputId": "d77eae1f-8eb6-4755-fc03-4d9c37fcf545",
        "colab": {
          "base_uri": "https://localhost:8080/",
          "height": 569
        }
      },
      "execution_count": 421,
      "outputs": [
        {
          "output_type": "stream",
          "name": "stdout",
          "text": [
            "No Studentized residuals with Bonferroni p < 0.05\n",
            "Largest |rstudent|:\n",
            "   rstudent unadjusted p-value Bonferroni p\n",
            "31 2.622258           0.013969      0.43304\n"
          ]
        },
        {
          "output_type": "display_data",
          "data": {
            "image/png": "[encoded data removed]"
          },
          "metadata": {}
        }
      ]
    },
    {
      "cell_type": "markdown",
      "source": [
        "- En el Modelo #2, tambien se marca la observacion #31 como Outlier en el test de Bonferroni"
      ],
      "metadata": {
        "id": "y-8h7eHxNKXs"
      }
    },
    {
      "cell_type": "markdown",
      "source": [
        "#### Valores Influyentes"
      ],
      "metadata": {
        "id": "NMc83tdM1_S_"
      }
    },
    {
      "cell_type": "code",
      "source": [
        "# Influyentes - Leverage\n",
        "%%R\n",
        "\n",
        "crit_leverage <- 3*mean(hatvalues(model))\n",
        "leverage <- hatvalues(model) > crit_leverage\n",
        "leverage_data <- data.frame(cbind(hatvalues(model), crit_leverage, leverage))\n",
        "print(subset(leverage_data, leverage==1))\n",
        "# hist(hatvalues(model))\n",
        "\n",
        "# Influyentes - Cook\n",
        "# print(cooks.distance(model))\n",
        "influenceIndexPlot(model, vars='Cook')\n",
        "\n",
        "# Influyentes - DFBetas\n",
        "dfbetas_crit <- 1 # Umbral estandard\n",
        "dfbetas_data <- dfbetas(model)[,2]>dfbetas_crit\n",
        "print(which(dfbetas_data))"
      ],
      "metadata": {
        "id": "x1HEIWyGNQKB",
        "outputId": "ae37c59a-4ee8-4af1-e81a-8ca953909497",
        "colab": {
          "base_uri": "https://localhost:8080/",
          "height": 551
        }
      },
      "execution_count": 422,
      "outputs": [
        {
          "output_type": "stream",
          "name": "stdout",
          "text": [
            "[1] V1            crit_leverage leverage     \n",
            "<0 rows> (or 0-length row.names)\n",
            "named integer(0)\n"
          ]
        },
        {
          "output_type": "display_data",
          "data": {
            "image/png": "[encoded data removed]"
          },
          "metadata": {}
        }
      ]
    },
    {
      "cell_type": "markdown",
      "source": [
        "- Mirando la distancia de Cook, solo parecen ser influyentes las observaciones #18 y #31. Apalancamiento and DFBetas no marcan ninguna observacion como influyente"
      ],
      "metadata": {
        "id": "YNIG1YlMNqPT"
      }
    },
    {
      "cell_type": "code",
      "source": [
        "# Influyentes - DFFITS\n",
        "%%R\n",
        "\n",
        "p <- length(model$coef)\n",
        "n <- NROW(model$resid)\n",
        "dffits_crit <- 2*sqrt(p/n)\n",
        "dffits <- dffits(model)\n",
        "data_dffits <- data.frame(dffits=dffits)"
      ],
      "metadata": {
        "id": "CbFcl2ZqN-dL"
      },
      "execution_count": 423,
      "outputs": []
    },
    {
      "cell_type": "code",
      "source": [
        "# DFFITS Grafico -> Python\n",
        "%R -o data_dffits\n",
        "%R -o dffits_crit\n",
        "\n",
        "# Grafico\n",
        "data_dffits.head()\n",
        "sns.scatterplot(data=data_dffits, x=data_dffits.index, y='dffits')\n",
        "plt.axhline(y=dffits_crit, linestyle='--', color='red')\n",
        "plt.axhline(y=-dffits_crit, linestyle='--', color='red')\n",
        "plt.xticks(rotation=45)\n",
        "plt.show()\n",
        "\n",
        "# Filtro los criticos\n",
        "dffits_crit_low = -dffits_crit\n",
        "dffits_crit_up = dffits_crit\n",
        "\n",
        "display(data_dffits.query('dffits > @dffits_crit_up or dffits < @dffits_crit_low'))\n"
      ],
      "metadata": {
        "id": "Ie1-LbMdOB_c",
        "outputId": "7fbd97a0-88ec-42d6-b8f9-0fe71f3268f3",
        "colab": {
          "base_uri": "https://localhost:8080/",
          "height": 539
        }
      },
      "execution_count": 424,
      "outputs": [
        {
          "output_type": "display_data",
          "data": {
            "text/plain": [
              "<Figure size 640x480 with 1 Axes>"
            ],
            "image/png": "[encoded data removed]"
          },
          "metadata": {}
        },
        {
          "output_type": "display_data",
          "data": {
            "text/plain": [
              "      dffits\n",
              "18 -0.529214\n",
              "31  1.020812"
            ],
            "text/html": [
              "\n",
              "  <div id=\"df-6f5c9bd4-1a58-4901-baf6-63c62eb915c0\">\n",
              "    <div class=\"colab-df-container\">\n",
              "      <div>\n",
              "<style scoped>\n",
              "    .dataframe tbody tr th:only-of-type {\n",
              "        vertical-align: middle;\n",
              "    }\n",
              "\n",
              "    .dataframe tbody tr th {\n",
              "        vertical-align: top;\n",
              "    }\n",
              "\n",
              "    .dataframe thead th {\n",
              "        text-align: right;\n",
              "    }\n",
              "</style>\n",
              "<table border=\"1\" class=\"dataframe\">\n",
              "  <thead>\n",
              "    <tr style=\"text-align: right;\">\n",
              "      <th></th>\n",
              "      <th>dffits</th>\n",
              "    </tr>\n",
              "  </thead>\n",
              "  <tbody>\n",
              "    <tr>\n",
              "      <th>18</th>\n",
              "      <td>-0.529214</td>\n",
              "    </tr>\n",
              "    <tr>\n",
              "      <th>31</th>\n",
              "      <td>1.020812</td>\n",
              "    </tr>\n",
              "  </tbody>\n",
              "</table>\n",
              "</div>\n",
              "      <button class=\"colab-df-convert\" onclick=\"convertToInteractive('df-6f5c9bd4-1a58-4901-baf6-63c62eb915c0')\"\n",
              "              title=\"Convert this dataframe to an interactive table.\"\n",
              "              style=\"display:none;\">\n",
              "        \n",
              "  <svg xmlns=\"http://www.w3.org/2000/svg\" height=\"24px\"viewBox=\"0 0 24 24\"\n",
              "       width=\"24px\">\n",
              "    <path d=\"M0 0h24v24H0V0z\" fill=\"none\"/>\n",
              "    <path d=\"M18.56 5.44l.94 2.06.94-2.06 2.06-.94-2.06-.94-.94-2.06-.94 2.06-2.06.94zm-11 1L8.5 8.5l.94-2.06 2.06-.94-2.06-.94L8.5 2.5l-.94 2.06-2.06.94zm10 10l.94 2.06.94-2.06 2.06-.94-2.06-.94-.94-2.06-.94 2.06-2.06.94z\"/><path d=\"M17.41 7.96l-1.37-1.37c-.4-.4-.92-.59-1.43-.59-.52 0-1.04.2-1.43.59L10.3 9.45l-7.72 7.72c-.78.78-.78 2.05 0 2.83L4 21.41c.39.39.9.59 1.41.59.51 0 1.02-.2 1.41-.59l7.78-7.78 2.81-2.81c.8-.78.8-2.07 0-2.86zM5.41 20L4 18.59l7.72-7.72 1.47 1.35L5.41 20z\"/>\n",
              "  </svg>\n",
              "      </button>\n",
              "      \n",
              "  <style>\n",
              "    .colab-df-container {\n",
              "      display:flex;\n",
              "      flex-wrap:wrap;\n",
              "      gap: 12px;\n",
              "    }\n",
              "\n",
              "    .colab-df-convert {\n",
              "      background-color: #E8F0FE;\n",
              "      border: none;\n",
              "      border-radius: 50%;\n",
              "      cursor: pointer;\n",
              "      display: none;\n",
              "      fill: #1967D2;\n",
              "      height: 32px;\n",
              "      padding: 0 0 0 0;\n",
              "      width: 32px;\n",
              "    }\n",
              "\n",
              "    .colab-df-convert:hover {\n",
              "      background-color: #E2EBFA;\n",
              "      box-shadow: 0px 1px 2px rgba(60, 64, 67, 0.3), 0px 1px 3px 1px rgba(60, 64, 67, 0.15);\n",
              "      fill: #174EA6;\n",
              "    }\n",
              "\n",
              "    [theme=dark] .colab-df-convert {\n",
              "      background-color: #3B4455;\n",
              "      fill: #D2E3FC;\n",
              "    }\n",
              "\n",
              "    [theme=dark] .colab-df-convert:hover {\n",
              "      background-color: #434B5C;\n",
              "      box-shadow: 0px 1px 3px 1px rgba(0, 0, 0, 0.15);\n",
              "      filter: drop-shadow(0px 1px 2px rgba(0, 0, 0, 0.3));\n",
              "      fill: #FFFFFF;\n",
              "    }\n",
              "  </style>\n",
              "\n",
              "      <script>\n",
              "        const buttonEl =\n",
              "          document.querySelector('#df-6f5c9bd4-1a58-4901-baf6-63c62eb915c0 button.colab-df-convert');\n",
              "        buttonEl.style.display =\n",
              "          google.colab.kernel.accessAllowed ? 'block' : 'none';\n",
              "\n",
              "        async function convertToInteractive(key) {\n",
              "          const element = document.querySelector('#df-6f5c9bd4-1a58-4901-baf6-63c62eb915c0');\n",
              "          const dataTable =\n",
              "            await google.colab.kernel.invokeFunction('convertToInteractive',\n",
              "                                                     [key], {});\n",
              "          if (!dataTable) return;\n",
              "\n",
              "          const docLinkHtml = 'Like what you see? Visit the ' +\n",
              "            '<a target=\"_blank\" href=https://colab.research.google.com/notebooks/data_table.ipynb>data table notebook</a>'\n",
              "            + ' to learn more about interactive tables.';\n",
              "          element.innerHTML = '';\n",
              "          dataTable['output_type'] = 'display_data';\n",
              "          await google.colab.output.renderOutput(dataTable, element);\n",
              "          const docLink = document.createElement('div');\n",
              "          docLink.innerHTML = docLinkHtml;\n",
              "          element.appendChild(docLink);\n",
              "        }\n",
              "      </script>\n",
              "    </div>\n",
              "  </div>\n",
              "  "
            ]
          },
          "metadata": {}
        }
      ]
    },
    {
      "cell_type": "markdown",
      "source": [
        "- En los DFFITS tambien vemos marcada las observaciones #18 y #31 como Influyentes"
      ],
      "metadata": {
        "id": "EX6IEXysOgE0"
      }
    },
    {
      "cell_type": "markdown",
      "source": [
        "###  Intervalos de Confianza para los coeficientes"
      ],
      "metadata": {
        "id": "aoL66DorST7d"
      }
    },
    {
      "cell_type": "code",
      "source": [
        "# Intervalos de Confianza\n",
        "%%R\n",
        "\n",
        "# Modelo 1\n",
        "print(confint(model1))\n",
        "\n",
        "# Modelo 2\n",
        "print(confint(model2))"
      ],
      "metadata": {
        "id": "nojcqrCZSBnN",
        "outputId": "4e6b1f0e-2c51-4a11-d9ff-49c44e9c66d8",
        "colab": {
          "base_uri": "https://localhost:8080/"
        }
      },
      "execution_count": 425,
      "outputs": [
        {
          "output_type": "stream",
          "name": "stdout",
          "text": [
            "                 2.5 %     97.5 %\n",
            "(Intercept) -43.825953 -30.060965\n",
            "Girth         4.559914   5.571799\n",
            "                  2.5 %     97.5 %\n",
            "(Intercept) -146.993871 -27.253357\n",
            "Height         0.758249   2.328451\n"
          ]
        }
      ]
    },
    {
      "cell_type": "markdown",
      "source": [
        "- En ambos modelos se ve como los Intervalos de Confianza de cada coeficiente no esta incluido el cero, esto quiere decir que los coeficientes son significativos"
      ],
      "metadata": {
        "id": "p8CAwJn-SGkt"
      }
    },
    {
      "cell_type": "markdown",
      "source": [
        "### Prediccion Grith con Itervalo de Confianza y de Prediccion"
      ],
      "metadata": {
        "id": "oiCYoESotYtV"
      }
    },
    {
      "cell_type": "code",
      "source": [
        "# Bandas de Prediccion\n",
        "%%R\n",
        "\n",
        "predichos <- predict(object=model, interval='prediction', level=0.95) # newdata = newdata\n",
        "nuevos_datos <- data.frame(predichos, data)\n",
        "# print(head(nuevos_datos))"
      ],
      "metadata": {
        "id": "NR4ve5Xttjdf"
      },
      "execution_count": 426,
      "outputs": []
    },
    {
      "cell_type": "code",
      "source": [
        "# Datos a Predecir (Python, other example)\n",
        "to_predict = [16.1]\n",
        "newdata = pd.Series(to_predict, name='Girth').to_frame()\n",
        "\n",
        "%R -i newdata"
      ],
      "metadata": {
        "id": "vyYlZ1oHt1-H"
      },
      "execution_count": 427,
      "outputs": []
    },
    {
      "cell_type": "code",
      "source": [
        "%%R\n",
        "\n",
        "predichos_confidence <- predict(object=model1, interval='confidence', level=0.95, newdata=newdata) # newdata = newdata\n",
        "print(predichos_confidence)\n",
        "\n",
        "predichos_prediction <- predict(object=model1, interval='prediction', level=0.95, newdata=newdata) # newdata = newdata\n",
        "print(predichos_prediction)\n"
      ],
      "metadata": {
        "id": "xGkV7HH3t5Tj",
        "outputId": "0b02e90e-b6f4-4496-da89-ee8699da5d63",
        "colab": {
          "base_uri": "https://localhost:8080/"
        }
      },
      "execution_count": 428,
      "outputs": [
        {
          "output_type": "stream",
          "name": "stdout",
          "text": [
            "       fit      lwr      upr\n",
            "0 44.61683 42.49055 46.74311\n",
            "       fit      lwr      upr\n",
            "0 44.61683 35.66437 53.56929\n"
          ]
        }
      ]
    },
    {
      "cell_type": "markdown",
      "source": [
        "- El Volumen predicho para un arbol de 16.1 pulgadas de diametro es de 44.62\n",
        "- El Intervalo de Confianza es de [42.49, 46.74]\n",
        "- El Intervalo de Prediccion es de [35.66, 53.57]"
      ],
      "metadata": {
        "id": "dZZJFTbGuEyi"
      }
    },
    {
      "cell_type": "markdown",
      "source": [
        "### Ajuste un nuevo modelo sin las observaciones influyentes\n",
        "Decidimos eliminar las observaciones #31 y #18"
      ],
      "metadata": {
        "id": "2nIXjtrsSIf9"
      }
    },
    {
      "cell_type": "code",
      "source": [
        "# Eliminamos los Outliers e Influyentes\n",
        "data2 = data.drop(index=['18', '31'])\n",
        "\n",
        "# Exportamos a R\n",
        "%R -i data2"
      ],
      "metadata": {
        "id": "OJC7qSr4UbL6"
      },
      "execution_count": 429,
      "outputs": []
    },
    {
      "cell_type": "code",
      "source": [
        "# Generamos los modelos simples\n",
        "%%R\n",
        "\n",
        "model1_b <- lm(Volume ~ Girth, data=data2)\n",
        "model2_b <- lm(Volume ~ Height, data=data2)\n",
        "\n",
        "print(summary(model1_b)) # Mejor\n",
        "# print(summary(model2_b)) # Peor"
      ],
      "metadata": {
        "id": "YZJ-bc_7V-5o",
        "outputId": "221eaaf7-3bdc-434f-be86-ba5584f4c178",
        "colab": {
          "base_uri": "https://localhost:8080/"
        }
      },
      "execution_count": 430,
      "outputs": [
        {
          "output_type": "stream",
          "name": "stdout",
          "text": [
            "\n",
            "Call:\n",
            "lm(formula = Volume ~ Girth, data = data2)\n",
            "\n",
            "Residuals:\n",
            "    Min      1Q  Median      3Q     Max \n",
            "-7.5968 -1.8099 -0.0602  2.5825  6.2657 \n",
            "\n",
            "Coefficients:\n",
            "            Estimate Std. Error t value Pr(>|t|)    \n",
            "(Intercept) -33.2636     3.3100  -10.05 1.28e-10 ***\n",
            "Girth         4.7652     0.2487   19.16  < 2e-16 ***\n",
            "---\n",
            "Signif. codes:  0 ‘***’ 0.001 ‘**’ 0.01 ‘*’ 0.05 ‘.’ 0.1 ‘ ’ 1\n",
            "\n",
            "Residual standard error: 3.849 on 27 degrees of freedom\n",
            "Multiple R-squared:  0.9315,\tAdjusted R-squared:  0.9289 \n",
            "F-statistic:   367 on 1 and 27 DF,  p-value: < 2.2e-16\n",
            "\n"
          ]
        }
      ]
    },
    {
      "cell_type": "markdown",
      "source": [
        "### Comparacion de Modelos"
      ],
      "metadata": {
        "id": "NHe1O61dvQAl"
      }
    },
    {
      "cell_type": "code",
      "source": [
        "# Modelo RLM\n",
        "%%R\n",
        "\n",
        "model_multiple <- lm(Volume ~ ., data=data2)\n",
        "# print(summary(model_multiple))\n",
        "\n",
        "print(anova(model1_b, model_multiple)) # H0: Model 2 no aporta nada nuevo"
      ],
      "metadata": {
        "id": "zefH1raCuwDY",
        "outputId": "fb0b4b51-ee7e-48bc-b673-d4cdcff0653b",
        "colab": {
          "base_uri": "https://localhost:8080/"
        }
      },
      "execution_count": 431,
      "outputs": [
        {
          "output_type": "stream",
          "name": "stdout",
          "text": [
            "Analysis of Variance Table\n",
            "\n",
            "Model 1: Volume ~ Girth\n",
            "Model 2: Volume ~ Girth + Height\n",
            "  Res.Df    RSS Df Sum of Sq      F  Pr(>F)   \n",
            "1     27 400.08                               \n",
            "2     26 291.38  1     108.7 9.6995 0.00445 **\n",
            "---\n",
            "Signif. codes:  0 ‘***’ 0.001 ‘**’ 0.01 ‘*’ 0.05 ‘.’ 0.1 ‘ ’ 1\n"
          ]
        }
      ]
    },
    {
      "cell_type": "markdown",
      "source": [
        "- Realizamos in ANOVA test a ambos modelos, y podemos confirmar que hay suficiente evidencia para rechazar la Hipotesis Nula que indica que el Modelo Multiple no aporta nada nuevo que el mejor Modelo Simple"
      ],
      "metadata": {
        "id": "rTyZzszFvV1O"
      }
    },
    {
      "cell_type": "markdown",
      "source": [
        "## 2.2 Modelo con Interaccion"
      ],
      "metadata": {
        "id": "WrAa6-yHwJ7R"
      }
    },
    {
      "cell_type": "code",
      "source": [
        "# Cargamos Dataset de Publicidad\n",
        "data = dataPu\n",
        "\n",
        "data.head()"
      ],
      "metadata": {
        "id": "P6CikqaZwQn5",
        "outputId": "a24422c3-b07c-4717-ef38-8de415317048",
        "colab": {
          "base_uri": "https://localhost:8080/",
          "height": 206
        }
      },
      "execution_count": 432,
      "outputs": [
        {
          "output_type": "execute_result",
          "data": {
            "text/plain": [
              "      tv  radio  periodico  ventas\n",
              "0  230.1   37.8       69.2    22.1\n",
              "1   44.5   39.3       45.1    10.4\n",
              "2   17.2   45.9       69.3     9.3\n",
              "3  151.5   41.3       58.5    18.5\n",
              "4  180.8   10.8       58.4    12.9"
            ],
            "text/html": [
              "\n",
              "  <div id=\"df-a439027c-5592-477e-ae36-4d38528fc187\">\n",
              "    <div class=\"colab-df-container\">\n",
              "      <div>\n",
              "<style scoped>\n",
              "    .dataframe tbody tr th:only-of-type {\n",
              "        vertical-align: middle;\n",
              "    }\n",
              "\n",
              "    .dataframe tbody tr th {\n",
              "        vertical-align: top;\n",
              "    }\n",
              "\n",
              "    .dataframe thead th {\n",
              "        text-align: right;\n",
              "    }\n",
              "</style>\n",
              "<table border=\"1\" class=\"dataframe\">\n",
              "  <thead>\n",
              "    <tr style=\"text-align: right;\">\n",
              "      <th></th>\n",
              "      <th>tv</th>\n",
              "      <th>radio</th>\n",
              "      <th>periodico</th>\n",
              "      <th>ventas</th>\n",
              "    </tr>\n",
              "  </thead>\n",
              "  <tbody>\n",
              "    <tr>\n",
              "      <th>0</th>\n",
              "      <td>230.1</td>\n",
              "      <td>37.8</td>\n",
              "      <td>69.2</td>\n",
              "      <td>22.1</td>\n",
              "    </tr>\n",
              "    <tr>\n",
              "      <th>1</th>\n",
              "      <td>44.5</td>\n",
              "      <td>39.3</td>\n",
              "      <td>45.1</td>\n",
              "      <td>10.4</td>\n",
              "    </tr>\n",
              "    <tr>\n",
              "      <th>2</th>\n",
              "      <td>17.2</td>\n",
              "      <td>45.9</td>\n",
              "      <td>69.3</td>\n",
              "      <td>9.3</td>\n",
              "    </tr>\n",
              "    <tr>\n",
              "      <th>3</th>\n",
              "      <td>151.5</td>\n",
              "      <td>41.3</td>\n",
              "      <td>58.5</td>\n",
              "      <td>18.5</td>\n",
              "    </tr>\n",
              "    <tr>\n",
              "      <th>4</th>\n",
              "      <td>180.8</td>\n",
              "      <td>10.8</td>\n",
              "      <td>58.4</td>\n",
              "      <td>12.9</td>\n",
              "    </tr>\n",
              "  </tbody>\n",
              "</table>\n",
              "</div>\n",
              "      <button class=\"colab-df-convert\" onclick=\"convertToInteractive('df-a439027c-5592-477e-ae36-4d38528fc187')\"\n",
              "              title=\"Convert this dataframe to an interactive table.\"\n",
              "              style=\"display:none;\">\n",
              "        \n",
              "  <svg xmlns=\"http://www.w3.org/2000/svg\" height=\"24px\"viewBox=\"0 0 24 24\"\n",
              "       width=\"24px\">\n",
              "    <path d=\"M0 0h24v24H0V0z\" fill=\"none\"/>\n",
              "    <path d=\"M18.56 5.44l.94 2.06.94-2.06 2.06-.94-2.06-.94-.94-2.06-.94 2.06-2.06.94zm-11 1L8.5 8.5l.94-2.06 2.06-.94-2.06-.94L8.5 2.5l-.94 2.06-2.06.94zm10 10l.94 2.06.94-2.06 2.06-.94-2.06-.94-.94-2.06-.94 2.06-2.06.94z\"/><path d=\"M17.41 7.96l-1.37-1.37c-.4-.4-.92-.59-1.43-.59-.52 0-1.04.2-1.43.59L10.3 9.45l-7.72 7.72c-.78.78-.78 2.05 0 2.83L4 21.41c.39.39.9.59 1.41.59.51 0 1.02-.2 1.41-.59l7.78-7.78 2.81-2.81c.8-.78.8-2.07 0-2.86zM5.41 20L4 18.59l7.72-7.72 1.47 1.35L5.41 20z\"/>\n",
              "  </svg>\n",
              "      </button>\n",
              "      \n",
              "  <style>\n",
              "    .colab-df-container {\n",
              "      display:flex;\n",
              "      flex-wrap:wrap;\n",
              "      gap: 12px;\n",
              "    }\n",
              "\n",
              "    .colab-df-convert {\n",
              "      background-color: #E8F0FE;\n",
              "      border: none;\n",
              "      border-radius: 50%;\n",
              "      cursor: pointer;\n",
              "      display: none;\n",
              "      fill: #1967D2;\n",
              "      height: 32px;\n",
              "      padding: 0 0 0 0;\n",
              "      width: 32px;\n",
              "    }\n",
              "\n",
              "    .colab-df-convert:hover {\n",
              "      background-color: #E2EBFA;\n",
              "      box-shadow: 0px 1px 2px rgba(60, 64, 67, 0.3), 0px 1px 3px 1px rgba(60, 64, 67, 0.15);\n",
              "      fill: #174EA6;\n",
              "    }\n",
              "\n",
              "    [theme=dark] .colab-df-convert {\n",
              "      background-color: #3B4455;\n",
              "      fill: #D2E3FC;\n",
              "    }\n",
              "\n",
              "    [theme=dark] .colab-df-convert:hover {\n",
              "      background-color: #434B5C;\n",
              "      box-shadow: 0px 1px 3px 1px rgba(0, 0, 0, 0.15);\n",
              "      filter: drop-shadow(0px 1px 2px rgba(0, 0, 0, 0.3));\n",
              "      fill: #FFFFFF;\n",
              "    }\n",
              "  </style>\n",
              "\n",
              "      <script>\n",
              "        const buttonEl =\n",
              "          document.querySelector('#df-a439027c-5592-477e-ae36-4d38528fc187 button.colab-df-convert');\n",
              "        buttonEl.style.display =\n",
              "          google.colab.kernel.accessAllowed ? 'block' : 'none';\n",
              "\n",
              "        async function convertToInteractive(key) {\n",
              "          const element = document.querySelector('#df-a439027c-5592-477e-ae36-4d38528fc187');\n",
              "          const dataTable =\n",
              "            await google.colab.kernel.invokeFunction('convertToInteractive',\n",
              "                                                     [key], {});\n",
              "          if (!dataTable) return;\n",
              "\n",
              "          const docLinkHtml = 'Like what you see? Visit the ' +\n",
              "            '<a target=\"_blank\" href=https://colab.research.google.com/notebooks/data_table.ipynb>data table notebook</a>'\n",
              "            + ' to learn more about interactive tables.';\n",
              "          element.innerHTML = '';\n",
              "          dataTable['output_type'] = 'display_data';\n",
              "          await google.colab.output.renderOutput(dataTable, element);\n",
              "          const docLink = document.createElement('div');\n",
              "          docLink.innerHTML = docLinkHtml;\n",
              "          element.appendChild(docLink);\n",
              "        }\n",
              "      </script>\n",
              "    </div>\n",
              "  </div>\n",
              "  "
            ]
          },
          "metadata": {},
          "execution_count": 432
        }
      ]
    },
    {
      "cell_type": "markdown",
      "source": [
        "- Estimo que hay un error en el enunciado y que las ventas estan en Millones, y el resto de las variables predictoras en Miles"
      ],
      "metadata": {
        "id": "CV2khmxlyJdZ"
      }
    },
    {
      "cell_type": "code",
      "source": [
        "# Transformo las variables a sus respectivas magnitudes\n",
        "\n",
        "data['tv'] = data['tv']*1000\n",
        "data['radio'] = data['radio']*1000\n",
        "data['periodico'] = data['periodico']*1000\n",
        "data['ventas'] = data['ventas']*1000000\n",
        "\n",
        "# Exporamos a R\n",
        "%R -i data\n",
        "\n",
        "%R head(data)"
      ],
      "metadata": {
        "id": "CGXGRJx0yZMY",
        "outputId": "1b28b748-6f2b-4721-f064-d8f485fd6649",
        "colab": {
          "base_uri": "https://localhost:8080/",
          "height": 237
        }
      },
      "execution_count": 433,
      "outputs": [
        {
          "output_type": "execute_result",
          "data": {
            "text/plain": [
              "         tv    radio  periodico      ventas\n",
              "0  230100.0  37800.0    69200.0  22100000.0\n",
              "1   44500.0  39300.0    45100.0  10400000.0\n",
              "2   17200.0  45900.0    69300.0   9300000.0\n",
              "3  151500.0  41300.0    58500.0  18500000.0\n",
              "4  180800.0  10800.0    58400.0  12900000.0\n",
              "5    8700.0  48900.0    75000.0   7200000.0"
            ],
            "text/html": [
              "\n",
              "  <div id=\"df-8ccc72bd-ef68-405b-a3ae-dc167e2acb96\">\n",
              "    <div class=\"colab-df-container\">\n",
              "      <div>\n",
              "<style scoped>\n",
              "    .dataframe tbody tr th:only-of-type {\n",
              "        vertical-align: middle;\n",
              "    }\n",
              "\n",
              "    .dataframe tbody tr th {\n",
              "        vertical-align: top;\n",
              "    }\n",
              "\n",
              "    .dataframe thead th {\n",
              "        text-align: right;\n",
              "    }\n",
              "</style>\n",
              "<table border=\"1\" class=\"dataframe\">\n",
              "  <thead>\n",
              "    <tr style=\"text-align: right;\">\n",
              "      <th></th>\n",
              "      <th>tv</th>\n",
              "      <th>radio</th>\n",
              "      <th>periodico</th>\n",
              "      <th>ventas</th>\n",
              "    </tr>\n",
              "  </thead>\n",
              "  <tbody>\n",
              "    <tr>\n",
              "      <th>0</th>\n",
              "      <td>230100.0</td>\n",
              "      <td>37800.0</td>\n",
              "      <td>69200.0</td>\n",
              "      <td>22100000.0</td>\n",
              "    </tr>\n",
              "    <tr>\n",
              "      <th>1</th>\n",
              "      <td>44500.0</td>\n",
              "      <td>39300.0</td>\n",
              "      <td>45100.0</td>\n",
              "      <td>10400000.0</td>\n",
              "    </tr>\n",
              "    <tr>\n",
              "      <th>2</th>\n",
              "      <td>17200.0</td>\n",
              "      <td>45900.0</td>\n",
              "      <td>69300.0</td>\n",
              "      <td>9300000.0</td>\n",
              "    </tr>\n",
              "    <tr>\n",
              "      <th>3</th>\n",
              "      <td>151500.0</td>\n",
              "      <td>41300.0</td>\n",
              "      <td>58500.0</td>\n",
              "      <td>18500000.0</td>\n",
              "    </tr>\n",
              "    <tr>\n",
              "      <th>4</th>\n",
              "      <td>180800.0</td>\n",
              "      <td>10800.0</td>\n",
              "      <td>58400.0</td>\n",
              "      <td>12900000.0</td>\n",
              "    </tr>\n",
              "    <tr>\n",
              "      <th>5</th>\n",
              "      <td>8700.0</td>\n",
              "      <td>48900.0</td>\n",
              "      <td>75000.0</td>\n",
              "      <td>7200000.0</td>\n",
              "    </tr>\n",
              "  </tbody>\n",
              "</table>\n",
              "</div>\n",
              "      <button class=\"colab-df-convert\" onclick=\"convertToInteractive('df-8ccc72bd-ef68-405b-a3ae-dc167e2acb96')\"\n",
              "              title=\"Convert this dataframe to an interactive table.\"\n",
              "              style=\"display:none;\">\n",
              "        \n",
              "  <svg xmlns=\"http://www.w3.org/2000/svg\" height=\"24px\"viewBox=\"0 0 24 24\"\n",
              "       width=\"24px\">\n",
              "    <path d=\"M0 0h24v24H0V0z\" fill=\"none\"/>\n",
              "    <path d=\"M18.56 5.44l.94 2.06.94-2.06 2.06-.94-2.06-.94-.94-2.06-.94 2.06-2.06.94zm-11 1L8.5 8.5l.94-2.06 2.06-.94-2.06-.94L8.5 2.5l-.94 2.06-2.06.94zm10 10l.94 2.06.94-2.06 2.06-.94-2.06-.94-.94-2.06-.94 2.06-2.06.94z\"/><path d=\"M17.41 7.96l-1.37-1.37c-.4-.4-.92-.59-1.43-.59-.52 0-1.04.2-1.43.59L10.3 9.45l-7.72 7.72c-.78.78-.78 2.05 0 2.83L4 21.41c.39.39.9.59 1.41.59.51 0 1.02-.2 1.41-.59l7.78-7.78 2.81-2.81c.8-.78.8-2.07 0-2.86zM5.41 20L4 18.59l7.72-7.72 1.47 1.35L5.41 20z\"/>\n",
              "  </svg>\n",
              "      </button>\n",
              "      \n",
              "  <style>\n",
              "    .colab-df-container {\n",
              "      display:flex;\n",
              "      flex-wrap:wrap;\n",
              "      gap: 12px;\n",
              "    }\n",
              "\n",
              "    .colab-df-convert {\n",
              "      background-color: #E8F0FE;\n",
              "      border: none;\n",
              "      border-radius: 50%;\n",
              "      cursor: pointer;\n",
              "      display: none;\n",
              "      fill: #1967D2;\n",
              "      height: 32px;\n",
              "      padding: 0 0 0 0;\n",
              "      width: 32px;\n",
              "    }\n",
              "\n",
              "    .colab-df-convert:hover {\n",
              "      background-color: #E2EBFA;\n",
              "      box-shadow: 0px 1px 2px rgba(60, 64, 67, 0.3), 0px 1px 3px 1px rgba(60, 64, 67, 0.15);\n",
              "      fill: #174EA6;\n",
              "    }\n",
              "\n",
              "    [theme=dark] .colab-df-convert {\n",
              "      background-color: #3B4455;\n",
              "      fill: #D2E3FC;\n",
              "    }\n",
              "\n",
              "    [theme=dark] .colab-df-convert:hover {\n",
              "      background-color: #434B5C;\n",
              "      box-shadow: 0px 1px 3px 1px rgba(0, 0, 0, 0.15);\n",
              "      filter: drop-shadow(0px 1px 2px rgba(0, 0, 0, 0.3));\n",
              "      fill: #FFFFFF;\n",
              "    }\n",
              "  </style>\n",
              "\n",
              "      <script>\n",
              "        const buttonEl =\n",
              "          document.querySelector('#df-8ccc72bd-ef68-405b-a3ae-dc167e2acb96 button.colab-df-convert');\n",
              "        buttonEl.style.display =\n",
              "          google.colab.kernel.accessAllowed ? 'block' : 'none';\n",
              "\n",
              "        async function convertToInteractive(key) {\n",
              "          const element = document.querySelector('#df-8ccc72bd-ef68-405b-a3ae-dc167e2acb96');\n",
              "          const dataTable =\n",
              "            await google.colab.kernel.invokeFunction('convertToInteractive',\n",
              "                                                     [key], {});\n",
              "          if (!dataTable) return;\n",
              "\n",
              "          const docLinkHtml = 'Like what you see? Visit the ' +\n",
              "            '<a target=\"_blank\" href=https://colab.research.google.com/notebooks/data_table.ipynb>data table notebook</a>'\n",
              "            + ' to learn more about interactive tables.';\n",
              "          element.innerHTML = '';\n",
              "          dataTable['output_type'] = 'display_data';\n",
              "          await google.colab.output.renderOutput(dataTable, element);\n",
              "          const docLink = document.createElement('div');\n",
              "          docLink.innerHTML = docLinkHtml;\n",
              "          element.appendChild(docLink);\n",
              "        }\n",
              "      </script>\n",
              "    </div>\n",
              "  </div>\n",
              "  "
            ]
          },
          "metadata": {},
          "execution_count": 433
        }
      ]
    },
    {
      "cell_type": "markdown",
      "source": [
        "### a) Creacion de Modelos y Analisis de Diagnostico"
      ],
      "metadata": {
        "id": "gM-z5DznzC0A"
      }
    },
    {
      "cell_type": "code",
      "source": [
        "# Creo los Modelos Lineales Simples\n",
        "%%R\n",
        "\n",
        "model_tv <- lm(ventas ~ tv, data=data)\n",
        "resid_tv <- model_tv$resid\n",
        "fitted_tv <- model_tv$fitted.values\n",
        "\n",
        "model_radio <- lm(ventas ~ radio, data=data)\n",
        "resid_radio <- model_radio$resid\n",
        "fitted_radio <- model_radio$fitted.values\n",
        "\n",
        "model_periodico <- lm(ventas ~ periodico, data=data)\n",
        "resid_periodico <- model_periodico$resid\n",
        "fitted_periodico <- model_periodico$fitted.values"
      ],
      "metadata": {
        "id": "I5Dkq3qbzFmH"
      },
      "execution_count": 434,
      "outputs": []
    },
    {
      "cell_type": "code",
      "source": [
        "# Analisis de Diagnostico\n",
        "%%R\n",
        "library(car)\n",
        "\n",
        "# Model TV\n",
        "qqPlot(resid_tv)\n",
        "print(shapiro.test(resid_tv))"
      ],
      "metadata": {
        "id": "prng1fo9zkuq",
        "outputId": "042b9602-3136-4009-d719-2888f123beda",
        "colab": {
          "base_uri": "https://localhost:8080/",
          "height": 606
        }
      },
      "execution_count": 435,
      "outputs": [
        {
          "output_type": "stream",
          "name": "stdout",
          "text": [
            "\n",
            "\tShapiro-Wilk normality test\n",
            "\n",
            "data:  resid_tv\n",
            "W = 0.99053, p-value = 0.2133\n",
            "\n"
          ]
        },
        {
          "output_type": "display_data",
          "data": {
            "image/png": "[encoded data removed]"
          },
          "metadata": {}
        }
      ]
    },
    {
      "cell_type": "markdown",
      "source": [
        "- Se puede apreciar mediante el test de Normalidad de Shapiro que no hay suficiente evidencia para rechazar la Hipotesis Nula de Normalidad de los residuos"
      ],
      "metadata": {
        "id": "9O4H1mI50KlY"
      }
    },
    {
      "cell_type": "code",
      "source": [
        "# Analisis Analitico (Breusch-Pagan Test) -> R | H0: Residuos Homocedasticos\n",
        "%%R\n",
        "\n",
        "library(lmtest)\n",
        "bptest(model_tv)"
      ],
      "metadata": {
        "id": "yBpAmlgR0VwG",
        "outputId": "16461e65-57f4-4e34-b302-eef19060c9f6",
        "colab": {
          "base_uri": "https://localhost:8080/"
        }
      },
      "execution_count": 436,
      "outputs": [
        {
          "output_type": "stream",
          "name": "stdout",
          "text": [
            "\n",
            "\tstudentized Breusch-Pagan test\n",
            "\n",
            "data:  model_tv\n",
            "BP = 48.038, df = 1, p-value = 4.18e-12\n",
            "\n"
          ]
        }
      ]
    },
    {
      "cell_type": "code",
      "source": [
        "\n",
        "# # Analsis Grafico -> Python\n",
        "\n",
        "# Importamos desde R\n",
        "%R -o resid_tv\n",
        "%R -o fitted_tv\n",
        "\n",
        "\n",
        "plt.scatter(x=fitted_tv, y=resid_tv)\n",
        "plt.xlabel( 'Prediccion')\n",
        "plt.ylabel('Residuo')\n",
        "plt.title('Distribucion de Residuos')\n",
        "plt.axhline(color='grey', linestyle='dashed', alpha=0.5)\n",
        "plt.show()"
      ],
      "metadata": {
        "id": "J9lP2-9S0fJJ",
        "outputId": "6ddfc081-548d-4d7f-a1c8-70c8ac803d00",
        "colab": {
          "base_uri": "https://localhost:8080/",
          "height": 480
        }
      },
      "execution_count": 437,
      "outputs": [
        {
          "output_type": "display_data",
          "data": {
            "text/plain": [
              "<Figure size 640x480 with 1 Axes>"
            ],
            "image/png": "[encoded data removed]"
          },
          "metadata": {}
        }
      ]
    },
    {
      "cell_type": "markdown",
      "source": [
        "- El test de Breusch-Pagan nos indica que hay suficiente evidencia para rechazar la Hipotesis Nula de que los residuos son homocedasticos\n",
        "- Confirmamos la Heterocidad de los residuos en la grafica. Se puede observar la estructura de embudo que indica que a valores mas grandes de las predicciones, mas grande son los resiudos"
      ],
      "metadata": {
        "id": "JbI0b6Cy2mMg"
      }
    },
    {
      "cell_type": "code",
      "source": [
        "# Analisis Analitico (Durbin-Watson Test) -> R | H0 No Auto-Correlacion\n",
        "# 2=No Correlacion (Independecia)| 0=Correlacion Pos | 4=Correlacion Neg\n",
        "%%R\n",
        "\n",
        "library(lmtest)\n",
        "dwtest(model_tv, alternative='two.sided', iterations=1000)"
      ],
      "metadata": {
        "id": "gE-QUDfG23Cq",
        "outputId": "d78d3a5d-6a67-459e-fb34-61adce442bf0",
        "colab": {
          "base_uri": "https://localhost:8080/"
        }
      },
      "execution_count": 438,
      "outputs": [
        {
          "output_type": "stream",
          "name": "stdout",
          "text": [
            "\n",
            "\tDurbin-Watson test\n",
            "\n",
            "data:  model_tv\n",
            "DW = 1.9347, p-value = 0.6426\n",
            "alternative hypothesis: true autocorrelation is not 0\n",
            "\n"
          ]
        }
      ]
    },
    {
      "cell_type": "code",
      "source": [
        "# Analsis Grafico -> Python\n",
        "\n",
        "# Importamos desde R\n",
        "\n",
        "plt.scatter(x=data.index, y=resid_tv)\n",
        "plt.xlabel( 'Index')\n",
        "plt.ylabel('Residuo')\n",
        "plt.title('Correlacion de Residuos')\n",
        "plt.axhline(color='grey', linestyle='dashed', alpha=0.5)\n",
        "plt.show()"
      ],
      "metadata": {
        "id": "bASaucnv3V9h",
        "outputId": "d241658e-5441-4d6a-e66a-5ea197bea2ec",
        "colab": {
          "base_uri": "https://localhost:8080/",
          "height": 480
        }
      },
      "execution_count": 439,
      "outputs": [
        {
          "output_type": "display_data",
          "data": {
            "text/plain": [
              "<Figure size 640x480 with 1 Axes>"
            ],
            "image/png": "[encoded data removed]"
          },
          "metadata": {}
        }
      ]
    },
    {
      "cell_type": "markdown",
      "source": [
        "- Realizamos el test de Durbin-Watson y vemos que no hay suficiente evidencia para rechazar la no-autocorrelacion de los residuos.\n",
        "- Lo confirmamos con la grafica donde no se observa ningun tipo de estructura en los residuos segun so indice del dataset"
      ],
      "metadata": {
        "id": "jTUbOQAH3iHD"
      }
    },
    {
      "cell_type": "code",
      "source": [
        "# Analisis de Diagnosticos Analiticos para radio\n",
        "%%R\n",
        "\n",
        "# Radio\n",
        "print(shapiro.test(resid_radio))\n",
        "print(bptest(model_radio))\n",
        "print(dwtest(model_radio, alternative='two.sided', iterations=1000))"
      ],
      "metadata": {
        "id": "mvwibaHa4ASw",
        "outputId": "66a487ef-59af-476e-a187-e46312955421",
        "colab": {
          "base_uri": "https://localhost:8080/"
        }
      },
      "execution_count": 440,
      "outputs": [
        {
          "output_type": "stream",
          "name": "stdout",
          "text": [
            "\n",
            "\tShapiro-Wilk normality test\n",
            "\n",
            "data:  resid_radio\n",
            "W = 0.96072, p-value = 2.367e-05\n",
            "\n",
            "\n",
            "\tstudentized Breusch-Pagan test\n",
            "\n",
            "data:  model_radio\n",
            "BP = 36.646, df = 1, p-value = 1.417e-09\n",
            "\n",
            "\n",
            "\tDurbin-Watson test\n",
            "\n",
            "data:  model_radio\n",
            "DW = 1.9457, p-value = 0.6997\n",
            "alternative hypothesis: true autocorrelation is not 0\n",
            "\n"
          ]
        }
      ]
    },
    {
      "cell_type": "markdown",
      "source": [
        "- Confirmamos que para el modelo de radio, los residuos no son normales ni homocedasticos, pero que si no estan autocorrelacionados"
      ],
      "metadata": {
        "id": "amv_4C3e4ldU"
      }
    },
    {
      "cell_type": "code",
      "source": [
        "# Analisis de Diagnosticos Analiticos para periodico\n",
        "%%R\n",
        "\n",
        "# periodico\n",
        "print(shapiro.test(resid_periodico))\n",
        "print(bptest(model_periodico))\n",
        "print(dwtest(model_periodico, alternative='two.sided', iterations=1000))"
      ],
      "metadata": {
        "id": "I5-3wWZW4wkV",
        "outputId": "064cfd77-50a8-4858-f3c4-d3c4b3a1d26c",
        "colab": {
          "base_uri": "https://localhost:8080/"
        }
      },
      "execution_count": 441,
      "outputs": [
        {
          "output_type": "stream",
          "name": "stdout",
          "text": [
            "\n",
            "\tShapiro-Wilk normality test\n",
            "\n",
            "data:  resid_periodico\n",
            "W = 0.98197, p-value = 0.0114\n",
            "\n",
            "\n",
            "\tstudentized Breusch-Pagan test\n",
            "\n",
            "data:  model_periodico\n",
            "BP = 2.4717, df = 1, p-value = 0.1159\n",
            "\n",
            "\n",
            "\tDurbin-Watson test\n",
            "\n",
            "data:  model_periodico\n",
            "DW = 1.9834, p-value = 0.9025\n",
            "alternative hypothesis: true autocorrelation is not 0\n",
            "\n"
          ]
        }
      ]
    },
    {
      "cell_type": "markdown",
      "source": [
        "- Para el modelo de periodico los residuos no siguen una distribucion normal, pero si son homocedastico y no-autcorrelacionados"
      ],
      "metadata": {
        "id": "ddB4-JJF48hI"
      }
    },
    {
      "cell_type": "markdown",
      "source": [
        "### b) Modelo Aditivo y Test de Wald"
      ],
      "metadata": {
        "id": "0FtoetEp5XDz"
      }
    },
    {
      "cell_type": "code",
      "source": [
        "data.head()"
      ],
      "metadata": {
        "id": "I34DQKcX5mCO",
        "outputId": "a52f0fd0-658f-40e3-949e-aff912178f1d",
        "colab": {
          "base_uri": "https://localhost:8080/",
          "height": 206
        }
      },
      "execution_count": 442,
      "outputs": [
        {
          "output_type": "execute_result",
          "data": {
            "text/plain": [
              "         tv    radio  periodico      ventas\n",
              "0  230100.0  37800.0    69200.0  22100000.0\n",
              "1   44500.0  39300.0    45100.0  10400000.0\n",
              "2   17200.0  45900.0    69300.0   9300000.0\n",
              "3  151500.0  41300.0    58500.0  18500000.0\n",
              "4  180800.0  10800.0    58400.0  12900000.0"
            ],
            "text/html": [
              "\n",
              "  <div id=\"df-978a3831-f64e-4e14-8d1b-6002c5cff4af\">\n",
              "    <div class=\"colab-df-container\">\n",
              "      <div>\n",
              "<style scoped>\n",
              "    .dataframe tbody tr th:only-of-type {\n",
              "        vertical-align: middle;\n",
              "    }\n",
              "\n",
              "    .dataframe tbody tr th {\n",
              "        vertical-align: top;\n",
              "    }\n",
              "\n",
              "    .dataframe thead th {\n",
              "        text-align: right;\n",
              "    }\n",
              "</style>\n",
              "<table border=\"1\" class=\"dataframe\">\n",
              "  <thead>\n",
              "    <tr style=\"text-align: right;\">\n",
              "      <th></th>\n",
              "      <th>tv</th>\n",
              "      <th>radio</th>\n",
              "      <th>periodico</th>\n",
              "      <th>ventas</th>\n",
              "    </tr>\n",
              "  </thead>\n",
              "  <tbody>\n",
              "    <tr>\n",
              "      <th>0</th>\n",
              "      <td>230100.0</td>\n",
              "      <td>37800.0</td>\n",
              "      <td>69200.0</td>\n",
              "      <td>22100000.0</td>\n",
              "    </tr>\n",
              "    <tr>\n",
              "      <th>1</th>\n",
              "      <td>44500.0</td>\n",
              "      <td>39300.0</td>\n",
              "      <td>45100.0</td>\n",
              "      <td>10400000.0</td>\n",
              "    </tr>\n",
              "    <tr>\n",
              "      <th>2</th>\n",
              "      <td>17200.0</td>\n",
              "      <td>45900.0</td>\n",
              "      <td>69300.0</td>\n",
              "      <td>9300000.0</td>\n",
              "    </tr>\n",
              "    <tr>\n",
              "      <th>3</th>\n",
              "      <td>151500.0</td>\n",
              "      <td>41300.0</td>\n",
              "      <td>58500.0</td>\n",
              "      <td>18500000.0</td>\n",
              "    </tr>\n",
              "    <tr>\n",
              "      <th>4</th>\n",
              "      <td>180800.0</td>\n",
              "      <td>10800.0</td>\n",
              "      <td>58400.0</td>\n",
              "      <td>12900000.0</td>\n",
              "    </tr>\n",
              "  </tbody>\n",
              "</table>\n",
              "</div>\n",
              "      <button class=\"colab-df-convert\" onclick=\"convertToInteractive('df-978a3831-f64e-4e14-8d1b-6002c5cff4af')\"\n",
              "              title=\"Convert this dataframe to an interactive table.\"\n",
              "              style=\"display:none;\">\n",
              "        \n",
              "  <svg xmlns=\"http://www.w3.org/2000/svg\" height=\"24px\"viewBox=\"0 0 24 24\"\n",
              "       width=\"24px\">\n",
              "    <path d=\"M0 0h24v24H0V0z\" fill=\"none\"/>\n",
              "    <path d=\"M18.56 5.44l.94 2.06.94-2.06 2.06-.94-2.06-.94-.94-2.06-.94 2.06-2.06.94zm-11 1L8.5 8.5l.94-2.06 2.06-.94-2.06-.94L8.5 2.5l-.94 2.06-2.06.94zm10 10l.94 2.06.94-2.06 2.06-.94-2.06-.94-.94-2.06-.94 2.06-2.06.94z\"/><path d=\"M17.41 7.96l-1.37-1.37c-.4-.4-.92-.59-1.43-.59-.52 0-1.04.2-1.43.59L10.3 9.45l-7.72 7.72c-.78.78-.78 2.05 0 2.83L4 21.41c.39.39.9.59 1.41.59.51 0 1.02-.2 1.41-.59l7.78-7.78 2.81-2.81c.8-.78.8-2.07 0-2.86zM5.41 20L4 18.59l7.72-7.72 1.47 1.35L5.41 20z\"/>\n",
              "  </svg>\n",
              "      </button>\n",
              "      \n",
              "  <style>\n",
              "    .colab-df-container {\n",
              "      display:flex;\n",
              "      flex-wrap:wrap;\n",
              "      gap: 12px;\n",
              "    }\n",
              "\n",
              "    .colab-df-convert {\n",
              "      background-color: #E8F0FE;\n",
              "      border: none;\n",
              "      border-radius: 50%;\n",
              "      cursor: pointer;\n",
              "      display: none;\n",
              "      fill: #1967D2;\n",
              "      height: 32px;\n",
              "      padding: 0 0 0 0;\n",
              "      width: 32px;\n",
              "    }\n",
              "\n",
              "    .colab-df-convert:hover {\n",
              "      background-color: #E2EBFA;\n",
              "      box-shadow: 0px 1px 2px rgba(60, 64, 67, 0.3), 0px 1px 3px 1px rgba(60, 64, 67, 0.15);\n",
              "      fill: #174EA6;\n",
              "    }\n",
              "\n",
              "    [theme=dark] .colab-df-convert {\n",
              "      background-color: #3B4455;\n",
              "      fill: #D2E3FC;\n",
              "    }\n",
              "\n",
              "    [theme=dark] .colab-df-convert:hover {\n",
              "      background-color: #434B5C;\n",
              "      box-shadow: 0px 1px 3px 1px rgba(0, 0, 0, 0.15);\n",
              "      filter: drop-shadow(0px 1px 2px rgba(0, 0, 0, 0.3));\n",
              "      fill: #FFFFFF;\n",
              "    }\n",
              "  </style>\n",
              "\n",
              "      <script>\n",
              "        const buttonEl =\n",
              "          document.querySelector('#df-978a3831-f64e-4e14-8d1b-6002c5cff4af button.colab-df-convert');\n",
              "        buttonEl.style.display =\n",
              "          google.colab.kernel.accessAllowed ? 'block' : 'none';\n",
              "\n",
              "        async function convertToInteractive(key) {\n",
              "          const element = document.querySelector('#df-978a3831-f64e-4e14-8d1b-6002c5cff4af');\n",
              "          const dataTable =\n",
              "            await google.colab.kernel.invokeFunction('convertToInteractive',\n",
              "                                                     [key], {});\n",
              "          if (!dataTable) return;\n",
              "\n",
              "          const docLinkHtml = 'Like what you see? Visit the ' +\n",
              "            '<a target=\"_blank\" href=https://colab.research.google.com/notebooks/data_table.ipynb>data table notebook</a>'\n",
              "            + ' to learn more about interactive tables.';\n",
              "          element.innerHTML = '';\n",
              "          dataTable['output_type'] = 'display_data';\n",
              "          await google.colab.output.renderOutput(dataTable, element);\n",
              "          const docLink = document.createElement('div');\n",
              "          docLink.innerHTML = docLinkHtml;\n",
              "          element.appendChild(docLink);\n",
              "        }\n",
              "      </script>\n",
              "    </div>\n",
              "  </div>\n",
              "  "
            ]
          },
          "metadata": {},
          "execution_count": 442
        }
      ]
    },
    {
      "cell_type": "code",
      "source": [
        "# LRM en Python\n",
        "\n",
        "# Generamos el Modelo\n",
        "data = sm.add_constant(data)\n",
        "model = smf.ols('ventas ~ tv + radio + periodico', data=data).fit()\n",
        "print(model.summary())"
      ],
      "metadata": {
        "id": "VWHsmOMq5enr",
        "outputId": "3168184c-d5f3-4103-dfd5-644b82f322e3",
        "colab": {
          "base_uri": "https://localhost:8080/"
        }
      },
      "execution_count": 443,
      "outputs": [
        {
          "output_type": "stream",
          "name": "stdout",
          "text": [
            "                            OLS Regression Results                            \n",
            "==============================================================================\n",
            "Dep. Variable:                 ventas   R-squared:                       0.897\n",
            "Model:                            OLS   Adj. R-squared:                  0.896\n",
            "Method:                 Least Squares   F-statistic:                     570.3\n",
            "Date:                Tue, 04 Jul 2023   Prob (F-statistic):           1.58e-96\n",
            "Time:                        09:16:14   Log-Likelihood:                -3149.3\n",
            "No. Observations:                 200   AIC:                             6307.\n",
            "Df Residuals:                     196   BIC:                             6320.\n",
            "Df Model:                           3                                         \n",
            "Covariance Type:            nonrobust                                         \n",
            "==============================================================================\n",
            "                 coef    std err          t      P>|t|      [0.025      0.975]\n",
            "------------------------------------------------------------------------------\n",
            "Intercept   2.939e+06   3.12e+05      9.422      0.000    2.32e+06    3.55e+06\n",
            "tv            45.7646      1.395     32.809      0.000      43.014      48.516\n",
            "radio        188.5300      8.611     21.893      0.000     171.547     205.513\n",
            "periodico     -1.0375      5.871     -0.177      0.860     -12.616      10.541\n",
            "==============================================================================\n",
            "Omnibus:                       60.414   Durbin-Watson:                   2.084\n",
            "Prob(Omnibus):                  0.000   Jarque-Bera (JB):              151.241\n",
            "Skew:                          -1.327   Prob(JB):                     1.44e-33\n",
            "Kurtosis:                       6.332   Cond. No.                     4.54e+05\n",
            "==============================================================================\n",
            "\n",
            "Notes:\n",
            "[1] Standard Errors assume that the covariance matrix of the errors is correctly specified.\n",
            "[2] The condition number is large, 4.54e+05. This might indicate that there are\n",
            "strong multicollinearity or other numerical problems.\n"
          ]
        }
      ]
    },
    {
      "cell_type": "markdown",
      "source": [
        "- En el modelo aditivo vemos el p-value del modelo general es muy significativo\n",
        "- En los test de Wald se verifica como la variable periodico no es significativa, si p-value es muy alto"
      ],
      "metadata": {
        "id": "WtZy1bac50sD"
      }
    },
    {
      "cell_type": "markdown",
      "source": [
        "### c) Comparacion de modelos simples"
      ],
      "metadata": {
        "id": "WDrwlbQS6TcZ"
      }
    },
    {
      "cell_type": "code",
      "source": [
        "# LRM en Python\n",
        "model_tv = smf.ols('ventas ~ tv', data=data).fit()\n",
        "model_radio = smf.ols('ventas ~ radio', data=data).fit()\n",
        "model_periodico = smf.ols('ventas ~ periodico', data=data).fit()\n",
        "\n",
        "# Mostramos\n",
        "print(model_tv.summary())\n",
        "print(model_radio.summary())\n",
        "print(model_periodico.summary())"
      ],
      "metadata": {
        "id": "6iG_IsYo8t6g",
        "outputId": "04a9c966-9a67-4b59-d8b8-300d5f4d3af5",
        "colab": {
          "base_uri": "https://localhost:8080/"
        }
      },
      "execution_count": 444,
      "outputs": [
        {
          "output_type": "stream",
          "name": "stdout",
          "text": [
            "                            OLS Regression Results                            \n",
            "==============================================================================\n",
            "Dep. Variable:                 ventas   R-squared:                       0.612\n",
            "Model:                            OLS   Adj. R-squared:                  0.610\n",
            "Method:                 Least Squares   F-statistic:                     312.1\n",
            "Date:                Tue, 04 Jul 2023   Prob (F-statistic):           1.47e-42\n",
            "Time:                        09:16:14   Log-Likelihood:                -3282.1\n",
            "No. Observations:                 200   AIC:                             6568.\n",
            "Df Residuals:                     198   BIC:                             6575.\n",
            "Df Model:                           1                                         \n",
            "Covariance Type:            nonrobust                                         \n",
            "==============================================================================\n",
            "                 coef    std err          t      P>|t|      [0.025      0.975]\n",
            "------------------------------------------------------------------------------\n",
            "Intercept   7.033e+06   4.58e+05     15.360      0.000    6.13e+06    7.94e+06\n",
            "tv            47.5366      2.691     17.668      0.000      42.231      52.843\n",
            "==============================================================================\n",
            "Omnibus:                        0.531   Durbin-Watson:                   1.935\n",
            "Prob(Omnibus):                  0.767   Jarque-Bera (JB):                0.669\n",
            "Skew:                          -0.089   Prob(JB):                        0.716\n",
            "Kurtosis:                       2.779   Cond. No.                     3.38e+05\n",
            "==============================================================================\n",
            "\n",
            "Notes:\n",
            "[1] Standard Errors assume that the covariance matrix of the errors is correctly specified.\n",
            "[2] The condition number is large, 3.38e+05. This might indicate that there are\n",
            "strong multicollinearity or other numerical problems.\n",
            "                            OLS Regression Results                            \n",
            "==============================================================================\n",
            "Dep. Variable:                 ventas   R-squared:                       0.332\n",
            "Model:                            OLS   Adj. R-squared:                  0.329\n",
            "Method:                 Least Squares   F-statistic:                     98.42\n",
            "Date:                Tue, 04 Jul 2023   Prob (F-statistic):           4.35e-19\n",
            "Time:                        09:16:14   Log-Likelihood:                -3336.4\n",
            "No. Observations:                 200   AIC:                             6677.\n",
            "Df Residuals:                     198   BIC:                             6683.\n",
            "Df Model:                           1                                         \n",
            "Covariance Type:            nonrobust                                         \n",
            "==============================================================================\n",
            "                 coef    std err          t      P>|t|      [0.025      0.975]\n",
            "------------------------------------------------------------------------------\n",
            "Intercept   9.312e+06   5.63e+05     16.542      0.000     8.2e+06    1.04e+07\n",
            "radio        202.4958     20.411      9.921      0.000     162.244     242.747\n",
            "==============================================================================\n",
            "Omnibus:                       19.358   Durbin-Watson:                   1.946\n",
            "Prob(Omnibus):                  0.000   Jarque-Bera (JB):               21.910\n",
            "Skew:                          -0.764   Prob(JB):                     1.75e-05\n",
            "Kurtosis:                       3.544   Cond. No.                     5.14e+04\n",
            "==============================================================================\n",
            "\n",
            "Notes:\n",
            "[1] Standard Errors assume that the covariance matrix of the errors is correctly specified.\n",
            "[2] The condition number is large, 5.14e+04. This might indicate that there are\n",
            "strong multicollinearity or other numerical problems.\n",
            "                            OLS Regression Results                            \n",
            "==============================================================================\n",
            "Dep. Variable:                 ventas   R-squared:                       0.052\n",
            "Model:                            OLS   Adj. R-squared:                  0.047\n",
            "Method:                 Least Squares   F-statistic:                     10.89\n",
            "Date:                Tue, 04 Jul 2023   Prob (F-statistic):            0.00115\n",
            "Time:                        09:16:14   Log-Likelihood:                -3371.4\n",
            "No. Observations:                 200   AIC:                             6747.\n",
            "Df Residuals:                     198   BIC:                             6753.\n",
            "Df Model:                           1                                         \n",
            "Covariance Type:            nonrobust                                         \n",
            "==============================================================================\n",
            "                 coef    std err          t      P>|t|      [0.025      0.975]\n",
            "------------------------------------------------------------------------------\n",
            "Intercept   1.235e+07   6.21e+05     19.876      0.000    1.11e+07    1.36e+07\n",
            "periodico     54.6931     16.576      3.300      0.001      22.005      87.381\n",
            "==============================================================================\n",
            "Omnibus:                        6.231   Durbin-Watson:                   1.983\n",
            "Prob(Omnibus):                  0.044   Jarque-Bera (JB):                5.483\n",
            "Skew:                           0.330   Prob(JB):                       0.0645\n",
            "Kurtosis:                       2.527   Cond. No.                     6.47e+04\n",
            "==============================================================================\n",
            "\n",
            "Notes:\n",
            "[1] Standard Errors assume that the covariance matrix of the errors is correctly specified.\n",
            "[2] The condition number is large, 6.47e+04. This might indicate that there are\n",
            "strong multicollinearity or other numerical problems.\n"
          ]
        }
      ]
    },
    {
      "cell_type": "markdown",
      "source": [
        "- Se observan el mejor de los tres modelos segun AIC, BIC y R2adj es el modelo de TV\n",
        "- Python no muestra el CP_Mallows"
      ],
      "metadata": {
        "id": "S0zTlLjTAhX7"
      }
    },
    {
      "cell_type": "markdown",
      "source": [
        "### e) Modelos con y sin Interaccion"
      ],
      "metadata": {
        "id": "ZW_O28T1Ajut"
      }
    }
  ],
  "metadata": {
    "colab": {
      "name": "scratchpad",
      "provenance": [],
      "include_colab_link": true
    },
    "kernelspec": {
      "display_name": "Python 3",
      "name": "python3"
    }
  },
  "nbformat": 4,
  "nbformat_minor": 0
}