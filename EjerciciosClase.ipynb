{
  "cells": [
    {
      "cell_type": "markdown",
      "metadata": {
        "id": "view-in-github",
        "colab_type": "text"
      },
      "source": [
        "<a href=\"https://colab.research.google.com/github/AndresMontesDeOca/RegresionAvanzada/blob/main/EjerciciosClase.ipynb\" target=\"_parent\"><img src=\"https://colab.research.google.com/assets/colab-badge.svg\" alt=\"Open In Colab\"/></a>"
      ]
    },
    {
      "cell_type": "markdown",
      "source": [
        "# Ejercicios Sueltos dados en Clase"
      ],
      "metadata": {
        "id": "uGuw8wCqJwNm"
      }
    },
    {
      "cell_type": "code",
      "execution_count": 1,
      "metadata": {
        "id": "lIYdn1woOS1n",
        "outputId": "6262cdde-fd01-4c79-f4fa-fab04f900f0b",
        "colab": {
          "base_uri": "https://localhost:8080/"
        }
      },
      "outputs": [
        {
          "output_type": "stream",
          "name": "stdout",
          "text": [
            "Collecting pingouin\n",
            "  Downloading pingouin-0.5.3-py3-none-any.whl (198 kB)\n",
            "\u001b[?25l     \u001b[90m━━━━━━━━━━━━━━━━━━━━━━━━━━━━━━━━━━━━━━━━\u001b[0m \u001b[32m0.0/198.6 kB\u001b[0m \u001b[31m?\u001b[0m eta \u001b[36m-:--:--\u001b[0m\r\u001b[2K     \u001b[90m━━━━━━━━━━━━━━━━━━━━━━━━━━━━━━━━━━━━━━\u001b[0m \u001b[32m198.6/198.6 kB\u001b[0m \u001b[31m10.6 MB/s\u001b[0m eta \u001b[36m0:00:00\u001b[0m\n",
            "\u001b[?25hRequirement already satisfied: numpy>=1.19 in /usr/local/lib/python3.10/dist-packages (from pingouin) (1.22.4)\n",
            "Requirement already satisfied: scipy>=1.7 in /usr/local/lib/python3.10/dist-packages (from pingouin) (1.10.1)\n",
            "Requirement already satisfied: pandas>=1.0 in /usr/local/lib/python3.10/dist-packages (from pingouin) (1.5.3)\n",
            "Requirement already satisfied: matplotlib>=3.0.2 in /usr/local/lib/python3.10/dist-packages (from pingouin) (3.7.1)\n",
            "Requirement already satisfied: seaborn>=0.11 in /usr/local/lib/python3.10/dist-packages (from pingouin) (0.12.2)\n",
            "Requirement already satisfied: statsmodels>=0.13 in /usr/local/lib/python3.10/dist-packages (from pingouin) (0.13.5)\n",
            "Requirement already satisfied: scikit-learn in /usr/local/lib/python3.10/dist-packages (from pingouin) (1.2.2)\n",
            "Collecting pandas-flavor>=0.2.0 (from pingouin)\n",
            "  Downloading pandas_flavor-0.5.0-py3-none-any.whl (7.1 kB)\n",
            "Collecting outdated (from pingouin)\n",
            "  Downloading outdated-0.2.2-py2.py3-none-any.whl (7.5 kB)\n",
            "Requirement already satisfied: tabulate in /usr/local/lib/python3.10/dist-packages (from pingouin) (0.8.10)\n",
            "Requirement already satisfied: contourpy>=1.0.1 in /usr/local/lib/python3.10/dist-packages (from matplotlib>=3.0.2->pingouin) (1.1.0)\n",
            "Requirement already satisfied: cycler>=0.10 in /usr/local/lib/python3.10/dist-packages (from matplotlib>=3.0.2->pingouin) (0.11.0)\n",
            "Requirement already satisfied: fonttools>=4.22.0 in /usr/local/lib/python3.10/dist-packages (from matplotlib>=3.0.2->pingouin) (4.40.0)\n",
            "Requirement already satisfied: kiwisolver>=1.0.1 in /usr/local/lib/python3.10/dist-packages (from matplotlib>=3.0.2->pingouin) (1.4.4)\n",
            "Requirement already satisfied: packaging>=20.0 in /usr/local/lib/python3.10/dist-packages (from matplotlib>=3.0.2->pingouin) (23.1)\n",
            "Requirement already satisfied: pillow>=6.2.0 in /usr/local/lib/python3.10/dist-packages (from matplotlib>=3.0.2->pingouin) (8.4.0)\n",
            "Requirement already satisfied: pyparsing>=2.3.1 in /usr/local/lib/python3.10/dist-packages (from matplotlib>=3.0.2->pingouin) (3.1.0)\n",
            "Requirement already satisfied: python-dateutil>=2.7 in /usr/local/lib/python3.10/dist-packages (from matplotlib>=3.0.2->pingouin) (2.8.2)\n",
            "Requirement already satisfied: pytz>=2020.1 in /usr/local/lib/python3.10/dist-packages (from pandas>=1.0->pingouin) (2022.7.1)\n",
            "Requirement already satisfied: xarray in /usr/local/lib/python3.10/dist-packages (from pandas-flavor>=0.2.0->pingouin) (2022.12.0)\n",
            "Requirement already satisfied: lazy-loader>=0.1 in /usr/local/lib/python3.10/dist-packages (from pandas-flavor>=0.2.0->pingouin) (0.2)\n",
            "Requirement already satisfied: patsy>=0.5.2 in /usr/local/lib/python3.10/dist-packages (from statsmodels>=0.13->pingouin) (0.5.3)\n",
            "Requirement already satisfied: setuptools>=44 in /usr/local/lib/python3.10/dist-packages (from outdated->pingouin) (67.7.2)\n",
            "Collecting littleutils (from outdated->pingouin)\n",
            "  Downloading littleutils-0.2.2.tar.gz (6.6 kB)\n",
            "  Preparing metadata (setup.py) ... \u001b[?25l\u001b[?25hdone\n",
            "Requirement already satisfied: requests in /usr/local/lib/python3.10/dist-packages (from outdated->pingouin) (2.27.1)\n",
            "Requirement already satisfied: joblib>=1.1.1 in /usr/local/lib/python3.10/dist-packages (from scikit-learn->pingouin) (1.2.0)\n",
            "Requirement already satisfied: threadpoolctl>=2.0.0 in /usr/local/lib/python3.10/dist-packages (from scikit-learn->pingouin) (3.1.0)\n",
            "Requirement already satisfied: six in /usr/local/lib/python3.10/dist-packages (from patsy>=0.5.2->statsmodels>=0.13->pingouin) (1.16.0)\n",
            "Requirement already satisfied: urllib3<1.27,>=1.21.1 in /usr/local/lib/python3.10/dist-packages (from requests->outdated->pingouin) (1.26.16)\n",
            "Requirement already satisfied: certifi>=2017.4.17 in /usr/local/lib/python3.10/dist-packages (from requests->outdated->pingouin) (2023.5.7)\n",
            "Requirement already satisfied: charset-normalizer~=2.0.0 in /usr/local/lib/python3.10/dist-packages (from requests->outdated->pingouin) (2.0.12)\n",
            "Requirement already satisfied: idna<4,>=2.5 in /usr/local/lib/python3.10/dist-packages (from requests->outdated->pingouin) (3.4)\n",
            "Building wheels for collected packages: littleutils\n",
            "  Building wheel for littleutils (setup.py) ... \u001b[?25l\u001b[?25hdone\n",
            "  Created wheel for littleutils: filename=littleutils-0.2.2-py3-none-any.whl size=7029 sha256=679223b0c98a72c7948386dc86766670765bfd5dcbb4da5d68ad8fd15cf4d343\n",
            "  Stored in directory: /root/.cache/pip/wheels/3d/fe/b0/27a9892da57472e538c7452a721a9cf463cc03cf7379889266\n",
            "Successfully built littleutils\n",
            "Installing collected packages: littleutils, outdated, pandas-flavor, pingouin\n",
            "Successfully installed littleutils-0.2.2 outdated-0.2.2 pandas-flavor-0.5.0 pingouin-0.5.3\n",
            "Collecting rpy2==3.5.1\n",
            "  Downloading rpy2-3.5.1.tar.gz (201 kB)\n",
            "\u001b[2K     \u001b[90m━━━━━━━━━━━━━━━━━━━━━━━━━━━━━━━━━━━━━━━\u001b[0m \u001b[32m201.7/201.7 kB\u001b[0m \u001b[31m8.7 MB/s\u001b[0m eta \u001b[36m0:00:00\u001b[0m\n",
            "\u001b[?25h  Preparing metadata (setup.py) ... \u001b[?25l\u001b[?25hdone\n",
            "Requirement already satisfied: cffi>=1.10.0 in /usr/local/lib/python3.10/dist-packages (from rpy2==3.5.1) (1.15.1)\n",
            "Requirement already satisfied: jinja2 in /usr/local/lib/python3.10/dist-packages (from rpy2==3.5.1) (3.1.2)\n",
            "Requirement already satisfied: pytz in /usr/local/lib/python3.10/dist-packages (from rpy2==3.5.1) (2022.7.1)\n",
            "Requirement already satisfied: tzlocal in /usr/local/lib/python3.10/dist-packages (from rpy2==3.5.1) (5.0.1)\n",
            "Requirement already satisfied: pycparser in /usr/local/lib/python3.10/dist-packages (from cffi>=1.10.0->rpy2==3.5.1) (2.21)\n",
            "Requirement already satisfied: MarkupSafe>=2.0 in /usr/local/lib/python3.10/dist-packages (from jinja2->rpy2==3.5.1) (2.1.3)\n",
            "Building wheels for collected packages: rpy2\n",
            "  Building wheel for rpy2 (setup.py) ... \u001b[?25l\u001b[?25hdone\n",
            "  Created wheel for rpy2: filename=rpy2-3.5.1-cp310-cp310-linux_x86_64.whl size=318073 sha256=ee013dda56b007601f7d6e8961444e66a699770715fc181261111b708bfaae83\n",
            "  Stored in directory: /root/.cache/pip/wheels/73/a6/ff/4e75dd1ce1cfa2b9a670cbccf6a1e41c553199e9b25f05d953\n",
            "Successfully built rpy2\n",
            "Installing collected packages: rpy2\n",
            "  Attempting uninstall: rpy2\n",
            "    Found existing installation: rpy2 3.5.5\n",
            "    Uninstalling rpy2-3.5.5:\n",
            "      Successfully uninstalled rpy2-3.5.5\n",
            "Successfully installed rpy2-3.5.1\n"
          ]
        }
      ],
      "source": [
        "# Autor: Andres Montes de Oca\n",
        "\n",
        "# Instalacion de Paquetes\n",
        "!pip install pingouin # No incluido en Google Colab\n",
        "# !pip install scipy\n",
        "# !pip install statsmodels\n",
        "\n",
        "\n",
        "# Cargamos Librerias y Datos\n",
        "import numpy as np\n",
        "import pandas as pd\n",
        "import matplotlib.pyplot as plt\n",
        "import seaborn as sns\n",
        "import pingouin as pg\n",
        "from scipy import stats as st\n",
        "import statsmodels.api as sm\n",
        "import statsmodels.formula.api as smf\n",
        "import statsmodels.tools.tools as smt\n",
        "\n",
        "# Ignorar Warnings\n",
        "import warnings\n",
        "warnings.filterwarnings('ignore')\n",
        "\n",
        "# Asthetics\n",
        "sns.set(style='ticks', context='notebook', palette='colorblind', font_scale=1, color_codes=True)\n",
        "\n",
        "\n",
        "# Version rpy2 que no tiene problemas de compatibilidad\n",
        "!pip install rpy2==3.5.1\n",
        "\n",
        "# activate R magic\n",
        "%load_ext rpy2.ipython\n",
        "\n",
        "# Import rpy2 for dataframe conversion\n",
        "import rpy2.robjects as ro\n",
        "from rpy2.robjects.packages import importr\n",
        "from rpy2.robjects import pandas2ri\n",
        "from rpy2.robjects.conversion import localconverter\n",
        "from rpy2.robjects import globalenv"
      ]
    },
    {
      "cell_type": "markdown",
      "source": [
        "# Carga de Datasets"
      ],
      "metadata": {
        "id": "zRZDZ1ciJquX"
      }
    },
    {
      "cell_type": "code",
      "source": [
        "# Code to read csv file into Colaboratory:\n",
        "!pip install -U -q PyDrive\n",
        "from pydrive.auth import GoogleAuth\n",
        "from pydrive.drive import GoogleDrive\n",
        "from google.colab import auth\n",
        "from oauth2client.client import GoogleCredentials\n",
        "\n",
        "# Authenticate and create the PyDrive client.\n",
        "auth.authenticate_user()\n",
        "gauth = GoogleAuth()\n",
        "gauth.credentials = GoogleCredentials.get_application_default()\n",
        "drive = GoogleDrive(gauth)\n",
        "\n",
        "################################# Datasets ###################################\n",
        "# Grasa de Cerdos\n",
        "id = '153lGVzdixcHT-keKg8qmvaoWdPHg6_tB'\n",
        "downloaded = drive.CreateFile({'id':id})\n",
        "downloaded.GetContentFile('grasacerdos.xlsx')\n",
        "dataG = pd.read_excel('grasacerdos.xlsx', index_col='Obs') # Cargamos el Dataset\n",
        "dataG = dataG.replace(to_replace=',', value='.', regex=True) # Reemplazo , por .\n",
        "dataG = dataG.astype('float') # Transformo en float\n",
        "\n",
        "######################################################\n",
        "# Peso, Edad, Colesterol\n",
        "id = '17Dv1WcWlc9ojWa6bnSfD7TCRaVKCKqj0'\n",
        "downloaded = drive.CreateFile({'id':id})\n",
        "downloaded.GetContentFile('peso_edad_colest.xlsx')\n",
        "dataP = pd.read_excel('peso_edad_colest.xlsx')\n",
        "%R -i dataP\n",
        "######################################################\n",
        "# Cars con Modelo Lineal\n",
        "id = '15pf-6P4Ek2rp6mYmfOybHRqAxqOoTp6i'\n",
        "downloaded = drive.CreateFile({'id':id})\n",
        "downloaded.GetContentFile('cars.csv')\n",
        "dataC = pd.read_csv('cars.csv')\n",
        "%R -i dataC\n",
        "model_cars = smf.ols('dist ~ speed', data=dataC).fit()\n",
        "######################################################\n",
        "# University\n",
        "id = '16kLQNXhyweAi38xR2IeQCCagVcU725UZ'\n",
        "downloaded = drive.CreateFile({'id':id})\n",
        "downloaded.GetContentFile('University.csv')\n",
        "dataU = pd.read_csv('University.csv')\n",
        "######################################################\n",
        "# Iris\n",
        "dataI = sns.load_dataset('iris')\n",
        "%R -i dataI\n",
        "######################################################\n",
        "# Gorriones\n",
        "id = '15G6jIOMiuWaTs-qy7eUXwhED4delBMl6'\n",
        "downloaded = drive.CreateFile({'id':id})\n",
        "downloaded.GetContentFile('gorriones.xlsx')\n",
        "dataO = pd.read_excel('gorriones.xlsx')\n",
        "dataO.rename(columns=\n",
        "            {'largototal':'Largo', 'extension ':'Alas', 'cabeza':'Cabeza',\n",
        "             'humero':'Pata', 'esternon':'Cuerpo', 'sobrevida ':'Target'},\n",
        "            inplace=True)\n",
        "%R -i dataO\n",
        "######################################################\n",
        "# Madera\n",
        "id = '17F8XFNpCszGHFfs7CpXzZotfmWmXXhoi'\n",
        "downloaded = drive.CreateFile({'id':id})\n",
        "downloaded.GetContentFile('madera.csv')\n",
        "dataM = pd.read_csv('madera.csv').drop(columns='Unnamed: 0')\n",
        "%R -i dataM\n",
        "\n",
        "######################################################\n",
        "# Duncan\n",
        "id = '17aCADG_APoFTsCdPvdI5T25gBAUE8U2T'\n",
        "downloaded = drive.CreateFile({'id':id})\n",
        "downloaded.GetContentFile('Duncan.csv')\n",
        "dataD = pd.read_csv('Duncan.csv')\n",
        "%R -i dataD\n",
        "\n",
        "######################################################\n",
        "# Infants\n",
        "id = '17qgVDqEcWeevZh2dHlvPIQ4ueAcTzSjU'\n",
        "downloaded = drive.CreateFile({'id':id})\n",
        "downloaded.GetContentFile('low_birth_weight_infants.xlsx')\n",
        "dataF = pd.read_excel('low_birth_weight_infants.xlsx')\n",
        "%R -i dataF"
      ],
      "metadata": {
        "id": "fVCmQm08JhFG"
      },
      "execution_count": 59,
      "outputs": []
    },
    {
      "cell_type": "markdown",
      "source": [
        "#### Instalacion de Librerias para R en Google Colab"
      ],
      "metadata": {
        "id": "gox_kBZ6HVl3"
      }
    },
    {
      "cell_type": "code",
      "source": [
        "%%R\n",
        "\n",
        "# ## MVN Henze-Zirkler Test ### -> Lento\n",
        "# # system(sudo apt install libgsl-dev)\n",
        "# install.packages('MVN')\n",
        "\n",
        "# ## QQ Plot, Bonferroni, outlierTest ### -> Lento\n",
        "# install.packages('car')\n",
        "\n",
        "## Wald Test ### -> Rapido\n",
        "install.packages('aod')\n",
        "\n",
        "# LRM Tests ### -> Rapido\n",
        "install.packages('lmtest')\n",
        "\n",
        "## Box-Cox Transformation ### -> Rapido\n",
        "install.packages('MASS') # Huber, LTS\n",
        "\n",
        "## Estimaciones Robustas ### ->\n",
        "install.packages('robustbase') # lmrob\n",
        "# install.packages('olsrr')\n",
        "install.packages('quantreg') # LAD\n",
        "\n",
        "## Seleccion de Variables ### -> Rapido\n",
        "# install.packages('leaps') # -> regsubsets"
      ],
      "metadata": {
        "id": "BWZkgZZMHVvX"
      },
      "execution_count": null,
      "outputs": []
    },
    {
      "cell_type": "markdown",
      "source": [
        "### Clase #2"
      ],
      "metadata": {
        "id": "qX1xKeMZTIJT"
      }
    },
    {
      "cell_type": "code",
      "source": [
        "# print(dataO.describe(), '\\n')\n",
        "# %R print(summary(dataO))"
      ],
      "metadata": {
        "id": "lUBxAI2EKEPN"
      },
      "execution_count": 4,
      "outputs": []
    },
    {
      "cell_type": "code",
      "source": [
        "%%R\n",
        "\n",
        "# model_colest_R = lm('colest ~ edad', data=dataP)\n",
        "# residuos <- model_colest_R$residuals\n",
        "# print(summary(model_colest_R))\n",
        "# print(anova(model_colest_R))\n",
        "\n",
        "# Bandas de Prediccion\n",
        "# predichos <- predict(object=model_colest_R, interval='prediction', level=0.95)\n",
        "\n",
        "# Test de Normalidad adicionales\n",
        "# install.packages('nortest')\n",
        "# library(nortest)\n",
        "# lillie.test(residuos)\n",
        "# install.packages('car')\n",
        "# library(car)\n",
        "# qqPlot(residuos, pch=19)\n",
        "\n",
        "# Autocorrelacion de Residuos\n",
        "# install.packages('lmtest')\n",
        "# library(lmtest)\n",
        "# dwtest(model_colest_R, alternative='two.sided', iterations=1000)\n",
        "\n",
        "# Deteccion Outliers\n",
        "# library(car)\n",
        "# qqPlot(residuos)\n",
        "# print(outlierTest(model_colest_R))\n",
        "# influenceIndexPlot(model_colest_R, vars='Bonf')"
      ],
      "metadata": {
        "id": "2Y3maUTvRs9O",
        "outputId": "b8a10bca-61b3-4f9c-b39d-55ff0028a37d",
        "colab": {
          "base_uri": "https://localhost:8080/"
        }
      },
      "execution_count": 5,
      "outputs": [
        {
          "output_type": "stream",
          "name": "stdout",
          "text": [
            "NULL\n"
          ]
        }
      ]
    },
    {
      "cell_type": "code",
      "source": [
        "# # No Outliers tests found in Python\n",
        "%%R\n",
        "\n",
        "# library(car)\n",
        "\n",
        "# # Outliers - Bonferroni\n",
        "# qqPlot(residuos)\n",
        "# outlierTest(model_colest_R)\n",
        "# influenceIndexPlot(model_colest_R, vars='Bonf')\n",
        "\n",
        "# Influyentes - Leverage\n",
        "# crit_leverage <- 3*mean(hatvalues(model_colest_R))\n",
        "# leverage <- hatvalues(model_colest_R) > crit_leverage\n",
        "# data_leverage = cbind(hatvalues(model_colest_R), crit_leverage, leverage)\n",
        "\n",
        "# # Influyentes - Cook\n",
        "# influenceIndexPlot(model_colest_R, vars='Cook')\n",
        "\n",
        "# Influyentes - DFFITS (revisar indices)\n",
        "# p <- length(model_colest_R$coefficients)\n",
        "# n <- NROW(model_colest_R$residuals)\n",
        "# dffits_crit = 2*sqrt(p/n)\n",
        "# dffits = dffits(model_colest_R)\n",
        "# data_dffits = data.frame(obs=names(dffits), dffits=dffits)"
      ],
      "metadata": {
        "id": "ratq_iE-FL7g",
        "outputId": "24b655b4-f602-436d-be05-1d9d12bfe8bf",
        "colab": {
          "base_uri": "https://localhost:8080/"
        }
      },
      "execution_count": 6,
      "outputs": [
        {
          "output_type": "stream",
          "name": "stdout",
          "text": [
            "NULL\n"
          ]
        }
      ]
    },
    {
      "cell_type": "code",
      "source": [
        "# # Exporto a Python y grafico\n",
        "# %R -o data_dffits\n",
        "# %R -o dffits_crit\n",
        "\n",
        "# data_dffits.head()\n",
        "# sns.scatterplot(data=data_dffits, x=data_dffits.index, y='dffits')\n",
        "# plt.axhline(y=dffits_crit, linestyle='--', color='red')\n",
        "# plt.axhline(y=-dffits_crit, linestyle='--', color='red')\n",
        "# plt.show()"
      ],
      "metadata": {
        "id": "IHg7xRHcTptg"
      },
      "execution_count": 7,
      "outputs": []
    },
    {
      "cell_type": "code",
      "source": [
        "# Analisis analitico del modelo\n",
        "%%R\n",
        "\n",
        "# print(head(dataM))\n",
        "# mod_mad = lm('resist ~ madera', data=dataM)\n",
        "# print(summary(mod_mad))\n",
        "# coef = mod_mad$coef\n",
        "# resid = mod_mad$resid"
      ],
      "metadata": {
        "id": "sXoqk7QN6MIQ",
        "outputId": "0cb9b667-5440-42fb-b10c-4b73a7da9d3c",
        "colab": {
          "base_uri": "https://localhost:8080/"
        }
      },
      "execution_count": 8,
      "outputs": [
        {
          "output_type": "stream",
          "name": "stdout",
          "text": [
            "NULL\n"
          ]
        }
      ]
    },
    {
      "cell_type": "code",
      "source": [
        "# Analisis grafico\n",
        "# %R -o coef\n",
        "# print(coef)\n",
        "# sns.regplot(data=dataM, x='madera', y='resist')\n",
        "# plt.show()\n",
        "\n",
        "# plt.plot(dataM.madera, dataM.madera*coef[1]+coef[0])\n",
        "# plt.ylim(0)\n",
        "# sns.scatterplotw(data=dataM, x='madera', y='resist')\n",
        "# plt.show()"
      ],
      "metadata": {
        "id": "-3qUz4Hl8OqP"
      },
      "execution_count": 9,
      "outputs": []
    },
    {
      "cell_type": "code",
      "source": [
        "# # Analisis de Residuo\n",
        "\n",
        "# %R -o resid\n",
        "\n",
        "# # resid = pd.Series(resid, name='Residuo')\n",
        "# print(pg.normality(resid))\n",
        "# # print(st.anderson(resid))\n",
        "\n",
        "# # pg.qqplot(resid)\n",
        "# # %R qqPlot(resid)\n",
        "\n",
        "# # Analsis grafico a mano usando Matplotlib\n",
        "# plt.scatter(x=dataM.index, y=resid)\n",
        "# plt.xlabel( 'Index')\n",
        "# plt.ylabel('Residuo')\n",
        "# plt.title('Correlacion de Residuos')\n",
        "# plt.axhline(color='grey', linestyle='dashed', alpha=0.5)\n",
        "# plt.show()\n",
        "# # No se observa estructura\n",
        "\n",
        "# # Durbin-Watson Test: 2=No Correlacion (Independecia?)| 0=Correlacion Pos | 4=Correlacion Neg\n",
        "# print('Durbin-Watson:', sm.stats.durbin_watson(resid)) # Sin validacion Estadistica"
      ],
      "metadata": {
        "id": "3_itb_kBAERN"
      },
      "execution_count": 10,
      "outputs": []
    },
    {
      "cell_type": "code",
      "source": [
        "# %%R\n",
        "\n",
        "# # print(dwtest(mod_mad, alternative='two.sided', iterations=1000)) #H0 No Auto-Correlacion\n",
        "# # print(outlierTest(mod_mad))\n",
        "# # influenceIndexPlot(mod_mad, vars='Bonf')\n",
        "\n",
        "# # # Influyentes - Cook\n",
        "# influenceIndexPlot(mod_mad, vars='Cook')\n",
        "\n",
        "\n",
        "# # # Influyentes - Leverage\n",
        "# crit_leverage <- 3*mean(hatvalues(mod_mad))\n",
        "# leverage <- hatvalues(mod_mad) > crit_leverage\n",
        "# print(sum(leverage))\n",
        "# # print(cbind(hatvalues(mod_mad), crit_leverage, leverage))\n",
        "\n",
        "\n",
        "# # Influyentes - DFFITS (revisar indices en plot)\n",
        "# p = length(mod_mad$coefficients)\n",
        "# n = NROW(mod_mad$residuals)\n",
        "# dffits_crit = 2*sqrt(p/n)\n",
        "# dffits = dffits(mod_mad)\n",
        "# data_dffits = data.frame(dffits=dffits)\n",
        "# print(data_dffits)\n"
      ],
      "metadata": {
        "id": "ksPi0zgTEJuL"
      },
      "execution_count": 11,
      "outputs": []
    },
    {
      "cell_type": "code",
      "source": [
        "# # Influyentes - DFBetas\n",
        "# %%R\n",
        "\n",
        "# dfbetas_crit <- 1 # Umbral estandard\n",
        "# dfbetas(mod_mad)[,2]>dfbetas_crit"
      ],
      "metadata": {
        "id": "Gv3sI_wKKS-A"
      },
      "execution_count": 12,
      "outputs": []
    },
    {
      "cell_type": "code",
      "source": [
        "# # Exporto a Python y grafico\n",
        "# %R -o data_dffits\n",
        "# %R -o dffits_crit\n",
        "\n",
        "# data_dffits.head()\n",
        "# sns.scatterplot(data=data_dffits, x=data_dffits.index, y='dffits')\n",
        "# plt.axhline(y=dffits_crit, linestyle='--', color='red')\n",
        "# plt.axhline(y=-dffits_crit, linestyle='--', color='red')"
      ],
      "metadata": {
        "id": "TMEen9lpI_3q"
      },
      "execution_count": 13,
      "outputs": []
    },
    {
      "cell_type": "code",
      "source": [
        "# %%R\n",
        "\n",
        "# predicted = mod_mad$fitted.values\n",
        "# resid = mod_mad$resid\n",
        "\n",
        "# library(lmtest)\n",
        "# bptest(mod_mad)"
      ],
      "metadata": {
        "id": "iCGRd2knKplV"
      },
      "execution_count": 14,
      "outputs": []
    },
    {
      "cell_type": "code",
      "source": [
        "# library(lmtest)\n",
        "# dwtest(model_colest_R, alternative='two.sided', iterations=1000) #H0 No Auto-Correlacion"
      ],
      "metadata": {
        "id": "WhKRrhpBLeZF"
      },
      "execution_count": 15,
      "outputs": []
    },
    {
      "cell_type": "code",
      "source": [
        "# # Homocedasticidad\n",
        "# # Importo a Python\n",
        "# %R -o predicted\n",
        "# %R -o resid\n",
        "\n",
        "# # Analsis grafico a mano usando Matplotlib\n",
        "# plt.scatter(x=predicted, y=resid)\n",
        "# plt.xlabel( 'Prediccion')\n",
        "# plt.ylabel('Residuo')\n",
        "# plt.title('Distribucion de Residuos')\n",
        "# plt.axhline(color='grey', linestyle='dashed', alpha=0.5)\n",
        "# plt.show()\n",
        "# # No se observa estructura de embudo\n",
        "\n",
        "# # # Analitico (C Test) -> H0: Residuos Homocedasticos\n",
        "# # BP, p_value, _, _ =sm.stats.het_breuschpagan(model_colest.resid, model_colest.model.exog)\n",
        "# # print('Estadistico BP y p-value:', BP, p_value)"
      ],
      "metadata": {
        "id": "UVtPnaPTKlhB"
      },
      "execution_count": 16,
      "outputs": []
    },
    {
      "cell_type": "code",
      "source": [
        "# # Buevo modelo con Variable transformada\n",
        "# %%R\n",
        "\n",
        "# madera2 = dataM$madera**2\n",
        "# dataM2 = data.frame(dataM, madera2)\n",
        "\n",
        "# mod_mad2 = lm('resist ~ madera + madera2', data=dataM2)\n",
        "# print(summary(mod_mad2))"
      ],
      "metadata": {
        "id": "1XaXpgsjNlhx"
      },
      "execution_count": 17,
      "outputs": []
    },
    {
      "cell_type": "code",
      "source": [
        "# %R -o dataM2\n",
        "\n",
        "# dataM2 = sm.add_constant(dataM2)\n",
        "# mod_mad2 = smf.ols('resist ~ madera + madera2', data=dataM2).fit()\n",
        "\n",
        "# mod_mad2.summary()\n"
      ],
      "metadata": {
        "id": "oS9fALDPOSeS"
      },
      "execution_count": 18,
      "outputs": []
    },
    {
      "cell_type": "code",
      "source": [
        "# # Wald Test -> Significatividad de cada Variable\n",
        "# %%R\n",
        "\n",
        "# # install.packages('aod')\n",
        "# # library(aod)\n",
        "\n",
        "# # # Generamos el Modelo\n",
        "# # model_gorr = lm('Largo ~ Alas + Cabeza + Pata + Cuerpo', data=dataO)\n",
        "# # print(summary(model_gorr))\n",
        "\n",
        "# # # Wald Test para indentificar variables significativas\n",
        "# wald.test(Sigma = vcov(mod_mad2), b = coef(mod_mad2), Terms = 1) # Cuerpo| H0: Coef = 0 (Var no significativa)\n"
      ],
      "metadata": {
        "id": "k71PE1OHPBDy"
      },
      "execution_count": 19,
      "outputs": []
    },
    {
      "cell_type": "code",
      "source": [
        "# # Box Cox Transformation\n",
        "\n",
        "# %%R\n",
        "\n",
        "# # install.packages('MASS')\n",
        "# # library(MASS)\n",
        "\n",
        "# mod_cars <- lm('dist ~ speed', data=dataC)\n",
        "# # print(summary(mod_cars))\n",
        "# print(shapiro.test(mod_cars$resid))\n",
        "\n",
        "# boxcox(object = mod_cars, plotit=TRUE)\n",
        "\n",
        "# mod_cars2 <- lm('dist**0.5 ~ speed', data=dataC)\n",
        "# print(summary(mod_cars2))\n",
        "# print(shapiro.test(mod_cars2$resid))"
      ],
      "metadata": {
        "id": "uC4s-Fa390t_"
      },
      "execution_count": 20,
      "outputs": []
    },
    {
      "cell_type": "code",
      "source": [
        "# # Cuadrados Minimos Ponderados (WLS) en R\n",
        "# # CAMBIAR EL DATASET DE EJEMPLO\n",
        "# %%R\n",
        "\n",
        "# # Generamos el modelo y verificamos la Heterocedasticidad de los residuos analiticamente\n",
        "# ols_inspec <- lm('inspectores ~ choferes', data=dataCh)\n",
        "# print(bptest(ols_inspec))\n",
        "\n",
        "# # Confirmamos con el analisys grafico en Python\n",
        "\n",
        "# # Generamos la ponderacion de pesos y modelamos de nuevo\n",
        "# pesos = I(1/ols_onspec$fitted.values**2) # A los valores mas alejados se le reduce el peso\n",
        "# wls_inspec <- lm('inspectores ~ choferes', data=dataCh, weights=pesos)\n",
        "# print(summary(wls_inspec))"
      ],
      "metadata": {
        "id": "HJGsRK79adCn"
      },
      "execution_count": 21,
      "outputs": []
    },
    {
      "cell_type": "markdown",
      "source": [
        "### Clase 3"
      ],
      "metadata": {
        "id": "jdfpxcVFFwZR"
      }
    },
    {
      "cell_type": "code",
      "source": [
        "# # Filtro el DF\n",
        "# data = dataU[['nassets', 'stfees']]\n",
        "\n",
        "# display(data.head())\n",
        "\n",
        "# # Importo a R\n",
        "# %R -i data\n",
        "\n",
        "# # Ploteamos la Regresion\n",
        "# sns.regplot(data=data, x='stfees', y='nassets')\n",
        "# plt.show()"
      ],
      "metadata": {
        "id": "m-XBynyzFzbN"
      },
      "execution_count": 22,
      "outputs": []
    },
    {
      "cell_type": "code",
      "source": [
        "# %%R\n",
        "\n",
        "# model = lm('nassets ~ stfees', data=data)\n",
        "# resid = model$resid\n",
        "# predicted = predict(model)\n",
        "# fitted = model$fitted.values\n",
        "\n",
        "# # Testeamos Normalidad de Residuos\n",
        "# print(shapiro.test(resid))\n",
        "# # qqPlot(resid)\n",
        "# # Residuos no Normales"
      ],
      "metadata": {
        "id": "qQ5uHpUxGLx_"
      },
      "execution_count": 23,
      "outputs": []
    },
    {
      "cell_type": "code",
      "source": [
        "# # Analsis grafico de Homosedasticidad\n",
        "\n",
        "# # Importo Datos desde R\n",
        "# %R -o resid\n",
        "# %R -o predicted\n",
        "# %R -o fitted\n",
        "\n",
        "# plt.scatter(x=predicted, y=resid)\n",
        "# plt.xlabel( 'Prediccion')\n",
        "# plt.ylabel('Residuo')\n",
        "# plt.title('Distribucion de Residuos')\n",
        "# plt.axhline(color='grey', linestyle='dashed', alpha=0.5)\n",
        "# plt.show()\n",
        "# # Si se observa estructura de embudo"
      ],
      "metadata": {
        "id": "ckHb87ssRxqt"
      },
      "execution_count": 24,
      "outputs": []
    },
    {
      "cell_type": "code",
      "source": [
        "# %%R\n",
        "# library(lmtest)\n",
        "\n",
        "# # Test de Homocedasitcidad\n",
        "# print(bptest(model))\n",
        "\n",
        "# # Test de Auto-Correlacion\n",
        "# print(dwtest(model, alternative='two.sided', iterations=1000)) #H0 No Auto-Correlacion"
      ],
      "metadata": {
        "id": "aRpSYocCSfZN"
      },
      "execution_count": 25,
      "outputs": []
    },
    {
      "cell_type": "code",
      "source": [
        "# %%R\n",
        "# print(model)"
      ],
      "metadata": {
        "id": "wAntWvJaW2YQ"
      },
      "execution_count": 26,
      "outputs": []
    },
    {
      "cell_type": "code",
      "source": [
        "# # display(data.head())\n",
        "\n",
        "# nassets_log10 = pd.Series(np.log10(data['nassets']), name='nassets_log10')\n",
        "# stfees_log10 = pd.Series(np.log10(data['stfees']), name='stfees_log10')\n",
        "# nassets_logE = pd.Series(np.log(data['nassets']), name='nassets_logE')\n",
        "# stfees_logE = pd.Series(np.log(data['stfees']), name='stfees_logE')\n",
        "\n",
        "\n",
        "# data = pd.concat([data, nassets_log10, stfees_log10, nassets_logE, stfees_logE], axis=1)\n",
        "\n",
        "# # Exporto a R\n",
        "# %R -i data"
      ],
      "metadata": {
        "id": "1mVNWepqZ0cA"
      },
      "execution_count": 27,
      "outputs": []
    },
    {
      "cell_type": "code",
      "source": [
        "# # Transformacion Box Cox\n",
        "# %%R\n",
        "\n",
        "# library(MASS)\n",
        "\n",
        "# # Buscamos el Landa optimo -> Si Lambda  = 0 -> log10(y) | y**Lambda\n",
        "# # boxcox(object = model_2, plotit=TRUE)\n",
        "\n",
        "# # Generamos el nuevo modelo con la variable dependiente transformada, y verificamos su nueva normalidad\n",
        "# model_2 <- lm('nassets_log10 ~ stfees_log10', data=data)\n",
        "\n",
        "# # Normalidad\n",
        "# print(shapiro.test(model_2$resid))\n",
        "\n",
        "# # Test de Homocedasitcidad\n",
        "# print(bptest(model_2))\n",
        "\n",
        "# # Test de Auto-Correlacion\n",
        "# print(dwtest(model_2, alternative='two.sided', iterations=1000)) #H0 No Auto-Correlacion\n",
        "# # No olvidarse de anti-transformar en los IC, IP y Fit"
      ],
      "metadata": {
        "id": "FefmnouHWRhD"
      },
      "execution_count": 28,
      "outputs": []
    },
    {
      "cell_type": "code",
      "source": [
        "# # Bandas de Prediccion\n",
        "\n",
        "# %R predichos <- predict(object=model_2, interval='prediction', level=0.95)\n",
        "# %R nuevos_datos <- data.frame(predichos, data)\n",
        "\n",
        "# %R -o nuevos_datos\n",
        "\n",
        "# display(nuevos_datos.head())\n",
        "\n",
        "# # Grafico\n",
        "# sns.regplot(data=nuevos_datos, x='stfees_log10', y='nassets_log10')\n",
        "# sns.lineplot(data=nuevos_datos, x='stfees_log10', y='lwr', linestyle='--', color='r')\n",
        "# sns.lineplot(data=nuevos_datos, x='stfees_log10', y='upr', linestyle='--', color='r')\n",
        "# plt.show()\n"
      ],
      "metadata": {
        "id": "Anrm3ebYYL9M"
      },
      "execution_count": 29,
      "outputs": []
    },
    {
      "cell_type": "code",
      "source": [
        "# valores = [10000]\n",
        "\n",
        "# newdata = pd.Series(np.log10(valores), name='stfees_log10').to_frame()\n",
        "# %R -i newdata\n",
        "# display(newdata)\n",
        "\n"
      ],
      "metadata": {
        "id": "_Uk3zc1QgzU5"
      },
      "execution_count": 30,
      "outputs": []
    },
    {
      "cell_type": "code",
      "source": [
        "# %%R\n",
        "# print(class(newdata))\n",
        "\n",
        "# predict(object=model_2, newdata=newdata)\n"
      ],
      "metadata": {
        "id": "sA7Waf4lgtAi"
      },
      "execution_count": 31,
      "outputs": []
    },
    {
      "cell_type": "markdown",
      "source": [
        "### Clase 3: Teoria"
      ],
      "metadata": {
        "id": "CI6eHeeryCej"
      }
    },
    {
      "cell_type": "code",
      "source": [
        "# data = dataD\n",
        "# %R -i data\n",
        "# data.head()"
      ],
      "metadata": {
        "id": "OjcyEN0syH7p"
      },
      "execution_count": 32,
      "outputs": []
    },
    {
      "cell_type": "code",
      "source": [
        "# sns.pairplot(data=data)\n",
        "# plt.show()\n",
        "\n",
        "# display(sns.heatmap(data.corr(), vmin=-1, vmax=1, cmap='RdYlGn', annot=True)) # Todos contra todos\n",
        "# plt.show()"
      ],
      "metadata": {
        "id": "T-zjPH2vzrCG"
      },
      "execution_count": 33,
      "outputs": []
    },
    {
      "cell_type": "code",
      "source": [
        "\n",
        "# %%R\n",
        "\n",
        "# model <- lm('income ~ education', data=data)\n",
        "# resid <- model$resid\n",
        "# fitted <- model$fitted.values\n",
        "# print(summary(model))"
      ],
      "metadata": {
        "id": "zihmpWYJzVLg"
      },
      "execution_count": 34,
      "outputs": []
    },
    {
      "cell_type": "code",
      "source": [
        "# # LRM en Python\n",
        "\n",
        "# data = sm.add_constant(data)\n",
        "# model = smf.ols('income ~ education', data=data).fit()\n",
        "# print(model.summary())"
      ],
      "metadata": {
        "id": "44g7KH_E0dum"
      },
      "execution_count": 35,
      "outputs": []
    },
    {
      "cell_type": "code",
      "source": [
        "# sns.regplot(data=data, x='education', y='income')\n",
        "# plt.show()"
      ],
      "metadata": {
        "id": "wmm8tWTh1uG_"
      },
      "execution_count": 36,
      "outputs": []
    },
    {
      "cell_type": "code",
      "source": [
        "# %%R\n",
        "\n",
        "# print(shapiro.test(resid))"
      ],
      "metadata": {
        "id": "ncJ4Bsyb2SMY"
      },
      "execution_count": 37,
      "outputs": []
    },
    {
      "cell_type": "code",
      "source": [
        "# # Analisis Analitico (Breusch-Pagan Test) -> R | H0: Residuos Homocedasticos\n",
        "# %%R\n",
        "\n",
        "# library(lmtest)\n",
        "# bptest(model)"
      ],
      "metadata": {
        "id": "6gq3Wtwr26sh"
      },
      "execution_count": 38,
      "outputs": []
    },
    {
      "cell_type": "code",
      "source": [
        "\n",
        "# # # Analsis Grafico -> Python\n",
        "\n",
        "# # Importamos desde R\n",
        "# %R -o resid\n",
        "# %R -o fitted\n",
        "\n",
        "# plt.scatter(x=fitted, y=resid)\n",
        "# plt.xlabel( 'Prediccion')\n",
        "# plt.ylabel('Residuo')\n",
        "# plt.title('Distribucion de Residuos')\n",
        "# plt.axhline(color='grey', linestyle='dashed', alpha=0.5)\n",
        "# plt.show()\n",
        "# # No se observa estructura de embudo\n",
        "\n",
        "# # # Analisis Analitico Python\n",
        "# # BP, p_value, _, _ =sm.stats.het_breuschpagan(model.resid, model.model.exog)\n",
        "# # print('Estadistico BP y p-value:', BP, p_value)"
      ],
      "metadata": {
        "id": "PqRUpvaI3AKm"
      },
      "execution_count": 39,
      "outputs": []
    },
    {
      "cell_type": "code",
      "source": [
        "# %%R\n",
        "# # Outliers - Bonferroni\n",
        "\n",
        "# library(car)\n",
        "\n",
        "# qqPlot(resid)\n",
        "# outlierTest(model)\n",
        "# influenceIndexPlot(model, vars='Bonf')"
      ],
      "metadata": {
        "id": "mkfR9Z7k3GmL"
      },
      "execution_count": 40,
      "outputs": []
    },
    {
      "cell_type": "code",
      "source": [
        "# data.query('index == 15 or index ==26 or index ==5')"
      ],
      "metadata": {
        "id": "DP0wOhvZ5IIQ"
      },
      "execution_count": 41,
      "outputs": []
    },
    {
      "cell_type": "code",
      "source": [
        "# # Influyentes - Cook\n",
        "# %%R\n",
        "\n",
        "# # print(cooks.distance(model))\n",
        "# influenceIndexPlot(model, vars='Cook')"
      ],
      "metadata": {
        "id": "a9i9yMA_6UhM"
      },
      "execution_count": 42,
      "outputs": []
    },
    {
      "cell_type": "code",
      "source": [
        "# %%R\n",
        "# # Influyentes - DFFITS\n",
        "# p <- length(model$coef)\n",
        "# n <- NROW(model$resid)\n",
        "# dffits_crit <- 2*sqrt(p/n)\n",
        "# dffits <- dffits(model)\n",
        "# data_dffits <- data.frame(dffits=dffits)"
      ],
      "metadata": {
        "id": "RgLm5u2h5WI1"
      },
      "execution_count": 43,
      "outputs": []
    },
    {
      "cell_type": "code",
      "source": [
        "# # DFFITS Grafico -> Python\n",
        "# %R -o data_dffits\n",
        "# %R -o dffits_crit\n",
        "\n",
        "# # Grafico\n",
        "# data_dffits.head()\n",
        "# sns.scatterplot(data=data_dffits, x=data_dffits.index, y='dffits')\n",
        "# plt.axhline(y=dffits_crit, linestyle='--', color='red')\n",
        "# plt.axhline(y=-dffits_crit, linestyle='--', color='red')\n",
        "# plt.xticks(rotation=45)\n",
        "# plt.show()\n",
        "\n",
        "# # Filtro los criticos\n",
        "# dffits_crit_low = -dffits_crit\n",
        "# dffits_crit_up = dffits_crit\n",
        "\n",
        "# display(data_dffits.query('dffits > @dffits_crit_up or dffits < @dffits_crit_low'))"
      ],
      "metadata": {
        "id": "TFyLN09E6-Cq"
      },
      "execution_count": 44,
      "outputs": []
    },
    {
      "cell_type": "code",
      "source": [
        "# %%R\n",
        "# print(summary(model))"
      ],
      "metadata": {
        "id": "lB9tQoG7-5Yl"
      },
      "execution_count": 45,
      "outputs": []
    },
    {
      "cell_type": "code",
      "source": [
        "%%R\n",
        "\n",
        "## Estimaciones Robustas ### ->\n",
        "# install.packages('robustbase')\n",
        "# library(robustbase)\n",
        "# install.packages('olsrr')\n",
        "# library(olsrr)\n",
        "# install.packages('quantreg')\n",
        "# library(quantreg)\n"
      ],
      "metadata": {
        "id": "waAtcK0v9bii",
        "outputId": "d9984203-07b2-4608-db9f-76399a3481e5",
        "colab": {
          "base_uri": "https://localhost:8080/"
        }
      },
      "execution_count": 46,
      "outputs": [
        {
          "output_type": "stream",
          "name": "stdout",
          "text": [
            "NULL\n"
          ]
        }
      ]
    },
    {
      "cell_type": "code",
      "source": [
        "# data = dataF\n",
        "\n",
        "# data.head()"
      ],
      "metadata": {
        "id": "2sjMlV0rR_go"
      },
      "execution_count": 74,
      "outputs": []
    },
    {
      "cell_type": "code",
      "source": [
        "\n",
        "# # Linear Regression\n",
        "# %%R\n",
        "# data <- dataF\n",
        "\n",
        "# model <- lm('headcirc ~ gestage + birthwt', data=data)\n",
        "# resid <- model$resid\n",
        "# fitted <- model$fitted.values\n",
        "# print(summary(model))\n"
      ],
      "metadata": {
        "id": "SHqUOwGKUoAa"
      },
      "execution_count": 73,
      "outputs": []
    },
    {
      "cell_type": "code",
      "source": [
        "# # LRM en Python\n",
        "\n",
        "# # Generamos el Modelo\n",
        "# data = sm.add_constant(data)\n",
        "# model = smf.ols('headcirc ~ gestage + birthwt', data=data).fit()\n",
        "# print(model.summary())"
      ],
      "metadata": {
        "id": "Zbd4Y5ttVASS"
      },
      "execution_count": 72,
      "outputs": []
    },
    {
      "cell_type": "code",
      "source": [
        "# data.head()"
      ],
      "metadata": {
        "id": "exbPVQUCWqc0"
      },
      "execution_count": 71,
      "outputs": []
    },
    {
      "cell_type": "code",
      "source": [
        "# %%R\n",
        "# library(robustbase)\n",
        "\n",
        "# model_rob <- lmrob(headcirc ~ ., data=data)\n",
        "# print(summary(model_rob))"
      ],
      "metadata": {
        "id": "sH23xAswWjDL"
      },
      "execution_count": 70,
      "outputs": []
    }
  ],
  "metadata": {
    "colab": {
      "name": "scratchpad",
      "provenance": [],
      "include_colab_link": true
    },
    "kernelspec": {
      "display_name": "Python 3",
      "name": "python3"
    }
  },
  "nbformat": 4,
  "nbformat_minor": 0
}